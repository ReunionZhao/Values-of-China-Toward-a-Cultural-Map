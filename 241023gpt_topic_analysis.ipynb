{
 "cells": [
  {
   "cell_type": "code",
   "execution_count": 3,
   "metadata": {
    "colab": {
     "base_uri": "https://localhost:8080/"
    },
    "collapsed": true,
    "executionInfo": {
     "elapsed": 6102,
     "status": "ok",
     "timestamp": 1729616409794,
     "user": {
      "displayName": "Runping Zhao",
      "userId": "04715537252004969033"
     },
     "user_tz": -480
    },
    "id": "zVLmVbpyK5t0",
    "outputId": "12eed6a5-7f66-4b28-9f7d-a7eb29d709fa"
   },
   "outputs": [
    {
     "name": "stdout",
     "output_type": "stream",
     "text": [
      "Collecting openai\n",
      "  Downloading openai-1.52.0-py3-none-any.whl.metadata (24 kB)\n",
      "Requirement already satisfied: anyio<5,>=3.5.0 in /usr/local/lib/python3.10/dist-packages (from openai) (3.7.1)\n",
      "Requirement already satisfied: distro<2,>=1.7.0 in /usr/lib/python3/dist-packages (from openai) (1.7.0)\n",
      "Collecting httpx<1,>=0.23.0 (from openai)\n",
      "  Downloading httpx-0.27.2-py3-none-any.whl.metadata (7.1 kB)\n",
      "Collecting jiter<1,>=0.4.0 (from openai)\n",
      "  Downloading jiter-0.6.1-cp310-cp310-manylinux_2_17_x86_64.manylinux2014_x86_64.whl.metadata (5.2 kB)\n",
      "Requirement already satisfied: pydantic<3,>=1.9.0 in /usr/local/lib/python3.10/dist-packages (from openai) (2.9.2)\n",
      "Requirement already satisfied: sniffio in /usr/local/lib/python3.10/dist-packages (from openai) (1.3.1)\n",
      "Requirement already satisfied: tqdm>4 in /usr/local/lib/python3.10/dist-packages (from openai) (4.66.5)\n",
      "Requirement already satisfied: typing-extensions<5,>=4.11 in /usr/local/lib/python3.10/dist-packages (from openai) (4.12.2)\n",
      "Requirement already satisfied: idna>=2.8 in /usr/local/lib/python3.10/dist-packages (from anyio<5,>=3.5.0->openai) (3.10)\n",
      "Requirement already satisfied: exceptiongroup in /usr/local/lib/python3.10/dist-packages (from anyio<5,>=3.5.0->openai) (1.2.2)\n",
      "Requirement already satisfied: certifi in /usr/local/lib/python3.10/dist-packages (from httpx<1,>=0.23.0->openai) (2024.8.30)\n",
      "Collecting httpcore==1.* (from httpx<1,>=0.23.0->openai)\n",
      "  Downloading httpcore-1.0.6-py3-none-any.whl.metadata (21 kB)\n",
      "Collecting h11<0.15,>=0.13 (from httpcore==1.*->httpx<1,>=0.23.0->openai)\n",
      "  Downloading h11-0.14.0-py3-none-any.whl.metadata (8.2 kB)\n",
      "Requirement already satisfied: annotated-types>=0.6.0 in /usr/local/lib/python3.10/dist-packages (from pydantic<3,>=1.9.0->openai) (0.7.0)\n",
      "Requirement already satisfied: pydantic-core==2.23.4 in /usr/local/lib/python3.10/dist-packages (from pydantic<3,>=1.9.0->openai) (2.23.4)\n",
      "Downloading openai-1.52.0-py3-none-any.whl (386 kB)\n",
      "\u001b[2K   \u001b[90m━━━━━━━━━━━━━━━━━━━━━━━━━━━━━━━━━━━━━━━━\u001b[0m \u001b[32m386.9/386.9 kB\u001b[0m \u001b[31m10.4 MB/s\u001b[0m eta \u001b[36m0:00:00\u001b[0m\n",
      "\u001b[?25hDownloading httpx-0.27.2-py3-none-any.whl (76 kB)\n",
      "\u001b[2K   \u001b[90m━━━━━━━━━━━━━━━━━━━━━━━━━━━━━━━━━━━━━━━━\u001b[0m \u001b[32m76.4/76.4 kB\u001b[0m \u001b[31m5.2 MB/s\u001b[0m eta \u001b[36m0:00:00\u001b[0m\n",
      "\u001b[?25hDownloading httpcore-1.0.6-py3-none-any.whl (78 kB)\n",
      "\u001b[2K   \u001b[90m━━━━━━━━━━━━━━━━━━━━━━━━━━━━━━━━━━━━━━━━\u001b[0m \u001b[32m78.0/78.0 kB\u001b[0m \u001b[31m4.9 MB/s\u001b[0m eta \u001b[36m0:00:00\u001b[0m\n",
      "\u001b[?25hDownloading jiter-0.6.1-cp310-cp310-manylinux_2_17_x86_64.manylinux2014_x86_64.whl (325 kB)\n",
      "\u001b[2K   \u001b[90m━━━━━━━━━━━━━━━━━━━━━━━━━━━━━━━━━━━━━━━━\u001b[0m \u001b[32m325.2/325.2 kB\u001b[0m \u001b[31m20.9 MB/s\u001b[0m eta \u001b[36m0:00:00\u001b[0m\n",
      "\u001b[?25hDownloading h11-0.14.0-py3-none-any.whl (58 kB)\n",
      "\u001b[2K   \u001b[90m━━━━━━━━━━━━━━━━━━━━━━━━━━━━━━━━━━━━━━━━\u001b[0m \u001b[32m58.3/58.3 kB\u001b[0m \u001b[31m4.4 MB/s\u001b[0m eta \u001b[36m0:00:00\u001b[0m\n",
      "\u001b[?25hInstalling collected packages: jiter, h11, httpcore, httpx, openai\n",
      "Successfully installed h11-0.14.0 httpcore-1.0.6 httpx-0.27.2 jiter-0.6.1 openai-1.52.0\n"
     ]
    }
   ],
   "source": [
    "!pip install openai"
   ]
  },
  {
   "cell_type": "code",
   "execution_count": 5,
   "metadata": {
    "colab": {
     "base_uri": "https://localhost:8080/"
    },
    "collapsed": true,
    "executionInfo": {
     "elapsed": 3486,
     "status": "ok",
     "timestamp": 1729617081383,
     "user": {
      "displayName": "Runping Zhao",
      "userId": "04715537252004969033"
     },
     "user_tz": -480
    },
    "id": "jxpgMuA8Jp-B",
    "outputId": "02ec157a-a7e6-47a6-e616-a74568dd1814"
   },
   "outputs": [
    {
     "name": "stdout",
     "output_type": "stream",
     "text": [
      "Collecting retrying\n",
      "  Downloading retrying-1.3.4-py3-none-any.whl.metadata (6.9 kB)\n",
      "Requirement already satisfied: six>=1.7.0 in /usr/local/lib/python3.10/dist-packages (from retrying) (1.16.0)\n",
      "Downloading retrying-1.3.4-py3-none-any.whl (11 kB)\n",
      "Installing collected packages: retrying\n",
      "Successfully installed retrying-1.3.4\n"
     ]
    }
   ],
   "source": [
    "!pip install retrying"
   ]
  },
  {
   "cell_type": "code",
   "execution_count": 9,
   "metadata": {
    "executionInfo": {
     "elapsed": 455,
     "status": "ok",
     "timestamp": 1729617277063,
     "user": {
      "displayName": "Runping Zhao",
      "userId": "04715537252004969033"
     },
     "user_tz": -480
    },
    "id": "4FlZqLyTRttq"
   },
   "outputs": [],
   "source": [
    "# 定义输入文本\n",
    "text = \"\"\"\n",
    "展望2024年，国内企业目前被动补库存已行至尾声，未来或将逐步进入到企业主动补库存的\n",
    "阶段，再与海外补库周期叠加共振，整体上，宏观经济前景相对良好。但结构性的问题仍然值得\n",
    "关注，目前来说，地产持续回落对宏观经济的拖累仍在持续，本轮库存周期回升的时间点有延后\n",
    "的风险，且回升幅度上可能也不及历史同期。总的来说，参考库存周期，预计2024年宏观经济回\n",
    "落的风险相对可控，而潜在回升的幅度取决于政策力度。我们判断全年GDP增速仍将维持在 5%附\n",
    "近。通胀由于“猪油”不能共振而仅小幅回升。货币政策方面，预计美联储大概率会在 2024年开\n",
    "启降息周期，届时将利好全球流动性。而国内方面，2023 年底的中央经济工作会议提出“保持流\n",
    "动性合理充裕，社会融资规模、货币供应量同经济增长和价格水平预期目标相匹配”，比过往的表\n",
    "述更偏积极，因此，我们预计中国央行在流动性总量上依然有望保持合理充裕。但需注意央行是\n",
    "否会对“资金空转”现象加强监管。\n",
    "2024年作为美联储货币宽松转向的正式年，最为重要的问题是美联储降息开启时点和幅度，\n",
    "目前市场的主流预期是 5 月开始降息，全年 140BP。如此强烈的降息预期导致年初以来海外各资\n",
    "产都出现了较大幅度的上涨。但我们认为市场对降息节奏和幅度可能过于乐观。回想 2023年市场\n",
    "对美联储的货币政策放松预期也在不断推后。当前，从美国经济基本面看，疫情期间政府的转移\n",
    "支付让居民消费仍具有一定韧性，而我们测算要到2024 年Q4才会出现拐点。回顾2000年以来的\n",
    "历史来看，美联储会因为主要矛盾而降息，主要矛盾可能是通胀回落、也可能是就业市场走软，\n",
    "因此本轮降息时点可能是在失业率尚未大幅上行前、因通胀回落好于预期而降息，也可能是在通\n",
    "胀尚未达目标、但失业率连续上行时被迫降息，也因此需要关注每次的非农报告和 CPI 报告。幅\n",
    "度上，在软着陆预期加强的背景下，更倾向于3-4次降息，全年 75-100BP左右。\n",
    "在资产配置上，由于市场对经济中期增长的预期仍然不足，债券市场的胜率仍在，但赔率快速降低，\n",
    "在博弈降息预期的过程中可考虑逐步兑现收益，待调整之后再进行配置。而股票市场基\n",
    "本处于中长期底部区间，市场情绪过于悲观，虽然经济总量缺乏弹性，但整体估值水平很低，风\n",
    "险溢价水平充分，市场有望在企业逐步进入主动补库周期和盈利周期触底改善的支撑下，走出目\n",
    "前的低迷状态。行业配置层面，相对看好低估值蓝筹、周期（油气、煤炭、有色、贵金属）、TMT\n",
    "（AI 应用、半导体）、以及消费、养殖板块为主要配置方向。可转债方面，整体性价比不算高但\n",
    "也没有明显的泡沫，市场表现预计跟随股票市场波动，将以双低增强的思路，挖掘非对称性收益\n",
    "机会。\n",
    "本基金股票和转债仓位有所提升，整体风格偏均衡；纯债部分将继续提升票息策略强度，考\n",
    "虑适度拉长久期。中期而言，本基金将根据性价比进一步平衡股债配置，股票仓位仍会坚持以基\n",
    "本面和业绩驱动为主的投资理念，寻找具有估值优势或拥有优势赛道具备长期成长性的企业。本\n",
    "基金仍将坚持在较低风险程度下，认真研究各个投资领域潜在的机会，相对积极地做好配置策略，\n",
    "均衡投资，降低业绩波动，力争为基金持有人获取合理的投资收益。\n",
    "\"\"\""
   ]
  },
  {
   "cell_type": "code",
   "execution_count": 12,
   "metadata": {
    "executionInfo": {
     "elapsed": 403,
     "status": "ok",
     "timestamp": 1729617606142,
     "user": {
      "displayName": "Runping Zhao",
      "userId": "04715537252004969033"
     },
     "user_tz": -480
    },
    "id": "ymPw631BJp2b"
   },
   "outputs": [],
   "source": [
    "def analyze_content(content):\n",
    "    prompt = f\"\"\"你是一名专业的基金经理，你的任务是对基金定期报告中'管理人对宏观经济、证券市场及行业走势的简要展望'这一块的内容进行分析总结，特别关注以下几个主题：\n",
    "\n",
    "    a. 对货币政策的态度\n",
    "    b. 对A股市场的态度\n",
    "    c. 对行业走势的态度\n",
    "\n",
    "    对于每个主题，请按照以下步骤进行分析：\n",
    "\n",
    "    步骤 1： 判断是否提到该主题。如果提到，请进入步骤 2；如果没有提到，直接记录为 “并没有提及（D）”。\n",
    "    步骤 2： 如果提到该主题，请判断是“支持”（A）、“反对”（B）、还是“没有明确观点”（C）。结合报告内容进行分析。\n",
    "\n",
    "    注意，只有当报告中明确提到该主题时，才算“提及”。另外，请不要牵强附会或过度解读。\n",
    "\n",
    "    输出格式要求：\n",
    "    主题名称: <主题名称>: <判断结果>\n",
    "    分析: 针对判断结果提供尽可能简洁的解释，引用报告文本中的相关内容来支持你的分析。若判断结果为“D”，请直接写“无”。\n",
    "\n",
    "    例如：\n",
    "    主题名称: 对A股市场的态度: B\n",
    "    分析: 根据报告中“...”内容，此基金管理人认为...。\n",
    "\n",
    "    请务必按照上述格式逐一分析每个主题！谢谢！\n",
    "\n",
    "    {content}\"\"\"\n",
    "    return prompt"
   ]
  },
  {
   "cell_type": "code",
   "execution_count": null,
   "metadata": {
    "executionInfo": {
     "elapsed": 3,
     "status": "ok",
     "timestamp": 1729617881565,
     "user": {
      "displayName": "Runping Zhao",
      "userId": "04715537252004969033"
     },
     "user_tz": -480
    },
    "id": "2OQB7TyqJp7W"
   },
   "outputs": [],
   "source": [
    "import random\n",
    "from retrying import retry\n",
    "from openai import OpenAI\n",
    "from PIL import Image\n",
    "from io import BytesIO\n",
    "import requests\n",
    "import base64\n",
    "from http import HTTPStatus\n",
    "TEMPERATURE=0.2\n",
    "import os\n",
    "\n",
    "class GPT4:\n",
    "    def __init__(self, model_name=\"gpt-4o-mini\"):\n",
    "        self.model_name = model_name\n",
    "\n",
    "    def __post_process(self, response):\n",
    "        return response.choices[0].message.content\n",
    "\n",
    "    def __is_base64_encoded(self,s):\n",
    "        try:\n",
    "            if isinstance(s, str):\n",
    "                base64.b64decode(s)\n",
    "                return True\n",
    "        except Exception:\n",
    "            return False\n",
    "\n",
    "    def __check_input(self,input_data):\n",
    "\n",
    "        if os.path.isfile(input_data):\n",
    "            with open(input_data, \"rb\") as image_file:\n",
    "                return base64.b64encode(image_file.read()).decode('utf-8')\n",
    "        elif self.__is_base64_encoded(input_data):\n",
    "            return input_data\n",
    "        return None\n",
    "\n",
    "    @retry(wait_fixed=300, stop_max_attempt_number=50)\n",
    "    def __call__(self, text, image=None, systemPrompt=''):\n",
    "        if text is None or text == \"\":\n",
    "            return False, \"Your input is empty.\"\n",
    "\n",
    "        if image is None:\n",
    "            messages = [{\"role\": \"system\", \"content\": systemPrompt}, {\"role\": \"user\", \"content\": [{\"type\": \"text\", \"text\": text}]}]\n",
    "        else:\n",
    "            image=self.__check_input(image)\n",
    "            messages = [\n",
    "                {\"role\": \"system\", \"content\": systemPrompt},\n",
    "                {\"role\": \"user\", \"content\": [\n",
    "                    {\"type\": \"text\", \"text\": text},\n",
    "                    {\"type\": \"image_url\", \"image_url\": {\"url\": f\"data:image/png;base64,{image}\"}}\n",
    "                ]}\n",
    "            ]\n",
    "\n",
    "        current_key = \"sk-\"\n",
    "        client = OpenAI(api_key=current_key, base_url=\"https://api.ai-gaochao.cn/v1\")\n",
    "\n",
    "        response = client.chat.completions.create(\n",
    "            model=self.model_name,\n",
    "            messages=messages,\n",
    "            temperature=TEMPERATURE,\n",
    "            n=1,\n",
    "        )\n",
    "\n",
    "        print(\"API Response:\", response)\n",
    "        return self.__post_process(response)\n",
    "\n",
    "    def __post_process(self, response):\n",
    "        if isinstance(response, str):\n",
    "            return response\n",
    "        return response.choices[0].message.content"
   ]
  },
  {
   "cell_type": "code",
   "execution_count": 17,
   "metadata": {
    "colab": {
     "base_uri": "https://localhost:8080/"
    },
    "executionInfo": {
     "elapsed": 3663,
     "status": "ok",
     "timestamp": 1729617887788,
     "user": {
      "displayName": "Runping Zhao",
      "userId": "04715537252004969033"
     },
     "user_tz": -480
    },
    "id": "H3i_k7YFJjcJ",
    "outputId": "62770c6a-4b5f-4e93-a999-0538b83098f4"
   },
   "outputs": [
    {
     "name": "stdout",
     "output_type": "stream",
     "text": [
      "API Response: ChatCompletion(id='chatcmpl-ALCubRhQ1bFP5Q3FiAgEXSQ5a5mp2', choices=[Choice(finish_reason='stop', index=0, logprobs=None, message=ChatCompletionMessage(content='主题名称: 对货币政策的态度: A  \\n分析: 报告中提到“预计美联储大概率会在2024年开启降息周期”，并且“国内方面，2023年底的中央经济工作会议提出‘保持流动性合理充裕’”，这表明管理人对货币政策持支持态度，认为流动性将保持合理充裕，有利于经济增长。\\n\\n主题名称: 对A股市场的态度: A  \\n分析: 报告指出“股票市场基本处于中长期底部区间，市场情绪过于悲观”，并认为“市场有望在企业逐步进入主动补库周期和盈利周期触底改善的支撑下，走出目前的低迷状态”。这表明管理人对A股市场持支持态度，认为未来有反弹的可能。\\n\\n主题名称: 对行业走势的态度: A  \\n分析: 报告中提到“相对看好低估值蓝筹、周期（油气、煤炭、有色、贵金属）、TMT（AI 应用、半导体）、以及消费、养殖板块为主要配置方向”，这显示出管理人对特定行业走势持支持态度，认为这些行业在未来有较好的投资机会。', refusal=None, role='assistant', audio=None, function_call=None, tool_calls=None))], created=1729617885, model='gpt-4o-mini', object='chat.completion', service_tier=None, system_fingerprint='fp_878413d04d', usage=CompletionUsage(completion_tokens=283, prompt_tokens=1356, total_tokens=1639, completion_tokens_details=None, prompt_tokens_details=None))\n",
      "主题名称: 对货币政策的态度: A  \n",
      "分析: 报告中提到“预计美联储大概率会在2024年开启降息周期”，并且“国内方面，2023年底的中央经济工作会议提出‘保持流动性合理充裕’”，这表明管理人对货币政策持支持态度，认为流动性将保持合理充裕，有利于经济增长。\n",
      "\n",
      "主题名称: 对A股市场的态度: A  \n",
      "分析: 报告指出“股票市场基本处于中长期底部区间，市场情绪过于悲观”，并认为“市场有望在企业逐步进入主动补库周期和盈利周期触底改善的支撑下，走出目前的低迷状态”。这表明管理人对A股市场持支持态度，认为未来有反弹的可能。\n",
      "\n",
      "主题名称: 对行业走势的态度: A  \n",
      "分析: 报告中提到“相对看好低估值蓝筹、周期（油气、煤炭、有色、贵金属）、TMT（AI 应用、半导体）、以及消费、养殖板块为主要配置方向”，这显示出管理人对特定行业走势持支持态度，认为这些行业在未来有较好的投资机会。\n"
     ]
    }
   ],
   "source": [
    "if __name__ == \"__main__\":\n",
    "    # 初始化 GPT4 模型\n",
    "    gpt = GPT4(model_name=\"gpt-4o-mini\")\n",
    "    prompt = analyze_content(text)\n",
    "    result = gpt(text=prompt)\n",
    "    print(result)"
   ]
  },
  {
   "cell_type": "code",
   "execution_count": null,
   "metadata": {
    "id": "cMrndxE5OsGv"
   },
   "outputs": [],
   "source": []
  },
  {
   "cell_type": "code",
   "execution_count": null,
   "metadata": {
    "id": "uz1ymG3cOcpn"
   },
   "outputs": [],
   "source": []
  }
 ],
 "metadata": {
  "colab": {
   "authorship_tag": "ABX9TyPwsC5YnNyS2FN//kKmKRy2",
   "provenance": []
  },
  "kernelspec": {
   "display_name": "Python 3",
   "name": "python3"
  },
  "language_info": {
   "name": "python"
  }
 },
 "nbformat": 4,
 "nbformat_minor": 0
}
