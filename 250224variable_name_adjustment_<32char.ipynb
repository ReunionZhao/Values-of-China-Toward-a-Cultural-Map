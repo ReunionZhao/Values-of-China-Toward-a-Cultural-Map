{
 "cells": [
  {
   "cell_type": "code",
   "execution_count": 6,
   "metadata": {},
   "outputs": [
    {
     "name": "stderr",
     "output_type": "stream",
     "text": [
      "/var/folders/w5/_ylk19595zl7_649y60st5680000gn/T/ipykernel_9684/2886325159.py:4: DtypeWarning: Columns (1192,1193,1194,1195,1196,1197,1198,1199,1200,1201,1202,1203,1204,1206,1207,1208,1209,1210,1211,1214,1221,1222,1226,1227,1228,1230,1231,1232,1237,1239,1240,1243,1244,1248,1249,1250,1251,1252,1253,1254,1255,1256,1318,1342,1343,1344,1347,1351,1363,1517,1518,1519,1592,1604,1616,1629,1643,1680,1697,1699,1707,1709,1711,1713,1715,1717,1719,1721,1723,1725,1727,1729,1844,1846,1858,1872,1880,1883,1885,1887,1931,2027,2152,2154,2163,2165,2170,2172,2174,2179,2181,2183,2188,2190,2192,2197,2203,2210,2217,2226,2250,2253,2260,2263,2270,2282,2290,2298,2333,2335,2350,2354,2357,2371,2373,2385,2387,2401,2404,2410,2421,2441,2500,2506,2513,2523,2529,2531,2533,2541,2552,2558,2568,2570,2574,2584,2590,2596,2600,2602,2612,2614,2616,2622,2628,2632,2641,2643,2645,2647,2656,2658,2664,2680,2696,2706,2708,2712,2723,2725,2727) have mixed types. Specify dtype option on import or set low_memory=False.\n",
      "  df = pd.read_csv(f\"/Users/zhaorunping/Desktop/Research_Onging/2410_LSE_Xue/result/250222bert_5_version_newest 2/250222cgss_bert_county_level_mean/250222cgss_bert_county_level_mean_version_{A}.csv\")\n",
      "/var/folders/w5/_ylk19595zl7_649y60st5680000gn/T/ipykernel_9684/2886325159.py:4: DtypeWarning: Columns (1192,1193,1194,1195,1196,1197,1198,1199,1200,1201,1202,1203,1204,1206,1207,1208,1209,1210,1211,1214,1221,1222,1226,1227,1228,1230,1231,1232,1237,1239,1240,1243,1244,1248,1249,1250,1251,1252,1253,1254,1255,1256,1318,1342,1343,1344,1347,1351,1363,1517,1518,1519,1592,1604,1616,1629,1643,1680,1697,1699,1707,1709,1711,1713,1715,1717,1719,1721,1723,1725,1727,1729,1844,1846,1858,1872,1880,1883,1885,1887,1931,2027,2152,2154,2163,2165,2170,2172,2174,2179,2181,2183,2188,2190,2192,2197,2203,2210,2217,2226,2250,2253,2260,2263,2270,2282,2290,2298,2333,2335,2350,2354,2357,2371,2373,2385,2387,2401,2404,2410,2421,2441,2500,2506,2513,2523,2529,2531,2533,2541,2552,2558,2568,2570,2574,2584,2590,2596,2600,2602,2612,2614,2616,2622,2628,2632,2641,2643,2645,2647,2656,2658,2664,2680,2696,2706,2708,2712,2723,2725,2727) have mixed types. Specify dtype option on import or set low_memory=False.\n",
      "  df = pd.read_csv(f\"/Users/zhaorunping/Desktop/Research_Onging/2410_LSE_Xue/result/250222bert_5_version_newest 2/250222cgss_bert_county_level_mean/250222cgss_bert_county_level_mean_version_{A}.csv\")\n",
      "/var/folders/w5/_ylk19595zl7_649y60st5680000gn/T/ipykernel_9684/2886325159.py:4: DtypeWarning: Columns (1192,1193,1194,1195,1196,1197,1198,1199,1200,1201,1202,1203,1204,1206,1207,1208,1209,1210,1211,1214,1221,1222,1226,1227,1228,1230,1231,1232,1237,1239,1240,1243,1244,1248,1249,1250,1251,1252,1253,1254,1255,1256,1318,1342,1343,1344,1347,1351,1363,1517,1518,1519,1592,1604,1616,1629,1643,1680,1697,1699,1707,1709,1711,1713,1715,1717,1719,1721,1723,1725,1727,1729,1844,1846,1858,1872,1880,1883,1885,1887,1931,2027,2152,2154,2163,2165,2170,2172,2174,2179,2181,2183,2188,2190,2192,2197,2203,2210,2217,2226,2250,2253,2260,2263,2270,2282,2290,2298,2333,2335,2350,2354,2357,2371,2373,2385,2387,2401,2404,2410,2421,2441,2500,2506,2513,2523,2529,2531,2533,2541,2552,2558,2568,2570,2574,2584,2590,2596,2600,2602,2612,2614,2616,2622,2628,2632,2641,2643,2645,2647,2656,2658,2664,2680,2696,2706,2708,2712,2723,2725,2727) have mixed types. Specify dtype option on import or set low_memory=False.\n",
      "  df = pd.read_csv(f\"/Users/zhaorunping/Desktop/Research_Onging/2410_LSE_Xue/result/250222bert_5_version_newest 2/250222cgss_bert_county_level_mean/250222cgss_bert_county_level_mean_version_{A}.csv\")\n",
      "/var/folders/w5/_ylk19595zl7_649y60st5680000gn/T/ipykernel_9684/2886325159.py:4: DtypeWarning: Columns (1192,1193,1194,1195,1196,1197,1198,1199,1200,1201,1202,1203,1204,1206,1207,1208,1209,1210,1211,1214,1221,1222,1226,1227,1228,1230,1231,1232,1237,1239,1240,1243,1244,1248,1249,1250,1251,1252,1253,1254,1255,1256,1318,1342,1343,1344,1347,1351,1363,1517,1518,1519,1592,1604,1616,1629,1643,1680,1697,1699,1707,1709,1711,1713,1715,1717,1719,1721,1723,1725,1727,1729,1844,1846,1858,1872,1880,1883,1885,1887,1931,2027,2152,2154,2163,2165,2170,2172,2174,2179,2181,2183,2188,2190,2192,2197,2203,2210,2217,2226,2250,2253,2260,2263,2270,2282,2290,2298,2333,2335,2350,2354,2357,2371,2373,2385,2387,2401,2404,2410,2421,2441,2500,2506,2513,2523,2529,2531,2533,2541,2552,2558,2568,2570,2574,2584,2590,2596,2600,2602,2612,2614,2616,2622,2628,2632,2641,2643,2645,2647,2656,2658,2664,2680,2696,2706,2708,2712,2723,2725,2727) have mixed types. Specify dtype option on import or set low_memory=False.\n",
      "  df = pd.read_csv(f\"/Users/zhaorunping/Desktop/Research_Onging/2410_LSE_Xue/result/250222bert_5_version_newest 2/250222cgss_bert_county_level_mean/250222cgss_bert_county_level_mean_version_{A}.csv\")\n",
      "/var/folders/w5/_ylk19595zl7_649y60st5680000gn/T/ipykernel_9684/2886325159.py:4: DtypeWarning: Columns (1192,1193,1194,1195,1196,1197,1198,1199,1200,1201,1202,1203,1204,1206,1207,1208,1209,1210,1211,1214,1221,1222,1226,1227,1228,1230,1231,1232,1237,1239,1240,1243,1244,1248,1249,1250,1251,1252,1253,1254,1255,1256,1318,1342,1343,1344,1347,1351,1363,1517,1518,1519,1592,1604,1616,1629,1643,1680,1697,1699,1707,1709,1711,1713,1715,1717,1719,1721,1723,1725,1727,1729,1844,1846,1858,1872,1880,1883,1885,1887,1931,2027,2152,2154,2163,2165,2170,2172,2174,2179,2181,2183,2188,2190,2192,2197,2203,2210,2217,2226,2250,2253,2260,2263,2270,2282,2290,2298,2333,2335,2350,2354,2357,2371,2373,2385,2387,2401,2404,2410,2421,2441,2500,2506,2513,2523,2529,2531,2533,2541,2552,2558,2568,2570,2574,2584,2590,2596,2600,2602,2612,2614,2616,2622,2628,2632,2641,2643,2645,2647,2656,2658,2664,2680,2696,2706,2708,2712,2723,2725,2727) have mixed types. Specify dtype option on import or set low_memory=False.\n",
      "  df = pd.read_csv(f\"/Users/zhaorunping/Desktop/Research_Onging/2410_LSE_Xue/result/250222bert_5_version_newest 2/250222cgss_bert_county_level_mean/250222cgss_bert_county_level_mean_version_{A}.csv\")\n"
     ]
    }
   ],
   "source": [
    "import pandas as pd\n",
    "\n",
    "for A in [1,2,3,4,5]:\n",
    "    df = pd.read_csv(f\"/Users/zhaorunping/Desktop/Research_Onging/2410_LSE_Xue/result/250222bert_5_version_newest 2/250222cgss_bert_county_level_mean/250222cgss_bert_county_level_mean_version_{A}.csv\")\n",
    "\n",
    "    new_column_mapping = {\n",
    "        'bert_Charity_Specific_PositiveA': 'B_Charity_S_PA',\n",
    "        'bert_Generalized_Reciprocity_Specific_Negative': 'B_GenReciprocity_S_N',\n",
    "        'bert_Generalized_Reciprocity_Generic': 'B_GenReciprocity_G',\n",
    "        'bert_Charity_Specific_PositiveB': 'B_Charity_S_PB',\n",
    "        'bert_Generalized_Reciprocity_Specific_PositiveA': 'B_GenReciprocity_S_PA',\n",
    "        'bert_Generalized_Reciprocity_Specific_PositiveB': 'B_GenReciprocity_S_PB',\n",
    "        'bert_Emperors_Specific_Positive': 'B_Emperors_S_P',\n",
    "        'bert_Emperors_Specific_Negative': 'B_Emperors_S_N',\n",
    "        'bert_Positive_Reciprocity_Specific': 'B_PosReciprocity_S',\n",
    "        'bert_Killing_Specific': 'B_Killing_S',\n",
    "        'bert_Patience_Specific_Negative': 'B_Patience_S_N',\n",
    "        'bert_Ritualized_Gift-Giving_Specific': 'B_RitualGiftGiving_S',\n",
    "        'bert_Two-Party_Enforcement_Specific': 'B_TwoPartyEnforce_S',\n",
    "        'bert_Third_Party_Enforcement_Specific': 'B_ThirdPartyEnforce_S',\n",
    "        'bert_Violence_Specific': 'B_Violence_S'\n",
    "    }\n",
    "\n",
    "    df = df.rename(columns=new_column_mapping)\n",
    "\n",
    "    # Define the columns to keep\n",
    "    columns_to_keep = [\n",
    "        'id_old', 'id_str', 'surveyyear', 'id_surveyyear', 's41', 's42', 's43', \n",
    "        'cntyname', 'china10_cntygb'\n",
    "    ]\n",
    "\n",
    "    # Add all columns that contain 'bert' in their names\n",
    "    bert_columns = [col for col in df.columns if 'B_' in col]\n",
    "\n",
    "    # Combine both lists\n",
    "    final_columns = columns_to_keep + bert_columns\n",
    "\n",
    "    # Keep only the selected columns\n",
    "    df = df[final_columns]\n",
    "\n",
    "    df.to_excel(f\"/Users/zhaorunping/Desktop/Research_Onging/2410_LSE_Xue/result/250225cgss_bert_county_level_mean/250225cgss_bert_county_level_mean_version_{A}.xlsx\")"
   ]
  },
  {
   "cell_type": "code",
   "execution_count": 2,
   "metadata": {},
   "outputs": [
    {
     "name": "stdout",
     "output_type": "stream",
     "text": [
      "✅ Extracted 15 column(s) containing 'bert':\n",
      "['bert_similarity_慈善（Charity）_Specific_PositiveA', 'bert_similarity_广义互惠（Generalized_Reciprocity）_Specific_Negative', 'bert_similarity_广义互惠（Generalized_Reciprocity）_Generic', 'bert_similarity_慈善（Charity）_Specific_PositiveB', 'bert_similarity_广义互惠（Generalized_Reciprocity）_Specific_PositiveA', 'bert_similarity_广义互惠（Generalized_Reciprocity）_Specific_PositiveB', 'bert_similarity_帝王（Emperors）_Specific_Positive', 'bert_similarity_帝王（Emperors）_Specific_Negative', 'bert_similarity_广义上的正向互惠（Positive_Reciprocity）_Specific', 'bert_similarity_杀戮（Killing）_Specific', 'bert_similarity_耐心（Patience）_Specific_Negative', 'bert_similarity_礼尚往来（Ritualized_Gift-Giving）_Specific', 'bert_similarity_报仇（Two-Party_Enforcement）_Specific', 'bert_similarity_惩罚（Third_Party_Enforcement）_Specific', 'bert_similarity_暴力（Violence）_Specific']\n"
     ]
    }
   ],
   "source": [
    "import pandas as pd\n",
    "\n",
    "# Define file path with placeholder for variable A\n",
    "A = 1  # Change this value as needed\n",
    "file_path = f\"/Users/zhaorunping/Desktop/Research_Onging/2410_LSE_Xue/result/250222bert_5_version_newest 2/250222all_bert_county_level_mean/250222all_bert_county_level_mean_version_{A}.csv\"\n",
    "\n",
    "# Read the CSV file\n",
    "try:\n",
    "    df = pd.read_csv(file_path)\n",
    "\n",
    "    # Extract column names containing 'bert'\n",
    "    bert_columns = [col for col in df.columns if 'bert' in col.lower()]\n",
    "\n",
    "    # Output the result\n",
    "    print(f\"✅ Extracted {len(bert_columns)} column(s) containing 'bert':\")\n",
    "    print(bert_columns)\n",
    "\n",
    "except FileNotFoundError:\n",
    "    print(f\"❌ File not found: {file_path}\")\n",
    "except Exception as e:\n",
    "    print(f\"⚠️ An error occurred: {e}\")"
   ]
  },
  {
   "cell_type": "code",
   "execution_count": 2,
   "metadata": {},
   "outputs": [],
   "source": [
    "import pandas as pd\n",
    "\n",
    "for A in [1,2,3,4,5]:\n",
    "    df = pd.read_csv(f\"/Users/zhaorunping/Desktop/Research_Onging/2410_LSE_Xue/result/250222bert_5_version_newest/250222all_bert_county_level_mean/250222all_bert_county_level_mean_version_{A}.csv\")\n",
    "\n",
    "    new_column_mapping = {\n",
    "        'bert_similarity_慈善（Charity）_Specific_PositiveA': 'B_Charity_S_PA',\n",
    "        'bert_similarity_广义互惠（Generalized_Reciprocity）_Specific_Negative': 'B_GenReciprocity_S_N',\n",
    "        'bert_similarity_广义互惠（Generalized_Reciprocity）_Generic': 'B_GenReciprocity_G',\n",
    "        'bert_similarity_慈善（Charity）_Specific_PositiveB': 'B_Charity_S_PB',\n",
    "        'bert_similarity_广义互惠（Generalized_Reciprocity）_Specific_PositiveA': 'B_GenReciprocity_S_PA',\n",
    "        'bert_similarity_广义互惠（Generalized_Reciprocity）_Specific_PositiveB': 'B_GenReciprocity_S_PB',\n",
    "        'bert_similarity_帝王（Emperors）_Specific_Positive': 'B_Emperors_S_P',\n",
    "        'bert_similarity_帝王（Emperors）_Specific_Negative': 'B_Emperors_S_N',\n",
    "        'bert_similarity_广义上的正向互惠（Positive_Reciprocity）_Specific': 'B_PosReciprocity_S',\n",
    "        'bert_similarity_杀戮（Killing）_Specific': 'B_Killing_S',\n",
    "        'bert_similarity_耐心（Patience）_Specific_Negative': 'B_Patience_S_N',\n",
    "        'bert_similarity_礼尚往来（Ritualized_Gift-Giving）_Specific': 'B_RitualGiftGiving_S',\n",
    "        'bert_similarity_报仇（Two-Party_Enforcement）_Specific': 'B_TwoPartyEnforce_S',\n",
    "        'bert_similarity_惩罚（Third_Party_Enforcement）_Specific': 'B_ThirdPartyEnforce_S',\n",
    "        'bert_similarity_暴力（Violence）_Specific': 'B_Violence_S'\n",
    "    }\n",
    "\n",
    "    df = df.rename(columns=new_column_mapping)\n",
    "\n",
    "    df.to_excel(f\"/Users/zhaorunping/Desktop/Research_Onging/2410_LSE_Xue/result/250225all_bert_county_level_mean/250225all_bert_county_level_mean_version_{A}.xlsx\")"
   ]
  },
  {
   "cell_type": "code",
   "execution_count": null,
   "metadata": {},
   "outputs": [],
   "source": []
  },
  {
   "cell_type": "code",
   "execution_count": null,
   "metadata": {},
   "outputs": [],
   "source": []
  },
  {
   "cell_type": "code",
   "execution_count": null,
   "metadata": {},
   "outputs": [],
   "source": [
    " B"
   ]
  },
  {
   "cell_type": "code",
   "execution_count": 12,
   "metadata": {},
   "outputs": [
    {
     "name": "stdout",
     "output_type": "stream",
     "text": [
      "['id_old', 'id_str', 'surveyyear', 'id_surveyyear', 's41', 's42', 's43', 'cntyname', 'china10_cntygb', 's44', 's45', 's5', 'a1202', 'a1402', 'a1502', 'a1602', 'a1203', 'a1403', 'a1503', 'a1603', 'a1204', 'a1404', 'a1504', 'a1604', 'a1205', 'a1405', 'a1505', 'a1605', 'a1206', 'a1406', 'a1506', 'a1606', 'a1207', 'a1407', 'a1507', 'a1607', 'a1208', 'a1408', 'a1508', 'a1608', 'a1209', 'a1409', 'a1509', 'a1609', 'a1210', 'a1410', 'a1510', 'a1610', 'a1211', 'a1411', 'a1511', 'a1611', 'a1212', 'a1412', 'a1512', 'a1612', 'a1213', 'a1413', 'a1513', 'a1613', 'a1214', 'a1414', 'a1514', 'a1614', 'a1215', 'a1415', 'a1515', 'a1615', 'a13201', 'a13202', 'a13203', 'a13204', 'a13205', 'a13206', 'a13207', 'a13208', 'a13209', 'a13210', 'a13211', 'a13212', 'a13213', 'a13214', 'a13301', 'a13302', 'a13303', 'a13304', 'a13305', 'a13306', 'a13307', 'a13308', 'a13309', 'a13310', 'a13311', 'a13312', 'a13313', 'a13401', 'a13402', 'a13403', 'a13404', 'a13405', 'a13406', 'a13407', 'a13408', 'a13409', 'a13410', 'a13411', 'a13412', 'a13501', 'a13502', 'a13503', 'a13504', 'a13505', 'a13506', 'a13507', 'a13508', 'a13509', 'a13510', 'a13511', 'a13601', 'a13602', 'a13603', 'a13604', 'a13605', 'a13606', 'a13607', 'a13608', 'a13609', 'a13610', 'a13701', 'a13702', 'a13703', 'a13704', 'a13705', 'a13706', 'a13707', 'a13708', 'a13709', 'a13801', 'a13802', 'a13803', 'a13804', 'a13805', 'a13806', 'a13807', 'a13808', 'a13901', 'a13902', 'a13903', 'a13904', 'a13905', 'a13906', 'a13907', 'a131001', 'a131002', 'a131003', 'a131004', 'a131005', 'a131006', 'a131101', 'a131102', 'a131103', 'a131104', 'a131105', 'a131201', 'a131202', 'a131203', 'a131204', 'a131301', 'a131302', 'a131303', 'a131401', 'a131402', 'a131501', 'a2', 'a3a', 'a3b', 'a3c', 'a4', 'a5', 'a6', 'a7a', 'a7b', 'a7c', 'a8a', 'a8b', 'a9', 'a9a', 'a10', 'a10a', 'a11', 'a121', 'a122', 'a123', 'a124', 'a125', 'a126', 'a127', 'a128', 'a13', 'a14', 'a15', 'a16', 'a17', 'a18', 'a19', 'a20', 'a21', 'a23', 'a24', 'a25', 'a281', 'a282', 'a283', 'a284', 'a285', 'a286', 'a29', 'a3001', 'a3002', 'a3003', 'a3004', 'a3005', 'a3006', 'a3007', 'a3008', 'a3009', 'a3010', 'a3011', 'a3012', 'a311', 'a312', 'a313', 'a32', 'a33', 'a34', 'a35', 'a36', 'a371', 'a372', 'a373', 'a38', 'a39', 'a40', 'a41', 'a421', 'a422', 'a423', 'a424', 'a425', 'a43a', 'a43b', 'a43c', 'a43d', 'a44', 'a45', 'a46', 'a47', 'a48', 'a49', 'a50', 'a51', 'a52', 'a53', 'a53a', 'a54', 'a55', 'a561', 'a562', 'a563', 'a564', 'a565', 'a566', 'a567', 'a57', 'a58', 'a59a', 'a59aa', 'a59b', 'a59ba', 'a59c', 'a59e', 'a59f', 'a59fa', 'a59g', 'a59h', 'a59j', 'a59k', 'a59m', 'a60a', 'a60aa', 'a60b', 'a60ba', 'a60c', 'a60e', 'a60f', 'a60fa', 'a60g', 'a60h', 'a60j', 'a60k', 'a60m', 'a611', 'a612', 'a62', 'a6301', 'a6302', 'a6303', 'a6304', 'a6305', 'a6306', 'a6307', 'a6308', 'a6309', 'a6310', 'a6311', 'a64', 'a65', 'a66', 'a671', 'a672', 'a673', 'a674', 'a675', 'a676', 'a677', 'a678', 'a679', 'a681', 'a682', 'a69', 'a70', 'a71a', 'a71b', 'a72', 'a73', 'a74', 'a75', 'a76', 'a76a', 'a77', 'a78', 'a79', 'a80', 'a81', 'a82', 'a82a', 'a83', 'a83a', 'a85', 'a87', 'a88', 'a89a', 'a89b', 'a89c', 'a89d', 'a89da', 'a89f', 'a89g', 'a89h', 'a90a', 'a90b', 'a90c', 'a90d', 'a90da', 'a90f', 'a90g', 'a90h', 'a91', 'a92', 'b111', 'b121', 'b131', 'b141', 'b151', 'b112', 'b122', 'b132', 'b142', 'b152', 'b113', 'b123', 'b133', 'b143', 'b153', 'b114', 'b124', 'b134', 'b144', 'b154', 'b21', 'b22', 'b23', 'b24', 'b3', 'b4', 'b5', 'b6', 'b7', 'b8', 'b9', 'b1011', 'b1012', 'b1021', 'b1022', 'b11', 'b12', 'b13', 'b14', 'b15', 'b16', 'b17', 'b18', 'b19', 'b20', 'c1', 'c201', 'c202', 'c203', 'c204', 'c205', 'c206', 'c207', 'c208', 'c209', 'c210', 'c211', 'c212', 'c213', 'c214', 'c215', 'c216', 'c301', 'c302', 'c303', 'c304', 'c305', 'c306', 'c307', 'c308', 'c309', 'c310', 'c4', 'c5', 'c6', 'c7a', 'c7b', 'c8a', 'c8b', 'c8c1', 'c8c2', 'c8c3', 'c8c4', 'c8c5', 'c8c6', 'c8c7', 'c8c8', 'c911', 'c921', 'c912', 'c922', 'c913', 'c923', 'c914', 'c924', 'c915', 'c925', 'c916', 'c926', 'c101', 'c102', 'c103', 'c104', 'c105', 'c106', 'd1a', 'd1b', 'd1c', 'd1d', 'd1e', 'd1f', 'd2a', 'd2b', 'd2c', 'd2d', 'd2e', 'd2f', 'd2g', 'd2h', 'd2i', 'd301', 'd302', 'd303', 'd304', 'd305', 'd306', 'd307', 'd308', 'd309', 'd310', 'd311', 'd312', 'd4a', 'd4b', 'd4c', 'd4d', 'd5a', 'd5b', 'd601', 'd602', 'd603', 'd604', 'd605', 'd606', 'd607', 'd608', 'd609', 'd610', 'd71', 'd72', 'd73', 'd74', 'd8', 'd91', 'd92', 'd93', 'd94', 'd95', 'd96', 'd1001', 'd1002', 'd1003', 'd1004', 'd1005', 'd1006', 'd1007', 'd1008', 'd1009', 'd1010', 'd1011', 'd111', 'd112', 'd12a', 'd12aa', 'd12b', 'd12c', 'd12d1', 'd12d2', 'd12d3', 'd12d4', 'd12d5', 'd12d6', 'd12d7', 'd12d8', 'd13a', 'd13b01', 'd13b02', 'd13b03', 'd13b04', 'd13b05', 'd13b06', 'd13b07', 'd13b08', 'd13b09', 'd13b10', 'd13b11', 'd13b12', 'd13b13', 'd14', 'd15', 'd16', 'd17', 'd181', 'd182', 'd183', 'd184', 'd185', 'd186', 'd187', 'd19a', 'd19b', 'd19c', 'd19d', 'd19e1', 'd19e2', 'd19e3', 'd19e4', 'd19e5', 'd19e6', 'd19e7', 'd201', 'd202', 'd203', 'd204', 'd205', 'd206', 'd207', 'd211', 'd212', 'd213', 'd214', 'd215', 'd216', 'd217', 'd218', 'd221', 'd222', 'd223', 'd224', 'd225', 'd226', 'd227', 'l1a', 'l1b', 'l2a', 'l2b', 'l3a', 'l3b', 'l5a', 'l5b', 'l6a', 'l6b', 'l7a', 'l7b', 'l7c', 'l8a', 'l8b', 'l9a', 'l9b', 'l9c', 'l10a', 'l10b', 'l10c', 'l11a', 'l11b', 'l11c', 'l12a', 'l12b', 'l12c', 'l131', 'l132', 'l133', 'l134', 'l135', 'l136', 'l137', 'l14a', 'l14b', 'l14c', 'l14d', 'l14e', 'l14f', 'l14g', 'l15a', 'l15b', 'l16a', 'l16b', 'l16c', 'l17a', 'l17b', 'l18', 'l19a1', 'l19a2', 'l19a3', 'l19b', 'l20a', 'l20b', 'l20c', 'l20d', 'l20e', 'l20f', 'l21', 'l22a', 'l22b', 'l22c', 'l23a', 'l23b', 'l2401', 'l2402', 'l2403', 'l2404', 'l2405', 'l2406', 'l2407', 'l2408', 'l2409', 'l2410', 'l2501', 'l2502', 'l2503', 'l2504', 'l2505', 'l2506', 'l2507', 'l2508', 'l2509', 'l2510', 'l2511', 'l2512', 'l2513', 'l2514', 'l2515', 'msfq2', 'msfq3', 'msfq4', 'msfq6', 'msfq7', 'msfq8', 'msfq9', 'msfq10', 'msfq12', 'ma13', 'ma14', 'ma15', 'ma161', 'ma162', 'ma163', 'ma164', 'ma165', 'ma166', 'mb1', 'mb2', 'mb3', 'mb4', 'mb5', 'mc1', 'mc2a', 'mc2b', 'mc3', 'mc401', 'mc402', 'mc403', 'mc404', 'mc405', 'mc406', 'mc407', 'mc408', 'mc409', 'mc410', 'md1', 'me1a', 'me1b', 'me1c', 'mf1a', 'mf1b', 'mf1c', 'mf2a', 'mf2b', 'mf2c', 'mf3a', 'mf3b', 'mf3c', 'mf6', 'mg1a', 'mg1b', 'mg1c', 'mg21', 'mg22', 'mg23', 'mg24', 'mg25', 'mg26', 'mh1', 'mh2', 'mi1', 'mi2', 'mj1a', 'mj1b', 'mj1c', 'mk11', 'mk12', 'mk13', 'mk14', 'mk21', 'mk22', 'mk23', 'mk24', 'mz11', 'mz12', 'mz13', 'mz21', 'mz22', 'mz23', 'n5a', 'n5b', 'n9', 'n10a', 'n10b', 'n11a', 'n11b', 'n11c', 'n11d', 'n12', 'n13a', 'n13b', 'n14a', 'n14b', 'n15a', 'n15b', 'n16', 'n17', 'n181', 'n182', 'n183', 'n184', 'n185', 'n186', 'n187', 'n19a', 'n19b', 'n19c', 'n19d', 'n19e', 'n19f', 'n20', 'n21', 'n22', 'n23', 'n24', 'n25', 'n26', 'n27', 'n28', 'na', 'nb', 'n31', 'n32', 'n33', 'n34a', 'n34b', 'n34c', 'n34d', 'n35', 'n35a', 'n35b', 'n35c', 'n361', 'n362', 'n363', 'n364', 'n365', 'n366', 'n367', 'n368', 'n369', 'n3701', 'n3702', 'n3703', 'n3704', 'n3705', 'n3706', 'n3707', 'n3708', 'n3709', 'n3710', 'n3711', 'n3712', 'n38', 'n39', 'qe1', 'qe2a', 'qe3', 'qe4', 'qe5', 'qe6', 'qe7', 'stratum', 'risco881', 'rindust1', 'risco882', 'rindust2', 'spisco88', 'spindust', 'fisco88', 'misco88', 'WEIGHT', 'dataversion', 'weight', 's5a', 's5b', 'a501', 'a511', 'a512', 'a513', 'a514', 'a515', 'a516', 'a517', 'a518', 'a519', 'a520', 'a521', 'a31a', 'a31b', 'a32a1', 'a32a2', 'a32a3', 'a32ca', 'a32cb', 'a32cc', 'a34a1', 'a34a2', 'a34b', 'a34c', 'a34d', 'a34e', 'a34f', 'a35a', 'a36a', 'a43e', 'a43f', 'a43g', 'a43h', 'a64a', 'a69a', 'a791', 'a792', 'a793', 'a794', 'a795', 'a796', 'a797', 'q1', 'q200', 'q201', 'q202', 'q203', 'q204', 'q205', 'q206', 'q207', 'q208', 'q209', 'q210', 'q211', 'q212', 'q213', 'q214', 'q215', 'q216', 'q217', 'q218', 'q219', 'q220', 'q298', 'q3', 'q4', 'q5', 'q6', 'q7', 'q8', 'q9', 'qa1', 'qa2', 'qa3', 'qa4', 'qa5', 'qa6', 'qa7', 'q10', 'q11', 'q12', 'q13', 'q14', 'q15', 'q16', 'q17', 'q18', 'q19', 'q20', 'q21', 'q22', 'q23', 'q24', 'q25', 'q26', 'q27', 'q28', 'q29', 'q30', 'q31', 'q32', 'q33', 'q34', 'q35', 'q36', 'q37', 'q38', 'q39', 'q40', 'q41', 'q42', 'q43', 'q44', 'q45', 'q46', 'q47', 'q48', 'q4a8', 'q4a9', 'q4a10', 'q4a11', 'q49', 'q50', 'q51', 'q52', 'q53', 'q54', 'q55', 'q56', 'q57', 'q58', 'q59', 'q60', 'q61', 'q62', 'q63', 'q64', 'q65', 'q66', 'q67', 'q68', 'q69', 'q70', 'q71', 'q72', 'q73', 'q74', 'q75', 'c2a', 'c2b', 'c2c', 'c2d', 'c2e', 'c2f', 'c3', 'c4a', 'c4b', 'c4ca', 'c4cb', 'c4cc', 'c61', 'c62', 'c63', 'c64', 'c65', 'c66', 'c67', 'c68', 'c69', 'c610', 'c7', 'c8', 'c9', 'c10a', 'c10b', 'c10c', 'c10d', 'c11a', 'c11b1', 'c11b2', 'c11b3', 'c11b4', 'c11c', 'c11d1', 'c11d2', 'c11d31', 'c11d32', 'c11d33', 'c11d34', 'c11d35', 'c11d36', 'c11d37', 'c11d4', 'c11d5', 'c11d61', 'c11d62', 'c11d63', 'c11d64', 'c11d65', 'c11d66', 'c11d67', 'c11d7', 'c11e', 'c11f', 'c121', 'c122', 'c123', 'c124', 'c125', 'c126', 'c127', 'c13', 'c14a', 'c14b', 'c14c', 'c14d', 'c14e', 'c14ea', 'd3', 'd4', 'd5', 'd6a', 'd6b', 'd6c', 'd6d', 'd7', 'd8a', 'd8b', 'd8c', 'd8d', 'd9a', 'd9b', 'd10', 'd11a', 'd11b', 'd11c', 'd11d', 'd12', 'd13', 'd15a', 'd15b', 'd16a', 'd16b', 'd16c', 'd16d', 'd16e', 'd17a', 'd17b', 'd17c', 'd17d', 'd17e', 'd17f', 'd18a', 'd18b', 'd19', 'd20a', 'd20b', 'd20c', 'd20d', 'd21a', 'd21b', 'd22', 'd23a', 'd23b', 'd23c', 'd24', 'd25a', 'd25b', 'd25c', 'd26', 'd27', 'd28a', 'd28b', 'd291', 'd292', 'd293', 'd294', 'd30', 'd31a', 'd31b', 'd32a', 'd32b', 'd33a', 'd33b', 'd34', 'd35a', 'd35b', 'd35c', 'indrp1', 'iscorp1', 'indrp2', 'iscorp2', 'indsp', 'iscosp', 'inddad', 'iscodad', 'indmom', 'iscomom', 'toorstr', 'vilorngh', 's2', 's3', 's6', 's7', 'a01', 'a02', 'a03', 'a04', 'a1102', 'a1103', 'a1104', 'a1105', 'a1106', 'a1107', 'a1108', 'a1109', 'a1110', 'a1111', 'a1112', 'a1113', 'a1114', 'a1115', 'a4a', 'a521a', 'a7aa', 'a129', 'a129a', 'a18a', 'a20a', 'a221', 'a222', 'a223', 'a261', 'a262', 'a263', 'a271', 'a272', 'a273', 'a37a', 'a37b', 'a37c', 'a54a', 'a566a', 'a58a', 'a58aa', 'a58b', 'a59ab', 'a59ja', 'a59ka', 'a59l', 'a60ab', 'a60ja', 'a60ka', 'a60l', 'a613', 'a614', 'a63', 'a678a', 'a68a', 'a72a', 'a74a', 'a75a', 'a75b', 'a77a', 'a796a', 'a81a', 'a81aa', 'a81b', 'a82b', 'a87a', 'a88a', 'a89ba', 'a89ga', 'a89ha', 'a90ba', 'a90ga', 'a90ha', 'n00', 'n101', 'n102', 'n103', 'n104', 'n105', 'n106', 'n107', 'n108', 'n109', 'n2a', 'n2b', 'n2c', 'n3a', 'n3b', 'n3c', 'n401', 'n402', 'n403', 'n404', 'n405', 'n406', 'n407', 'n408', 'n409', 'n410', 'n6a', 'n6aa', 'n6b', 'n7a', 'n7b1', 'n7b2', 'n7b3', 'n7c', 'n801', 'n802', 'n803', 'n804', 'n805', 'n9a', 'n9b', 'n1001', 'n1002', 'n1003', 'n1101', 'n1102', 'n1103', 'n1104', 'n1201', 'n1202', 'n1203', 'n1204', 'n13', 'n1401', 'n1402', 'n1403', 'n1404', 'n1405', 'n1406', 'n1407', 'n1408', 'n1408a', 'n1501', 'n1502', 'n1503', 'n1504', 'n1505', 'n1506', 'n1601', 'n1602', 'n1603', 'n1604', 'n1605', 'n1606', 'n1607', 'n1608', 'n1609', 'n1610', 'n1611', 'n1612', 'n1613', 'n1614', 'n1615', 'n1616', 'n18', 'n26a', 'n27a', 'n27b', 'n29', 'n30', 'n33a', 'n34', 'n36', 'q00', 'q209a', 'q301', 'q302', 'q303', 'q501', 'q502', 'q503', 'q504', 'q505', 'q506', 'q507', 'q508', 'q508a', 'm00', 'm101', 'm102', 'm103', 'm104', 'm105', 'm201', 'm202', 'm301', 'm302', 'm41', 'm42', 'm43', 'm44', 'm51', 'm52', 'm53', 'm6', 'm71', 'm72', 'm73', 'm74', 'm75', 'm76', 'm8', 'm8a', 'm9', 'm10', 'm11', 'm12', 'm13', 'm14', 'm15', 'm16', 'm17', 'm18', 'm18a', 'm19', 'm20', 'm21', 'm221', 'm222', 'm223', 'm224', 'm225', 'm226', 'm23', 'm24', 'm25', 'm261', 'm262', 'm263', 'm264', 'm27', 'm28', 'm29', 'm30', 'm31', 'm321', 'm322', 'm331', 'm332', 'm34', 'p00', 'p101', 'p102', 'p103', 'p104', 'p105', 'p106', 'p107', 'p108', 'p109', 'p110', 'p111', 'p112', 'p113', 'p114', 'p115', 'p116', 'p117', 'p118', 'p119', 'p120', 'p121', 'p2a', 'p2b', 'p3', 'p4', 'p4a', 'p5', 'p6', 'p7', 'p8', 's12d21', 's12d22', 's12d23', 's12d24', 'a1702', 'a1703', 'a1704', 'a1705', 'a1706', 'a1707', 'a1708', 'a1709', 'a1710', 'a1711', 'a1712', 'a1713', 'a1714', 'a1715', 'a264', 'a274', 'b1', 'b2', 'b7a', 'b7b', 'b7c', 'b7d', 'b7e', 'b7f', 'b7g', 'b101', 'b102', 'b103', 'b1101', 'b1102', 'b1103', 'b1104', 'b1105', 'b1106', 'b1107', 'b1108', 'b1109', 'b1110', 'b1111', 'b1112', 'b1113', 'b1201', 'b1202', 'b1203', 'b1204', 'b1205', 'b1206', 'b1207', 'b1208', 'b1209', 'b1210', 'b1211', 'b1212', 'b1213', 'b1214', 'b15a', 'b16a', 'b17a', 'b1801', 'b1802', 'b1803', 'b1804', 'b1805', 'b1806', 'b1807', 'b1808', 'b1809', 'b1810', 'b1811', 'b1812', 'b1813', 'b1814', 'b19a', 'b19b', 'b19c', 'b19d', 'b21a01', 'b21b01', 'b21a02', 'b21b02', 'b21a03', 'b21b03', 'b21a04', 'b21b04', 'b21a05', 'b21b05', 'b21a06', 'b21b06', 'b21a07', 'b21b07', 'b21a08', 'b21b08', 'b21a09', 'b21b09', 'b21a10', 'b21b10', 'b21a11', 'b21b11', 'b21a12', 'b21b12', 'b2201', 'b2202', 'b2203', 'b2204', 'b2205', 'b2206', 'b2207', 'b2208', 'b2209', 'b2210', 'b2501', 'b2502', 'b2503', 'b2504', 'b2505', 'b2506', 'b2507', 'b2508', 'b2509', 'b2510', 'c00', 'c1a1', 'c1a2', 'c1a3', 'c1a4', 'c1b', 'c1c', 'c1d', 'c1e', 'c1f', 'c1fa', 'c1g', 'c2a01', 'c2a02', 'c2a03', 'c2a04', 'c2a05', 'c2a06', 'c2a07', 'c2a08', 'c2a09', 'c2a10', 'c2fa', 'c2g', 'c3a01', 'c3a02', 'c3a03', 'c3a04', 'c3a05', 'c3b', 'c3c', 'c3d', 'c3e', 'c3f', 'c3fa', 'c3g', 'c4a01', 'c4a02', 'c4a03', 'c4a04', 'c4a05', 'c4a06', 'c4a07', 'c4c', 'c4d', 'c4e', 'c4f', 'c4fa', 'c4g', 'c5a', 'c5b', 'c5c', 'c5d', 'c5e', 'c601', 'c602', 'c603', 'c604', 'd00', 'd1', 'd2', 'd3a', 'd701', 'd702', 'd703', 'd704', 'd705', 'd706', 'd801', 'd802', 'd803', 'd804', 'd805', 'd806', 'd807', 'd808', 'd809', 'd810', 'd811', 'd812', 'd813', 'd814', 'd815', 'd816', 'd817', 'd818', 'd819', 'd820', 'd821', 'd822', 'd823', 'd901', 'd902', 'd903', 'd1101', 'd1102', 'd1103', 'd1104', 'd14a', 'd1701', 'd1702', 'd1703', 'd1704', 'd1705', 'd1706', 'd1707', 'd1708', 'd1709', 'd1710', 'd18', 'd1901', 'd1902', 'd1903', 'd20', 'd21', 'd22a', 'd23', 'd24a', 's1', 'token', 'a0', 'a11011', 'a11012', 'a11021', 'a11022', 'a11031', 'a11032', 'a11041', 'a11042', 'a11051', 'a11052', 'a11061', 'a11062', 'a11071', 'a11072', 'a11081', 'a11082', 'a11091', 'a11092', 'a11101', 'a11102', 'a11111', 'a11112', 'a11121', 'a11122', 'a11131', 'a11132', 'a11141', 'a11142', 'a1201', 'a1301', 'a1302', 'a1303', 'a1304', 'a1305', 'a1306', 'a1307', 'a1308', 'a1309', 'a1310', 'a1311', 'a1312', 'a1313', 'a1314', 'a1401', 'a1501', 'a1601', 'a170102', 'a170103', 'a170104', 'a170105', 'a170106', 'a170107', 'a170108', 'a170109', 'a170110', 'a170111', 'a170112', 'a170113', 'a170114', 'a170203', 'a170204', 'a170205', 'a170206', 'a170207', 'a170208', 'a170209', 'a170210', 'a170211', 'a170212', 'a170213', 'a170214', 'a170304', 'a170305', 'a170306', 'a170307', 'a170308', 'a170309', 'a170310', 'a170311', 'a170312', 'a170313', 'a170314', 'a170405', 'a170406', 'a170407', 'a170408', 'a170409', 'a170410', 'a170411', 'a170412', 'a170413', 'a170414', 'a170506', 'a170507', 'a170508', 'a170509', 'a170510', 'a170511', 'a170512', 'a170513', 'a170514', 'a170607', 'a170608', 'a170609', 'a170610', 'a170611', 'a170612', 'a170613', 'a170614', 'a170708', 'a170709', 'a170710', 'a170711', 'a170712', 'a170713', 'a170714', 'a170809', 'a170810', 'a170811', 'a170812', 'a170813', 'a170814', 'a170910', 'a170911', 'a170912', 'a170913', 'a170914', 'a171011', 'a171012', 'a171013', 'a171014', 'a171112', 'a171113', 'a171114', 'a171213', 'a171214', 'a171313', 'a301', 'a302', 'a303', 'a599', 'a5a', 'a1299', 'a12a', 'a431', 'a432', 'a433', 'a434', 'a5699', 'a5601', 'a5602', 'a5603', 'a5604', 'a5605', 'a5606', 'a56a', 'a59a1', 'a59f1', 'a60a1', 'a60f1', 'a6799', 'a6701', 'a6702', 'a6703', 'a6704', 'a6705', 'a6706', 'a6707', 'a6708', 'a67a', 'a7999', 'a7901', 'a7902', 'a7903', 'a7904', 'a7905', 'a7906', 'a79a', 'ask99', 'b4a', 'b4aa', 'b4b', 'b4ba', 'b4c', 'b4ca', 'b8a', 'b8b', 'b901', 'b902', 'b903', 'b904', 'b905', 'b906', 'b907', 'b908', 'b909', 'b910', 'b1001', 'b1002', 'b1003', 'b1004', 'b1005', 'b1006', 'b1007', 'b1008', 'b1009', 'b1010', 'b1013', 'b115', 'b116', 'b155', 'b156', 'b157', 'b158', 'b159', 'b161', 'b162', 'b163', 'b164', 'b165', 'b166', 'b167', 'b168', 'b169', 'b171', 'b172', 'b173', 'b174', 'b18a', 'c31', 'c32', 'c81', 'c82', 'c83', 'c84', 'c91', 'c92', 'c93', 'c94', 'c95', 'c96', 'c97', 'c98', 'c99', 'c10', 'c111', 'c112', 'c113', 'c114', 'c13a', 'c14', 'c15', 'c161', 'c162', 'c17', 'c18', 'c19', 'c20', 'c22', 'c23', 'c241', 'c242', 'c251', 'c252', 'c261', 'c262', 'c271', 'c272', 'c281', 'c282', 'd101', 'd102', 'd208', 'd209', 'd6', 'd81', 'd82', 'd9', 'd11', 'd121', 'd122', 'd123', 'd124', 'd125', 'd126', 'd127', 'd128', 'd131', 'd132', 'd141', 'd142', 'd191', 'd192', 'd241', 'd242', 'd243', 'd251', 'd252', 'd28', 'd295', 'd296', 'd31', 'd32', 'd331', 'd332', 'd35', 'd36', 'd37', 'd38', 'd391', 'd392', 'd393', 'd394', 'd395', 'd396', 'd401', 'd402', 'd403', 'd404', 'd405', 'd406', 'd41', 'd42', 'd43', 'd43a', 'd44', 'f101', 'f102', 'f103', 'f104', 'f105', 'f201', 'f202', 'f203', 'f204', 'f31', 'f32', 'f33', 'f34', 'f41', 'f42', 'f43', 'f51', 'f52', 'f53', 'f61', 'f62', 'f63', 'f71', 'f72', 'f73', 'f74', 'f75', 'f76', 'f77', 'f78', 'f81', 'f82', 'f83', 'f9', 'f10', 'f11', 'f12', 'f131', 'f132', 'f133', 'f134', 'f135', 'f136', 'f141', 'f142', 'f143', 'f151', 'f152', 'f153', 'f154', 'f155', 'f156', 'f161', 'f162', 'f163', 'f164', 'f171', 'f172', 'f173', 'f174', 'f181', 'f182', 'f1911', 'f1912', 'f1921', 'f1922', 'f1931', 'f1932', 'f1941', 'f1942', 'f2001', 'f2002', 'f2003', 'f211', 'f212', 'f213', 'f214', 'f22', 'f231', 'f232', 'f233', 'f234', 'f241', 'f242', 'f243', 'f244', 'f245', 'f251', 'f252', 'f253', 'f254', 'f255', 'f256', 'f2601', 'f2602', 'f2603', 'f2604', 'f2605', 'f2606', 'f2607', 'f2608', 'f2609', 'f2610', 'f2611', 'f27', 'f281', 'f282', 'f283', 'f284', 'f285', 'f286', 'f287', 'f288', 'f291', 'f292', 'f293', 'f294', 'f295', 'f296', 'e1', 'e2', 'e3', 'e4', 'e4a', 'e5', 'e5a', 'e6', 'e7', 'e8', 'e9', 'e10', 'e11', 'e12', 'e13a', 'e13aa', 'e13b', 'e13ba', 'e13c', 'e13d', 'e13e', 'e13f', 'e13fa', 'e14a', 'e14aa', 'e14b', 'e14ba', 'e14c', 'e14d', 'e14e', 'e14f', 'e14fa', 'e15a', 'e15aa', 'e15b', 'e15ba', 'e15c', 'e15d', 'e15e', 'e15f', 'e15fa', 'e16a', 'e16aa', 'e16b', 'e16ba', 'e16c', 'e16d', 'e16e', 'e16f', 'e16fa', 'e171', 'e172', 'e18a', 'e18b', 'e18c', 'e18ca', 'e18d', 'e18e', 'e18f', 'e19a', 'e19b', 'e19c', 'e19ca', 'e19d', 'e19e', 'e19f', 'e20a', 'e20b', 'e20c', 'e20ca', 'e20d', 'e20e', 'e20f', 'e211', 'e212', 'e22a', 'e22b', 'e22c', 'e22ca', 'e22d', 'e22e', 'e22f', 'e22g', 'e23a', 'e23b', 'e23c', 'e23ca', 'e23d', 'e23e', 'e23f', 'e23g', 'e24a', 'e24b', 'e24c', 'e24ca', 'e24d', 'e24e', 'e24f', 'e24g', 'e25', 'e26a', 'e26b', 'e26ba', 'e26c', 'e26d', 'e26da', 'e26e', 'e26f', 'e26g', 'e26h', 'e27a', 'e27b', 'e27ba', 'e27c', 'e27d', 'e27da', 'e27e', 'e27f', 'e27g', 'e27h', 'e28a', 'e28b', 'e28ba', 'e28c', 'e28d', 'e28da', 'e28e', 'e28f', 'e28g', 'e28h', 'e30', 'e31a', 'e31b', 'e31c', 'e31ca', 'e31d', 'e31e', 'e31f', 'e31g', 'e32a', 'e32b', 'e32c', 'e32ca', 'e32d', 'e32e', 'e32f', 'e32g', 'e33a', 'e33b', 'e33c', 'e33ca', 'e33d', 'e33e', 'e33f', 'e33g', 'e34a', 'e34b', 'e34c', 'e34ca', 'e34d', 'e34e', 'e34f', 'e34g', 'e35a', 'e35b', 'e35c', 'e35ca', 'e35d', 'e35e', 'e35f', 'e35g', 'e36', 'e36a', 'e36b', 'e36c', 'e37', 'e37a', 'e37b', 'e37c', 'e38', 'e38a', 'e38b', 'e38c', 'e39', 'e40', 'e40a', 'e41', 'e41a', 'e42', 'e4301', 'e4302', 'e4303', 'e4304', 'e4305', 'e4306', 'e4399', 'e44', 'e45', 'e46', 'e47', 'e48', 'e49', 'e49a', 'e501', 'e502', 'e51', 'e51a', 'e52', 'e53a', 'e53aa', 'e53b', 'e53ba', 'e53c', 'e53d', 'e53e01', 'e53e02', 'e53e03', 'e53e04', 'e53e05', 'e53e06', 'e53e99', 'e53f', 'e54a', 'e54aa', 'e54b', 'e54ba', 'e54c', 'e54d', 'e54e01', 'e54e02', 'e54e03', 'e54e04', 'e54e05', 'e54e06', 'e54e99', 'e54f', 'e55a', 'e55aa', 'e55b', 'e55ba', 'e55c', 'e55d', 'e55e01', 'e55e02', 'e55e03', 'e55e04', 'e55e05', 'e55e06', 'e55e99', 'e55f', 'e56', 'e57a', 'e57b', 'e57ba', 'e57c', 'e57d', 'e57da', 'e57e', 'e57f', 'e57g', 'e58a', 'e58b', 'e58ba', 'e58c', 'e58d', 'e58da', 'e58e', 'e58f', 'e58g', 'e59', 'e60a', 'e60b', 'e60c', 'e60ca', 'e60d', 'e60e', 'e60f', 'e60g', 'e60h', 'e60i01', 'e60i02', 'e60i03', 'e60i04', 'e60i05', 'e60i06', 'e60i99', 'e60j', 'e60k', 'e60l', 'e60m', 'e61a', 'e61b', 'e61c', 'e61ca', 'e61d', 'e61e', 'e61f', 'e61g', 'e61h', 'e61i01', 'e61i02', 'e61i03', 'e61i04', 'e61i05', 'e61i06', 'e61i99', 'e61j', 'e61k', 'e61l', 'e61m', 'e62a', 'e62b', 'e62c', 'e62ca', 'e62d', 'e62e', 'e62f', 'e62g', 'e62h', 'e62i01', 'e62i02', 'e62i03', 'e62i04', 'e62i05', 'e62i06', 'e62i99', 'e62j', 'e62k', 'e62l', 'e62m', 'e63a', 'e63b', 'e63c', 'e63ca', 'e63d', 'e63e', 'e63f', 'e63g', 'e63h', 'e63i01', 'e63i02', 'e63i03', 'e63i04', 'e63i05', 'e63i06', 'e63i99', 'e63j', 'e63k', 'e63l', 'e63m', 'e64', 'e65', 'e65a', 'e66', 'e67', 'e68', 'e69', 'e70', 'e70a', 'e71', 'e72', 'e73', 'e741', 'e742', 'e75', 'e75a', 'e762', 'e763', 'e764', 'e765', 'e766', 'e767', 'e768', 'e761', 'e77', 'e77a', 'e78', 'e79', 'e80', 'e81', 'e82', 'e82a', 'e83', 'e83a', 'e84', 'e84a', 'e85', 'e861', 'e862', 'e863', 'e871', 'e872', 'e88', 'e88a', 'e8901', 'e8902', 'e8903', 'e8904', 'e8905', 'e8906', 'e8907', 'e8908', 'e8909', 'e8910', 'e89a', 'e90a', 'e90aa', 'e90b', 'e90c', 'e90d', 'e90da', 'e90e', 'e90f', 'e90g', 'e90h', 'e90i', 'e90ia', 'e90j', 'e90ja', 'e90k', 'e90ka', 'e91a', 'e91aa', 'e91b', 'e91c', 'e91d', 'e91da', 'e91e', 'e91f', 'e91g', 'e91h', 'e91i', 'e91ia', 'e91j', 'e91ja', 'e91k', 'e91ka', 'e92a', 'e92aa', 'e92b', 'e92c', 'e92d', 'e92da', 'e92e', 'e92f', 'e92g', 'e92h', 'e92i', 'e92ia', 'e92j', 'e92ja', 'e92k', 'e92ka', 'e93a', 'e93aa', 'e93b', 'e93c', 'e93d', 'e93da', 'e93e', 'e93f', 'e93g', 'e93h', 'e93i', 'e93ia', 'e93j', 'e93ja', 'e93k', 'e93ka', 'e94a', 'e94aa', 'e94b', 'e94c', 'e94d', 'e94da', 'e94e', 'e94f', 'e94g', 'e94h', 'e94i', 'e94ia', 'e94j', 'e94ja', 'e94k', 'e94ka', 'e95a', 'e95aa', 'e95b', 'e95c', 'e95f', 'e95g', 'e95h', 'e95i', 'e95ia', 'e95j', 'e95ja', 'e95k', 'e95ka', 'e96a', 'e96aa', 'e96b', 'e96c', 'e96f', 'e96g', 'e96h', 'e96i', 'e96ia', 'e96j', 'e96ja', 'e96k', 'e96ka', 'e97a', 'e97aa', 'e97b', 'e97c', 'e97d', 'e97da', 'e97e', 'e97f', 'e97g', 'e97h', 'e97i', 'e97ia', 'e97j', 'e97ja', 'e97k', 'e97ka', 'e98a', 'e98aa', 'e98b', 'e98c', 'e98d', 'e98da', 'e98e', 'e98f', 'e98g', 'e98h', 'e98i', 'e98ia', 'e98j', 'e98ja', 'e98k', 'e98ka', 'e99a', 'e99aa', 'e99b', 'e99c', 'e99d', 'e99da', 'e99e', 'e99f', 'e99g', 'e99h', 'e99i', 'e99ia', 'e99j', 'e99ja', 'e99k', 'e99ka', 'e100a', 'e100aa', 'e100b', 'e100c', 'e100d', 'e100da', 'e100e1', 'e100e1comment', 'e100e2', 'e100e2comment', 'e100e3', 'e100e3comment', 'e100f', 'e100g', 'e100h', 'e100i', 'e100ia', 'e100j', 'e100ja', 'e100k', 'e100ka', 'e101', 'e102', 'e103', 'e104', 'e105', 'e106', 'e107', 'e108', 'e109', 'e110', 'e111', 'e111a', 'e111b', 'e112', 'e112a', 'e112b', 'e113', 'e114', 'e115', 'z8', 'a59disco88', 'a60disco88', 'china10_wcd', 'china10_prefgb_special', 'B_Trust_G', 'B_Charity_S_P', 'B_Equality_S_PB', 'B_GenReciprocity_S_N', 'B_GenReciprocity_G', 'B_Trust_S_N', 'B_Honesty_S_PB', 'B_Effort_S_PA', 'B_Charity_S_P', 'B_Trust_S_PA', 'B_Honesty_G', 'B_Honesty_S_N', 'B_GenReciprocity_S_PA', 'B_Equality_G', 'B_Effort_S_PB', 'B_Equality_S_N', 'B_Charity_S_N', 'B_GenReciprocity_S_PB', 'B_Charity_G', 'B_Trust_S_PB', 'B_Honesty_S_PA', 'B_Effort_G', 'B_Equality_S_PA', 'B_Effort_S_N', 'B_Rule-Following_S_N', 'B_Rule-Following_G', 'B_Clan_G', 'B_AncestorWorship_S', 'B_BackwardLooking_G', 'B_FamilyTies_S', 'B_Confucianism_S', 'B_Emperors_G', 'B_SwornBrotherhood_G', 'B_Rule-Following_S_PA', 'B_Clan_S', 'B_SpiritsDeities_G', 'B_BackwardLooking_S', 'B_Emperors_S_PA', 'B_Buddhism_G', 'B_Longevity_G', 'B_SwornBrotherhood_S', 'B_FamilyTies_G', 'B_Rule-Following_S_PB', 'B_SpiritsDeities_S', 'B_Emperors_S_N', 'B_Buddhism_S', 'B_AncestorWorship_G', 'B_Confucianism_G', 'B_RitualGiftGiving_G', 'B_PosReciprocity_S', 'B_TwoPartyEnforce_G', 'B_Killing_S', 'B_AttRiskAdv_G', 'B_AttMerchProfit_G', 'B_Patience_G', 'B_Patience_S_N', 'B_RitualGiftGiving_S', 'B_ThirdPartyEnforce_G', 'B_Violence_G', 'B_TwoPartyEnforce_S', 'B_AttRiskAdv_S_P', 'B_AttMerchProfit_S_P', 'B_Patience_S_PA', 'B_ThirdPartyEnforce_S', 'B_PosReciprocity_G', 'B_Violence_S', 'B_AttRiskAdv_S_N', 'B_Killing_G', 'B_Patience_S_PB', 'B_AttMerchProfit_S_N']\n"
     ]
    }
   ],
   "source": [
    "print(list(df.columns))"
   ]
  },
  {
   "cell_type": "code",
   "execution_count": null,
   "metadata": {},
   "outputs": [],
   "source": []
  },
  {
   "cell_type": "code",
   "execution_count": 57,
   "metadata": {},
   "outputs": [
    {
     "data": {
      "text/plain": [
       "Index(['id_old', 'id_str', 'surveyyear', 'id_surveyyear', 's41', 's42', 's43',\n",
       "       'cntyname', 'china10_cntygb', 'B_Trust_G', 'B_Charity_S_P',\n",
       "       'B_Charity_S_P', 'B_GenReciprocity_G', 'B_Honesty_S_PB',\n",
       "       'B_Equality_S_PB', 'B_Trust_S_N', 'B_GenReciprocity_S_N',\n",
       "       'B_Effort_S_PA', 'B_Trust_S_PA', 'B_GenReciprocity_S_PA',\n",
       "       'B_Charity_S_P', 'B_Charity_S_P', 'B_Equality_G', 'B_Honesty_G',\n",
       "       'B_Honesty_S_N', 'B_Equality_S_N', 'B_Effort_S_PB', 'B_Trust_S_PB',\n",
       "       'B_GenReciprocity_S_PB', 'B_Honesty_S_PA', 'B_Charity_S_N',\n",
       "       'B_Equality_S_PA', 'B_Charity_G', 'B_Effort_S_N', 'B_Effort_G',\n",
       "       'B_Rule-Following_G', 'B_Rule-Following_S_N', 'B_FamilyTies_S',\n",
       "       'B_Clan_G', 'B_BackwardLooking_G', 'B_AncestorWorship_S',\n",
       "       'B_Confucianism_S', 'B_Emperors_G', 'B_SwornBrotherhood_G',\n",
       "       'B_Rule-Following_S_PA', 'B_Longevity_G', 'B_SpiritsDeities_G',\n",
       "       'B_BackwardLooking_S', 'B_Buddhism_G', 'B_Clan_S', 'B_Emperors_S_PA',\n",
       "       'B_SwornBrotherhood_S', 'B_Rule-Following_S_PB', 'B_AncestorWorship_G',\n",
       "       'B_SpiritsDeities_S', 'B_Buddhism_S', 'B_FamilyTies_G',\n",
       "       'B_Confucianism_G', 'B_Emperors_S_N', 'B_PosReciprocity_S',\n",
       "       'B_RitualGiftGiving_G', 'B_Killing_S', 'B_AttMerchProfit_G',\n",
       "       'B_TwoPartyEnforce_G', 'B_Patience_G', 'B_AttRiskAdv_G',\n",
       "       'B_Patience_S_N', 'B_ThirdPartyEnforce_G', 'B_Violence_G',\n",
       "       'B_TwoPartyEnforce_S', 'B_AttRiskAdv_S_P', 'B_AttMerchProfit_S_P',\n",
       "       'B_RitualGiftGiving_S', 'B_Patience_S_PA', 'B_ThirdPartyEnforce_S',\n",
       "       'B_Violence_S', 'B_AttRiskAdv_S_N', 'B_Patience_S_PB', 'B_Killing_G',\n",
       "       'B_AttMerchProfit_S_N', 'B_PosReciprocity_G'],\n",
       "      dtype='object')"
      ]
     },
     "execution_count": 57,
     "metadata": {},
     "output_type": "execute_result"
    }
   ],
   "source": [
    "df.columns"
   ]
  },
  {
   "cell_type": "markdown",
   "metadata": {},
   "source": []
  },
  {
   "cell_type": "code",
   "execution_count": null,
   "metadata": {},
   "outputs": [],
   "source": []
  }
 ],
 "metadata": {
  "kernelspec": {
   "display_name": "base",
   "language": "python",
   "name": "python3"
  },
  "language_info": {
   "codemirror_mode": {
    "name": "ipython",
    "version": 3
   },
   "file_extension": ".py",
   "mimetype": "text/x-python",
   "name": "python",
   "nbconvert_exporter": "python",
   "pygments_lexer": "ipython3",
   "version": "3.12.7"
  }
 },
 "nbformat": 4,
 "nbformat_minor": 2
}
