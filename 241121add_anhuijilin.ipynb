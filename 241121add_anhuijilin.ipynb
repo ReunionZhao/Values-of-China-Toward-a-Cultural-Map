{
 "cells": [
  {
   "cell_type": "code",
   "execution_count": 4,
   "id": "e00f4070-953c-4b0e-bb2d-0adead48d0f6",
   "metadata": {},
   "outputs": [
    {
     "name": "stderr",
     "output_type": "stream",
     "text": [
      "Reading files: 100%|██████████| 820/820 [00:00<00:00, 23323.81it/s]\n",
      "Computing similarity: 100%|██████████| 820/820 [00:28<00:00, 29.13it/s]\n"
     ]
    },
    {
     "name": "stdout",
     "output_type": "stream",
     "text": [
      "Batch 1 for theme '结拜' saved to /Users/zhaorunping/Desktop/Research_Onging/2410_LSE_Xue/result/241121similarity_scores/结拜/241121结拜_batch_1_similarity_scores.csv\n"
     ]
    },
    {
     "name": "stderr",
     "output_type": "stream",
     "text": [
      "Reading files: 100%|██████████| 820/820 [00:00<00:00, 20164.33it/s]\n",
      "Computing similarity: 100%|██████████| 820/820 [00:28<00:00, 29.12it/s]\n"
     ]
    },
    {
     "name": "stdout",
     "output_type": "stream",
     "text": [
      "Batch 1 for theme '信任' saved to /Users/zhaorunping/Desktop/Research_Onging/2410_LSE_Xue/result/241121similarity_scores/信任/241121信任_batch_1_similarity_scores.csv\n"
     ]
    },
    {
     "name": "stderr",
     "output_type": "stream",
     "text": [
      "Reading files: 100%|██████████| 820/820 [00:00<00:00, 20388.46it/s]\n",
      "Computing similarity: 100%|██████████| 820/820 [00:28<00:00, 29.11it/s]\n"
     ]
    },
    {
     "name": "stdout",
     "output_type": "stream",
     "text": [
      "Batch 1 for theme '道教' saved to /Users/zhaorunping/Desktop/Research_Onging/2410_LSE_Xue/result/241121similarity_scores/道教/241121道教_batch_1_similarity_scores.csv\n"
     ]
    },
    {
     "name": "stderr",
     "output_type": "stream",
     "text": [
      "Reading files: 100%|██████████| 820/820 [00:00<00:00, 19509.05it/s]\n",
      "Computing similarity: 100%|██████████| 820/820 [00:28<00:00, 28.80it/s]\n"
     ]
    },
    {
     "name": "stdout",
     "output_type": "stream",
     "text": [
      "Batch 1 for theme '慈善' saved to /Users/zhaorunping/Desktop/Research_Onging/2410_LSE_Xue/result/241121similarity_scores/慈善/241121慈善_batch_1_similarity_scores.csv\n"
     ]
    },
    {
     "name": "stderr",
     "output_type": "stream",
     "text": [
      "Reading files: 100%|██████████| 820/820 [00:00<00:00, 19348.71it/s]\n",
      "Computing similarity: 100%|██████████| 820/820 [00:28<00:00, 28.81it/s]\n"
     ]
    },
    {
     "name": "stdout",
     "output_type": "stream",
     "text": [
      "Batch 1 for theme '诚实' saved to /Users/zhaorunping/Desktop/Research_Onging/2410_LSE_Xue/result/241121similarity_scores/诚实/241121诚实_batch_1_similarity_scores.csv\n"
     ]
    },
    {
     "name": "stderr",
     "output_type": "stream",
     "text": [
      "Reading files: 100%|██████████| 820/820 [00:00<00:00, 20938.71it/s]\n",
      "Computing similarity: 100%|██████████| 820/820 [00:28<00:00, 28.66it/s]\n"
     ]
    },
    {
     "name": "stdout",
     "output_type": "stream",
     "text": [
      "Batch 1 for theme '宗族' saved to /Users/zhaorunping/Desktop/Research_Onging/2410_LSE_Xue/result/241121similarity_scores/宗族/241121宗族_batch_1_similarity_scores.csv\n"
     ]
    },
    {
     "name": "stderr",
     "output_type": "stream",
     "text": [
      "Reading files: 100%|██████████| 820/820 [00:00<00:00, 20351.06it/s]\n",
      "Computing similarity: 100%|██████████| 820/820 [00:28<00:00, 28.86it/s]\n"
     ]
    },
    {
     "name": "stdout",
     "output_type": "stream",
     "text": [
      "Batch 1 for theme '长寿' saved to /Users/zhaorunping/Desktop/Research_Onging/2410_LSE_Xue/result/241121similarity_scores/长寿/241121长寿_batch_1_similarity_scores.csv\n"
     ]
    },
    {
     "name": "stderr",
     "output_type": "stream",
     "text": [
      "Reading files: 100%|██████████| 820/820 [00:00<00:00, 20114.33it/s]\n",
      "Computing similarity: 100%|██████████| 820/820 [00:28<00:00, 28.76it/s]\n"
     ]
    },
    {
     "name": "stdout",
     "output_type": "stream",
     "text": [
      "Batch 1 for theme '孝道' saved to /Users/zhaorunping/Desktop/Research_Onging/2410_LSE_Xue/result/241121similarity_scores/孝道/241121孝道_batch_1_similarity_scores.csv\n"
     ]
    },
    {
     "name": "stderr",
     "output_type": "stream",
     "text": [
      "Reading files: 100%|██████████| 820/820 [00:00<00:00, 14443.74it/s]\n",
      "Computing similarity: 100%|██████████| 820/820 [00:28<00:00, 28.74it/s]\n"
     ]
    },
    {
     "name": "stdout",
     "output_type": "stream",
     "text": [
      "Batch 1 for theme '平等' saved to /Users/zhaorunping/Desktop/Research_Onging/2410_LSE_Xue/result/241121similarity_scores/平等/241121平等_batch_1_similarity_scores.csv\n"
     ]
    },
    {
     "name": "stderr",
     "output_type": "stream",
     "text": [
      "Reading files: 100%|██████████| 820/820 [00:00<00:00, 15009.79it/s]\n",
      "Computing similarity: 100%|██████████| 820/820 [00:28<00:00, 28.70it/s]\n"
     ]
    },
    {
     "name": "stdout",
     "output_type": "stream",
     "text": [
      "Batch 1 for theme '祖先' saved to /Users/zhaorunping/Desktop/Research_Onging/2410_LSE_Xue/result/241121similarity_scores/祖先/241121祖先_batch_1_similarity_scores.csv\n"
     ]
    },
    {
     "name": "stderr",
     "output_type": "stream",
     "text": [
      "Reading files: 100%|██████████| 820/820 [00:00<00:00, 20952.99it/s]\n",
      "Computing similarity: 100%|██████████| 820/820 [00:28<00:00, 29.03it/s]\n"
     ]
    },
    {
     "name": "stdout",
     "output_type": "stream",
     "text": [
      "Batch 1 for theme '惩罚' saved to /Users/zhaorunping/Desktop/Research_Onging/2410_LSE_Xue/result/241121similarity_scores/惩罚/241121惩罚_batch_1_similarity_scores.csv\n"
     ]
    },
    {
     "name": "stderr",
     "output_type": "stream",
     "text": [
      "Reading files: 100%|██████████| 820/820 [00:00<00:00, 20867.31it/s]\n",
      "Computing similarity: 100%|██████████| 820/820 [00:28<00:00, 29.14it/s]\n"
     ]
    },
    {
     "name": "stdout",
     "output_type": "stream",
     "text": [
      "Batch 1 for theme '努力' saved to /Users/zhaorunping/Desktop/Research_Onging/2410_LSE_Xue/result/241121similarity_scores/努力/241121努力_batch_1_similarity_scores.csv\n"
     ]
    },
    {
     "name": "stderr",
     "output_type": "stream",
     "text": [
      "Reading files: 100%|██████████| 820/820 [00:00<00:00, 21440.06it/s]\n",
      "Computing similarity: 100%|██████████| 820/820 [00:28<00:00, 28.94it/s]\n"
     ]
    },
    {
     "name": "stdout",
     "output_type": "stream",
     "text": [
      "Batch 1 for theme '鬼神' saved to /Users/zhaorunping/Desktop/Research_Onging/2410_LSE_Xue/result/241121similarity_scores/鬼神/241121鬼神_batch_1_similarity_scores.csv\n"
     ]
    },
    {
     "name": "stderr",
     "output_type": "stream",
     "text": [
      "Reading files: 100%|██████████| 820/820 [00:00<00:00, 20625.17it/s]\n",
      "Computing similarity: 100%|██████████| 820/820 [00:28<00:00, 29.01it/s]\n"
     ]
    },
    {
     "name": "stdout",
     "output_type": "stream",
     "text": [
      "Batch 1 for theme '古时候' saved to /Users/zhaorunping/Desktop/Research_Onging/2410_LSE_Xue/result/241121similarity_scores/古时候/241121古时候_batch_1_similarity_scores.csv\n"
     ]
    },
    {
     "name": "stderr",
     "output_type": "stream",
     "text": [
      "Reading files: 100%|██████████| 820/820 [00:00<00:00, 20762.00it/s]\n",
      "Computing similarity: 100%|██████████| 820/820 [00:28<00:00, 29.14it/s]\n"
     ]
    },
    {
     "name": "stdout",
     "output_type": "stream",
     "text": [
      "Batch 1 for theme '馈赠' saved to /Users/zhaorunping/Desktop/Research_Onging/2410_LSE_Xue/result/241121similarity_scores/馈赠/241121馈赠_batch_1_similarity_scores.csv\n"
     ]
    },
    {
     "name": "stderr",
     "output_type": "stream",
     "text": [
      "Reading files: 100%|██████████| 820/820 [00:00<00:00, 20361.06it/s]\n",
      "Computing similarity: 100%|██████████| 820/820 [00:28<00:00, 29.26it/s]\n"
     ]
    },
    {
     "name": "stdout",
     "output_type": "stream",
     "text": [
      "Batch 1 for theme '杀戮' saved to /Users/zhaorunping/Desktop/Research_Onging/2410_LSE_Xue/result/241121similarity_scores/杀戮/241121杀戮_batch_1_similarity_scores.csv\n"
     ]
    },
    {
     "name": "stderr",
     "output_type": "stream",
     "text": [
      "Reading files: 100%|██████████| 820/820 [00:00<00:00, 21051.62it/s]\n",
      "Computing similarity: 100%|██████████| 820/820 [00:28<00:00, 29.17it/s]\n"
     ]
    },
    {
     "name": "stdout",
     "output_type": "stream",
     "text": [
      "Batch 1 for theme '遵守' saved to /Users/zhaorunping/Desktop/Research_Onging/2410_LSE_Xue/result/241121similarity_scores/遵守/241121遵守_batch_1_similarity_scores.csv\n"
     ]
    },
    {
     "name": "stderr",
     "output_type": "stream",
     "text": [
      "Reading files: 100%|██████████| 820/820 [00:00<00:00, 19961.98it/s]\n",
      "Computing similarity: 100%|██████████| 820/820 [00:28<00:00, 29.19it/s]\n"
     ]
    },
    {
     "name": "stdout",
     "output_type": "stream",
     "text": [
      "Batch 1 for theme '忠诚' saved to /Users/zhaorunping/Desktop/Research_Onging/2410_LSE_Xue/result/241121similarity_scores/忠诚/241121忠诚_batch_1_similarity_scores.csv\n"
     ]
    },
    {
     "name": "stderr",
     "output_type": "stream",
     "text": [
      "Reading files: 100%|██████████| 820/820 [00:00<00:00, 19203.29it/s]\n",
      "Computing similarity: 100%|██████████| 820/820 [00:28<00:00, 28.96it/s]\n"
     ]
    },
    {
     "name": "stdout",
     "output_type": "stream",
     "text": [
      "Batch 1 for theme '儒家' saved to /Users/zhaorunping/Desktop/Research_Onging/2410_LSE_Xue/result/241121similarity_scores/儒家/241121儒家_batch_1_similarity_scores.csv\n"
     ]
    },
    {
     "name": "stderr",
     "output_type": "stream",
     "text": [
      "Reading files: 100%|██████████| 820/820 [00:00<00:00, 19536.87it/s]\n",
      "Computing similarity: 100%|██████████| 820/820 [00:28<00:00, 29.20it/s]\n"
     ]
    },
    {
     "name": "stdout",
     "output_type": "stream",
     "text": [
      "Batch 1 for theme '帝王' saved to /Users/zhaorunping/Desktop/Research_Onging/2410_LSE_Xue/result/241121similarity_scores/帝王/241121帝王_batch_1_similarity_scores.csv\n"
     ]
    },
    {
     "name": "stderr",
     "output_type": "stream",
     "text": [
      "Reading files: 100%|██████████| 820/820 [00:00<00:00, 20067.62it/s]\n",
      "Computing similarity: 100%|██████████| 820/820 [00:28<00:00, 29.17it/s]\n"
     ]
    },
    {
     "name": "stdout",
     "output_type": "stream",
     "text": [
      "Batch 1 for theme '佛教' saved to /Users/zhaorunping/Desktop/Research_Onging/2410_LSE_Xue/result/241121similarity_scores/佛教/241121佛教_batch_1_similarity_scores.csv\n"
     ]
    },
    {
     "name": "stderr",
     "output_type": "stream",
     "text": [
      "Reading files: 100%|██████████| 820/820 [00:00<00:00, 20721.22it/s]\n",
      "Computing similarity: 100%|██████████| 820/820 [00:28<00:00, 29.09it/s]"
     ]
    },
    {
     "name": "stdout",
     "output_type": "stream",
     "text": [
      "Batch 1 for theme '仁义' saved to /Users/zhaorunping/Desktop/Research_Onging/2410_LSE_Xue/result/241121similarity_scores/仁义/241121仁义_batch_1_similarity_scores.csv\n"
     ]
    },
    {
     "name": "stderr",
     "output_type": "stream",
     "text": [
      "\n"
     ]
    }
   ],
   "source": [
    "import os\n",
    "import pandas as pd\n",
    "from sentence_transformers import SentenceTransformer\n",
    "import numpy as np\n",
    "from tqdm import tqdm\n",
    "from concurrent.futures import ThreadPoolExecutor\n",
    "\n",
    "# 定义文件路径\n",
    "root_folder = '/Users/zhaorunping/Desktop/Research_Onging/2410_LSE_Xue/data/raw_data_tales/安徽820'\n",
    "output_base_folder = '/Users/zhaorunping/Desktop/Research_Onging/2410_LSE_Xue/result/241121similarity_scores'\n",
    "stories_file = '/Users/zhaorunping/Desktop/Research_Onging/2410_LSE_Xue/result/241107generated_stories.xlsx'\n",
    "\n",
    "# 遍历目录，收集所有 .txt 文件路径\n",
    "all_files = []\n",
    "for dirpath, _, filenames in os.walk(root_folder):\n",
    "    for filename in filenames:\n",
    "        if filename.endswith('.txt'):  # 仅处理 .txt 文件\n",
    "            relative_path = os.path.join(*dirpath.split(os.sep)[-2:], filename)\n",
    "            all_files.append((os.path.join(dirpath, filename), relative_path))\n",
    "\n",
    "# 加载模型\n",
    "model = SentenceTransformer('DMetaSoul/sbert-chinese-general-v2')\n",
    "\n",
    "# 加载生成的伪故事\n",
    "stories_df = pd.read_excel(stories_file)\n",
    "\n",
    "# 读取文件内容的函数\n",
    "def read_file(file_info):\n",
    "    file_path, relative_path = file_info\n",
    "    try:\n",
    "        with open(file_path, 'r', encoding='utf-8') as f:\n",
    "            return relative_path, f.read()\n",
    "    except Exception as e:\n",
    "        print(f\"Error reading file {file_path}: {e}\")\n",
    "        return relative_path, None\n",
    "\n",
    "# 文件相似度计算函数\n",
    "def compute_similarity(file_content, story_content):\n",
    "    if file_content is None:\n",
    "        return None\n",
    "    embeddings = model.encode([file_content, story_content])\n",
    "    similarity = np.dot(embeddings[0], embeddings[1]) / (np.linalg.norm(embeddings[0]) * np.linalg.norm(embeddings[1]))\n",
    "    return similarity\n",
    "\n",
    "# 批量处理文件\n",
    "def process_files_in_batches(all_files, story_content, theme_name, output_path, batch_size=1000):\n",
    "    batch_number = 1\n",
    "    os.makedirs(output_path, exist_ok=True)\n",
    "\n",
    "    for i in range(0, len(all_files), batch_size):\n",
    "        batch_files = all_files[i:i + batch_size]\n",
    "\n",
    "        # 读取文件内容\n",
    "        with ThreadPoolExecutor(max_workers=10) as executor:\n",
    "            file_contents = list(tqdm(executor.map(read_file, batch_files), total=len(batch_files), desc=\"Reading files\"))\n",
    "\n",
    "        # 计算相似度\n",
    "        with ThreadPoolExecutor(max_workers=10) as executor:\n",
    "            similarities = list(tqdm(executor.map(lambda content: compute_similarity(content[1], story_content), \n",
    "                                                  file_contents), total=len(file_contents), desc=\"Computing similarity\"))\n",
    "\n",
    "        # 组织结果并保存\n",
    "        batch_results = []\n",
    "        for (relative_path, content), similarity in zip(file_contents, similarities):\n",
    "            if content is not None:\n",
    "                trimmed_relative_path = os.path.join(*relative_path.split(os.sep)[-2:])\n",
    "                batch_results.append({\n",
    "                    \"文件路径\": trimmed_relative_path,\n",
    "                    \"内容\": content,\n",
    "                    \"相似度\": similarity\n",
    "                })\n",
    "        \n",
    "        # 存储当前批次的结果\n",
    "        batch_df = pd.DataFrame(batch_results)\n",
    "        batch_save_path = os.path.join(output_path, f\"241121{theme_name}_batch_{batch_number}_similarity_scores.csv\")\n",
    "        batch_df.to_csv(batch_save_path, index=False, encoding='utf-8-sig')\n",
    "        print(f\"Batch {batch_number} for theme '{theme_name}' saved to {batch_save_path}\")\n",
    "        batch_number += 1\n",
    "\n",
    "# 遍历每个主题，生成相应的相似度结果\n",
    "for _, row in stories_df.iterrows():\n",
    "    theme = row['主题']\n",
    "    story_content = row['生成的故事']\n",
    "    theme_output_path = os.path.join(output_base_folder, theme)\n",
    "    \n",
    "    # 执行批量处理\n",
    "    process_files_in_batches(all_files, story_content, theme, theme_output_path)"
   ]
  },
  {
   "cell_type": "code",
   "execution_count": 5,
   "id": "7a6aee34",
   "metadata": {},
   "outputs": [
    {
     "name": "stderr",
     "output_type": "stream",
     "text": [
      "Merging theme '宗族': 100%|██████████| 1/1 [00:00<00:00, 28.15file/s]\n"
     ]
    },
    {
     "name": "stdout",
     "output_type": "stream",
     "text": [
      "主题 '宗族' 的相似度结果已合并，文件保存为：/Users/zhaorunping/Desktop/Research_Onging/2410_LSE_Xue/result/241121similarity_scores/241121similarity_scores_merged_anhui/241121宗族_similarity_scores_merged.csv\n"
     ]
    },
    {
     "name": "stderr",
     "output_type": "stream",
     "text": [
      "Merging theme '鬼神': 100%|██████████| 1/1 [00:00<00:00, 34.17file/s]\n"
     ]
    },
    {
     "name": "stdout",
     "output_type": "stream",
     "text": [
      "主题 '鬼神' 的相似度结果已合并，文件保存为：/Users/zhaorunping/Desktop/Research_Onging/2410_LSE_Xue/result/241121similarity_scores/241121similarity_scores_merged_anhui/241121鬼神_similarity_scores_merged.csv\n"
     ]
    },
    {
     "name": "stderr",
     "output_type": "stream",
     "text": [
      "Merging theme '241121similarity_scores_merged_anhui': 0file [00:00, ?file/s]\n",
      "Merging theme '结拜': 100%|██████████| 1/1 [00:00<00:00, 34.05file/s]\n"
     ]
    },
    {
     "name": "stdout",
     "output_type": "stream",
     "text": [
      "主题 '结拜' 的相似度结果已合并，文件保存为：/Users/zhaorunping/Desktop/Research_Onging/2410_LSE_Xue/result/241121similarity_scores/241121similarity_scores_merged_anhui/241121结拜_similarity_scores_merged.csv\n"
     ]
    },
    {
     "name": "stderr",
     "output_type": "stream",
     "text": [
      "Merging theme '诚实': 100%|██████████| 1/1 [00:00<00:00, 32.96file/s]\n"
     ]
    },
    {
     "name": "stdout",
     "output_type": "stream",
     "text": [
      "主题 '诚实' 的相似度结果已合并，文件保存为：/Users/zhaorunping/Desktop/Research_Onging/2410_LSE_Xue/result/241121similarity_scores/241121similarity_scores_merged_anhui/241121诚实_similarity_scores_merged.csv\n"
     ]
    },
    {
     "name": "stderr",
     "output_type": "stream",
     "text": [
      "Merging theme '慈善': 100%|██████████| 1/1 [00:00<00:00, 34.14file/s]\n"
     ]
    },
    {
     "name": "stdout",
     "output_type": "stream",
     "text": [
      "主题 '慈善' 的相似度结果已合并，文件保存为：/Users/zhaorunping/Desktop/Research_Onging/2410_LSE_Xue/result/241121similarity_scores/241121similarity_scores_merged_anhui/241121慈善_similarity_scores_merged.csv\n"
     ]
    },
    {
     "name": "stderr",
     "output_type": "stream",
     "text": [
      "Merging theme '平等': 100%|██████████| 1/1 [00:00<00:00, 32.37file/s]\n"
     ]
    },
    {
     "name": "stdout",
     "output_type": "stream",
     "text": [
      "主题 '平等' 的相似度结果已合并，文件保存为：/Users/zhaorunping/Desktop/Research_Onging/2410_LSE_Xue/result/241121similarity_scores/241121similarity_scores_merged_anhui/241121平等_similarity_scores_merged.csv\n"
     ]
    },
    {
     "name": "stderr",
     "output_type": "stream",
     "text": [
      "Merging theme '孝道': 100%|██████████| 1/1 [00:00<00:00, 34.98file/s]\n"
     ]
    },
    {
     "name": "stdout",
     "output_type": "stream",
     "text": [
      "主题 '孝道' 的相似度结果已合并，文件保存为：/Users/zhaorunping/Desktop/Research_Onging/2410_LSE_Xue/result/241121similarity_scores/241121similarity_scores_merged_anhui/241121孝道_similarity_scores_merged.csv\n"
     ]
    },
    {
     "name": "stderr",
     "output_type": "stream",
     "text": [
      "Merging theme '佛教': 100%|██████████| 1/1 [00:00<00:00, 25.35file/s]\n"
     ]
    },
    {
     "name": "stdout",
     "output_type": "stream",
     "text": [
      "主题 '佛教' 的相似度结果已合并，文件保存为：/Users/zhaorunping/Desktop/Research_Onging/2410_LSE_Xue/result/241121similarity_scores/241121similarity_scores_merged_anhui/241121佛教_similarity_scores_merged.csv\n"
     ]
    },
    {
     "name": "stderr",
     "output_type": "stream",
     "text": [
      "Merging theme '馈赠': 100%|██████████| 1/1 [00:00<00:00, 35.27file/s]\n"
     ]
    },
    {
     "name": "stdout",
     "output_type": "stream",
     "text": [
      "主题 '馈赠' 的相似度结果已合并，文件保存为：/Users/zhaorunping/Desktop/Research_Onging/2410_LSE_Xue/result/241121similarity_scores/241121similarity_scores_merged_anhui/241121馈赠_similarity_scores_merged.csv\n"
     ]
    },
    {
     "name": "stderr",
     "output_type": "stream",
     "text": [
      "Merging theme '古时候': 100%|██████████| 1/1 [00:00<00:00, 34.56file/s]\n"
     ]
    },
    {
     "name": "stdout",
     "output_type": "stream",
     "text": [
      "主题 '古时候' 的相似度结果已合并，文件保存为：/Users/zhaorunping/Desktop/Research_Onging/2410_LSE_Xue/result/241121similarity_scores/241121similarity_scores_merged_anhui/241121古时候_similarity_scores_merged.csv\n"
     ]
    },
    {
     "name": "stderr",
     "output_type": "stream",
     "text": [
      "Merging theme '遵守': 100%|██████████| 1/1 [00:00<00:00, 34.27file/s]\n"
     ]
    },
    {
     "name": "stdout",
     "output_type": "stream",
     "text": [
      "主题 '遵守' 的相似度结果已合并，文件保存为：/Users/zhaorunping/Desktop/Research_Onging/2410_LSE_Xue/result/241121similarity_scores/241121similarity_scores_merged_anhui/241121遵守_similarity_scores_merged.csv\n"
     ]
    },
    {
     "name": "stderr",
     "output_type": "stream",
     "text": [
      "Merging theme '儒家': 100%|██████████| 1/1 [00:00<00:00, 35.43file/s]\n"
     ]
    },
    {
     "name": "stdout",
     "output_type": "stream",
     "text": [
      "主题 '儒家' 的相似度结果已合并，文件保存为：/Users/zhaorunping/Desktop/Research_Onging/2410_LSE_Xue/result/241121similarity_scores/241121similarity_scores_merged_anhui/241121儒家_similarity_scores_merged.csv\n"
     ]
    },
    {
     "name": "stderr",
     "output_type": "stream",
     "text": [
      "Merging theme '忠诚': 100%|██████████| 1/1 [00:00<00:00, 32.07file/s]\n"
     ]
    },
    {
     "name": "stdout",
     "output_type": "stream",
     "text": [
      "主题 '忠诚' 的相似度结果已合并，文件保存为：/Users/zhaorunping/Desktop/Research_Onging/2410_LSE_Xue/result/241121similarity_scores/241121similarity_scores_merged_anhui/241121忠诚_similarity_scores_merged.csv\n"
     ]
    },
    {
     "name": "stderr",
     "output_type": "stream",
     "text": [
      "Merging theme '道教': 100%|██████████| 1/1 [00:00<00:00, 29.80file/s]\n"
     ]
    },
    {
     "name": "stdout",
     "output_type": "stream",
     "text": [
      "主题 '道教' 的相似度结果已合并，文件保存为：/Users/zhaorunping/Desktop/Research_Onging/2410_LSE_Xue/result/241121similarity_scores/241121similarity_scores_merged_anhui/241121道教_similarity_scores_merged.csv\n"
     ]
    },
    {
     "name": "stderr",
     "output_type": "stream",
     "text": [
      "Merging theme '长寿': 100%|██████████| 1/1 [00:00<00:00, 30.08file/s]\n"
     ]
    },
    {
     "name": "stdout",
     "output_type": "stream",
     "text": [
      "主题 '长寿' 的相似度结果已合并，文件保存为：/Users/zhaorunping/Desktop/Research_Onging/2410_LSE_Xue/result/241121similarity_scores/241121similarity_scores_merged_anhui/241121长寿_similarity_scores_merged.csv\n"
     ]
    },
    {
     "name": "stderr",
     "output_type": "stream",
     "text": [
      "Merging theme '信任': 100%|██████████| 1/1 [00:00<00:00, 30.44file/s]\n"
     ]
    },
    {
     "name": "stdout",
     "output_type": "stream",
     "text": [
      "主题 '信任' 的相似度结果已合并，文件保存为：/Users/zhaorunping/Desktop/Research_Onging/2410_LSE_Xue/result/241121similarity_scores/241121similarity_scores_merged_anhui/241121信任_similarity_scores_merged.csv\n"
     ]
    },
    {
     "name": "stderr",
     "output_type": "stream",
     "text": [
      "Merging theme '仁义': 100%|██████████| 1/1 [00:00<00:00, 23.11file/s]\n"
     ]
    },
    {
     "name": "stdout",
     "output_type": "stream",
     "text": [
      "主题 '仁义' 的相似度结果已合并，文件保存为：/Users/zhaorunping/Desktop/Research_Onging/2410_LSE_Xue/result/241121similarity_scores/241121similarity_scores_merged_anhui/241121仁义_similarity_scores_merged.csv\n"
     ]
    },
    {
     "name": "stderr",
     "output_type": "stream",
     "text": [
      "Merging theme '杀戮': 100%|██████████| 1/1 [00:00<00:00, 33.23file/s]\n"
     ]
    },
    {
     "name": "stdout",
     "output_type": "stream",
     "text": [
      "主题 '杀戮' 的相似度结果已合并，文件保存为：/Users/zhaorunping/Desktop/Research_Onging/2410_LSE_Xue/result/241121similarity_scores/241121similarity_scores_merged_anhui/241121杀戮_similarity_scores_merged.csv\n"
     ]
    },
    {
     "name": "stderr",
     "output_type": "stream",
     "text": [
      "Merging theme '努力': 100%|██████████| 1/1 [00:00<00:00, 32.35file/s]\n"
     ]
    },
    {
     "name": "stdout",
     "output_type": "stream",
     "text": [
      "主题 '努力' 的相似度结果已合并，文件保存为：/Users/zhaorunping/Desktop/Research_Onging/2410_LSE_Xue/result/241121similarity_scores/241121similarity_scores_merged_anhui/241121努力_similarity_scores_merged.csv\n"
     ]
    },
    {
     "name": "stderr",
     "output_type": "stream",
     "text": [
      "Merging theme '帝王': 100%|██████████| 1/1 [00:00<00:00, 32.58file/s]\n"
     ]
    },
    {
     "name": "stdout",
     "output_type": "stream",
     "text": [
      "主题 '帝王' 的相似度结果已合并，文件保存为：/Users/zhaorunping/Desktop/Research_Onging/2410_LSE_Xue/result/241121similarity_scores/241121similarity_scores_merged_anhui/241121帝王_similarity_scores_merged.csv\n"
     ]
    },
    {
     "name": "stderr",
     "output_type": "stream",
     "text": [
      "Merging theme '祖先': 100%|██████████| 1/1 [00:00<00:00, 32.41file/s]\n"
     ]
    },
    {
     "name": "stdout",
     "output_type": "stream",
     "text": [
      "主题 '祖先' 的相似度结果已合并，文件保存为：/Users/zhaorunping/Desktop/Research_Onging/2410_LSE_Xue/result/241121similarity_scores/241121similarity_scores_merged_anhui/241121祖先_similarity_scores_merged.csv\n"
     ]
    },
    {
     "name": "stderr",
     "output_type": "stream",
     "text": [
      "Merging theme '惩罚': 100%|██████████| 1/1 [00:00<00:00, 30.92file/s]\n"
     ]
    },
    {
     "name": "stdout",
     "output_type": "stream",
     "text": [
      "主题 '惩罚' 的相似度结果已合并，文件保存为：/Users/zhaorunping/Desktop/Research_Onging/2410_LSE_Xue/result/241121similarity_scores/241121similarity_scores_merged_anhui/241121惩罚_similarity_scores_merged.csv\n"
     ]
    }
   ],
   "source": [
    "import os\n",
    "import pandas as pd\n",
    "from tqdm import tqdm\n",
    "\n",
    "# 合并每个主题的相似度结果为单独的 CSV 文件\n",
    "def merge_theme_similarity_files(output_base_folder):\n",
    "    # 创建存储合并结果的文件夹\n",
    "    merged_folder = os.path.join(output_base_folder, '241121similarity_scores_merged_anhui')\n",
    "    os.makedirs(merged_folder, exist_ok=True)\n",
    "\n",
    "    # 遍历输出文件夹，收集所有主题文件夹\n",
    "    for theme_folder in os.listdir(output_base_folder):\n",
    "        theme_path = os.path.join(output_base_folder, theme_folder)\n",
    "        if os.path.isdir(theme_path):  # 确保是文件夹\n",
    "            # 初始化一个空的 DataFrame 来存储该主题的所有 CSV 数据\n",
    "            theme_combined_df = pd.DataFrame()\n",
    "            csv_files = [file for file in os.listdir(theme_path) if file.endswith('_similarity_scores.csv')]\n",
    "\n",
    "            # 显示进度条\n",
    "            for file in tqdm(csv_files, desc=f\"Merging theme '{theme_folder}'\", unit='file'):\n",
    "                file_path = os.path.join(theme_path, file)\n",
    "                # 读取 CSV 文件并附加到主题 DataFrame\n",
    "                df = pd.read_csv(file_path)\n",
    "                theme_combined_df = pd.concat([theme_combined_df, df], ignore_index=True)\n",
    "\n",
    "            # 保存合并后的结果为单独的文件到新文件夹\n",
    "            if not theme_combined_df.empty:\n",
    "                theme_output_file = os.path.join(merged_folder, f\"241121{theme_folder}_similarity_scores_merged.csv\")\n",
    "                theme_combined_df.to_csv(theme_output_file, index=False, encoding='utf-8-sig')\n",
    "                print(f\"主题 '{theme_folder}' 的相似度结果已合并，文件保存为：{theme_output_file}\")\n",
    "\n",
    "# 调用合并函数\n",
    "merge_theme_similarity_files(output_base_folder)"
   ]
  },
  {
   "cell_type": "code",
   "execution_count": null,
   "id": "0b5fd186",
   "metadata": {},
   "outputs": [],
   "source": [
    "file_path = '/Users/zhaorunping/Desktop/Research_Onging/2410_LSE_Xue/data/raw_data_tales/地图匹配_0426_v4.csv'\n",
    "base = pd.read_csv(file_path)"
   ]
  },
  {
   "cell_type": "code",
   "execution_count": 8,
   "id": "5bdde0d7",
   "metadata": {},
   "outputs": [
    {
     "name": "stderr",
     "output_type": "stream",
     "text": [
      "Merging similarity scores to base: 100%|██████████| 22/22 [00:00<00:00, 27.37it/s]\n"
     ]
    },
    {
     "name": "stdout",
     "output_type": "stream",
     "text": [
      "合并后的基础表已保存为：/Users/zhaorunping/Desktop/Research_Onging/2410_LSE_Xue/result/241121similarity_scores_multitopic.csv\n"
     ]
    }
   ],
   "source": [
    "import re\n",
    "\n",
    "# 合并相似度列到基础表的函数\n",
    "def merge_similarity_to_base(base_file, output_base_folder):\n",
    "    # 加载基础表\n",
    "    base = pd.read_csv(base_file)\n",
    "\n",
    "    # 获取合并的相似度结果文件夹\n",
    "    merged_folder = os.path.join(output_base_folder, '241121similarity_scores_merged_anhui')\n",
    "\n",
    "    # 初始化合并后的基础表\n",
    "    merged_base = base.copy()\n",
    "\n",
    "    # 遍历合并的相似度文件\n",
    "    for theme_file in tqdm(os.listdir(merged_folder), desc=\"Merging similarity scores to base\"):\n",
    "        if theme_file.endswith('_similarity_scores_merged.csv'):\n",
    "            theme_path = os.path.join(merged_folder, theme_file)\n",
    "            data = pd.read_csv(theme_path)\n",
    "\n",
    "            # 提取文件名\n",
    "            data['文件名'] = data['文件路径'].apply(\n",
    "                lambda x: re.search(r'\\/(.*?)\\.txt', x).group(1) if re.search(r'\\/(.*?)\\.txt', x) else None\n",
    "            )\n",
    "\n",
    "            # 重新命名相似度列\n",
    "            # 去掉文件名中的数字并使用主题名称作为列名\n",
    "            theme_name = ''.join(filter(lambda x: not x.isdigit(), theme_file.split('_')[0]))\n",
    "            similarity_column_name = f\"{theme_name}_相似度\"\n",
    "            data.rename(columns={'相似度': similarity_column_name}, inplace=True)\n",
    "\n",
    "            # 合并到基础表中\n",
    "            merged_base = merged_base.merge(data[['文件名', similarity_column_name]], left_on='name', right_on='文件名', how='left')\n",
    "\n",
    "            # 删除临时列\n",
    "            merged_base.drop(columns=['文件名'], inplace=True)\n",
    "\n",
    "    return merged_base\n",
    "\n",
    "# 调用合并函数\n",
    "output_base_folder = '/Users/zhaorunping/Desktop/Research_Onging/2410_LSE_Xue/result/241121similarity_scores'\n",
    "base_file = '/Users/zhaorunping/Desktop/Research_Onging/2410_LSE_Xue/data/raw_data_tales/241113similarity_scores_multitopic.csv'\n",
    "\n",
    "# 2. 将合并的相似度列合并到基础表\n",
    "merged_base = merge_similarity_to_base(base_file, output_base_folder)\n",
    "\n",
    "# 保存最终合并的基础表\n",
    "output_file = '/Users/zhaorunping/Desktop/Research_Onging/2410_LSE_Xue/result/241121similarity_scores_multitopic.csv'  # 替换为保存文件的路径\n",
    "merged_base.to_csv(output_file, index=False, encoding='utf-8-sig')\n",
    "print(f\"合并后的基础表已保存为：{output_file}\")"
   ]
  },
  {
   "cell_type": "code",
   "execution_count": 10,
   "id": "81f75853",
   "metadata": {},
   "outputs": [
    {
     "data": {
      "text/html": [
       "<div>\n",
       "<style scoped>\n",
       "    .dataframe tbody tr th:only-of-type {\n",
       "        vertical-align: middle;\n",
       "    }\n",
       "\n",
       "    .dataframe tbody tr th {\n",
       "        vertical-align: top;\n",
       "    }\n",
       "\n",
       "    .dataframe thead th {\n",
       "        text-align: right;\n",
       "    }\n",
       "</style>\n",
       "<table border=\"1\" class=\"dataframe\">\n",
       "  <thead>\n",
       "    <tr style=\"text-align: right;\">\n",
       "      <th></th>\n",
       "      <th>rowid</th>\n",
       "      <th>name</th>\n",
       "      <th>cailu</th>\n",
       "      <th>provgb</th>\n",
       "      <th>citygb</th>\n",
       "      <th>cntygb</th>\n",
       "      <th>area</th>\n",
       "      <th>geocode</th>\n",
       "      <th>PROVGB_1953</th>\n",
       "      <th>CITYGB_1953</th>\n",
       "      <th>...</th>\n",
       "      <th>佛教_相似度</th>\n",
       "      <th>杀戮_相似度</th>\n",
       "      <th>信任_相似度</th>\n",
       "      <th>惩罚_相似度</th>\n",
       "      <th>长寿_相似度</th>\n",
       "      <th>慈善_相似度</th>\n",
       "      <th>儒家_相似度</th>\n",
       "      <th>诚实_相似度</th>\n",
       "      <th>平等_相似度</th>\n",
       "      <th>努力_相似度</th>\n",
       "    </tr>\n",
       "  </thead>\n",
       "  <tbody>\n",
       "    <tr>\n",
       "      <th>0</th>\n",
       "      <td>1</td>\n",
       "      <td>04946__322老汉的宝物</td>\n",
       "      <td>missing values</td>\n",
       "      <td>missing valuesd</td>\n",
       "      <td>missing valuesd</td>\n",
       "      <td>missing valuesd</td>\n",
       "      <td>宁夏撒拉族循化貝</td>\n",
       "      <td>{'lng': 116.413384, 'lat': 39.910925}</td>\n",
       "      <td>NaN</td>\n",
       "      <td>NaN</td>\n",
       "      <td>...</td>\n",
       "      <td>0.717883</td>\n",
       "      <td>0.631977</td>\n",
       "      <td>0.731195</td>\n",
       "      <td>0.691494</td>\n",
       "      <td>0.713617</td>\n",
       "      <td>0.699354</td>\n",
       "      <td>0.689755</td>\n",
       "      <td>0.652281</td>\n",
       "      <td>0.691983</td>\n",
       "      <td>0.773002</td>\n",
       "    </tr>\n",
       "    <tr>\n",
       "      <th>1</th>\n",
       "      <td>2</td>\n",
       "      <td>04743__121造过麦山的白土城</td>\n",
       "      <td>missing values</td>\n",
       "      <td>missing valuesd</td>\n",
       "      <td>missing valuesd</td>\n",
       "      <td>missing valuesd</td>\n",
       "      <td>宁夏土族民和县</td>\n",
       "      <td>{'lng': 102.83639, 'lat': 36.325561}</td>\n",
       "      <td>NaN</td>\n",
       "      <td>NaN</td>\n",
       "      <td>...</td>\n",
       "      <td>0.589558</td>\n",
       "      <td>0.769028</td>\n",
       "      <td>0.630614</td>\n",
       "      <td>0.643676</td>\n",
       "      <td>0.641812</td>\n",
       "      <td>0.702331</td>\n",
       "      <td>0.701671</td>\n",
       "      <td>0.629206</td>\n",
       "      <td>0.708508</td>\n",
       "      <td>0.704313</td>\n",
       "    </tr>\n",
       "    <tr>\n",
       "      <th>2</th>\n",
       "      <td>3</td>\n",
       "      <td>05119__496伊斯玛悔过</td>\n",
       "      <td>林昌林</td>\n",
       "      <td>missing valuesd</td>\n",
       "      <td>missing valuesd</td>\n",
       "      <td>missing valuesd</td>\n",
       "      <td>宁夏回族西宁市</td>\n",
       "      <td>{'lng': 101.78445, 'lat': 36.623385}</td>\n",
       "      <td>NaN</td>\n",
       "      <td>NaN</td>\n",
       "      <td>...</td>\n",
       "      <td>0.620851</td>\n",
       "      <td>0.578783</td>\n",
       "      <td>0.738193</td>\n",
       "      <td>0.659119</td>\n",
       "      <td>0.743266</td>\n",
       "      <td>0.757087</td>\n",
       "      <td>0.735706</td>\n",
       "      <td>0.673171</td>\n",
       "      <td>0.770947</td>\n",
       "      <td>0.765007</td>\n",
       "    </tr>\n",
       "    <tr>\n",
       "      <th>3</th>\n",
       "      <td>4</td>\n",
       "      <td>05049__425三姊妹</td>\n",
       "      <td>李友楼</td>\n",
       "      <td>missing valuesd</td>\n",
       "      <td>missing valuesd</td>\n",
       "      <td>missing valuesd</td>\n",
       "      <td>宁夏土族互助县</td>\n",
       "      <td>{'lng': 101.964569, 'lat': 36.850022}</td>\n",
       "      <td>NaN</td>\n",
       "      <td>NaN</td>\n",
       "      <td>...</td>\n",
       "      <td>0.623023</td>\n",
       "      <td>0.581853</td>\n",
       "      <td>0.689178</td>\n",
       "      <td>0.668782</td>\n",
       "      <td>0.664430</td>\n",
       "      <td>0.677478</td>\n",
       "      <td>0.658897</td>\n",
       "      <td>0.597253</td>\n",
       "      <td>0.733262</td>\n",
       "      <td>0.747147</td>\n",
       "    </tr>\n",
       "    <tr>\n",
       "      <th>4</th>\n",
       "      <td>5</td>\n",
       "      <td>04849__225老鼠的智慧</td>\n",
       "      <td>missing values</td>\n",
       "      <td>missing valuesd</td>\n",
       "      <td>missing valuesd</td>\n",
       "      <td>missing valuesd</td>\n",
       "      <td>宁夏藏抜同仁县</td>\n",
       "      <td>{'lng': 116.413384, 'lat': 39.910925}</td>\n",
       "      <td>NaN</td>\n",
       "      <td>NaN</td>\n",
       "      <td>...</td>\n",
       "      <td>0.688885</td>\n",
       "      <td>0.613048</td>\n",
       "      <td>0.686730</td>\n",
       "      <td>0.702645</td>\n",
       "      <td>0.656781</td>\n",
       "      <td>0.692279</td>\n",
       "      <td>0.661375</td>\n",
       "      <td>0.632269</td>\n",
       "      <td>0.699725</td>\n",
       "      <td>0.714526</td>\n",
       "    </tr>\n",
       "    <tr>\n",
       "      <th>...</th>\n",
       "      <td>...</td>\n",
       "      <td>...</td>\n",
       "      <td>...</td>\n",
       "      <td>...</td>\n",
       "      <td>...</td>\n",
       "      <td>...</td>\n",
       "      <td>...</td>\n",
       "      <td>...</td>\n",
       "      <td>...</td>\n",
       "      <td>...</td>\n",
       "      <td>...</td>\n",
       "      <td>...</td>\n",
       "      <td>...</td>\n",
       "      <td>...</td>\n",
       "      <td>...</td>\n",
       "      <td>...</td>\n",
       "      <td>...</td>\n",
       "      <td>...</td>\n",
       "      <td>...</td>\n",
       "      <td>...</td>\n",
       "      <td>...</td>\n",
       "    </tr>\n",
       "    <tr>\n",
       "      <th>17258</th>\n",
       "      <td>17259</td>\n",
       "      <td>17040_252牛虎兄弟和大灰狼.txt</td>\n",
       "      <td>r更映月女23岁汉族燃样大手毕止</td>\n",
       "      <td>missing values</td>\n",
       "      <td>missing values</td>\n",
       "      <td>missing values</td>\n",
       "      <td>吉林1989年旭做</td>\n",
       "      <td>missing values</td>\n",
       "      <td>NaN</td>\n",
       "      <td>NaN</td>\n",
       "      <td>...</td>\n",
       "      <td>NaN</td>\n",
       "      <td>NaN</td>\n",
       "      <td>NaN</td>\n",
       "      <td>NaN</td>\n",
       "      <td>NaN</td>\n",
       "      <td>NaN</td>\n",
       "      <td>NaN</td>\n",
       "      <td>NaN</td>\n",
       "      <td>NaN</td>\n",
       "      <td>NaN</td>\n",
       "    </tr>\n",
       "    <tr>\n",
       "      <th>17259</th>\n",
       "      <td>17260</td>\n",
       "      <td>16886_071李子.txt</td>\n",
       "      <td>NaN</td>\n",
       "      <td>missing values</td>\n",
       "      <td>missing values</td>\n",
       "      <td>missing values</td>\n",
       "      <td>吉林1989年如技</td>\n",
       "      <td>missing values</td>\n",
       "      <td>NaN</td>\n",
       "      <td>NaN</td>\n",
       "      <td>...</td>\n",
       "      <td>NaN</td>\n",
       "      <td>NaN</td>\n",
       "      <td>NaN</td>\n",
       "      <td>NaN</td>\n",
       "      <td>NaN</td>\n",
       "      <td>NaN</td>\n",
       "      <td>NaN</td>\n",
       "      <td>NaN</td>\n",
       "      <td>NaN</td>\n",
       "      <td>NaN</td>\n",
       "    </tr>\n",
       "    <tr>\n",
       "      <th>17260</th>\n",
       "      <td>17261</td>\n",
       "      <td>17073_291桃花仙子.txt</td>\n",
       "      <td>堡镇偏脸城甘农氏不识字 8杨彤歧男24罗汉族于部大专半业 采录时间 1952年5月（1988...</td>\n",
       "      <td>missing values</td>\n",
       "      <td>missing values</td>\n",
       "      <td>missing values</td>\n",
       "      <td>吉林1988年复犠</td>\n",
       "      <td>missing values</td>\n",
       "      <td>NaN</td>\n",
       "      <td>NaN</td>\n",
       "      <td>...</td>\n",
       "      <td>NaN</td>\n",
       "      <td>NaN</td>\n",
       "      <td>NaN</td>\n",
       "      <td>NaN</td>\n",
       "      <td>NaN</td>\n",
       "      <td>NaN</td>\n",
       "      <td>NaN</td>\n",
       "      <td>NaN</td>\n",
       "      <td>NaN</td>\n",
       "      <td>NaN</td>\n",
       "    </tr>\n",
       "    <tr>\n",
       "      <th>17261</th>\n",
       "      <td>17262</td>\n",
       "      <td>16901_091五台山.txt</td>\n",
       "      <td>于中源S 29罗汉袂救即大学毕业</td>\n",
       "      <td>missing values</td>\n",
       "      <td>missing values</td>\n",
       "      <td>missing values</td>\n",
       "      <td>吉林1987年JL植</td>\n",
       "      <td>missing values</td>\n",
       "      <td>NaN</td>\n",
       "      <td>NaN</td>\n",
       "      <td>...</td>\n",
       "      <td>NaN</td>\n",
       "      <td>NaN</td>\n",
       "      <td>NaN</td>\n",
       "      <td>NaN</td>\n",
       "      <td>NaN</td>\n",
       "      <td>NaN</td>\n",
       "      <td>NaN</td>\n",
       "      <td>NaN</td>\n",
       "      <td>NaN</td>\n",
       "      <td>NaN</td>\n",
       "    </tr>\n",
       "    <tr>\n",
       "      <th>17262</th>\n",
       "      <td>17263</td>\n",
       "      <td>16988_190狼毒活不过五六月.txt</td>\n",
       "      <td>傅施臣方49岁汉旗佬安县干部</td>\n",
       "      <td>missing values</td>\n",
       "      <td>missing values</td>\n",
       "      <td>missing values</td>\n",
       "      <td>吉林 1987年I.核</td>\n",
       "      <td>missing values</td>\n",
       "      <td>NaN</td>\n",
       "      <td>NaN</td>\n",
       "      <td>...</td>\n",
       "      <td>NaN</td>\n",
       "      <td>NaN</td>\n",
       "      <td>NaN</td>\n",
       "      <td>NaN</td>\n",
       "      <td>NaN</td>\n",
       "      <td>NaN</td>\n",
       "      <td>NaN</td>\n",
       "      <td>NaN</td>\n",
       "      <td>NaN</td>\n",
       "      <td>NaN</td>\n",
       "    </tr>\n",
       "  </tbody>\n",
       "</table>\n",
       "<p>17263 rows × 50 columns</p>\n",
       "</div>"
      ],
      "text/plain": [
       "       rowid                   name  \\\n",
       "0          1        04946__322老汉的宝物   \n",
       "1          2     04743__121造过麦山的白土城   \n",
       "2          3        05119__496伊斯玛悔过   \n",
       "3          4          05049__425三姊妹   \n",
       "4          5        04849__225老鼠的智慧   \n",
       "...      ...                    ...   \n",
       "17258  17259  17040_252牛虎兄弟和大灰狼.txt   \n",
       "17259  17260        16886_071李子.txt   \n",
       "17260  17261      17073_291桃花仙子.txt   \n",
       "17261  17262       16901_091五台山.txt   \n",
       "17262  17263  16988_190狼毒活不过五六月.txt   \n",
       "\n",
       "                                                   cailu           provgb  \\\n",
       "0                                         missing values  missing valuesd   \n",
       "1                                         missing values  missing valuesd   \n",
       "2                                                    林昌林  missing valuesd   \n",
       "3                                                    李友楼  missing valuesd   \n",
       "4                                         missing values  missing valuesd   \n",
       "...                                                  ...              ...   \n",
       "17258                                   r更映月女23岁汉族燃样大手毕止   missing values   \n",
       "17259                                                NaN   missing values   \n",
       "17260  堡镇偏脸城甘农氏不识字 8杨彤歧男24罗汉族于部大专半业 采录时间 1952年5月（1988...   missing values   \n",
       "17261                                   于中源S 29罗汉袂救即大学毕业   missing values   \n",
       "17262                                     傅施臣方49岁汉旗佬安县干部   missing values   \n",
       "\n",
       "                citygb           cntygb         area  \\\n",
       "0      missing valuesd  missing valuesd     宁夏撒拉族循化貝   \n",
       "1      missing valuesd  missing valuesd      宁夏土族民和县   \n",
       "2      missing valuesd  missing valuesd      宁夏回族西宁市   \n",
       "3      missing valuesd  missing valuesd      宁夏土族互助县   \n",
       "4      missing valuesd  missing valuesd      宁夏藏抜同仁县   \n",
       "...                ...              ...          ...   \n",
       "17258   missing values   missing values    吉林1989年旭做   \n",
       "17259   missing values   missing values    吉林1989年如技   \n",
       "17260   missing values   missing values    吉林1988年复犠   \n",
       "17261   missing values   missing values   吉林1987年JL植   \n",
       "17262   missing values   missing values  吉林 1987年I.核   \n",
       "\n",
       "                                     geocode  PROVGB_1953  CITYGB_1953  ...  \\\n",
       "0      {'lng': 116.413384, 'lat': 39.910925}          NaN          NaN  ...   \n",
       "1       {'lng': 102.83639, 'lat': 36.325561}          NaN          NaN  ...   \n",
       "2       {'lng': 101.78445, 'lat': 36.623385}          NaN          NaN  ...   \n",
       "3      {'lng': 101.964569, 'lat': 36.850022}          NaN          NaN  ...   \n",
       "4      {'lng': 116.413384, 'lat': 39.910925}          NaN          NaN  ...   \n",
       "...                                      ...          ...          ...  ...   \n",
       "17258                         missing values          NaN          NaN  ...   \n",
       "17259                         missing values          NaN          NaN  ...   \n",
       "17260                         missing values          NaN          NaN  ...   \n",
       "17261                         missing values          NaN          NaN  ...   \n",
       "17262                         missing values          NaN          NaN  ...   \n",
       "\n",
       "         佛教_相似度    杀戮_相似度    信任_相似度    惩罚_相似度    长寿_相似度    慈善_相似度    儒家_相似度  \\\n",
       "0      0.717883  0.631977  0.731195  0.691494  0.713617  0.699354  0.689755   \n",
       "1      0.589558  0.769028  0.630614  0.643676  0.641812  0.702331  0.701671   \n",
       "2      0.620851  0.578783  0.738193  0.659119  0.743266  0.757087  0.735706   \n",
       "3      0.623023  0.581853  0.689178  0.668782  0.664430  0.677478  0.658897   \n",
       "4      0.688885  0.613048  0.686730  0.702645  0.656781  0.692279  0.661375   \n",
       "...         ...       ...       ...       ...       ...       ...       ...   \n",
       "17258       NaN       NaN       NaN       NaN       NaN       NaN       NaN   \n",
       "17259       NaN       NaN       NaN       NaN       NaN       NaN       NaN   \n",
       "17260       NaN       NaN       NaN       NaN       NaN       NaN       NaN   \n",
       "17261       NaN       NaN       NaN       NaN       NaN       NaN       NaN   \n",
       "17262       NaN       NaN       NaN       NaN       NaN       NaN       NaN   \n",
       "\n",
       "         诚实_相似度    平等_相似度    努力_相似度  \n",
       "0      0.652281  0.691983  0.773002  \n",
       "1      0.629206  0.708508  0.704313  \n",
       "2      0.673171  0.770947  0.765007  \n",
       "3      0.597253  0.733262  0.747147  \n",
       "4      0.632269  0.699725  0.714526  \n",
       "...         ...       ...       ...  \n",
       "17258       NaN       NaN       NaN  \n",
       "17259       NaN       NaN       NaN  \n",
       "17260       NaN       NaN       NaN  \n",
       "17261       NaN       NaN       NaN  \n",
       "17262       NaN       NaN       NaN  \n",
       "\n",
       "[17263 rows x 50 columns]"
      ]
     },
     "execution_count": 10,
     "metadata": {},
     "output_type": "execute_result"
    }
   ],
   "source": [
    "# 找到所有重复列的基础列名\n",
    "cols_to_merge = [col[:-2] for col in merged_base.columns if col.endswith(('_x', '_y'))]\n",
    "cols_to_merge = set(cols_to_merge)\n",
    "\n",
    "# 合并列\n",
    "for col in cols_to_merge:\n",
    "    merged_base[col] = merged_base[[f\"{col}_x\", f\"{col}_y\"]].bfill(axis=1).iloc[:, 0]\n",
    "\n",
    "# 删除重复列\n",
    "merged_base = merged_base[[col for col in merged_base.columns if not col.endswith(('_x', '_y'))]]\n",
    "merged_base.to_csv(output_file, index=False, encoding='utf-8-sig')\n",
    "merged_base"
   ]
  },
  {
   "cell_type": "code",
   "execution_count": null,
   "id": "056402fc",
   "metadata": {},
   "outputs": [],
   "source": [
    "merged_base"
   ]
  }
 ],
 "metadata": {
  "kernelspec": {
   "display_name": "base",
   "language": "python",
   "name": "python3"
  },
  "language_info": {
   "codemirror_mode": {
    "name": "ipython",
    "version": 3
   },
   "file_extension": ".py",
   "mimetype": "text/x-python",
   "name": "python",
   "nbconvert_exporter": "python",
   "pygments_lexer": "ipython3",
   "version": "3.12.7"
  }
 },
 "nbformat": 4,
 "nbformat_minor": 5
}
