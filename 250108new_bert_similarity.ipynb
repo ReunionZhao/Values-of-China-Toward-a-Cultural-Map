{
 "cells": [
  {
   "cell_type": "code",
   "execution_count": null,
   "id": "04b1fdea",
   "metadata": {},
   "outputs": [],
   "source": [
    "import os\n",
    "import pandas as pd\n",
    "from sentence_transformers import SentenceTransformer\n",
    "import numpy as np\n",
    "from tqdm import tqdm\n",
    "from concurrent.futures import ThreadPoolExecutor"
   ]
  },
  {
   "cell_type": "code",
   "execution_count": 1,
   "id": "e4df3052",
   "metadata": {},
   "outputs": [
    {
     "name": "stderr",
     "output_type": "stream",
     "text": [
      "/Users/Anaconda/anaconda3/lib/python3.12/site-packages/sentence_transformers/cross_encoder/CrossEncoder.py:13: TqdmExperimentalWarning: Using `tqdm.autonotebook.tqdm` in notebook mode. Use `tqdm.tqdm` instead to force console mode (e.g. in jupyter console)\n",
      "  from tqdm.autonotebook import tqdm, trange\n",
      "2025-02-14 22:19:40.515782: I tensorflow/core/platform/cpu_feature_guard.cc:210] This TensorFlow binary is optimized to use available CPU instructions in performance-critical operations.\n",
      "To enable the following instructions: SSE4.1 SSE4.2, in other operations, rebuild TensorFlow with the appropriate compiler flags.\n"
     ]
    }
   ],
   "source": [
    "import os\n",
    "import pandas as pd\n",
    "import numpy as np\n",
    "import torch\n",
    "from sentence_transformers import SentenceTransformer\n",
    "from concurrent.futures import ProcessPoolExecutor, ThreadPoolExecutor\n",
    "from tqdm import tqdm\n",
    "\n",
    "# ✅ 使用 GPU（如果可用）\n",
    "device = \"cuda\" if torch.cuda.is_available() else \"cpu\"\n",
    "model = SentenceTransformer('DMetaSoul/sbert-chinese-general-v2', device=device)"
   ]
  },
  {
   "cell_type": "code",
   "execution_count": null,
   "id": "5264793a",
   "metadata": {},
   "outputs": [
    {
     "name": "stderr",
     "output_type": "stream",
     "text": [
      "Computing similarity: 100%|██████████| 1000/1000 [00:35<00:00, 28.52it/s]\n"
     ]
    },
    {
     "name": "stdout",
     "output_type": "stream",
     "text": [
      "Batch 2 for folder '祖先崇拜（Ancestor Worship）_Specific' saved to /Users/zhaorunping/Desktop/Research_Onging/2410_LSE_Xue/result/250202similarity_scores/祖先崇拜（Ancestor Worship）_Specific/250108祖先崇拜（Ancestor Worship）_Specific_batch_2_similarity_scores.csv\n"
     ]
    },
    {
     "name": "stderr",
     "output_type": "stream",
     "text": [
      "Reading files: 100%|██████████| 1000/1000 [00:00<00:00, 27643.57it/s]\n",
      "Computing similarity: 100%|██████████| 1000/1000 [00:34<00:00, 28.73it/s]\n"
     ]
    },
    {
     "name": "stdout",
     "output_type": "stream",
     "text": [
      "Batch 3 for folder '祖先崇拜（Ancestor Worship）_Specific' saved to /Users/zhaorunping/Desktop/Research_Onging/2410_LSE_Xue/result/250202similarity_scores/祖先崇拜（Ancestor Worship）_Specific/250108祖先崇拜（Ancestor Worship）_Specific_batch_3_similarity_scores.csv\n"
     ]
    },
    {
     "name": "stderr",
     "output_type": "stream",
     "text": [
      "Reading files: 100%|██████████| 46/46 [00:00<00:00, 333226.22it/s]\n",
      "Computing similarity: 100%|██████████| 46/46 [00:01<00:00, 28.09it/s]\n"
     ]
    },
    {
     "name": "stdout",
     "output_type": "stream",
     "text": [
      "Batch 4 for folder '祖先崇拜（Ancestor Worship）_Specific' saved to /Users/zhaorunping/Desktop/Research_Onging/2410_LSE_Xue/result/250202similarity_scores/祖先崇拜（Ancestor Worship）_Specific/250108祖先崇拜（Ancestor Worship）_Specific_batch_4_similarity_scores.csv\n"
     ]
    },
    {
     "name": "stderr",
     "output_type": "stream",
     "text": [
      "Reading files: 100%|██████████| 1000/1000 [00:00<00:00, 26616.98it/s]\n",
      "Computing similarity: 100%|██████████| 1000/1000 [00:34<00:00, 28.71it/s]\n"
     ]
    },
    {
     "name": "stdout",
     "output_type": "stream",
     "text": [
      "Batch 1 for folder '鬼神（Spirits and Deities）_Generic' saved to /Users/zhaorunping/Desktop/Research_Onging/2410_LSE_Xue/result/250202similarity_scores/鬼神（Spirits and Deities）_Generic/250108鬼神（Spirits and Deities）_Generic_batch_1_similarity_scores.csv\n"
     ]
    },
    {
     "name": "stderr",
     "output_type": "stream",
     "text": [
      "Reading files: 100%|██████████| 1000/1000 [00:00<00:00, 28263.69it/s]\n",
      "Computing similarity: 100%|██████████| 1000/1000 [00:34<00:00, 28.61it/s]\n"
     ]
    },
    {
     "name": "stdout",
     "output_type": "stream",
     "text": [
      "Batch 2 for folder '鬼神（Spirits and Deities）_Generic' saved to /Users/zhaorunping/Desktop/Research_Onging/2410_LSE_Xue/result/250202similarity_scores/鬼神（Spirits and Deities）_Generic/250108鬼神（Spirits and Deities）_Generic_batch_2_similarity_scores.csv\n"
     ]
    },
    {
     "name": "stderr",
     "output_type": "stream",
     "text": [
      "Reading files: 100%|██████████| 1000/1000 [00:00<00:00, 15411.23it/s]\n",
      "Computing similarity: 100%|██████████| 1000/1000 [00:34<00:00, 28.64it/s]\n"
     ]
    },
    {
     "name": "stdout",
     "output_type": "stream",
     "text": [
      "Batch 3 for folder '鬼神（Spirits and Deities）_Generic' saved to /Users/zhaorunping/Desktop/Research_Onging/2410_LSE_Xue/result/250202similarity_scores/鬼神（Spirits and Deities）_Generic/250108鬼神（Spirits and Deities）_Generic_batch_3_similarity_scores.csv\n"
     ]
    },
    {
     "name": "stderr",
     "output_type": "stream",
     "text": [
      "Reading files: 100%|██████████| 46/46 [00:00<00:00, 350796.33it/s]\n",
      "Computing similarity: 100%|██████████| 46/46 [00:01<00:00, 26.64it/s]\n"
     ]
    },
    {
     "name": "stdout",
     "output_type": "stream",
     "text": [
      "Batch 4 for folder '鬼神（Spirits and Deities）_Generic' saved to /Users/zhaorunping/Desktop/Research_Onging/2410_LSE_Xue/result/250202similarity_scores/鬼神（Spirits and Deities）_Generic/250108鬼神（Spirits and Deities）_Generic_batch_4_similarity_scores.csv\n"
     ]
    },
    {
     "name": "stderr",
     "output_type": "stream",
     "text": [
      "Reading files: 100%|██████████| 1000/1000 [00:00<00:00, 22202.42it/s]\n",
      "Computing similarity: 100%|██████████| 1000/1000 [00:35<00:00, 28.52it/s]\n"
     ]
    },
    {
     "name": "stdout",
     "output_type": "stream",
     "text": [
      "Batch 1 for folder '鬼神（Spirits and Deities）_Specific' saved to /Users/zhaorunping/Desktop/Research_Onging/2410_LSE_Xue/result/250202similarity_scores/鬼神（Spirits and Deities）_Specific/250108鬼神（Spirits and Deities）_Specific_batch_1_similarity_scores.csv\n"
     ]
    },
    {
     "name": "stderr",
     "output_type": "stream",
     "text": [
      "Reading files: 100%|██████████| 1000/1000 [00:00<00:00, 23543.14it/s]\n",
      "Computing similarity: 100%|██████████| 1000/1000 [00:35<00:00, 28.50it/s]\n"
     ]
    },
    {
     "name": "stdout",
     "output_type": "stream",
     "text": [
      "Batch 2 for folder '鬼神（Spirits and Deities）_Specific' saved to /Users/zhaorunping/Desktop/Research_Onging/2410_LSE_Xue/result/250202similarity_scores/鬼神（Spirits and Deities）_Specific/250108鬼神（Spirits and Deities）_Specific_batch_2_similarity_scores.csv\n"
     ]
    },
    {
     "name": "stderr",
     "output_type": "stream",
     "text": [
      "Reading files: 100%|██████████| 1000/1000 [00:00<00:00, 22702.47it/s]\n",
      "Computing similarity: 100%|██████████| 1000/1000 [00:34<00:00, 28.80it/s]\n"
     ]
    },
    {
     "name": "stdout",
     "output_type": "stream",
     "text": [
      "Batch 3 for folder '鬼神（Spirits and Deities）_Specific' saved to /Users/zhaorunping/Desktop/Research_Onging/2410_LSE_Xue/result/250202similarity_scores/鬼神（Spirits and Deities）_Specific/250108鬼神（Spirits and Deities）_Specific_batch_3_similarity_scores.csv\n"
     ]
    },
    {
     "name": "stderr",
     "output_type": "stream",
     "text": [
      "Reading files: 100%|██████████| 46/46 [00:00<00:00, 346387.76it/s]\n",
      "Computing similarity: 100%|██████████| 46/46 [00:01<00:00, 27.40it/s]\n"
     ]
    },
    {
     "name": "stdout",
     "output_type": "stream",
     "text": [
      "Batch 4 for folder '鬼神（Spirits and Deities）_Specific' saved to /Users/zhaorunping/Desktop/Research_Onging/2410_LSE_Xue/result/250202similarity_scores/鬼神（Spirits and Deities）_Specific/250108鬼神（Spirits and Deities）_Specific_batch_4_similarity_scores.csv\n"
     ]
    },
    {
     "name": "stderr",
     "output_type": "stream",
     "text": [
      "Reading files: 100%|██████████| 1000/1000 [00:00<00:00, 22376.90it/s]\n",
      "Computing similarity: 100%|██████████| 1000/1000 [00:34<00:00, 28.86it/s]\n"
     ]
    },
    {
     "name": "stdout",
     "output_type": "stream",
     "text": [
      "Batch 1 for folder '回顾性视角（Backward-Looking Perspective）_Generic' saved to /Users/zhaorunping/Desktop/Research_Onging/2410_LSE_Xue/result/250202similarity_scores/回顾性视角（Backward-Looking Perspective）_Generic/250108回顾性视角（Backward-Looking Perspective）_Generic_batch_1_similarity_scores.csv\n"
     ]
    },
    {
     "name": "stderr",
     "output_type": "stream",
     "text": [
      "Reading files: 100%|██████████| 1000/1000 [00:00<00:00, 21607.09it/s]\n",
      "Computing similarity: 100%|██████████| 1000/1000 [00:34<00:00, 28.84it/s]\n"
     ]
    },
    {
     "name": "stdout",
     "output_type": "stream",
     "text": [
      "Batch 2 for folder '回顾性视角（Backward-Looking Perspective）_Generic' saved to /Users/zhaorunping/Desktop/Research_Onging/2410_LSE_Xue/result/250202similarity_scores/回顾性视角（Backward-Looking Perspective）_Generic/250108回顾性视角（Backward-Looking Perspective）_Generic_batch_2_similarity_scores.csv\n"
     ]
    },
    {
     "name": "stderr",
     "output_type": "stream",
     "text": [
      "Reading files: 100%|██████████| 1000/1000 [00:00<00:00, 21726.29it/s]\n",
      "Computing similarity: 100%|██████████| 1000/1000 [00:34<00:00, 28.78it/s]\n"
     ]
    },
    {
     "name": "stdout",
     "output_type": "stream",
     "text": [
      "Batch 3 for folder '回顾性视角（Backward-Looking Perspective）_Generic' saved to /Users/zhaorunping/Desktop/Research_Onging/2410_LSE_Xue/result/250202similarity_scores/回顾性视角（Backward-Looking Perspective）_Generic/250108回顾性视角（Backward-Looking Perspective）_Generic_batch_3_similarity_scores.csv\n"
     ]
    },
    {
     "name": "stderr",
     "output_type": "stream",
     "text": [
      "Reading files: 100%|██████████| 46/46 [00:00<00:00, 410506.35it/s]\n",
      "Computing similarity: 100%|██████████| 46/46 [00:01<00:00, 28.01it/s]\n"
     ]
    },
    {
     "name": "stdout",
     "output_type": "stream",
     "text": [
      "Batch 4 for folder '回顾性视角（Backward-Looking Perspective）_Generic' saved to /Users/zhaorunping/Desktop/Research_Onging/2410_LSE_Xue/result/250202similarity_scores/回顾性视角（Backward-Looking Perspective）_Generic/250108回顾性视角（Backward-Looking Perspective）_Generic_batch_4_similarity_scores.csv\n"
     ]
    },
    {
     "name": "stderr",
     "output_type": "stream",
     "text": [
      "Reading files: 100%|██████████| 1000/1000 [00:00<00:00, 21537.31it/s]\n",
      "Computing similarity: 100%|██████████| 1000/1000 [00:34<00:00, 28.64it/s]\n"
     ]
    },
    {
     "name": "stdout",
     "output_type": "stream",
     "text": [
      "Batch 1 for folder '回顾性视角（Backward-Looking Perspective）_Specific' saved to /Users/zhaorunping/Desktop/Research_Onging/2410_LSE_Xue/result/250202similarity_scores/回顾性视角（Backward-Looking Perspective）_Specific/250108回顾性视角（Backward-Looking Perspective）_Specific_batch_1_similarity_scores.csv\n"
     ]
    },
    {
     "name": "stderr",
     "output_type": "stream",
     "text": [
      "Reading files: 100%|██████████| 1000/1000 [00:00<00:00, 24799.58it/s]\n",
      "Computing similarity: 100%|██████████| 1000/1000 [00:34<00:00, 28.67it/s]\n"
     ]
    },
    {
     "name": "stdout",
     "output_type": "stream",
     "text": [
      "Batch 2 for folder '回顾性视角（Backward-Looking Perspective）_Specific' saved to /Users/zhaorunping/Desktop/Research_Onging/2410_LSE_Xue/result/250202similarity_scores/回顾性视角（Backward-Looking Perspective）_Specific/250108回顾性视角（Backward-Looking Perspective）_Specific_batch_2_similarity_scores.csv\n"
     ]
    },
    {
     "name": "stderr",
     "output_type": "stream",
     "text": [
      "Reading files: 100%|██████████| 1000/1000 [00:00<00:00, 27654.14it/s]\n",
      "Computing similarity: 100%|██████████| 1000/1000 [00:34<00:00, 28.66it/s]\n"
     ]
    },
    {
     "name": "stdout",
     "output_type": "stream",
     "text": [
      "Batch 3 for folder '回顾性视角（Backward-Looking Perspective）_Specific' saved to /Users/zhaorunping/Desktop/Research_Onging/2410_LSE_Xue/result/250202similarity_scores/回顾性视角（Backward-Looking Perspective）_Specific/250108回顾性视角（Backward-Looking Perspective）_Specific_batch_3_similarity_scores.csv\n"
     ]
    },
    {
     "name": "stderr",
     "output_type": "stream",
     "text": [
      "Reading files: 100%|██████████| 46/46 [00:00<00:00, 340879.83it/s]\n",
      "Computing similarity: 100%|██████████| 46/46 [00:01<00:00, 27.00it/s]\n"
     ]
    },
    {
     "name": "stdout",
     "output_type": "stream",
     "text": [
      "Batch 4 for folder '回顾性视角（Backward-Looking Perspective）_Specific' saved to /Users/zhaorunping/Desktop/Research_Onging/2410_LSE_Xue/result/250202similarity_scores/回顾性视角（Backward-Looking Perspective）_Specific/250108回顾性视角（Backward-Looking Perspective）_Specific_batch_4_similarity_scores.csv\n"
     ]
    },
    {
     "name": "stderr",
     "output_type": "stream",
     "text": [
      "Reading files: 100%|██████████| 1000/1000 [00:00<00:00, 17504.86it/s]\n",
      "Computing similarity: 100%|██████████| 1000/1000 [00:34<00:00, 29.04it/s]\n"
     ]
    },
    {
     "name": "stdout",
     "output_type": "stream",
     "text": [
      "Batch 1 for folder '儒家（Confucianism）_Generic' saved to /Users/zhaorunping/Desktop/Research_Onging/2410_LSE_Xue/result/250202similarity_scores/儒家（Confucianism）_Generic/250108儒家（Confucianism）_Generic_batch_1_similarity_scores.csv\n"
     ]
    },
    {
     "name": "stderr",
     "output_type": "stream",
     "text": [
      "Reading files: 100%|██████████| 1000/1000 [00:00<00:00, 16757.51it/s]\n",
      "Computing similarity: 100%|██████████| 1000/1000 [00:34<00:00, 28.84it/s]\n"
     ]
    },
    {
     "name": "stdout",
     "output_type": "stream",
     "text": [
      "Batch 2 for folder '儒家（Confucianism）_Generic' saved to /Users/zhaorunping/Desktop/Research_Onging/2410_LSE_Xue/result/250202similarity_scores/儒家（Confucianism）_Generic/250108儒家（Confucianism）_Generic_batch_2_similarity_scores.csv\n"
     ]
    },
    {
     "name": "stderr",
     "output_type": "stream",
     "text": [
      "Reading files: 100%|██████████| 1000/1000 [00:00<00:00, 22600.33it/s]\n",
      "Computing similarity: 100%|██████████| 1000/1000 [00:34<00:00, 28.94it/s]\n"
     ]
    },
    {
     "name": "stdout",
     "output_type": "stream",
     "text": [
      "Batch 3 for folder '儒家（Confucianism）_Generic' saved to /Users/zhaorunping/Desktop/Research_Onging/2410_LSE_Xue/result/250202similarity_scores/儒家（Confucianism）_Generic/250108儒家（Confucianism）_Generic_batch_3_similarity_scores.csv\n"
     ]
    },
    {
     "name": "stderr",
     "output_type": "stream",
     "text": [
      "Reading files: 100%|██████████| 46/46 [00:00<00:00, 318905.76it/s]\n",
      "Computing similarity: 100%|██████████| 46/46 [00:01<00:00, 27.56it/s]\n"
     ]
    },
    {
     "name": "stdout",
     "output_type": "stream",
     "text": [
      "Batch 4 for folder '儒家（Confucianism）_Generic' saved to /Users/zhaorunping/Desktop/Research_Onging/2410_LSE_Xue/result/250202similarity_scores/儒家（Confucianism）_Generic/250108儒家（Confucianism）_Generic_batch_4_similarity_scores.csv\n"
     ]
    },
    {
     "name": "stderr",
     "output_type": "stream",
     "text": [
      "Reading files: 100%|██████████| 1000/1000 [00:00<00:00, 23888.01it/s]\n",
      "Computing similarity: 100%|██████████| 1000/1000 [00:34<00:00, 28.86it/s]\n"
     ]
    },
    {
     "name": "stdout",
     "output_type": "stream",
     "text": [
      "Batch 1 for folder '儒家（Confucianism）_Specific' saved to /Users/zhaorunping/Desktop/Research_Onging/2410_LSE_Xue/result/250202similarity_scores/儒家（Confucianism）_Specific/250108儒家（Confucianism）_Specific_batch_1_similarity_scores.csv\n"
     ]
    },
    {
     "name": "stderr",
     "output_type": "stream",
     "text": [
      "Reading files: 100%|██████████| 1000/1000 [00:00<00:00, 23705.61it/s]\n",
      "Computing similarity: 100%|██████████| 1000/1000 [00:34<00:00, 28.88it/s]\n"
     ]
    },
    {
     "name": "stdout",
     "output_type": "stream",
     "text": [
      "Batch 2 for folder '儒家（Confucianism）_Specific' saved to /Users/zhaorunping/Desktop/Research_Onging/2410_LSE_Xue/result/250202similarity_scores/儒家（Confucianism）_Specific/250108儒家（Confucianism）_Specific_batch_2_similarity_scores.csv\n"
     ]
    },
    {
     "name": "stderr",
     "output_type": "stream",
     "text": [
      "Reading files: 100%|██████████| 1000/1000 [00:00<00:00, 22388.85it/s]\n",
      "Computing similarity: 100%|██████████| 1000/1000 [00:34<00:00, 28.84it/s]\n"
     ]
    },
    {
     "name": "stdout",
     "output_type": "stream",
     "text": [
      "Batch 3 for folder '儒家（Confucianism）_Specific' saved to /Users/zhaorunping/Desktop/Research_Onging/2410_LSE_Xue/result/250202similarity_scores/儒家（Confucianism）_Specific/250108儒家（Confucianism）_Specific_batch_3_similarity_scores.csv\n"
     ]
    },
    {
     "name": "stderr",
     "output_type": "stream",
     "text": [
      "Reading files: 100%|██████████| 46/46 [00:00<00:00, 389773.71it/s]\n",
      "Computing similarity: 100%|██████████| 46/46 [00:01<00:00, 27.80it/s]\n"
     ]
    },
    {
     "name": "stdout",
     "output_type": "stream",
     "text": [
      "Batch 4 for folder '儒家（Confucianism）_Specific' saved to /Users/zhaorunping/Desktop/Research_Onging/2410_LSE_Xue/result/250202similarity_scores/儒家（Confucianism）_Specific/250108儒家（Confucianism）_Specific_batch_4_similarity_scores.csv\n"
     ]
    },
    {
     "name": "stderr",
     "output_type": "stream",
     "text": [
      "Reading files: 100%|██████████| 1000/1000 [00:00<00:00, 22549.05it/s]\n",
      "Computing similarity: 100%|██████████| 1000/1000 [00:34<00:00, 28.89it/s]\n"
     ]
    },
    {
     "name": "stdout",
     "output_type": "stream",
     "text": [
      "Batch 1 for folder '儒家中的忠诚（Loyalty in Confucianism）_Generic' saved to /Users/zhaorunping/Desktop/Research_Onging/2410_LSE_Xue/result/250202similarity_scores/儒家中的忠诚（Loyalty in Confucianism）_Generic/250108儒家中的忠诚（Loyalty in Confucianism）_Generic_batch_1_similarity_scores.csv\n"
     ]
    },
    {
     "name": "stderr",
     "output_type": "stream",
     "text": [
      "Reading files: 100%|██████████| 1000/1000 [00:00<00:00, 22498.73it/s]\n",
      "Computing similarity: 100%|██████████| 1000/1000 [00:34<00:00, 28.94it/s]\n"
     ]
    },
    {
     "name": "stdout",
     "output_type": "stream",
     "text": [
      "Batch 2 for folder '儒家中的忠诚（Loyalty in Confucianism）_Generic' saved to /Users/zhaorunping/Desktop/Research_Onging/2410_LSE_Xue/result/250202similarity_scores/儒家中的忠诚（Loyalty in Confucianism）_Generic/250108儒家中的忠诚（Loyalty in Confucianism）_Generic_batch_2_similarity_scores.csv\n"
     ]
    },
    {
     "name": "stderr",
     "output_type": "stream",
     "text": [
      "Reading files: 100%|██████████| 1000/1000 [00:00<00:00, 22015.73it/s]\n",
      "Computing similarity: 100%|██████████| 1000/1000 [00:35<00:00, 28.55it/s]\n"
     ]
    },
    {
     "name": "stdout",
     "output_type": "stream",
     "text": [
      "Batch 3 for folder '儒家中的忠诚（Loyalty in Confucianism）_Generic' saved to /Users/zhaorunping/Desktop/Research_Onging/2410_LSE_Xue/result/250202similarity_scores/儒家中的忠诚（Loyalty in Confucianism）_Generic/250108儒家中的忠诚（Loyalty in Confucianism）_Generic_batch_3_similarity_scores.csv\n"
     ]
    },
    {
     "name": "stderr",
     "output_type": "stream",
     "text": [
      "Reading files: 100%|██████████| 46/46 [00:00<00:00, 280026.10it/s]\n",
      "Computing similarity: 100%|██████████| 46/46 [00:01<00:00, 28.18it/s]\n"
     ]
    },
    {
     "name": "stdout",
     "output_type": "stream",
     "text": [
      "Batch 4 for folder '儒家中的忠诚（Loyalty in Confucianism）_Generic' saved to /Users/zhaorunping/Desktop/Research_Onging/2410_LSE_Xue/result/250202similarity_scores/儒家中的忠诚（Loyalty in Confucianism）_Generic/250108儒家中的忠诚（Loyalty in Confucianism）_Generic_batch_4_similarity_scores.csv\n"
     ]
    },
    {
     "name": "stderr",
     "output_type": "stream",
     "text": [
      "Reading files: 100%|██████████| 1000/1000 [00:00<00:00, 21694.38it/s]\n",
      "Computing similarity: 100%|██████████| 1000/1000 [00:34<00:00, 28.76it/s]\n"
     ]
    },
    {
     "name": "stdout",
     "output_type": "stream",
     "text": [
      "Batch 1 for folder '儒家中的仁义（Benevolence and Justice in Confucianism）_Generic' saved to /Users/zhaorunping/Desktop/Research_Onging/2410_LSE_Xue/result/250202similarity_scores/儒家中的仁义（Benevolence and Justice in Confucianism）_Generic/250108儒家中的仁义（Benevolence and Justice in Confucianism）_Generic_batch_1_similarity_scores.csv\n"
     ]
    },
    {
     "name": "stderr",
     "output_type": "stream",
     "text": [
      "Reading files: 100%|██████████| 1000/1000 [00:00<00:00, 23911.43it/s]\n",
      "Computing similarity: 100%|██████████| 1000/1000 [00:34<00:00, 28.62it/s]\n"
     ]
    },
    {
     "name": "stdout",
     "output_type": "stream",
     "text": [
      "Batch 2 for folder '儒家中的仁义（Benevolence and Justice in Confucianism）_Generic' saved to /Users/zhaorunping/Desktop/Research_Onging/2410_LSE_Xue/result/250202similarity_scores/儒家中的仁义（Benevolence and Justice in Confucianism）_Generic/250108儒家中的仁义（Benevolence and Justice in Confucianism）_Generic_batch_2_similarity_scores.csv\n"
     ]
    },
    {
     "name": "stderr",
     "output_type": "stream",
     "text": [
      "Reading files: 100%|██████████| 1000/1000 [00:00<00:00, 23195.89it/s]\n",
      "Computing similarity: 100%|██████████| 1000/1000 [00:35<00:00, 28.03it/s]\n"
     ]
    },
    {
     "name": "stdout",
     "output_type": "stream",
     "text": [
      "Batch 3 for folder '儒家中的仁义（Benevolence and Justice in Confucianism）_Generic' saved to /Users/zhaorunping/Desktop/Research_Onging/2410_LSE_Xue/result/250202similarity_scores/儒家中的仁义（Benevolence and Justice in Confucianism）_Generic/250108儒家中的仁义（Benevolence and Justice in Confucianism）_Generic_batch_3_similarity_scores.csv\n"
     ]
    },
    {
     "name": "stderr",
     "output_type": "stream",
     "text": [
      "Reading files: 100%|██████████| 46/46 [00:00<00:00, 299128.66it/s]\n",
      "Computing similarity: 100%|██████████| 46/46 [00:01<00:00, 27.89it/s]\n"
     ]
    },
    {
     "name": "stdout",
     "output_type": "stream",
     "text": [
      "Batch 4 for folder '儒家中的仁义（Benevolence and Justice in Confucianism）_Generic' saved to /Users/zhaorunping/Desktop/Research_Onging/2410_LSE_Xue/result/250202similarity_scores/儒家中的仁义（Benevolence and Justice in Confucianism）_Generic/250108儒家中的仁义（Benevolence and Justice in Confucianism）_Generic_batch_4_similarity_scores.csv\n"
     ]
    },
    {
     "name": "stderr",
     "output_type": "stream",
     "text": [
      "Reading files: 100%|██████████| 1000/1000 [00:00<00:00, 22507.31it/s]\n",
      "Computing similarity: 100%|██████████| 1000/1000 [00:34<00:00, 28.86it/s]\n"
     ]
    },
    {
     "name": "stdout",
     "output_type": "stream",
     "text": [
      "Batch 1 for folder '儒家中的孝道（Filial Piety in Confucianism）_Generic' saved to /Users/zhaorunping/Desktop/Research_Onging/2410_LSE_Xue/result/250202similarity_scores/儒家中的孝道（Filial Piety in Confucianism）_Generic/250108儒家中的孝道（Filial Piety in Confucianism）_Generic_batch_1_similarity_scores.csv\n"
     ]
    },
    {
     "name": "stderr",
     "output_type": "stream",
     "text": [
      "Reading files: 100%|██████████| 1000/1000 [00:00<00:00, 20891.19it/s]\n",
      "Computing similarity: 100%|██████████| 1000/1000 [00:34<00:00, 28.83it/s]\n"
     ]
    },
    {
     "name": "stdout",
     "output_type": "stream",
     "text": [
      "Batch 2 for folder '儒家中的孝道（Filial Piety in Confucianism）_Generic' saved to /Users/zhaorunping/Desktop/Research_Onging/2410_LSE_Xue/result/250202similarity_scores/儒家中的孝道（Filial Piety in Confucianism）_Generic/250108儒家中的孝道（Filial Piety in Confucianism）_Generic_batch_2_similarity_scores.csv\n"
     ]
    },
    {
     "name": "stderr",
     "output_type": "stream",
     "text": [
      "Reading files: 100%|██████████| 1000/1000 [00:00<00:00, 22498.73it/s]\n",
      "Computing similarity: 100%|██████████| 1000/1000 [00:35<00:00, 28.21it/s]\n"
     ]
    },
    {
     "name": "stdout",
     "output_type": "stream",
     "text": [
      "Batch 3 for folder '儒家中的孝道（Filial Piety in Confucianism）_Generic' saved to /Users/zhaorunping/Desktop/Research_Onging/2410_LSE_Xue/result/250202similarity_scores/儒家中的孝道（Filial Piety in Confucianism）_Generic/250108儒家中的孝道（Filial Piety in Confucianism）_Generic_batch_3_similarity_scores.csv\n"
     ]
    },
    {
     "name": "stderr",
     "output_type": "stream",
     "text": [
      "Reading files: 100%|██████████| 46/46 [00:00<00:00, 308700.77it/s]\n",
      "Computing similarity: 100%|██████████| 46/46 [00:01<00:00, 28.30it/s]\n"
     ]
    },
    {
     "name": "stdout",
     "output_type": "stream",
     "text": [
      "Batch 4 for folder '儒家中的孝道（Filial Piety in Confucianism）_Generic' saved to /Users/zhaorunping/Desktop/Research_Onging/2410_LSE_Xue/result/250202similarity_scores/儒家中的孝道（Filial Piety in Confucianism）_Generic/250108儒家中的孝道（Filial Piety in Confucianism）_Generic_batch_4_similarity_scores.csv\n"
     ]
    },
    {
     "name": "stderr",
     "output_type": "stream",
     "text": [
      "Reading files: 100%|██████████| 1000/1000 [00:00<00:00, 22501.15it/s]\n",
      "Computing similarity: 100%|██████████| 1000/1000 [00:34<00:00, 29.03it/s]\n"
     ]
    },
    {
     "name": "stdout",
     "output_type": "stream",
     "text": [
      "Batch 1 for folder '佛教（Buddhism）_Generic' saved to /Users/zhaorunping/Desktop/Research_Onging/2410_LSE_Xue/result/250202similarity_scores/佛教（Buddhism）_Generic/250108佛教（Buddhism）_Generic_batch_1_similarity_scores.csv\n"
     ]
    },
    {
     "name": "stderr",
     "output_type": "stream",
     "text": [
      "Reading files: 100%|██████████| 1000/1000 [00:00<00:00, 22190.09it/s]\n",
      "Computing similarity: 100%|██████████| 1000/1000 [00:34<00:00, 28.74it/s]\n"
     ]
    },
    {
     "name": "stdout",
     "output_type": "stream",
     "text": [
      "Batch 2 for folder '佛教（Buddhism）_Generic' saved to /Users/zhaorunping/Desktop/Research_Onging/2410_LSE_Xue/result/250202similarity_scores/佛教（Buddhism）_Generic/250108佛教（Buddhism）_Generic_batch_2_similarity_scores.csv\n"
     ]
    },
    {
     "name": "stderr",
     "output_type": "stream",
     "text": [
      "Reading files: 100%|██████████| 1000/1000 [00:00<00:00, 24061.08it/s]\n",
      "Computing similarity: 100%|██████████| 1000/1000 [00:34<00:00, 28.69it/s]\n"
     ]
    },
    {
     "name": "stdout",
     "output_type": "stream",
     "text": [
      "Batch 3 for folder '佛教（Buddhism）_Generic' saved to /Users/zhaorunping/Desktop/Research_Onging/2410_LSE_Xue/result/250202similarity_scores/佛教（Buddhism）_Generic/250108佛教（Buddhism）_Generic_batch_3_similarity_scores.csv\n"
     ]
    },
    {
     "name": "stderr",
     "output_type": "stream",
     "text": [
      "Reading files: 100%|██████████| 46/46 [00:00<00:00, 316811.14it/s]\n",
      "Computing similarity: 100%|██████████| 46/46 [00:01<00:00, 28.34it/s]\n"
     ]
    },
    {
     "name": "stdout",
     "output_type": "stream",
     "text": [
      "Batch 4 for folder '佛教（Buddhism）_Generic' saved to /Users/zhaorunping/Desktop/Research_Onging/2410_LSE_Xue/result/250202similarity_scores/佛教（Buddhism）_Generic/250108佛教（Buddhism）_Generic_batch_4_similarity_scores.csv\n"
     ]
    },
    {
     "name": "stderr",
     "output_type": "stream",
     "text": [
      "Reading files: 100%|██████████| 1000/1000 [00:00<00:00, 17944.70it/s]\n",
      "Computing similarity: 100%|██████████| 1000/1000 [00:34<00:00, 28.76it/s]\n"
     ]
    },
    {
     "name": "stdout",
     "output_type": "stream",
     "text": [
      "Batch 1 for folder '佛教（Buddhism）_Specific' saved to /Users/zhaorunping/Desktop/Research_Onging/2410_LSE_Xue/result/250202similarity_scores/佛教（Buddhism）_Specific/250108佛教（Buddhism）_Specific_batch_1_similarity_scores.csv\n"
     ]
    },
    {
     "name": "stderr",
     "output_type": "stream",
     "text": [
      "Reading files: 100%|██████████| 1000/1000 [00:00<00:00, 25008.07it/s]\n",
      "Computing similarity: 100%|██████████| 1000/1000 [00:34<00:00, 28.63it/s]\n"
     ]
    },
    {
     "name": "stdout",
     "output_type": "stream",
     "text": [
      "Batch 2 for folder '佛教（Buddhism）_Specific' saved to /Users/zhaorunping/Desktop/Research_Onging/2410_LSE_Xue/result/250202similarity_scores/佛教（Buddhism）_Specific/250108佛教（Buddhism）_Specific_batch_2_similarity_scores.csv\n"
     ]
    },
    {
     "name": "stderr",
     "output_type": "stream",
     "text": [
      "Reading files: 100%|██████████| 1000/1000 [00:00<00:00, 21241.39it/s]\n",
      "Computing similarity: 100%|██████████| 1000/1000 [00:34<00:00, 28.58it/s]\n"
     ]
    },
    {
     "name": "stdout",
     "output_type": "stream",
     "text": [
      "Batch 3 for folder '佛教（Buddhism）_Specific' saved to /Users/zhaorunping/Desktop/Research_Onging/2410_LSE_Xue/result/250202similarity_scores/佛教（Buddhism）_Specific/250108佛教（Buddhism）_Specific_batch_3_similarity_scores.csv\n"
     ]
    },
    {
     "name": "stderr",
     "output_type": "stream",
     "text": [
      "Reading files: 100%|██████████| 46/46 [00:00<00:00, 74064.49it/s]\n",
      "Computing similarity: 100%|██████████| 46/46 [00:01<00:00, 27.56it/s]\n"
     ]
    },
    {
     "name": "stdout",
     "output_type": "stream",
     "text": [
      "Batch 4 for folder '佛教（Buddhism）_Specific' saved to /Users/zhaorunping/Desktop/Research_Onging/2410_LSE_Xue/result/250202similarity_scores/佛教（Buddhism）_Specific/250108佛教（Buddhism）_Specific_batch_4_similarity_scores.csv\n"
     ]
    },
    {
     "name": "stderr",
     "output_type": "stream",
     "text": [
      "Reading files: 100%|██████████| 1000/1000 [00:00<00:00, 27179.79it/s]\n",
      "Computing similarity: 100%|██████████| 1000/1000 [00:34<00:00, 28.83it/s]\n"
     ]
    },
    {
     "name": "stdout",
     "output_type": "stream",
     "text": [
      "Batch 1 for folder '道教（Taoism）_Generic' saved to /Users/zhaorunping/Desktop/Research_Onging/2410_LSE_Xue/result/250202similarity_scores/道教（Taoism）_Generic/250108道教（Taoism）_Generic_batch_1_similarity_scores.csv\n"
     ]
    },
    {
     "name": "stderr",
     "output_type": "stream",
     "text": [
      "Reading files: 100%|██████████| 1000/1000 [00:00<00:00, 23826.13it/s]\n",
      "Computing similarity: 100%|██████████| 1000/1000 [00:34<00:00, 28.71it/s]\n"
     ]
    },
    {
     "name": "stdout",
     "output_type": "stream",
     "text": [
      "Batch 2 for folder '道教（Taoism）_Generic' saved to /Users/zhaorunping/Desktop/Research_Onging/2410_LSE_Xue/result/250202similarity_scores/道教（Taoism）_Generic/250108道教（Taoism）_Generic_batch_2_similarity_scores.csv\n"
     ]
    },
    {
     "name": "stderr",
     "output_type": "stream",
     "text": [
      "Reading files: 100%|██████████| 1000/1000 [00:00<00:00, 27288.19it/s]\n",
      "Computing similarity: 100%|██████████| 1000/1000 [00:34<00:00, 28.64it/s]\n"
     ]
    },
    {
     "name": "stdout",
     "output_type": "stream",
     "text": [
      "Batch 3 for folder '道教（Taoism）_Generic' saved to /Users/zhaorunping/Desktop/Research_Onging/2410_LSE_Xue/result/250202similarity_scores/道教（Taoism）_Generic/250108道教（Taoism）_Generic_batch_3_similarity_scores.csv\n"
     ]
    },
    {
     "name": "stderr",
     "output_type": "stream",
     "text": [
      "Reading files: 100%|██████████| 46/46 [00:00<00:00, 29429.22it/s]\n",
      "Computing similarity: 100%|██████████| 46/46 [00:01<00:00, 28.01it/s]\n"
     ]
    },
    {
     "name": "stdout",
     "output_type": "stream",
     "text": [
      "Batch 4 for folder '道教（Taoism）_Generic' saved to /Users/zhaorunping/Desktop/Research_Onging/2410_LSE_Xue/result/250202similarity_scores/道教（Taoism）_Generic/250108道教（Taoism）_Generic_batch_4_similarity_scores.csv\n"
     ]
    },
    {
     "name": "stderr",
     "output_type": "stream",
     "text": [
      "Reading files: 100%|██████████| 1000/1000 [00:00<00:00, 28515.22it/s]\n",
      "Computing similarity: 100%|██████████| 1000/1000 [00:34<00:00, 28.97it/s]\n"
     ]
    },
    {
     "name": "stdout",
     "output_type": "stream",
     "text": [
      "Batch 1 for folder '道教（Taoism）_Specific' saved to /Users/zhaorunping/Desktop/Research_Onging/2410_LSE_Xue/result/250202similarity_scores/道教（Taoism）_Specific/250108道教（Taoism）_Specific_batch_1_similarity_scores.csv\n"
     ]
    },
    {
     "name": "stderr",
     "output_type": "stream",
     "text": [
      "Reading files: 100%|██████████| 1000/1000 [00:00<00:00, 26444.63it/s]\n",
      "Computing similarity: 100%|██████████| 1000/1000 [00:34<00:00, 28.75it/s]\n"
     ]
    },
    {
     "name": "stdout",
     "output_type": "stream",
     "text": [
      "Batch 2 for folder '道教（Taoism）_Specific' saved to /Users/zhaorunping/Desktop/Research_Onging/2410_LSE_Xue/result/250202similarity_scores/道教（Taoism）_Specific/250108道教（Taoism）_Specific_batch_2_similarity_scores.csv\n"
     ]
    },
    {
     "name": "stderr",
     "output_type": "stream",
     "text": [
      "Reading files: 100%|██████████| 1000/1000 [00:00<00:00, 29394.73it/s]\n",
      "Computing similarity: 100%|██████████| 1000/1000 [00:34<00:00, 28.83it/s]\n"
     ]
    },
    {
     "name": "stdout",
     "output_type": "stream",
     "text": [
      "Batch 3 for folder '道教（Taoism）_Specific' saved to /Users/zhaorunping/Desktop/Research_Onging/2410_LSE_Xue/result/250202similarity_scores/道教（Taoism）_Specific/250108道教（Taoism）_Specific_batch_3_similarity_scores.csv\n"
     ]
    },
    {
     "name": "stderr",
     "output_type": "stream",
     "text": [
      "Reading files: 100%|██████████| 46/46 [00:00<00:00, 282486.07it/s]\n",
      "Computing similarity: 100%|██████████| 46/46 [00:01<00:00, 28.24it/s]\n"
     ]
    },
    {
     "name": "stdout",
     "output_type": "stream",
     "text": [
      "Batch 4 for folder '道教（Taoism）_Specific' saved to /Users/zhaorunping/Desktop/Research_Onging/2410_LSE_Xue/result/250202similarity_scores/道教（Taoism）_Specific/250108道教（Taoism）_Specific_batch_4_similarity_scores.csv\n"
     ]
    },
    {
     "name": "stderr",
     "output_type": "stream",
     "text": [
      "Reading files: 100%|██████████| 1000/1000 [00:00<00:00, 27413.03it/s]\n",
      "Computing similarity: 100%|██████████| 1000/1000 [00:34<00:00, 28.91it/s]\n"
     ]
    },
    {
     "name": "stdout",
     "output_type": "stream",
     "text": [
      "Batch 1 for folder '帝王（Emperors）_Generic' saved to /Users/zhaorunping/Desktop/Research_Onging/2410_LSE_Xue/result/250202similarity_scores/帝王（Emperors）_Generic/250108帝王（Emperors）_Generic_batch_1_similarity_scores.csv\n"
     ]
    },
    {
     "name": "stderr",
     "output_type": "stream",
     "text": [
      "Reading files: 100%|██████████| 1000/1000 [00:00<00:00, 28678.81it/s]\n",
      "Computing similarity: 100%|██████████| 1000/1000 [00:34<00:00, 28.88it/s]\n"
     ]
    },
    {
     "name": "stdout",
     "output_type": "stream",
     "text": [
      "Batch 2 for folder '帝王（Emperors）_Generic' saved to /Users/zhaorunping/Desktop/Research_Onging/2410_LSE_Xue/result/250202similarity_scores/帝王（Emperors）_Generic/250108帝王（Emperors）_Generic_batch_2_similarity_scores.csv\n"
     ]
    },
    {
     "name": "stderr",
     "output_type": "stream",
     "text": [
      "Reading files: 100%|██████████| 1000/1000 [00:00<00:00, 29463.49it/s]\n",
      "Computing similarity: 100%|██████████| 1000/1000 [00:34<00:00, 28.94it/s]\n"
     ]
    },
    {
     "name": "stdout",
     "output_type": "stream",
     "text": [
      "Batch 3 for folder '帝王（Emperors）_Generic' saved to /Users/zhaorunping/Desktop/Research_Onging/2410_LSE_Xue/result/250202similarity_scores/帝王（Emperors）_Generic/250108帝王（Emperors）_Generic_batch_3_similarity_scores.csv\n"
     ]
    },
    {
     "name": "stderr",
     "output_type": "stream",
     "text": [
      "Reading files: 100%|██████████| 46/46 [00:00<00:00, 400286.27it/s]\n",
      "Computing similarity: 100%|██████████| 46/46 [00:01<00:00, 27.91it/s]\n"
     ]
    },
    {
     "name": "stdout",
     "output_type": "stream",
     "text": [
      "Batch 4 for folder '帝王（Emperors）_Generic' saved to /Users/zhaorunping/Desktop/Research_Onging/2410_LSE_Xue/result/250202similarity_scores/帝王（Emperors）_Generic/250108帝王（Emperors）_Generic_batch_4_similarity_scores.csv\n"
     ]
    },
    {
     "name": "stderr",
     "output_type": "stream",
     "text": [
      "Reading files: 100%|██████████| 1000/1000 [00:00<00:00, 27280.56it/s]\n",
      "Computing similarity: 100%|██████████| 1000/1000 [00:34<00:00, 28.73it/s]\n"
     ]
    },
    {
     "name": "stdout",
     "output_type": "stream",
     "text": [
      "Batch 1 for folder '帝王（Emperors）_Specific' saved to /Users/zhaorunping/Desktop/Research_Onging/2410_LSE_Xue/result/250202similarity_scores/帝王（Emperors）_Specific/250108帝王（Emperors）_Specific_batch_1_similarity_scores.csv\n"
     ]
    },
    {
     "name": "stderr",
     "output_type": "stream",
     "text": [
      "Reading files: 100%|██████████| 1000/1000 [00:00<00:00, 27501.29it/s]\n",
      "Computing similarity: 100%|██████████| 1000/1000 [00:35<00:00, 28.34it/s]\n"
     ]
    },
    {
     "name": "stdout",
     "output_type": "stream",
     "text": [
      "Batch 2 for folder '帝王（Emperors）_Specific' saved to /Users/zhaorunping/Desktop/Research_Onging/2410_LSE_Xue/result/250202similarity_scores/帝王（Emperors）_Specific/250108帝王（Emperors）_Specific_batch_2_similarity_scores.csv\n"
     ]
    },
    {
     "name": "stderr",
     "output_type": "stream",
     "text": [
      "Reading files: 100%|██████████| 1000/1000 [00:00<00:00, 27491.55it/s]\n",
      "Computing similarity: 100%|██████████| 1000/1000 [00:34<00:00, 28.65it/s]\n"
     ]
    },
    {
     "name": "stdout",
     "output_type": "stream",
     "text": [
      "Batch 3 for folder '帝王（Emperors）_Specific' saved to /Users/zhaorunping/Desktop/Research_Onging/2410_LSE_Xue/result/250202similarity_scores/帝王（Emperors）_Specific/250108帝王（Emperors）_Specific_batch_3_similarity_scores.csv\n"
     ]
    },
    {
     "name": "stderr",
     "output_type": "stream",
     "text": [
      "Reading files: 100%|██████████| 46/46 [00:00<00:00, 345767.00it/s]\n",
      "Computing similarity: 100%|██████████| 46/46 [00:01<00:00, 27.89it/s]\n"
     ]
    },
    {
     "name": "stdout",
     "output_type": "stream",
     "text": [
      "Batch 4 for folder '帝王（Emperors）_Specific' saved to /Users/zhaorunping/Desktop/Research_Onging/2410_LSE_Xue/result/250202similarity_scores/帝王（Emperors）_Specific/250108帝王（Emperors）_Specific_batch_4_similarity_scores.csv\n"
     ]
    },
    {
     "name": "stderr",
     "output_type": "stream",
     "text": [
      "Reading files: 100%|██████████| 1000/1000 [00:00<00:00, 27987.78it/s]\n",
      "Computing similarity: 100%|██████████| 1000/1000 [00:35<00:00, 27.79it/s]\n"
     ]
    },
    {
     "name": "stdout",
     "output_type": "stream",
     "text": [
      "Batch 1 for folder '国家与治理（State and Governance）_Generic' saved to /Users/zhaorunping/Desktop/Research_Onging/2410_LSE_Xue/result/250202similarity_scores/国家与治理（State and Governance）_Generic/250108国家与治理（State and Governance）_Generic_batch_1_similarity_scores.csv\n"
     ]
    },
    {
     "name": "stderr",
     "output_type": "stream",
     "text": [
      "Reading files: 100%|██████████| 1000/1000 [00:00<00:00, 30612.01it/s]\n",
      "Computing similarity: 100%|██████████| 1000/1000 [00:34<00:00, 28.85it/s]\n"
     ]
    },
    {
     "name": "stdout",
     "output_type": "stream",
     "text": [
      "Batch 2 for folder '国家与治理（State and Governance）_Generic' saved to /Users/zhaorunping/Desktop/Research_Onging/2410_LSE_Xue/result/250202similarity_scores/国家与治理（State and Governance）_Generic/250108国家与治理（State and Governance）_Generic_batch_2_similarity_scores.csv\n"
     ]
    },
    {
     "name": "stderr",
     "output_type": "stream",
     "text": [
      "Reading files: 100%|██████████| 1000/1000 [00:00<00:00, 28899.13it/s]\n",
      "Computing similarity: 100%|██████████| 1000/1000 [00:35<00:00, 28.54it/s]\n"
     ]
    },
    {
     "name": "stdout",
     "output_type": "stream",
     "text": [
      "Batch 3 for folder '国家与治理（State and Governance）_Generic' saved to /Users/zhaorunping/Desktop/Research_Onging/2410_LSE_Xue/result/250202similarity_scores/国家与治理（State and Governance）_Generic/250108国家与治理（State and Governance）_Generic_batch_3_similarity_scores.csv\n"
     ]
    },
    {
     "name": "stderr",
     "output_type": "stream",
     "text": [
      "Reading files: 100%|██████████| 46/46 [00:00<00:00, 326460.21it/s]\n",
      "Computing similarity: 100%|██████████| 46/46 [00:01<00:00, 27.42it/s]\n"
     ]
    },
    {
     "name": "stdout",
     "output_type": "stream",
     "text": [
      "Batch 4 for folder '国家与治理（State and Governance）_Generic' saved to /Users/zhaorunping/Desktop/Research_Onging/2410_LSE_Xue/result/250202similarity_scores/国家与治理（State and Governance）_Generic/250108国家与治理（State and Governance）_Generic_batch_4_similarity_scores.csv\n"
     ]
    },
    {
     "name": "stderr",
     "output_type": "stream",
     "text": [
      "Reading files: 100%|██████████| 1000/1000 [00:00<00:00, 26165.01it/s]\n",
      "Computing similarity: 100%|██████████| 1000/1000 [00:34<00:00, 28.61it/s]\n"
     ]
    },
    {
     "name": "stdout",
     "output_type": "stream",
     "text": [
      "Batch 1 for folder '馈赠（Gift-Giving）_Generic' saved to /Users/zhaorunping/Desktop/Research_Onging/2410_LSE_Xue/result/250202similarity_scores/馈赠（Gift-Giving）_Generic/250108馈赠（Gift-Giving）_Generic_batch_1_similarity_scores.csv\n"
     ]
    },
    {
     "name": "stderr",
     "output_type": "stream",
     "text": [
      "Reading files: 100%|██████████| 1000/1000 [00:00<00:00, 27159.90it/s]\n",
      "Computing similarity: 100%|██████████| 1000/1000 [00:34<00:00, 28.68it/s]\n"
     ]
    },
    {
     "name": "stdout",
     "output_type": "stream",
     "text": [
      "Batch 2 for folder '馈赠（Gift-Giving）_Generic' saved to /Users/zhaorunping/Desktop/Research_Onging/2410_LSE_Xue/result/250202similarity_scores/馈赠（Gift-Giving）_Generic/250108馈赠（Gift-Giving）_Generic_batch_2_similarity_scores.csv\n"
     ]
    },
    {
     "name": "stderr",
     "output_type": "stream",
     "text": [
      "Reading files: 100%|██████████| 1000/1000 [00:00<00:00, 28849.83it/s]\n",
      "Computing similarity: 100%|██████████| 1000/1000 [00:34<00:00, 28.91it/s]\n"
     ]
    },
    {
     "name": "stdout",
     "output_type": "stream",
     "text": [
      "Batch 3 for folder '馈赠（Gift-Giving）_Generic' saved to /Users/zhaorunping/Desktop/Research_Onging/2410_LSE_Xue/result/250202similarity_scores/馈赠（Gift-Giving）_Generic/250108馈赠（Gift-Giving）_Generic_batch_3_similarity_scores.csv\n"
     ]
    },
    {
     "name": "stderr",
     "output_type": "stream",
     "text": [
      "Reading files: 100%|██████████| 46/46 [00:00<00:00, 96662.32it/s]\n",
      "Computing similarity: 100%|██████████| 46/46 [00:01<00:00, 26.06it/s]\n"
     ]
    },
    {
     "name": "stdout",
     "output_type": "stream",
     "text": [
      "Batch 4 for folder '馈赠（Gift-Giving）_Generic' saved to /Users/zhaorunping/Desktop/Research_Onging/2410_LSE_Xue/result/250202similarity_scores/馈赠（Gift-Giving）_Generic/250108馈赠（Gift-Giving）_Generic_batch_4_similarity_scores.csv\n"
     ]
    },
    {
     "name": "stderr",
     "output_type": "stream",
     "text": [
      "Reading files: 100%|██████████| 1000/1000 [00:00<00:00, 25728.14it/s]\n",
      "Computing similarity: 100%|██████████| 1000/1000 [00:34<00:00, 28.72it/s]\n"
     ]
    },
    {
     "name": "stdout",
     "output_type": "stream",
     "text": [
      "Batch 1 for folder '惩罚（Third Party Enforcement）_Generic' saved to /Users/zhaorunping/Desktop/Research_Onging/2410_LSE_Xue/result/250202similarity_scores/惩罚（Third Party Enforcement）_Generic/250108惩罚（Third Party Enforcement）_Generic_batch_1_similarity_scores.csv\n"
     ]
    },
    {
     "name": "stderr",
     "output_type": "stream",
     "text": [
      "Reading files: 100%|██████████| 1000/1000 [00:00<00:00, 24802.22it/s]\n",
      "Computing similarity: 100%|██████████| 1000/1000 [00:34<00:00, 28.86it/s]\n"
     ]
    },
    {
     "name": "stdout",
     "output_type": "stream",
     "text": [
      "Batch 2 for folder '惩罚（Third Party Enforcement）_Generic' saved to /Users/zhaorunping/Desktop/Research_Onging/2410_LSE_Xue/result/250202similarity_scores/惩罚（Third Party Enforcement）_Generic/250108惩罚（Third Party Enforcement）_Generic_batch_2_similarity_scores.csv\n"
     ]
    },
    {
     "name": "stderr",
     "output_type": "stream",
     "text": [
      "Reading files: 100%|██████████| 1000/1000 [00:00<00:00, 29449.83it/s]\n",
      "Computing similarity: 100%|██████████| 1000/1000 [00:34<00:00, 28.98it/s]\n"
     ]
    },
    {
     "name": "stdout",
     "output_type": "stream",
     "text": [
      "Batch 3 for folder '惩罚（Third Party Enforcement）_Generic' saved to /Users/zhaorunping/Desktop/Research_Onging/2410_LSE_Xue/result/250202similarity_scores/惩罚（Third Party Enforcement）_Generic/250108惩罚（Third Party Enforcement）_Generic_batch_3_similarity_scores.csv\n"
     ]
    },
    {
     "name": "stderr",
     "output_type": "stream",
     "text": [
      "Reading files: 100%|██████████| 46/46 [00:00<00:00, 343917.98it/s]\n",
      "Computing similarity: 100%|██████████| 46/46 [00:01<00:00, 27.64it/s]\n"
     ]
    },
    {
     "name": "stdout",
     "output_type": "stream",
     "text": [
      "Batch 4 for folder '惩罚（Third Party Enforcement）_Generic' saved to /Users/zhaorunping/Desktop/Research_Onging/2410_LSE_Xue/result/250202similarity_scores/惩罚（Third Party Enforcement）_Generic/250108惩罚（Third Party Enforcement）_Generic_batch_4_similarity_scores.csv\n"
     ]
    },
    {
     "name": "stderr",
     "output_type": "stream",
     "text": [
      "Reading files: 100%|██████████| 1000/1000 [00:00<00:00, 28067.19it/s]\n",
      "Computing similarity: 100%|██████████| 1000/1000 [00:34<00:00, 29.11it/s]\n"
     ]
    },
    {
     "name": "stdout",
     "output_type": "stream",
     "text": [
      "Batch 1 for folder '报仇（Two-Party Enforcement）_Generic' saved to /Users/zhaorunping/Desktop/Research_Onging/2410_LSE_Xue/result/250202similarity_scores/报仇（Two-Party Enforcement）_Generic/250108报仇（Two-Party Enforcement）_Generic_batch_1_similarity_scores.csv\n"
     ]
    },
    {
     "name": "stderr",
     "output_type": "stream",
     "text": [
      "Reading files: 100%|██████████| 1000/1000 [00:00<00:00, 28601.56it/s]\n",
      "Computing similarity: 100%|██████████| 1000/1000 [00:34<00:00, 29.12it/s]\n"
     ]
    },
    {
     "name": "stdout",
     "output_type": "stream",
     "text": [
      "Batch 2 for folder '报仇（Two-Party Enforcement）_Generic' saved to /Users/zhaorunping/Desktop/Research_Onging/2410_LSE_Xue/result/250202similarity_scores/报仇（Two-Party Enforcement）_Generic/250108报仇（Two-Party Enforcement）_Generic_batch_2_similarity_scores.csv\n"
     ]
    },
    {
     "name": "stderr",
     "output_type": "stream",
     "text": [
      "Reading files: 100%|██████████| 1000/1000 [00:00<00:00, 27120.92it/s]\n",
      "Computing similarity: 100%|██████████| 1000/1000 [00:34<00:00, 28.96it/s]\n"
     ]
    },
    {
     "name": "stdout",
     "output_type": "stream",
     "text": [
      "Batch 3 for folder '报仇（Two-Party Enforcement）_Generic' saved to /Users/zhaorunping/Desktop/Research_Onging/2410_LSE_Xue/result/250202similarity_scores/报仇（Two-Party Enforcement）_Generic/250108报仇（Two-Party Enforcement）_Generic_batch_3_similarity_scores.csv\n"
     ]
    },
    {
     "name": "stderr",
     "output_type": "stream",
     "text": [
      "Reading files: 100%|██████████| 46/46 [00:00<00:00, 268715.86it/s]\n",
      "Computing similarity: 100%|██████████| 46/46 [00:01<00:00, 26.93it/s]\n"
     ]
    },
    {
     "name": "stdout",
     "output_type": "stream",
     "text": [
      "Batch 4 for folder '报仇（Two-Party Enforcement）_Generic' saved to /Users/zhaorunping/Desktop/Research_Onging/2410_LSE_Xue/result/250202similarity_scores/报仇（Two-Party Enforcement）_Generic/250108报仇（Two-Party Enforcement）_Generic_batch_4_similarity_scores.csv\n"
     ]
    },
    {
     "name": "stderr",
     "output_type": "stream",
     "text": [
      "Reading files: 100%|██████████| 1000/1000 [00:00<00:00, 28253.41it/s]\n",
      "Computing similarity: 100%|██████████| 1000/1000 [00:34<00:00, 29.10it/s]\n"
     ]
    },
    {
     "name": "stdout",
     "output_type": "stream",
     "text": [
      "Batch 1 for folder '杀戮（Killing）_Generic' saved to /Users/zhaorunping/Desktop/Research_Onging/2410_LSE_Xue/result/250202similarity_scores/杀戮（Killing）_Generic/250108杀戮（Killing）_Generic_batch_1_similarity_scores.csv\n"
     ]
    },
    {
     "name": "stderr",
     "output_type": "stream",
     "text": [
      "Reading files: 100%|██████████| 1000/1000 [00:00<00:00, 25281.21it/s]\n",
      "Computing similarity: 100%|██████████| 1000/1000 [00:34<00:00, 28.88it/s]\n"
     ]
    },
    {
     "name": "stdout",
     "output_type": "stream",
     "text": [
      "Batch 2 for folder '杀戮（Killing）_Generic' saved to /Users/zhaorunping/Desktop/Research_Onging/2410_LSE_Xue/result/250202similarity_scores/杀戮（Killing）_Generic/250108杀戮（Killing）_Generic_batch_2_similarity_scores.csv\n"
     ]
    },
    {
     "name": "stderr",
     "output_type": "stream",
     "text": [
      "Reading files: 100%|██████████| 1000/1000 [00:00<00:00, 28857.77it/s]\n",
      "Computing similarity: 100%|██████████| 1000/1000 [00:34<00:00, 28.97it/s]\n"
     ]
    },
    {
     "name": "stdout",
     "output_type": "stream",
     "text": [
      "Batch 3 for folder '杀戮（Killing）_Generic' saved to /Users/zhaorunping/Desktop/Research_Onging/2410_LSE_Xue/result/250202similarity_scores/杀戮（Killing）_Generic/250108杀戮（Killing）_Generic_batch_3_similarity_scores.csv\n"
     ]
    },
    {
     "name": "stderr",
     "output_type": "stream",
     "text": [
      "Reading files: 100%|██████████| 46/46 [00:00<00:00, 289262.34it/s]\n",
      "Computing similarity: 100%|██████████| 46/46 [00:04<00:00, 11.49it/s]\n"
     ]
    },
    {
     "name": "stdout",
     "output_type": "stream",
     "text": [
      "Batch 4 for folder '杀戮（Killing）_Generic' saved to /Users/zhaorunping/Desktop/Research_Onging/2410_LSE_Xue/result/250202similarity_scores/杀戮（Killing）_Generic/250108杀戮（Killing）_Generic_batch_4_similarity_scores.csv\n"
     ]
    },
    {
     "name": "stderr",
     "output_type": "stream",
     "text": [
      "Reading files: 100%|██████████| 1000/1000 [00:00<00:00, 7876.69it/s]\n",
      "Computing similarity: 100%|██████████| 1000/1000 [00:54<00:00, 18.47it/s]\n"
     ]
    },
    {
     "name": "stdout",
     "output_type": "stream",
     "text": [
      "Batch 1 for folder '暴力（Violence）_Generic' saved to /Users/zhaorunping/Desktop/Research_Onging/2410_LSE_Xue/result/250202similarity_scores/暴力（Violence）_Generic/250108暴力（Violence）_Generic_batch_1_similarity_scores.csv\n"
     ]
    },
    {
     "name": "stderr",
     "output_type": "stream",
     "text": [
      "Reading files: 100%|██████████| 1000/1000 [00:00<00:00, 23630.68it/s]\n",
      "Computing similarity: 100%|██████████| 1000/1000 [00:55<00:00, 18.17it/s]\n"
     ]
    },
    {
     "name": "stdout",
     "output_type": "stream",
     "text": [
      "Batch 2 for folder '暴力（Violence）_Generic' saved to /Users/zhaorunping/Desktop/Research_Onging/2410_LSE_Xue/result/250202similarity_scores/暴力（Violence）_Generic/250108暴力（Violence）_Generic_batch_2_similarity_scores.csv\n"
     ]
    },
    {
     "name": "stderr",
     "output_type": "stream",
     "text": [
      "Reading files: 100%|██████████| 1000/1000 [00:00<00:00, 28441.55it/s]\n",
      "Computing similarity: 100%|██████████| 1000/1000 [00:34<00:00, 28.83it/s]\n"
     ]
    },
    {
     "name": "stdout",
     "output_type": "stream",
     "text": [
      "Batch 3 for folder '暴力（Violence）_Generic' saved to /Users/zhaorunping/Desktop/Research_Onging/2410_LSE_Xue/result/250202similarity_scores/暴力（Violence）_Generic/250108暴力（Violence）_Generic_batch_3_similarity_scores.csv\n"
     ]
    },
    {
     "name": "stderr",
     "output_type": "stream",
     "text": [
      "Reading files: 100%|██████████| 46/46 [00:00<00:00, 308700.77it/s]\n",
      "Computing similarity: 100%|██████████| 46/46 [00:01<00:00, 27.79it/s]"
     ]
    },
    {
     "name": "stdout",
     "output_type": "stream",
     "text": [
      "Batch 4 for folder '暴力（Violence）_Generic' saved to /Users/zhaorunping/Desktop/Research_Onging/2410_LSE_Xue/result/250202similarity_scores/暴力（Violence）_Generic/250108暴力（Violence）_Generic_batch_4_similarity_scores.csv\n"
     ]
    },
    {
     "name": "stderr",
     "output_type": "stream",
     "text": [
      "\n"
     ]
    }
   ],
   "source": [
    "import os\n",
    "import pandas as pd\n",
    "import numpy as np\n",
    "from sentence_transformers import SentenceTransformer\n",
    "from concurrent.futures import ThreadPoolExecutor\n",
    "from tqdm import tqdm\n",
    "\n",
    "# 定义文件路径\n",
    "root_folder = '/Users/zhaorunping/Desktop/Research_Onging/2410_LSE_Xue/data/raw_data_tales'\n",
    "output_base_folder = '/Users/zhaorunping/Desktop/Research_Onging/2410_LSE_Xue/result/250214similarity_scores'\n",
    "stories_file = '/Users/zhaorunping/Desktop/Research_Onging/2410_LSE_Xue/result/250211synthetic_archetype_5/250211generated_synthetic_archetypes/250211generated_synthetic_archetypes_1.xlsx'\n",
    "\n",
    "# 遍历目录，收集所有 .txt 文件路径\n",
    "all_files = []\n",
    "for dirpath, _, filenames in os.walk(root_folder):\n",
    "    for filename in filenames:\n",
    "        if filename.endswith('.txt'):  # 仅处理 .txt 文件\n",
    "            relative_path = os.path.join(*dirpath.split(os.sep)[-2:], filename)\n",
    "            all_files.append((os.path.join(dirpath, filename), relative_path))\n",
    "\n",
    "# 加载模型\n",
    "model = SentenceTransformer('DMetaSoul/sbert-chinese-general-v2')\n",
    "\n",
    "# 加载生成的伪故事\n",
    "stories_df = pd.read_excel(stories_file)\n",
    "\n",
    "# 读取文件内容的函数\n",
    "def read_file(file_info):\n",
    "    file_path, relative_path = file_info\n",
    "    try:\n",
    "        with open(file_path, 'r', encoding='utf-8') as f:\n",
    "            return relative_path, f.read()\n",
    "    except Exception as e:\n",
    "        print(f\"Error reading file {file_path}: {e}\")\n",
    "        return relative_path, None\n",
    "\n",
    "# 文件相似度计算函数\n",
    "def compute_similarity(file_content, story_content):\n",
    "    if file_content is None:\n",
    "        return None\n",
    "    embeddings = model.encode([file_content, story_content])\n",
    "    similarity = np.dot(embeddings[0], embeddings[1]) / (np.linalg.norm(embeddings[0]) * np.linalg.norm(embeddings[1]))\n",
    "    return similarity\n",
    "\n",
    "# 批量处理文件\n",
    "def process_files_in_batches(all_files, story_content, folder_name, output_path, batch_size=1000):\n",
    "    batch_number = 1\n",
    "    os.makedirs(output_path, exist_ok=True)\n",
    "\n",
    "    for i in range(0, len(all_files), batch_size):\n",
    "        batch_files = all_files[i:i + batch_size]\n",
    "\n",
    "        # 读取文件内容\n",
    "        with ThreadPoolExecutor(max_workers=45) as executor:\n",
    "            file_contents = list(tqdm(executor.map(read_file, batch_files), total=len(batch_files), desc=\"Reading files\"))\n",
    "\n",
    "        # 计算相似度\n",
    "        with ThreadPoolExecutor(max_workers=45) as executor:\n",
    "            similarities = list(tqdm(executor.map(lambda content: compute_similarity(content[1], story_content), \n",
    "                                                  file_contents), total=len(file_contents), desc=\"Computing similarity\"))\n",
    "\n",
    "        # 组织结果并保存\n",
    "        batch_results = []\n",
    "        for (relative_path, content), similarity in zip(file_contents, similarities):\n",
    "            if content is not None:\n",
    "                trimmed_relative_path = os.path.join(*relative_path.split(os.sep)[-2:])\n",
    "                batch_results.append({\n",
    "                    \"文件路径\": trimmed_relative_path,\n",
    "                    \"内容\": content,\n",
    "                    \"相似度\": similarity\n",
    "                })\n",
    "        \n",
    "        # 存储当前批次的结果\n",
    "        batch_df = pd.DataFrame(batch_results)\n",
    "        batch_save_path = os.path.join(output_path, f\"250108{folder_name}_batch_{batch_number}_similarity_scores.csv\")\n",
    "        batch_df.to_csv(batch_save_path, index=False, encoding='utf-8-sig')\n",
    "        print(f\"Batch {batch_number} for folder '{folder_name}' saved to {batch_save_path}\")\n",
    "        batch_number += 1\n",
    "\n",
    "# 遍历每个主题，生成相应的相似度结果\n",
    "for _, row in stories_df.iterrows():\n",
    "    theme = row['Theme']\n",
    "    explanation_column = row['Explanation_Column']\n",
    "    story_content = row['Story']\n",
    "    \n",
    "    # 创建基于 Theme 和 Explanation_Column 的输出路径\n",
    "    folder_name = f\"{theme}_{explanation_column}\"\n",
    "    theme_output_path = os.path.join(output_base_folder, folder_name)\n",
    "\n",
    "    # 执行批量处理\n",
    "    process_files_in_batches(all_files, story_content, folder_name, theme_output_path)"
   ]
  },
  {
   "cell_type": "code",
   "execution_count": null,
   "id": "f05e7850",
   "metadata": {},
   "outputs": [],
   "source": []
  },
  {
   "cell_type": "code",
   "execution_count": null,
   "id": "9d8ce446",
   "metadata": {},
   "outputs": [],
   "source": []
  },
  {
   "cell_type": "code",
   "execution_count": 5,
   "id": "b2ddf509",
   "metadata": {},
   "outputs": [
    {
     "name": "stderr",
     "output_type": "stream",
     "text": [
      "Reading files: 100%|██████████| 1000/1000 [00:00<00:00, 28709.04it/s]\n"
     ]
    },
    {
     "name": "stdout",
     "output_type": "stream",
     "text": [
      "Batch 1 for folder '信任（Trust）_Generic' saved to /Users/zhaorunping/Desktop/Research_Onging/2410_LSE_Xue/result/250214similarity_scores/信任（Trust）_Generic/250108信任（Trust）_Generic_batch_1_similarity_scores.csv\n"
     ]
    },
    {
     "name": "stderr",
     "output_type": "stream",
     "text": [
      "Reading files: 100%|██████████| 1000/1000 [00:00<00:00, 13930.91it/s]\n"
     ]
    },
    {
     "name": "stdout",
     "output_type": "stream",
     "text": [
      "Batch 2 for folder '信任（Trust）_Generic' saved to /Users/zhaorunping/Desktop/Research_Onging/2410_LSE_Xue/result/250214similarity_scores/信任（Trust）_Generic/250108信任（Trust）_Generic_batch_2_similarity_scores.csv\n"
     ]
    },
    {
     "name": "stderr",
     "output_type": "stream",
     "text": [
      "Reading files: 100%|██████████| 1000/1000 [00:00<00:00, 13872.53it/s]\n"
     ]
    },
    {
     "name": "stdout",
     "output_type": "stream",
     "text": [
      "Batch 3 for folder '信任（Trust）_Generic' saved to /Users/zhaorunping/Desktop/Research_Onging/2410_LSE_Xue/result/250214similarity_scores/信任（Trust）_Generic/250108信任（Trust）_Generic_batch_3_similarity_scores.csv\n"
     ]
    },
    {
     "name": "stderr",
     "output_type": "stream",
     "text": [
      "Reading files: 100%|██████████| 1000/1000 [00:00<00:00, 12363.35it/s]\n"
     ]
    },
    {
     "name": "stdout",
     "output_type": "stream",
     "text": [
      "Batch 4 for folder '信任（Trust）_Generic' saved to /Users/zhaorunping/Desktop/Research_Onging/2410_LSE_Xue/result/250214similarity_scores/信任（Trust）_Generic/250108信任（Trust）_Generic_batch_4_similarity_scores.csv\n"
     ]
    },
    {
     "name": "stderr",
     "output_type": "stream",
     "text": [
      "Reading files: 100%|██████████| 1000/1000 [00:00<00:00, 13020.13it/s]\n"
     ]
    },
    {
     "name": "stdout",
     "output_type": "stream",
     "text": [
      "Batch 5 for folder '信任（Trust）_Generic' saved to /Users/zhaorunping/Desktop/Research_Onging/2410_LSE_Xue/result/250214similarity_scores/信任（Trust）_Generic/250108信任（Trust）_Generic_batch_5_similarity_scores.csv\n"
     ]
    },
    {
     "name": "stderr",
     "output_type": "stream",
     "text": [
      "Reading files: 100%|██████████| 1000/1000 [00:00<00:00, 12935.60it/s]\n"
     ]
    },
    {
     "ename": "KeyboardInterrupt",
     "evalue": "",
     "output_type": "error",
     "traceback": [
      "\u001b[0;31m---------------------------------------------------------------------------\u001b[0m",
      "\u001b[0;31mKeyboardInterrupt\u001b[0m                         Traceback (most recent call last)",
      "Cell \u001b[0;32mIn[5], line 91\u001b[0m\n\u001b[1;32m     89\u001b[0m folder_name \u001b[38;5;241m=\u001b[39m \u001b[38;5;124mf\u001b[39m\u001b[38;5;124m\"\u001b[39m\u001b[38;5;132;01m{\u001b[39;00mtheme\u001b[38;5;132;01m}\u001b[39;00m\u001b[38;5;124m_\u001b[39m\u001b[38;5;132;01m{\u001b[39;00mexplanation_column\u001b[38;5;132;01m}\u001b[39;00m\u001b[38;5;124m\"\u001b[39m\n\u001b[1;32m     90\u001b[0m theme_output_path \u001b[38;5;241m=\u001b[39m os\u001b[38;5;241m.\u001b[39mpath\u001b[38;5;241m.\u001b[39mjoin(output_base_folder, folder_name)\n\u001b[0;32m---> 91\u001b[0m process_files_in_batches(all_files, story_content, folder_name, theme_output_path)\n",
      "Cell \u001b[0;32mIn[5], line 61\u001b[0m, in \u001b[0;36mprocess_files_in_batches\u001b[0;34m(all_files, story_content, folder_name, output_path, batch_size)\u001b[0m\n\u001b[1;32m     58\u001b[0m relative_paths, texts \u001b[38;5;241m=\u001b[39m \u001b[38;5;28mzip\u001b[39m(\u001b[38;5;241m*\u001b[39mvalid_entries)\n\u001b[1;32m     60\u001b[0m \u001b[38;5;66;03m# 批量编码文件内容\u001b[39;00m\n\u001b[0;32m---> 61\u001b[0m file_embeddings \u001b[38;5;241m=\u001b[39m model\u001b[38;5;241m.\u001b[39mencode(\u001b[38;5;28mlist\u001b[39m(texts), batch_size\u001b[38;5;241m=\u001b[39m\u001b[38;5;241m64\u001b[39m, convert_to_numpy\u001b[38;5;241m=\u001b[39m\u001b[38;5;28;01mTrue\u001b[39;00m)\n\u001b[1;32m     62\u001b[0m \u001b[38;5;66;03m# 向量化计算相似度\u001b[39;00m\n\u001b[1;32m     63\u001b[0m file_norms \u001b[38;5;241m=\u001b[39m np\u001b[38;5;241m.\u001b[39mlinalg\u001b[38;5;241m.\u001b[39mnorm(file_embeddings, axis\u001b[38;5;241m=\u001b[39m\u001b[38;5;241m1\u001b[39m)\n",
      "File \u001b[0;32m/Users/Anaconda/anaconda3/lib/python3.12/site-packages/sentence_transformers/SentenceTransformer.py:650\u001b[0m, in \u001b[0;36mSentenceTransformer.encode\u001b[0;34m(self, sentences, prompt_name, prompt, batch_size, show_progress_bar, output_value, precision, convert_to_numpy, convert_to_tensor, device, normalize_embeddings, **kwargs)\u001b[0m\n\u001b[1;32m    648\u001b[0m             \u001b[38;5;66;03m# fixes for #522 and #487 to avoid oom problems on gpu with large datasets\u001b[39;00m\n\u001b[1;32m    649\u001b[0m             \u001b[38;5;28;01mif\u001b[39;00m convert_to_numpy:\n\u001b[0;32m--> 650\u001b[0m                 embeddings \u001b[38;5;241m=\u001b[39m embeddings\u001b[38;5;241m.\u001b[39mcpu()\n\u001b[1;32m    652\u001b[0m         all_embeddings\u001b[38;5;241m.\u001b[39mextend(embeddings)\n\u001b[1;32m    654\u001b[0m all_embeddings \u001b[38;5;241m=\u001b[39m [all_embeddings[idx] \u001b[38;5;28;01mfor\u001b[39;00m idx \u001b[38;5;129;01min\u001b[39;00m np\u001b[38;5;241m.\u001b[39margsort(length_sorted_idx)]\n",
      "\u001b[0;31mKeyboardInterrupt\u001b[0m: "
     ]
    }
   ],
   "source": [
    "import os\n",
    "import pandas as pd\n",
    "import numpy as np\n",
    "from sentence_transformers import SentenceTransformer\n",
    "from concurrent.futures import ThreadPoolExecutor\n",
    "from tqdm import tqdm\n",
    "\n",
    "# 定义文件路径\n",
    "root_folder = '/Users/zhaorunping/Desktop/Research_Onging/2410_LSE_Xue/data/raw_data_tales'\n",
    "output_base_folder = '/Users/zhaorunping/Desktop/Research_Onging/2410_LSE_Xue/result/250214similarity_scores'\n",
    "stories_file = '/Users/zhaorunping/Desktop/Research_Onging/2410_LSE_Xue/result/250211synthetic_archetype_5/250211generated_synthetic_archetypes/250211generated_synthetic_archetypes_1.xlsx'\n",
    "\n",
    "# 遍历目录，收集所有 .txt 文件路径\n",
    "all_files = []\n",
    "for dirpath, _, filenames in os.walk(root_folder):\n",
    "    for filename in filenames:\n",
    "        if filename.endswith('.txt'):\n",
    "            relative_path = os.path.join(*dirpath.split(os.sep)[-2:], filename)\n",
    "            all_files.append((os.path.join(dirpath, filename), relative_path))\n",
    "\n",
    "# 加载模型\n",
    "model = SentenceTransformer('DMetaSoul/sbert-chinese-general-v2')\n",
    "\n",
    "# 加载生成的伪故事\n",
    "stories_df = pd.read_excel(stories_file)\n",
    "\n",
    "# 文件读取函数\n",
    "def read_file(file_info):\n",
    "    file_path, relative_path = file_info\n",
    "    try:\n",
    "        with open(file_path, 'r', encoding='utf-8') as f:\n",
    "            return relative_path, f.read()\n",
    "    except Exception as e:\n",
    "        print(f\"Error reading file {file_path}: {e}\")\n",
    "        return relative_path, None\n",
    "\n",
    "# 批量处理文件函数（优化版本）\n",
    "def process_files_in_batches(all_files, story_content, folder_name, output_path, batch_size=1000):\n",
    "    batch_number = 1\n",
    "    os.makedirs(output_path, exist_ok=True)\n",
    "\n",
    "    # 预先计算故事文本的embedding\n",
    "    story_embedding = model.encode(story_content, convert_to_numpy=True)\n",
    "    story_norm = np.linalg.norm(story_embedding)\n",
    "\n",
    "    for i in range(0, len(all_files), batch_size):\n",
    "        batch_files = all_files[i:i + batch_size]\n",
    "\n",
    "        # 并行读取文件内容\n",
    "        with ThreadPoolExecutor(max_workers=45) as executor:\n",
    "            file_contents = list(tqdm(executor.map(read_file, batch_files), total=len(batch_files), desc=\"Reading files\"))\n",
    "\n",
    "        # 过滤掉内容为 None 的文件\n",
    "        valid_entries = [(rel, content) for rel, content in file_contents if content is not None]\n",
    "        if not valid_entries:\n",
    "            continue\n",
    "\n",
    "        relative_paths, texts = zip(*valid_entries)\n",
    "\n",
    "        # 批量编码文件内容\n",
    "        file_embeddings = model.encode(list(texts), batch_size=64, convert_to_numpy=True)\n",
    "        # 向量化计算相似度\n",
    "        file_norms = np.linalg.norm(file_embeddings, axis=1)\n",
    "        similarities = np.dot(file_embeddings, story_embedding) / (file_norms * story_norm)\n",
    "\n",
    "        # 组织结果数据\n",
    "        batch_results = []\n",
    "        for rel, content, sim in zip(relative_paths, texts, similarities):\n",
    "            trimmed_relative_path = os.path.join(*rel.split(os.sep)[-2:])\n",
    "            batch_results.append({\n",
    "                \"文件路径\": trimmed_relative_path,\n",
    "                \"内容\": content,\n",
    "                \"相似度\": sim\n",
    "            })\n",
    "\n",
    "        # 保存当前批次结果\n",
    "        batch_df = pd.DataFrame(batch_results)\n",
    "        batch_save_path = os.path.join(output_path, f\"250108{folder_name}_batch_{batch_number}_similarity_scores.csv\")\n",
    "        batch_df.to_csv(batch_save_path, index=False, encoding='utf-8-sig')\n",
    "        print(f\"Batch {batch_number} for folder '{folder_name}' saved to {batch_save_path}\")\n",
    "        batch_number += 1\n",
    "\n",
    "# 遍历每个主题，生成对应的相似度结果\n",
    "for _, row in stories_df.iterrows():\n",
    "    theme = row['Theme']\n",
    "    explanation_column = row['Explanation_Column']\n",
    "    story_content = row['Story']\n",
    "    \n",
    "    folder_name = f\"{theme}_{explanation_column}\"\n",
    "    theme_output_path = os.path.join(output_base_folder, folder_name)\n",
    "    process_files_in_batches(all_files, story_content, folder_name, theme_output_path)"
   ]
  },
  {
   "cell_type": "code",
   "execution_count": null,
   "id": "db8a8916",
   "metadata": {},
   "outputs": [],
   "source": []
  },
  {
   "cell_type": "code",
   "execution_count": null,
   "id": "d6af544f",
   "metadata": {},
   "outputs": [],
   "source": []
  },
  {
   "cell_type": "code",
   "execution_count": null,
   "id": "92ee0b04",
   "metadata": {},
   "outputs": [],
   "source": []
  },
  {
   "cell_type": "code",
   "execution_count": 2,
   "id": "cedda6be",
   "metadata": {},
   "outputs": [
    {
     "name": "stderr",
     "output_type": "stream",
     "text": [
      "Merging theme '宗族（Clan）_Generic': 100%|██████████| 4/4 [00:00<00:00, 25.59file/s]\n"
     ]
    },
    {
     "name": "stdout",
     "output_type": "stream",
     "text": [
      "主题 '宗族（Clan）_Generic' 的相似度结果已合并，文件保存为：/Users/zhaorunping/Desktop/Research_Onging/2410_LSE_Xue/result/250202similarity_scores/250202similarity_scores_merged/250202宗族（Clan）_Generic_similarity_scores_merged.csv\n"
     ]
    },
    {
     "name": "stderr",
     "output_type": "stream",
     "text": [
      "Merging theme '暴力（Violence）_Generic': 100%|██████████| 4/4 [00:00<00:00, 27.99file/s]\n"
     ]
    },
    {
     "name": "stdout",
     "output_type": "stream",
     "text": [
      "主题 '暴力（Violence）_Generic' 的相似度结果已合并，文件保存为：/Users/zhaorunping/Desktop/Research_Onging/2410_LSE_Xue/result/250202similarity_scores/250202similarity_scores_merged/250202暴力（Violence）_Generic_similarity_scores_merged.csv\n"
     ]
    },
    {
     "name": "stderr",
     "output_type": "stream",
     "text": [
      "Merging theme '家庭纽带（Family Ties）_Generic': 100%|██████████| 4/4 [00:00<00:00, 28.15file/s]"
     ]
    },
    {
     "name": "stdout",
     "output_type": "stream",
     "text": [
      "主题 '家庭纽带（Family Ties）_Generic' 的相似度结果已合并，文件保存为：/Users/zhaorunping/Desktop/Research_Onging/2410_LSE_Xue/result/250202similarity_scores/250202similarity_scores_merged/250202家庭纽带（Family Ties）_Generic_similarity_scores_merged.csv\n"
     ]
    },
    {
     "name": "stderr",
     "output_type": "stream",
     "text": [
      "\n",
      "Merging theme '努力（Effort）_Specific_正面': 100%|██████████| 4/4 [00:00<00:00, 28.24file/s]"
     ]
    },
    {
     "name": "stdout",
     "output_type": "stream",
     "text": [
      "主题 '努力（Effort）_Specific_正面' 的相似度结果已合并，文件保存为：/Users/zhaorunping/Desktop/Research_Onging/2410_LSE_Xue/result/250202similarity_scores/250202similarity_scores_merged/250202努力（Effort）_Specific_正面_similarity_scores_merged.csv\n"
     ]
    },
    {
     "name": "stderr",
     "output_type": "stream",
     "text": [
      "\n",
      "Merging theme '惩罚（Third Party Enforcement）_Generic': 100%|██████████| 4/4 [00:00<00:00, 28.21file/s]\n"
     ]
    },
    {
     "name": "stdout",
     "output_type": "stream",
     "text": [
      "主题 '惩罚（Third Party Enforcement）_Generic' 的相似度结果已合并，文件保存为：/Users/zhaorunping/Desktop/Research_Onging/2410_LSE_Xue/result/250202similarity_scores/250202similarity_scores_merged/250202惩罚（Third Party Enforcement）_Generic_similarity_scores_merged.csv\n"
     ]
    },
    {
     "name": "stderr",
     "output_type": "stream",
     "text": [
      "Merging theme '信任（Trust）_Specific_正面': 100%|██████████| 4/4 [00:00<00:00, 28.12file/s]"
     ]
    },
    {
     "name": "stdout",
     "output_type": "stream",
     "text": [
      "主题 '信任（Trust）_Specific_正面' 的相似度结果已合并，文件保存为：/Users/zhaorunping/Desktop/Research_Onging/2410_LSE_Xue/result/250202similarity_scores/250202similarity_scores_merged/250202信任（Trust）_Specific_正面_similarity_scores_merged.csv"
     ]
    },
    {
     "name": "stderr",
     "output_type": "stream",
     "text": [
      "\n"
     ]
    },
    {
     "name": "stdout",
     "output_type": "stream",
     "text": [
      "\n"
     ]
    },
    {
     "name": "stderr",
     "output_type": "stream",
     "text": [
      "Merging theme '平等（Equality）_Specific_正面': 100%|██████████| 4/4 [00:00<00:00, 28.63file/s]"
     ]
    },
    {
     "name": "stdout",
     "output_type": "stream",
     "text": [
      "主题 '平等（Equality）_Specific_正面' 的相似度结果已合并，文件保存为：/Users/zhaorunping/Desktop/Research_Onging/2410_LSE_Xue/result/250202similarity_scores/250202similarity_scores_merged/250202平等（Equality）_Specific_正面_similarity_scores_merged.csv\n"
     ]
    },
    {
     "name": "stderr",
     "output_type": "stream",
     "text": [
      "\n",
      "Merging theme '结拜（Sworn Brotherhood）_Generic': 100%|██████████| 4/4 [00:00<00:00, 25.33file/s]\n"
     ]
    },
    {
     "name": "stdout",
     "output_type": "stream",
     "text": [
      "主题 '结拜（Sworn Brotherhood）_Generic' 的相似度结果已合并，文件保存为：/Users/zhaorunping/Desktop/Research_Onging/2410_LSE_Xue/result/250202similarity_scores/250202similarity_scores_merged/250202结拜（Sworn Brotherhood）_Generic_similarity_scores_merged.csv\n"
     ]
    },
    {
     "name": "stderr",
     "output_type": "stream",
     "text": [
      "Merging theme '回顾性视角（Backward-Looking Perspective）_Generic': 100%|██████████| 4/4 [00:00<00:00, 27.69file/s]\n"
     ]
    },
    {
     "name": "stdout",
     "output_type": "stream",
     "text": [
      "主题 '回顾性视角（Backward-Looking Perspective）_Generic' 的相似度结果已合并，文件保存为：/Users/zhaorunping/Desktop/Research_Onging/2410_LSE_Xue/result/250202similarity_scores/250202similarity_scores_merged/250202回顾性视角（Backward-Looking Perspective）_Generic_similarity_scores_merged.csv\n"
     ]
    },
    {
     "name": "stderr",
     "output_type": "stream",
     "text": [
      "Merging theme '回顾性视角（Backward-Looking Perspective）_Specific': 100%|██████████| 4/4 [00:00<00:00, 27.99file/s]\n"
     ]
    },
    {
     "name": "stdout",
     "output_type": "stream",
     "text": [
      "主题 '回顾性视角（Backward-Looking Perspective）_Specific' 的相似度结果已合并，文件保存为：/Users/zhaorunping/Desktop/Research_Onging/2410_LSE_Xue/result/250202similarity_scores/250202similarity_scores_merged/250202回顾性视角（Backward-Looking Perspective）_Specific_similarity_scores_merged.csv\n"
     ]
    },
    {
     "name": "stderr",
     "output_type": "stream",
     "text": [
      "Merging theme '慈善（Charity）_Specific_反面': 100%|██████████| 4/4 [00:00<00:00, 28.28file/s]\n"
     ]
    },
    {
     "name": "stdout",
     "output_type": "stream",
     "text": [
      "主题 '慈善（Charity）_Specific_反面' 的相似度结果已合并，文件保存为：/Users/zhaorunping/Desktop/Research_Onging/2410_LSE_Xue/result/250202similarity_scores/250202similarity_scores_merged/250202慈善（Charity）_Specific_反面_similarity_scores_merged.csv\n"
     ]
    },
    {
     "name": "stderr",
     "output_type": "stream",
     "text": [
      "Merging theme '道教（Taoism）_Generic': 100%|██████████| 4/4 [00:00<00:00, 27.19file/s]\n"
     ]
    },
    {
     "name": "stdout",
     "output_type": "stream",
     "text": [
      "主题 '道教（Taoism）_Generic' 的相似度结果已合并，文件保存为：/Users/zhaorunping/Desktop/Research_Onging/2410_LSE_Xue/result/250202similarity_scores/250202similarity_scores_merged/250202道教（Taoism）_Generic_similarity_scores_merged.csv\n"
     ]
    },
    {
     "name": "stderr",
     "output_type": "stream",
     "text": [
      "Merging theme '国家与治理（State and Governance）_Generic': 100%|██████████| 4/4 [00:00<00:00, 27.74file/s]\n"
     ]
    },
    {
     "name": "stdout",
     "output_type": "stream",
     "text": [
      "主题 '国家与治理（State and Governance）_Generic' 的相似度结果已合并，文件保存为：/Users/zhaorunping/Desktop/Research_Onging/2410_LSE_Xue/result/250202similarity_scores/250202similarity_scores_merged/250202国家与治理（State and Governance）_Generic_similarity_scores_merged.csv\n"
     ]
    },
    {
     "name": "stderr",
     "output_type": "stream",
     "text": [
      "Merging theme '规则遵循（Rule-Following）_Specific_正面': 100%|██████████| 4/4 [00:00<00:00, 25.48file/s]\n"
     ]
    },
    {
     "name": "stdout",
     "output_type": "stream",
     "text": [
      "主题 '规则遵循（Rule-Following）_Specific_正面' 的相似度结果已合并，文件保存为：/Users/zhaorunping/Desktop/Research_Onging/2410_LSE_Xue/result/250202similarity_scores/250202similarity_scores_merged/250202规则遵循（Rule-Following）_Specific_正面_similarity_scores_merged.csv\n"
     ]
    },
    {
     "name": "stderr",
     "output_type": "stream",
     "text": [
      "Merging theme '慈善（Charity）_Specific_中立': 100%|██████████| 4/4 [00:00<00:00, 28.24file/s]"
     ]
    },
    {
     "name": "stdout",
     "output_type": "stream",
     "text": [
      "主题 '慈善（Charity）_Specific_中立' 的相似度结果已合并，文件保存为：/Users/zhaorunping/Desktop/Research_Onging/2410_LSE_Xue/result/250202similarity_scores/250202similarity_scores_merged/250202慈善（Charity）_Specific_中立_similarity_scores_merged.csv\n"
     ]
    },
    {
     "name": "stderr",
     "output_type": "stream",
     "text": [
      "\n",
      "Merging theme '儒家中的孝道（Filial Piety in Confucianism）_Generic': 100%|██████████| 4/4 [00:00<00:00, 27.88file/s]\n"
     ]
    },
    {
     "name": "stdout",
     "output_type": "stream",
     "text": [
      "主题 '儒家中的孝道（Filial Piety in Confucianism）_Generic' 的相似度结果已合并，文件保存为：/Users/zhaorunping/Desktop/Research_Onging/2410_LSE_Xue/result/250202similarity_scores/250202similarity_scores_merged/250202儒家中的孝道（Filial Piety in Confucianism）_Generic_similarity_scores_merged.csv\n"
     ]
    },
    {
     "name": "stderr",
     "output_type": "stream",
     "text": [
      "Merging theme '长寿（Longevity）_Generic': 100%|██████████| 4/4 [00:00<00:00, 27.71file/s]\n"
     ]
    },
    {
     "name": "stdout",
     "output_type": "stream",
     "text": [
      "主题 '长寿（Longevity）_Generic' 的相似度结果已合并，文件保存为：/Users/zhaorunping/Desktop/Research_Onging/2410_LSE_Xue/result/250202similarity_scores/250202similarity_scores_merged/250202长寿（Longevity）_Generic_similarity_scores_merged.csv\n"
     ]
    },
    {
     "name": "stderr",
     "output_type": "stream",
     "text": [
      "Merging theme '诚实（Honesty）_Specific_正面': 100%|██████████| 4/4 [00:00<00:00, 27.84file/s]\n"
     ]
    },
    {
     "name": "stdout",
     "output_type": "stream",
     "text": [
      "主题 '诚实（Honesty）_Specific_正面' 的相似度结果已合并，文件保存为：/Users/zhaorunping/Desktop/Research_Onging/2410_LSE_Xue/result/250202similarity_scores/250202similarity_scores_merged/250202诚实（Honesty）_Specific_正面_similarity_scores_merged.csv\n"
     ]
    },
    {
     "name": "stderr",
     "output_type": "stream",
     "text": [
      "Merging theme '平等（Equality）_Generic': 100%|██████████| 4/4 [00:00<00:00, 27.75file/s]\n"
     ]
    },
    {
     "name": "stdout",
     "output_type": "stream",
     "text": [
      "主题 '平等（Equality）_Generic' 的相似度结果已合并，文件保存为：/Users/zhaorunping/Desktop/Research_Onging/2410_LSE_Xue/result/250202similarity_scores/250202similarity_scores_merged/250202平等（Equality）_Generic_similarity_scores_merged.csv\n"
     ]
    },
    {
     "name": "stderr",
     "output_type": "stream",
     "text": [
      "Merging theme '信任（Trust）_Generic': 100%|██████████| 4/4 [00:00<00:00, 27.24file/s]\n"
     ]
    },
    {
     "name": "stdout",
     "output_type": "stream",
     "text": [
      "主题 '信任（Trust）_Generic' 的相似度结果已合并，文件保存为：/Users/zhaorunping/Desktop/Research_Onging/2410_LSE_Xue/result/250202similarity_scores/250202similarity_scores_merged/250202信任（Trust）_Generic_similarity_scores_merged.csv\n"
     ]
    },
    {
     "name": "stderr",
     "output_type": "stream",
     "text": [
      "Merging theme '家庭纽带（Family Ties）_Specific': 100%|██████████| 4/4 [00:00<00:00, 28.76file/s]"
     ]
    },
    {
     "name": "stdout",
     "output_type": "stream",
     "text": [
      "主题 '家庭纽带（Family Ties）_Specific' 的相似度结果已合并，文件保存为：/Users/zhaorunping/Desktop/Research_Onging/2410_LSE_Xue/result/250202similarity_scores/250202similarity_scores_merged/250202家庭纽带（Family Ties）_Specific_similarity_scores_merged.csv\n"
     ]
    },
    {
     "name": "stderr",
     "output_type": "stream",
     "text": [
      "\n",
      "Merging theme '规则遵循（Rule-Following）_Specific_反面': 100%|██████████| 4/4 [00:00<00:00, 28.60file/s]\n"
     ]
    },
    {
     "name": "stdout",
     "output_type": "stream",
     "text": [
      "主题 '规则遵循（Rule-Following）_Specific_反面' 的相似度结果已合并，文件保存为：/Users/zhaorunping/Desktop/Research_Onging/2410_LSE_Xue/result/250202similarity_scores/250202similarity_scores_merged/250202规则遵循（Rule-Following）_Specific_反面_similarity_scores_merged.csv\n"
     ]
    },
    {
     "name": "stderr",
     "output_type": "stream",
     "text": [
      "Merging theme '平等（Equality）_Specific_中立': 100%|██████████| 4/4 [00:00<00:00, 24.71file/s]\n"
     ]
    },
    {
     "name": "stdout",
     "output_type": "stream",
     "text": [
      "主题 '平等（Equality）_Specific_中立' 的相似度结果已合并，文件保存为：/Users/zhaorunping/Desktop/Research_Onging/2410_LSE_Xue/result/250202similarity_scores/250202similarity_scores_merged/250202平等（Equality）_Specific_中立_similarity_scores_merged.csv\n"
     ]
    },
    {
     "name": "stderr",
     "output_type": "stream",
     "text": [
      "Merging theme '宗族（Clan）_Specific': 100%|██████████| 4/4 [00:00<00:00, 27.67file/s]\n"
     ]
    },
    {
     "name": "stdout",
     "output_type": "stream",
     "text": [
      "主题 '宗族（Clan）_Specific' 的相似度结果已合并，文件保存为：/Users/zhaorunping/Desktop/Research_Onging/2410_LSE_Xue/result/250202similarity_scores/250202similarity_scores_merged/250202宗族（Clan）_Specific_similarity_scores_merged.csv\n"
     ]
    },
    {
     "name": "stderr",
     "output_type": "stream",
     "text": [
      "Merging theme '祖先崇拜（Ancestor Worship）_Specific': 100%|██████████| 4/4 [00:00<00:00, 27.88file/s]\n"
     ]
    },
    {
     "name": "stdout",
     "output_type": "stream",
     "text": [
      "主题 '祖先崇拜（Ancestor Worship）_Specific' 的相似度结果已合并，文件保存为：/Users/zhaorunping/Desktop/Research_Onging/2410_LSE_Xue/result/250202similarity_scores/250202similarity_scores_merged/250202祖先崇拜（Ancestor Worship）_Specific_similarity_scores_merged.csv\n"
     ]
    },
    {
     "name": "stderr",
     "output_type": "stream",
     "text": [
      "Merging theme '慈善（Charity）_Generic': 100%|██████████| 4/4 [00:00<00:00, 28.65file/s]\n"
     ]
    },
    {
     "name": "stdout",
     "output_type": "stream",
     "text": [
      "主题 '慈善（Charity）_Generic' 的相似度结果已合并，文件保存为：/Users/zhaorunping/Desktop/Research_Onging/2410_LSE_Xue/result/250202similarity_scores/250202similarity_scores_merged/250202慈善（Charity）_Generic_similarity_scores_merged.csv\n"
     ]
    },
    {
     "name": "stderr",
     "output_type": "stream",
     "text": [
      "Merging theme '努力（Effort）_Generic': 100%|██████████| 4/4 [00:00<00:00, 27.95file/s]"
     ]
    },
    {
     "name": "stdout",
     "output_type": "stream",
     "text": [
      "主题 '努力（Effort）_Generic' 的相似度结果已合并，文件保存为：/Users/zhaorunping/Desktop/Research_Onging/2410_LSE_Xue/result/250202similarity_scores/250202similarity_scores_merged/250202努力（Effort）_Generic_similarity_scores_merged.csv\n"
     ]
    },
    {
     "name": "stderr",
     "output_type": "stream",
     "text": [
      "\n",
      "Merging theme '祖先崇拜（Ancestor Worship）_Generic': 100%|██████████| 4/4 [00:00<00:00, 27.21file/s]\n"
     ]
    },
    {
     "name": "stdout",
     "output_type": "stream",
     "text": [
      "主题 '祖先崇拜（Ancestor Worship）_Generic' 的相似度结果已合并，文件保存为：/Users/zhaorunping/Desktop/Research_Onging/2410_LSE_Xue/result/250202similarity_scores/250202similarity_scores_merged/250202祖先崇拜（Ancestor Worship）_Generic_similarity_scores_merged.csv\n"
     ]
    },
    {
     "name": "stderr",
     "output_type": "stream",
     "text": [
      "Merging theme '佛教（Buddhism）_Specific': 100%|██████████| 4/4 [00:00<00:00, 26.88file/s]\n"
     ]
    },
    {
     "name": "stdout",
     "output_type": "stream",
     "text": [
      "主题 '佛教（Buddhism）_Specific' 的相似度结果已合并，文件保存为：/Users/zhaorunping/Desktop/Research_Onging/2410_LSE_Xue/result/250202similarity_scores/250202similarity_scores_merged/250202佛教（Buddhism）_Specific_similarity_scores_merged.csv\n"
     ]
    },
    {
     "name": "stderr",
     "output_type": "stream",
     "text": [
      "Merging theme '报仇（Two-Party Enforcement）_Generic': 100%|██████████| 4/4 [00:00<00:00, 28.17file/s]\n"
     ]
    },
    {
     "name": "stdout",
     "output_type": "stream",
     "text": [
      "主题 '报仇（Two-Party Enforcement）_Generic' 的相似度结果已合并，文件保存为：/Users/zhaorunping/Desktop/Research_Onging/2410_LSE_Xue/result/250202similarity_scores/250202similarity_scores_merged/250202报仇（Two-Party Enforcement）_Generic_similarity_scores_merged.csv\n"
     ]
    },
    {
     "name": "stderr",
     "output_type": "stream",
     "text": [
      "Merging theme '努力（Effort）_Specific_中立': 100%|██████████| 4/4 [00:00<00:00, 28.03file/s]\n"
     ]
    },
    {
     "name": "stdout",
     "output_type": "stream",
     "text": [
      "主题 '努力（Effort）_Specific_中立' 的相似度结果已合并，文件保存为：/Users/zhaorunping/Desktop/Research_Onging/2410_LSE_Xue/result/250202similarity_scores/250202similarity_scores_merged/250202努力（Effort）_Specific_中立_similarity_scores_merged.csv\n"
     ]
    },
    {
     "name": "stderr",
     "output_type": "stream",
     "text": [
      "Merging theme '信任（Trust）_Specific_中立': 100%|██████████| 4/4 [00:00<00:00, 27.93file/s]\n"
     ]
    },
    {
     "name": "stdout",
     "output_type": "stream",
     "text": [
      "主题 '信任（Trust）_Specific_中立' 的相似度结果已合并，文件保存为：/Users/zhaorunping/Desktop/Research_Onging/2410_LSE_Xue/result/250202similarity_scores/250202similarity_scores_merged/250202信任（Trust）_Specific_中立_similarity_scores_merged.csv\n"
     ]
    },
    {
     "name": "stderr",
     "output_type": "stream",
     "text": [
      "Merging theme '鬼神（Spirits and Deities）_Specific': 100%|██████████| 4/4 [00:00<00:00, 27.90file/s]\n"
     ]
    },
    {
     "name": "stdout",
     "output_type": "stream",
     "text": [
      "主题 '鬼神（Spirits and Deities）_Specific' 的相似度结果已合并，文件保存为：/Users/zhaorunping/Desktop/Research_Onging/2410_LSE_Xue/result/250202similarity_scores/250202similarity_scores_merged/250202鬼神（Spirits and Deities）_Specific_similarity_scores_merged.csv\n"
     ]
    },
    {
     "name": "stderr",
     "output_type": "stream",
     "text": [
      "Merging theme '帝王（Emperors）_Generic': 100%|██████████| 4/4 [00:00<00:00, 27.40file/s]\n"
     ]
    },
    {
     "name": "stdout",
     "output_type": "stream",
     "text": [
      "主题 '帝王（Emperors）_Generic' 的相似度结果已合并，文件保存为：/Users/zhaorunping/Desktop/Research_Onging/2410_LSE_Xue/result/250202similarity_scores/250202similarity_scores_merged/250202帝王（Emperors）_Generic_similarity_scores_merged.csv\n"
     ]
    },
    {
     "name": "stderr",
     "output_type": "stream",
     "text": [
      "Merging theme '儒家（Confucianism）_Generic': 100%|██████████| 4/4 [00:00<00:00, 27.66file/s]\n"
     ]
    },
    {
     "name": "stdout",
     "output_type": "stream",
     "text": [
      "主题 '儒家（Confucianism）_Generic' 的相似度结果已合并，文件保存为：/Users/zhaorunping/Desktop/Research_Onging/2410_LSE_Xue/result/250202similarity_scores/250202similarity_scores_merged/250202儒家（Confucianism）_Generic_similarity_scores_merged.csv\n"
     ]
    },
    {
     "name": "stderr",
     "output_type": "stream",
     "text": [
      "Merging theme '诚实（Honesty）_Specific_反面': 100%|██████████| 4/4 [00:00<00:00, 28.24file/s]\n"
     ]
    },
    {
     "name": "stdout",
     "output_type": "stream",
     "text": [
      "主题 '诚实（Honesty）_Specific_反面' 的相似度结果已合并，文件保存为：/Users/zhaorunping/Desktop/Research_Onging/2410_LSE_Xue/result/250202similarity_scores/250202similarity_scores_merged/250202诚实（Honesty）_Specific_反面_similarity_scores_merged.csv\n"
     ]
    },
    {
     "name": "stderr",
     "output_type": "stream",
     "text": [
      "Merging theme '佛教（Buddhism）_Generic': 100%|██████████| 4/4 [00:00<00:00, 28.25file/s]"
     ]
    },
    {
     "name": "stdout",
     "output_type": "stream",
     "text": [
      "主题 '佛教（Buddhism）_Generic' 的相似度结果已合并，文件保存为：/Users/zhaorunping/Desktop/Research_Onging/2410_LSE_Xue/result/250202similarity_scores/250202similarity_scores_merged/250202佛教（Buddhism）_Generic_similarity_scores_merged.csv\n"
     ]
    },
    {
     "name": "stderr",
     "output_type": "stream",
     "text": [
      "\n",
      "Merging theme '儒家（Confucianism）_Specific': 100%|██████████| 4/4 [00:00<00:00, 28.12file/s]"
     ]
    },
    {
     "name": "stdout",
     "output_type": "stream",
     "text": [
      "主题 '儒家（Confucianism）_Specific' 的相似度结果已合并，文件保存为：/Users/zhaorunping/Desktop/Research_Onging/2410_LSE_Xue/result/250202similarity_scores/250202similarity_scores_merged/250202儒家（Confucianism）_Specific_similarity_scores_merged.csv"
     ]
    },
    {
     "name": "stderr",
     "output_type": "stream",
     "text": [
      "\n"
     ]
    },
    {
     "name": "stdout",
     "output_type": "stream",
     "text": [
      "\n"
     ]
    },
    {
     "name": "stderr",
     "output_type": "stream",
     "text": [
      "Merging theme '杀戮（Killing）_Generic': 100%|██████████| 4/4 [00:00<00:00, 28.00file/s]\n"
     ]
    },
    {
     "name": "stdout",
     "output_type": "stream",
     "text": [
      "主题 '杀戮（Killing）_Generic' 的相似度结果已合并，文件保存为：/Users/zhaorunping/Desktop/Research_Onging/2410_LSE_Xue/result/250202similarity_scores/250202similarity_scores_merged/250202杀戮（Killing）_Generic_similarity_scores_merged.csv\n"
     ]
    },
    {
     "name": "stderr",
     "output_type": "stream",
     "text": [
      "Merging theme '道教（Taoism）_Specific': 100%|██████████| 4/4 [00:00<00:00, 27.99file/s]\n"
     ]
    },
    {
     "name": "stdout",
     "output_type": "stream",
     "text": [
      "主题 '道教（Taoism）_Specific' 的相似度结果已合并，文件保存为：/Users/zhaorunping/Desktop/Research_Onging/2410_LSE_Xue/result/250202similarity_scores/250202similarity_scores_merged/250202道教（Taoism）_Specific_similarity_scores_merged.csv\n"
     ]
    },
    {
     "name": "stderr",
     "output_type": "stream",
     "text": [
      "Merging theme '鬼神（Spirits and Deities）_Generic': 100%|██████████| 4/4 [00:00<00:00, 27.52file/s]\n"
     ]
    },
    {
     "name": "stdout",
     "output_type": "stream",
     "text": [
      "主题 '鬼神（Spirits and Deities）_Generic' 的相似度结果已合并，文件保存为：/Users/zhaorunping/Desktop/Research_Onging/2410_LSE_Xue/result/250202similarity_scores/250202similarity_scores_merged/250202鬼神（Spirits and Deities）_Generic_similarity_scores_merged.csv\n"
     ]
    },
    {
     "name": "stderr",
     "output_type": "stream",
     "text": [
      "Merging theme '结拜（Sworn Brotherhood）_Specific': 100%|██████████| 4/4 [00:00<00:00, 23.73file/s]\n"
     ]
    },
    {
     "name": "stdout",
     "output_type": "stream",
     "text": [
      "主题 '结拜（Sworn Brotherhood）_Specific' 的相似度结果已合并，文件保存为：/Users/zhaorunping/Desktop/Research_Onging/2410_LSE_Xue/result/250202similarity_scores/250202similarity_scores_merged/250202结拜（Sworn Brotherhood）_Specific_similarity_scores_merged.csv\n"
     ]
    },
    {
     "name": "stderr",
     "output_type": "stream",
     "text": [
      "Merging theme '250202similarity_scores_merged': 0file [00:00, ?file/s]\n",
      "Merging theme '努力（Effort）_Specific_反面': 100%|██████████| 4/4 [00:00<00:00, 28.72file/s]\n"
     ]
    },
    {
     "name": "stdout",
     "output_type": "stream",
     "text": [
      "主题 '努力（Effort）_Specific_反面' 的相似度结果已合并，文件保存为：/Users/zhaorunping/Desktop/Research_Onging/2410_LSE_Xue/result/250202similarity_scores/250202similarity_scores_merged/250202努力（Effort）_Specific_反面_similarity_scores_merged.csv\n"
     ]
    },
    {
     "name": "stderr",
     "output_type": "stream",
     "text": [
      "Merging theme '帝王（Emperors）_Specific': 100%|██████████| 4/4 [00:00<00:00, 29.02file/s]\n"
     ]
    },
    {
     "name": "stdout",
     "output_type": "stream",
     "text": [
      "主题 '帝王（Emperors）_Specific' 的相似度结果已合并，文件保存为：/Users/zhaorunping/Desktop/Research_Onging/2410_LSE_Xue/result/250202similarity_scores/250202similarity_scores_merged/250202帝王（Emperors）_Specific_similarity_scores_merged.csv\n"
     ]
    },
    {
     "name": "stderr",
     "output_type": "stream",
     "text": [
      "Merging theme '信任（Trust）_Specific_反面': 100%|██████████| 4/4 [00:00<00:00, 28.92file/s]\n"
     ]
    },
    {
     "name": "stdout",
     "output_type": "stream",
     "text": [
      "主题 '信任（Trust）_Specific_反面' 的相似度结果已合并，文件保存为：/Users/zhaorunping/Desktop/Research_Onging/2410_LSE_Xue/result/250202similarity_scores/250202similarity_scores_merged/250202信任（Trust）_Specific_反面_similarity_scores_merged.csv\n"
     ]
    },
    {
     "name": "stderr",
     "output_type": "stream",
     "text": [
      "Merging theme '馈赠（Gift-Giving）_Generic': 100%|██████████| 4/4 [00:00<00:00, 28.12file/s]"
     ]
    },
    {
     "name": "stdout",
     "output_type": "stream",
     "text": [
      "主题 '馈赠（Gift-Giving）_Generic' 的相似度结果已合并，文件保存为：/Users/zhaorunping/Desktop/Research_Onging/2410_LSE_Xue/result/250202similarity_scores/250202similarity_scores_merged/250202馈赠（Gift-Giving）_Generic_similarity_scores_merged.csv\n"
     ]
    },
    {
     "name": "stderr",
     "output_type": "stream",
     "text": [
      "\n",
      "Merging theme '诚实（Honesty）_Specific_中立': 100%|██████████| 4/4 [00:00<00:00, 27.71file/s]\n"
     ]
    },
    {
     "name": "stdout",
     "output_type": "stream",
     "text": [
      "主题 '诚实（Honesty）_Specific_中立' 的相似度结果已合并，文件保存为：/Users/zhaorunping/Desktop/Research_Onging/2410_LSE_Xue/result/250202similarity_scores/250202similarity_scores_merged/250202诚实（Honesty）_Specific_中立_similarity_scores_merged.csv\n"
     ]
    },
    {
     "name": "stderr",
     "output_type": "stream",
     "text": [
      "Merging theme '规则遵循（Rule-Following）_Specific_中立': 100%|██████████| 4/4 [00:00<00:00, 28.40file/s]\n"
     ]
    },
    {
     "name": "stdout",
     "output_type": "stream",
     "text": [
      "主题 '规则遵循（Rule-Following）_Specific_中立' 的相似度结果已合并，文件保存为：/Users/zhaorunping/Desktop/Research_Onging/2410_LSE_Xue/result/250202similarity_scores/250202similarity_scores_merged/250202规则遵循（Rule-Following）_Specific_中立_similarity_scores_merged.csv\n"
     ]
    },
    {
     "name": "stderr",
     "output_type": "stream",
     "text": [
      "Merging theme '儒家中的忠诚（Loyalty in Confucianism）_Generic': 100%|██████████| 4/4 [00:00<00:00, 28.43file/s]\n"
     ]
    },
    {
     "name": "stdout",
     "output_type": "stream",
     "text": [
      "主题 '儒家中的忠诚（Loyalty in Confucianism）_Generic' 的相似度结果已合并，文件保存为：/Users/zhaorunping/Desktop/Research_Onging/2410_LSE_Xue/result/250202similarity_scores/250202similarity_scores_merged/250202儒家中的忠诚（Loyalty in Confucianism）_Generic_similarity_scores_merged.csv\n"
     ]
    },
    {
     "name": "stderr",
     "output_type": "stream",
     "text": [
      "Merging theme '平等（Equality）_Specific_反面': 100%|██████████| 4/4 [00:00<00:00, 27.31file/s]\n"
     ]
    },
    {
     "name": "stdout",
     "output_type": "stream",
     "text": [
      "主题 '平等（Equality）_Specific_反面' 的相似度结果已合并，文件保存为：/Users/zhaorunping/Desktop/Research_Onging/2410_LSE_Xue/result/250202similarity_scores/250202similarity_scores_merged/250202平等（Equality）_Specific_反面_similarity_scores_merged.csv\n"
     ]
    },
    {
     "name": "stderr",
     "output_type": "stream",
     "text": [
      "Merging theme '儒家中的仁义（Benevolence and Justice in Confucianism）_Generic': 100%|██████████| 4/4 [00:00<00:00, 28.27file/s]\n"
     ]
    },
    {
     "name": "stdout",
     "output_type": "stream",
     "text": [
      "主题 '儒家中的仁义（Benevolence and Justice in Confucianism）_Generic' 的相似度结果已合并，文件保存为：/Users/zhaorunping/Desktop/Research_Onging/2410_LSE_Xue/result/250202similarity_scores/250202similarity_scores_merged/250202儒家中的仁义（Benevolence and Justice in Confucianism）_Generic_similarity_scores_merged.csv\n"
     ]
    },
    {
     "name": "stderr",
     "output_type": "stream",
     "text": [
      "Merging theme '诚实（Honesty）_Generic': 100%|██████████| 4/4 [00:00<00:00, 28.08file/s]\n"
     ]
    },
    {
     "name": "stdout",
     "output_type": "stream",
     "text": [
      "主题 '诚实（Honesty）_Generic' 的相似度结果已合并，文件保存为：/Users/zhaorunping/Desktop/Research_Onging/2410_LSE_Xue/result/250202similarity_scores/250202similarity_scores_merged/250202诚实（Honesty）_Generic_similarity_scores_merged.csv\n"
     ]
    },
    {
     "name": "stderr",
     "output_type": "stream",
     "text": [
      "Merging theme '规则遵循（Rule-Following）_Generic': 100%|██████████| 4/4 [00:00<00:00, 28.33file/s]"
     ]
    },
    {
     "name": "stdout",
     "output_type": "stream",
     "text": [
      "主题 '规则遵循（Rule-Following）_Generic' 的相似度结果已合并，文件保存为：/Users/zhaorunping/Desktop/Research_Onging/2410_LSE_Xue/result/250202similarity_scores/250202similarity_scores_merged/250202规则遵循（Rule-Following）_Generic_similarity_scores_merged.csv"
     ]
    },
    {
     "name": "stderr",
     "output_type": "stream",
     "text": [
      "\n"
     ]
    },
    {
     "name": "stdout",
     "output_type": "stream",
     "text": [
      "\n"
     ]
    },
    {
     "name": "stderr",
     "output_type": "stream",
     "text": [
      "Merging theme '慈善（Charity）_Specific_正面': 100%|██████████| 4/4 [00:00<00:00, 28.07file/s]"
     ]
    },
    {
     "name": "stdout",
     "output_type": "stream",
     "text": [
      "主题 '慈善（Charity）_Specific_正面' 的相似度结果已合并，文件保存为：/Users/zhaorunping/Desktop/Research_Onging/2410_LSE_Xue/result/250202similarity_scores/250202similarity_scores_merged/250202慈善（Charity）_Specific_正面_similarity_scores_merged.csv\n"
     ]
    },
    {
     "name": "stderr",
     "output_type": "stream",
     "text": [
      "\n"
     ]
    }
   ],
   "source": [
    "import os\n",
    "import pandas as pd\n",
    "from tqdm import tqdm\n",
    "\n",
    "# 合并每个主题的相似度结果为单独的 CSV 文件\n",
    "def merge_theme_similarity_files(output_base_folder):\n",
    "    # 创建存储合并结果的文件夹\n",
    "    merged_folder = os.path.join(output_base_folder, '250202similarity_scores_merged')\n",
    "    os.makedirs(merged_folder, exist_ok=True)\n",
    "\n",
    "    # 遍历输出文件夹，收集所有主题文件夹\n",
    "    for theme_folder in os.listdir(output_base_folder):\n",
    "        theme_path = os.path.join(output_base_folder, theme_folder)\n",
    "        if os.path.isdir(theme_path):  # 确保是文件夹\n",
    "            # 初始化一个空的 DataFrame 来存储该主题的所有 CSV 数据\n",
    "            theme_combined_df = pd.DataFrame()\n",
    "            csv_files = [file for file in os.listdir(theme_path) if file.endswith('_similarity_scores.csv')]\n",
    "\n",
    "            # 显示进度条\n",
    "            for file in tqdm(csv_files, desc=f\"Merging theme '{theme_folder}'\", unit='file'):\n",
    "                file_path = os.path.join(theme_path, file)\n",
    "                # 读取 CSV 文件并附加到主题 DataFrame\n",
    "                df = pd.read_csv(file_path)\n",
    "                theme_combined_df = pd.concat([theme_combined_df, df], ignore_index=True)\n",
    "\n",
    "            # 保存合并后的结果为单独的文件到新文件夹\n",
    "            if not theme_combined_df.empty:\n",
    "                theme_output_file = os.path.join(merged_folder, f\"250202{theme_folder}_similarity_scores_merged.csv\")\n",
    "                theme_combined_df.to_csv(theme_output_file, index=False, encoding='utf-8-sig')\n",
    "                print(f\"主题 '{theme_folder}' 的相似度结果已合并，文件保存为：{theme_output_file}\")\n",
    "\n",
    "# 调用合并函数\n",
    "merge_theme_similarity_files(output_base_folder)"
   ]
  },
  {
   "cell_type": "code",
   "execution_count": 3,
   "id": "d9397fd6",
   "metadata": {},
   "outputs": [
    {
     "name": "stderr",
     "output_type": "stream",
     "text": [
      "Merging similarity scores to base: 100%|██████████| 54/54 [00:07<00:00,  7.02it/s]\n"
     ]
    },
    {
     "name": "stdout",
     "output_type": "stream",
     "text": [
      "合并后的基础表已保存为：/Users/zhaorunping/Desktop/Research_Onging/2410_LSE_Xue/result/250202similarity_scores.csv\n"
     ]
    }
   ],
   "source": [
    "import re\n",
    "\n",
    "# 合并相似度列到基础表的函数\n",
    "def merge_similarity_to_base(base_file, output_base_folder):\n",
    "    # 加载基础表\n",
    "    # print(base_file)\n",
    "    base = pd.read_excel(base_file)\n",
    "\n",
    "    # 获取合并的相似度结果文件夹\n",
    "    merged_folder = os.path.join(output_base_folder, '250202similarity_scores_merged')\n",
    "    # print(merged_folder)\n",
    "    # 初始化合并后的基础表\n",
    "    merged_base = base.copy()\n",
    "\n",
    "    # 遍历合并的相似度文件\n",
    "    for theme_file in tqdm(os.listdir(merged_folder), desc=\"Merging similarity scores to base\"):\n",
    "        if theme_file.endswith('_similarity_scores_merged.csv'):\n",
    "            theme_path = os.path.join(merged_folder, theme_file)\n",
    "            #print(theme_path)\n",
    "            # print(theme_path)\n",
    "            data = pd.read_csv(theme_path)\n",
    "\n",
    "            # 提取文件名\n",
    "            data['文件名'] = data['文件路径'].apply(\n",
    "                lambda x: re.search(r'\\/(.*?)\\.txt', x).group(1) if re.search(r'\\/(.*?)\\.txt', x) else None\n",
    "            )\n",
    "            # print(theme_file)\n",
    "            # 重新命名相似度列\n",
    "            theme_name = theme_file[6:]  # 去掉开头六位\n",
    "            theme_name = theme_name.rsplit('_similarity_scores_merged', 1)[0]  # 去掉结尾部分\n",
    "            # print(theme_name)\n",
    "            similarity_column_name = f\"{theme_name}_相似度\"\n",
    "            data.rename(columns={'相似度': similarity_column_name}, inplace=True)\n",
    "\n",
    "            # 合并到基础表中\n",
    "            merged_base = merged_base.merge(data[['文件名', similarity_column_name]], left_on='name', right_on='文件名', how='left')\n",
    "\n",
    "            # 删除临时列\n",
    "            merged_base.drop(columns=['文件名'], inplace=True)\n",
    "\n",
    "    return merged_base\n",
    "\n",
    "# 调用合并函数\n",
    "output_base_folder = '/Users/zhaorunping/Desktop/Research_Onging/2410_LSE_Xue/result/250202similarity_scores'\n",
    "base_file = '/Users/zhaorunping/Desktop/Research_Onging/2410_LSE_Xue/result/250203地图匹配_spatial_join_2010_no_inconsistency.xlsx'\n",
    "\n",
    "# 2. 将合并的相似度列合并到基础表\n",
    "merged_base = merge_similarity_to_base(base_file, output_base_folder)\n",
    "\n",
    "# 保存最终合并的基础表\n",
    "output_file = '/Users/zhaorunping/Desktop/Research_Onging/2410_LSE_Xue/result/250202similarity_scores.csv'  # 替换为保存文件的路径\n",
    "merged_base.to_csv(output_file, index=False, encoding='utf-8-sig')\n",
    "print(f\"合并后的基础表已保存为：{output_file}\")"
   ]
  },
  {
   "cell_type": "code",
   "execution_count": 33,
   "id": "52d009b4",
   "metadata": {},
   "outputs": [],
   "source": [
    "import pandas as pd\n",
    "\n",
    "# 文件路径\n",
    "similarity_scores_path = '/Users/zhaorunping/Desktop/Research_Onging/2410_LSE_Xue/result/250108similarity_scores.csv'\n",
    "spatial_join_path = \"/Users/zhaorunping/Desktop/Research_Onging/2410_LSE_Xue/result/to_use/241202spatial_join_2010.xlsx\"\n",
    "cgss_data_path = \"/Users/zhaorunping/Desktop/Research_Onging/2410_LSE_Xue/result/to_use/CGSS2010-2015_withoutvarlabel.dta\"\n",
    "\n",
    "# 读取文件到DataFrame\n",
    "bert_similarity_scores_df = pd.read_csv(similarity_scores_path)\n",
    "spatial_join_df = pd.read_excel(spatial_join_path)\n",
    "cgss_data_df= pd.read_stata(cgss_data_path)"
   ]
  },
  {
   "cell_type": "code",
   "execution_count": 34,
   "id": "92637798",
   "metadata": {},
   "outputs": [
    {
     "data": {
      "text/plain": [
       "Index(['rowid', 'name', 'cailu', 'provgb', 'citygb', 'cntygb', 'area',\n",
       "       'geocode', 'PROVGB_1953', 'CITYGB_1953', 'CNTYGB_1953', 'PROVGB_1964',\n",
       "       'CITYGB_1964', 'CNTYGB_1964', 'PROVGB_1982', 'CITYGB_1982',\n",
       "       'CNTYGB_1982', 'PROVGB_1990a', 'CITYGB_1990a', 'CNTYGB_1990a',\n",
       "       'PROVGB_2000', 'CITYGB_2000', 'CNTYGB_2000', 'PROVGB_2010',\n",
       "       'CITYGB_2010', 'CNTYGB_2010', 'new_name', 'area_group', 'centroid_1982',\n",
       "       'centroid_1990', 'centroid_2000', 'combined_centroid', 'matched_gbcode',\n",
       "       '规则遵循（Rule-Following）_Specific_正面_相似度', '信任（Trust）_Generic_相似度',\n",
       "       '宗族（Clan）_Generic_相似度', '平等（Equality）_Specific_中立_相似度',\n",
       "       '诚实（Honesty）_Specific_反面_相似度', '家庭纽带（Family Ties）_Specific_相似度',\n",
       "       '儒家（Confucianism）_Generic_相似度', '慈善（Charity）_Specific_正面_相似度',\n",
       "       '馈赠（Gift-Giving）_Generic_相似度', '长寿（Longevity）_Generic_相似度',\n",
       "       '帝王（Emperors）_Generic_相似度', '诚实（Honesty）_Specific_中立_相似度',\n",
       "       '平等（Equality）_Specific_反面_相似度',\n",
       "       '儒家中的仁义（Benevolence and Justice in Confucianism）_Generic_相似度',\n",
       "       '祖先崇拜（Ancestor Worship）_Generic_相似度', '信任（Trust）_Specific_中立_相似度',\n",
       "       '努力（Effort）_Generic_相似度', '努力（Effort）_Specific_反面_相似度',\n",
       "       '努力（Effort）_Specific_中立_相似度', '报仇（Two-Party Enforcement）_Generic_相似度',\n",
       "       '道教（Taoism）_Specific_相似度', '暴力（Violence）_Generic_相似度',\n",
       "       '道教（Taoism）_Generic_相似度', '儒家（Confucianism）_Specific_相似度',\n",
       "       '平等（Equality）_Generic_相似度', '信任（Trust）_Specific_反面_相似度',\n",
       "       '家庭纽带（Family Ties）_Generic_相似度', '结拜（Sworn Brotherhood）_Generic_相似度',\n",
       "       '儒家中的忠诚（Loyalty in Confucianism）_Generic_相似度',\n",
       "       '鬼神（Spirits and Deities）_Specific_相似度',\n",
       "       '国家与治理（State and Governance）_Generic_相似度',\n",
       "       '结拜（Sworn Brotherhood）_Specific_相似度', '佛教（Buddhism）_Generic_相似度',\n",
       "       '努力（Effort）_Specific_正面_相似度', '规则遵循（Rule-Following）_Generic_相似度',\n",
       "       '杀戮（Killing）_Generic_相似度', '惩罚（Third Party Enforcement）_Generic_相似度',\n",
       "       '信任（Trust）_Specific_正面_相似度', '规则遵循（Rule-Following）_Specific_反面_相似度',\n",
       "       '诚实（Honesty）_Specific_正面_相似度', '慈善（Charity）_Specific_中立_相似度',\n",
       "       '诚实（Honesty）_Generic_相似度', '祖先崇拜（Ancestor Worship）_Specific_相似度',\n",
       "       '回顾性视角（Backward-Looking Perspective）_Specific_相似度',\n",
       "       '回顾性视角（Backward-Looking Perspective）_Generic_相似度',\n",
       "       '宗族（Clan）_Specific_相似度', '帝王（Emperors）_Specific_相似度',\n",
       "       '慈善（Charity）_Generic_相似度',\n",
       "       '儒家中的孝道（Filial Piety in Confucianism）_Generic_相似度',\n",
       "       '慈善（Charity）_Specific_反面_相似度', '鬼神（Spirits and Deities）_Generic_相似度',\n",
       "       '佛教（Buddhism）_Specific_相似度', '规则遵循（Rule-Following）_Specific_中立_相似度',\n",
       "       '平等（Equality）_Specific_正面_相似度'],\n",
       "      dtype='object')"
      ]
     },
     "execution_count": 34,
     "metadata": {},
     "output_type": "execute_result"
    }
   ],
   "source": [
    "bert_similarity_scores_df.columns"
   ]
  },
  {
   "cell_type": "code",
   "execution_count": 35,
   "id": "505aa17b",
   "metadata": {},
   "outputs": [
    {
     "data": {
      "text/html": [
       "<div>\n",
       "<style scoped>\n",
       "    .dataframe tbody tr th:only-of-type {\n",
       "        vertical-align: middle;\n",
       "    }\n",
       "\n",
       "    .dataframe tbody tr th {\n",
       "        vertical-align: top;\n",
       "    }\n",
       "\n",
       "    .dataframe thead th {\n",
       "        text-align: right;\n",
       "    }\n",
       "</style>\n",
       "<table border=\"1\" class=\"dataframe\">\n",
       "  <thead>\n",
       "    <tr style=\"text-align: right;\">\n",
       "      <th></th>\n",
       "      <th>规则遵循（Rule-Following）_Specific_正面_相似度</th>\n",
       "      <th>信任（Trust）_Generic_相似度</th>\n",
       "      <th>宗族（Clan）_Generic_相似度</th>\n",
       "      <th>平等（Equality）_Specific_中立_相似度</th>\n",
       "      <th>诚实（Honesty）_Specific_反面_相似度</th>\n",
       "      <th>家庭纽带（Family Ties）_Specific_相似度</th>\n",
       "      <th>儒家（Confucianism）_Generic_相似度</th>\n",
       "      <th>慈善（Charity）_Specific_正面_相似度</th>\n",
       "      <th>馈赠（Gift-Giving）_Generic_相似度</th>\n",
       "      <th>长寿（Longevity）_Generic_相似度</th>\n",
       "      <th>...</th>\n",
       "      <th>回顾性视角（Backward-Looking Perspective）_Generic_相似度</th>\n",
       "      <th>宗族（Clan）_Specific_相似度</th>\n",
       "      <th>帝王（Emperors）_Specific_相似度</th>\n",
       "      <th>慈善（Charity）_Generic_相似度</th>\n",
       "      <th>儒家中的孝道（Filial Piety in Confucianism）_Generic_相似度</th>\n",
       "      <th>慈善（Charity）_Specific_反面_相似度</th>\n",
       "      <th>鬼神（Spirits and Deities）_Generic_相似度</th>\n",
       "      <th>佛教（Buddhism）_Specific_相似度</th>\n",
       "      <th>规则遵循（Rule-Following）_Specific_中立_相似度</th>\n",
       "      <th>平等（Equality）_Specific_正面_相似度</th>\n",
       "    </tr>\n",
       "    <tr>\n",
       "      <th>CNTYGB_2010</th>\n",
       "      <th></th>\n",
       "      <th></th>\n",
       "      <th></th>\n",
       "      <th></th>\n",
       "      <th></th>\n",
       "      <th></th>\n",
       "      <th></th>\n",
       "      <th></th>\n",
       "      <th></th>\n",
       "      <th></th>\n",
       "      <th></th>\n",
       "      <th></th>\n",
       "      <th></th>\n",
       "      <th></th>\n",
       "      <th></th>\n",
       "      <th></th>\n",
       "      <th></th>\n",
       "      <th></th>\n",
       "      <th></th>\n",
       "      <th></th>\n",
       "      <th></th>\n",
       "    </tr>\n",
       "  </thead>\n",
       "  <tbody>\n",
       "    <tr>\n",
       "      <th>110101.0</th>\n",
       "      <td>0.693669</td>\n",
       "      <td>0.689037</td>\n",
       "      <td>0.677550</td>\n",
       "      <td>0.681648</td>\n",
       "      <td>0.687689</td>\n",
       "      <td>0.679929</td>\n",
       "      <td>0.654873</td>\n",
       "      <td>0.642235</td>\n",
       "      <td>0.718348</td>\n",
       "      <td>0.691354</td>\n",
       "      <td>...</td>\n",
       "      <td>0.676335</td>\n",
       "      <td>0.665025</td>\n",
       "      <td>0.682155</td>\n",
       "      <td>0.681010</td>\n",
       "      <td>0.631417</td>\n",
       "      <td>0.648439</td>\n",
       "      <td>0.691263</td>\n",
       "      <td>0.666983</td>\n",
       "      <td>0.703684</td>\n",
       "      <td>0.619692</td>\n",
       "    </tr>\n",
       "    <tr>\n",
       "      <th>110102.0</th>\n",
       "      <td>0.694088</td>\n",
       "      <td>0.692399</td>\n",
       "      <td>0.688139</td>\n",
       "      <td>0.685772</td>\n",
       "      <td>0.683743</td>\n",
       "      <td>0.693405</td>\n",
       "      <td>0.660171</td>\n",
       "      <td>0.659001</td>\n",
       "      <td>0.723015</td>\n",
       "      <td>0.704670</td>\n",
       "      <td>...</td>\n",
       "      <td>0.675210</td>\n",
       "      <td>0.648872</td>\n",
       "      <td>0.667515</td>\n",
       "      <td>0.691763</td>\n",
       "      <td>0.644656</td>\n",
       "      <td>0.667948</td>\n",
       "      <td>0.689054</td>\n",
       "      <td>0.686837</td>\n",
       "      <td>0.710074</td>\n",
       "      <td>0.623568</td>\n",
       "    </tr>\n",
       "    <tr>\n",
       "      <th>110103.0</th>\n",
       "      <td>0.675598</td>\n",
       "      <td>0.690344</td>\n",
       "      <td>0.676150</td>\n",
       "      <td>0.679599</td>\n",
       "      <td>0.678446</td>\n",
       "      <td>0.685001</td>\n",
       "      <td>0.662480</td>\n",
       "      <td>0.660149</td>\n",
       "      <td>0.721540</td>\n",
       "      <td>0.688712</td>\n",
       "      <td>...</td>\n",
       "      <td>0.644718</td>\n",
       "      <td>0.646097</td>\n",
       "      <td>0.643838</td>\n",
       "      <td>0.693388</td>\n",
       "      <td>0.651957</td>\n",
       "      <td>0.666936</td>\n",
       "      <td>0.669020</td>\n",
       "      <td>0.676592</td>\n",
       "      <td>0.697597</td>\n",
       "      <td>0.638531</td>\n",
       "    </tr>\n",
       "    <tr>\n",
       "      <th>110104.0</th>\n",
       "      <td>0.686723</td>\n",
       "      <td>0.703132</td>\n",
       "      <td>0.680675</td>\n",
       "      <td>0.680892</td>\n",
       "      <td>0.689792</td>\n",
       "      <td>0.691175</td>\n",
       "      <td>0.678063</td>\n",
       "      <td>0.668907</td>\n",
       "      <td>0.719964</td>\n",
       "      <td>0.702806</td>\n",
       "      <td>...</td>\n",
       "      <td>0.652305</td>\n",
       "      <td>0.656039</td>\n",
       "      <td>0.675243</td>\n",
       "      <td>0.695235</td>\n",
       "      <td>0.650681</td>\n",
       "      <td>0.673213</td>\n",
       "      <td>0.674190</td>\n",
       "      <td>0.674201</td>\n",
       "      <td>0.708620</td>\n",
       "      <td>0.642534</td>\n",
       "    </tr>\n",
       "    <tr>\n",
       "      <th>110105.0</th>\n",
       "      <td>0.721604</td>\n",
       "      <td>0.719428</td>\n",
       "      <td>0.698556</td>\n",
       "      <td>0.714636</td>\n",
       "      <td>0.698519</td>\n",
       "      <td>0.715540</td>\n",
       "      <td>0.684137</td>\n",
       "      <td>0.692003</td>\n",
       "      <td>0.737436</td>\n",
       "      <td>0.739319</td>\n",
       "      <td>...</td>\n",
       "      <td>0.694979</td>\n",
       "      <td>0.667701</td>\n",
       "      <td>0.661397</td>\n",
       "      <td>0.718864</td>\n",
       "      <td>0.677642</td>\n",
       "      <td>0.689805</td>\n",
       "      <td>0.724732</td>\n",
       "      <td>0.704376</td>\n",
       "      <td>0.736459</td>\n",
       "      <td>0.651165</td>\n",
       "    </tr>\n",
       "    <tr>\n",
       "      <th>...</th>\n",
       "      <td>...</td>\n",
       "      <td>...</td>\n",
       "      <td>...</td>\n",
       "      <td>...</td>\n",
       "      <td>...</td>\n",
       "      <td>...</td>\n",
       "      <td>...</td>\n",
       "      <td>...</td>\n",
       "      <td>...</td>\n",
       "      <td>...</td>\n",
       "      <td>...</td>\n",
       "      <td>...</td>\n",
       "      <td>...</td>\n",
       "      <td>...</td>\n",
       "      <td>...</td>\n",
       "      <td>...</td>\n",
       "      <td>...</td>\n",
       "      <td>...</td>\n",
       "      <td>...</td>\n",
       "      <td>...</td>\n",
       "      <td>...</td>\n",
       "    </tr>\n",
       "    <tr>\n",
       "      <th>654322.0</th>\n",
       "      <td>0.689676</td>\n",
       "      <td>0.715872</td>\n",
       "      <td>0.682992</td>\n",
       "      <td>0.697813</td>\n",
       "      <td>0.649545</td>\n",
       "      <td>0.722225</td>\n",
       "      <td>0.670779</td>\n",
       "      <td>0.688378</td>\n",
       "      <td>0.691909</td>\n",
       "      <td>0.704036</td>\n",
       "      <td>...</td>\n",
       "      <td>0.671751</td>\n",
       "      <td>0.637731</td>\n",
       "      <td>0.660240</td>\n",
       "      <td>0.693668</td>\n",
       "      <td>0.669422</td>\n",
       "      <td>0.676831</td>\n",
       "      <td>0.712349</td>\n",
       "      <td>0.714185</td>\n",
       "      <td>0.698105</td>\n",
       "      <td>0.645308</td>\n",
       "    </tr>\n",
       "    <tr>\n",
       "      <th>654323.0</th>\n",
       "      <td>0.661726</td>\n",
       "      <td>0.688718</td>\n",
       "      <td>0.706831</td>\n",
       "      <td>0.677450</td>\n",
       "      <td>0.678581</td>\n",
       "      <td>0.689411</td>\n",
       "      <td>0.672605</td>\n",
       "      <td>0.647748</td>\n",
       "      <td>0.656756</td>\n",
       "      <td>0.706992</td>\n",
       "      <td>...</td>\n",
       "      <td>0.636006</td>\n",
       "      <td>0.683590</td>\n",
       "      <td>0.681297</td>\n",
       "      <td>0.649749</td>\n",
       "      <td>0.622921</td>\n",
       "      <td>0.652240</td>\n",
       "      <td>0.689293</td>\n",
       "      <td>0.664385</td>\n",
       "      <td>0.666994</td>\n",
       "      <td>0.637612</td>\n",
       "    </tr>\n",
       "    <tr>\n",
       "      <th>654324.0</th>\n",
       "      <td>0.693598</td>\n",
       "      <td>0.721122</td>\n",
       "      <td>0.698729</td>\n",
       "      <td>0.706240</td>\n",
       "      <td>0.653347</td>\n",
       "      <td>0.736984</td>\n",
       "      <td>0.678674</td>\n",
       "      <td>0.689523</td>\n",
       "      <td>0.726155</td>\n",
       "      <td>0.712042</td>\n",
       "      <td>...</td>\n",
       "      <td>0.661023</td>\n",
       "      <td>0.666074</td>\n",
       "      <td>0.653307</td>\n",
       "      <td>0.712421</td>\n",
       "      <td>0.684642</td>\n",
       "      <td>0.691103</td>\n",
       "      <td>0.709314</td>\n",
       "      <td>0.706534</td>\n",
       "      <td>0.708426</td>\n",
       "      <td>0.653234</td>\n",
       "    </tr>\n",
       "    <tr>\n",
       "      <th>654326.0</th>\n",
       "      <td>0.690318</td>\n",
       "      <td>0.691506</td>\n",
       "      <td>0.700173</td>\n",
       "      <td>0.693829</td>\n",
       "      <td>0.648174</td>\n",
       "      <td>0.719580</td>\n",
       "      <td>0.653165</td>\n",
       "      <td>0.716280</td>\n",
       "      <td>0.759801</td>\n",
       "      <td>0.737977</td>\n",
       "      <td>...</td>\n",
       "      <td>0.666878</td>\n",
       "      <td>0.662321</td>\n",
       "      <td>0.639959</td>\n",
       "      <td>0.743025</td>\n",
       "      <td>0.710068</td>\n",
       "      <td>0.698561</td>\n",
       "      <td>0.677012</td>\n",
       "      <td>0.716972</td>\n",
       "      <td>0.685008</td>\n",
       "      <td>0.650264</td>\n",
       "    </tr>\n",
       "    <tr>\n",
       "      <th>659002.0</th>\n",
       "      <td>0.674943</td>\n",
       "      <td>0.666050</td>\n",
       "      <td>0.642908</td>\n",
       "      <td>0.641485</td>\n",
       "      <td>0.632246</td>\n",
       "      <td>0.693924</td>\n",
       "      <td>0.636750</td>\n",
       "      <td>0.649716</td>\n",
       "      <td>0.687998</td>\n",
       "      <td>0.657447</td>\n",
       "      <td>...</td>\n",
       "      <td>0.671540</td>\n",
       "      <td>0.555946</td>\n",
       "      <td>0.654699</td>\n",
       "      <td>0.685885</td>\n",
       "      <td>0.643576</td>\n",
       "      <td>0.636713</td>\n",
       "      <td>0.719067</td>\n",
       "      <td>0.663115</td>\n",
       "      <td>0.659868</td>\n",
       "      <td>0.603580</td>\n",
       "    </tr>\n",
       "  </tbody>\n",
       "</table>\n",
       "<p>1721 rows × 54 columns</p>\n",
       "</div>"
      ],
      "text/plain": [
       "             规则遵循（Rule-Following）_Specific_正面_相似度  信任（Trust）_Generic_相似度  \\\n",
       "CNTYGB_2010                                                                \n",
       "110101.0                                 0.693669               0.689037   \n",
       "110102.0                                 0.694088               0.692399   \n",
       "110103.0                                 0.675598               0.690344   \n",
       "110104.0                                 0.686723               0.703132   \n",
       "110105.0                                 0.721604               0.719428   \n",
       "...                                           ...                    ...   \n",
       "654322.0                                 0.689676               0.715872   \n",
       "654323.0                                 0.661726               0.688718   \n",
       "654324.0                                 0.693598               0.721122   \n",
       "654326.0                                 0.690318               0.691506   \n",
       "659002.0                                 0.674943               0.666050   \n",
       "\n",
       "             宗族（Clan）_Generic_相似度  平等（Equality）_Specific_中立_相似度  \\\n",
       "CNTYGB_2010                                                       \n",
       "110101.0                 0.677550                      0.681648   \n",
       "110102.0                 0.688139                      0.685772   \n",
       "110103.0                 0.676150                      0.679599   \n",
       "110104.0                 0.680675                      0.680892   \n",
       "110105.0                 0.698556                      0.714636   \n",
       "...                           ...                           ...   \n",
       "654322.0                 0.682992                      0.697813   \n",
       "654323.0                 0.706831                      0.677450   \n",
       "654324.0                 0.698729                      0.706240   \n",
       "654326.0                 0.700173                      0.693829   \n",
       "659002.0                 0.642908                      0.641485   \n",
       "\n",
       "             诚实（Honesty）_Specific_反面_相似度  家庭纽带（Family Ties）_Specific_相似度  \\\n",
       "CNTYGB_2010                                                                \n",
       "110101.0                        0.687689                        0.679929   \n",
       "110102.0                        0.683743                        0.693405   \n",
       "110103.0                        0.678446                        0.685001   \n",
       "110104.0                        0.689792                        0.691175   \n",
       "110105.0                        0.698519                        0.715540   \n",
       "...                                  ...                             ...   \n",
       "654322.0                        0.649545                        0.722225   \n",
       "654323.0                        0.678581                        0.689411   \n",
       "654324.0                        0.653347                        0.736984   \n",
       "654326.0                        0.648174                        0.719580   \n",
       "659002.0                        0.632246                        0.693924   \n",
       "\n",
       "             儒家（Confucianism）_Generic_相似度  慈善（Charity）_Specific_正面_相似度  \\\n",
       "CNTYGB_2010                                                              \n",
       "110101.0                         0.654873                     0.642235   \n",
       "110102.0                         0.660171                     0.659001   \n",
       "110103.0                         0.662480                     0.660149   \n",
       "110104.0                         0.678063                     0.668907   \n",
       "110105.0                         0.684137                     0.692003   \n",
       "...                                   ...                          ...   \n",
       "654322.0                         0.670779                     0.688378   \n",
       "654323.0                         0.672605                     0.647748   \n",
       "654324.0                         0.678674                     0.689523   \n",
       "654326.0                         0.653165                     0.716280   \n",
       "659002.0                         0.636750                     0.649716   \n",
       "\n",
       "             馈赠（Gift-Giving）_Generic_相似度  长寿（Longevity）_Generic_相似度  ...  \\\n",
       "CNTYGB_2010                                                          ...   \n",
       "110101.0                        0.718348                   0.691354  ...   \n",
       "110102.0                        0.723015                   0.704670  ...   \n",
       "110103.0                        0.721540                   0.688712  ...   \n",
       "110104.0                        0.719964                   0.702806  ...   \n",
       "110105.0                        0.737436                   0.739319  ...   \n",
       "...                                  ...                        ...  ...   \n",
       "654322.0                        0.691909                   0.704036  ...   \n",
       "654323.0                        0.656756                   0.706992  ...   \n",
       "654324.0                        0.726155                   0.712042  ...   \n",
       "654326.0                        0.759801                   0.737977  ...   \n",
       "659002.0                        0.687998                   0.657447  ...   \n",
       "\n",
       "             回顾性视角（Backward-Looking Perspective）_Generic_相似度  \\\n",
       "CNTYGB_2010                                                    \n",
       "110101.0                                            0.676335   \n",
       "110102.0                                            0.675210   \n",
       "110103.0                                            0.644718   \n",
       "110104.0                                            0.652305   \n",
       "110105.0                                            0.694979   \n",
       "...                                                      ...   \n",
       "654322.0                                            0.671751   \n",
       "654323.0                                            0.636006   \n",
       "654324.0                                            0.661023   \n",
       "654326.0                                            0.666878   \n",
       "659002.0                                            0.671540   \n",
       "\n",
       "             宗族（Clan）_Specific_相似度  帝王（Emperors）_Specific_相似度  \\\n",
       "CNTYGB_2010                                                     \n",
       "110101.0                  0.665025                   0.682155   \n",
       "110102.0                  0.648872                   0.667515   \n",
       "110103.0                  0.646097                   0.643838   \n",
       "110104.0                  0.656039                   0.675243   \n",
       "110105.0                  0.667701                   0.661397   \n",
       "...                            ...                        ...   \n",
       "654322.0                  0.637731                   0.660240   \n",
       "654323.0                  0.683590                   0.681297   \n",
       "654324.0                  0.666074                   0.653307   \n",
       "654326.0                  0.662321                   0.639959   \n",
       "659002.0                  0.555946                   0.654699   \n",
       "\n",
       "             慈善（Charity）_Generic_相似度  \\\n",
       "CNTYGB_2010                            \n",
       "110101.0                    0.681010   \n",
       "110102.0                    0.691763   \n",
       "110103.0                    0.693388   \n",
       "110104.0                    0.695235   \n",
       "110105.0                    0.718864   \n",
       "...                              ...   \n",
       "654322.0                    0.693668   \n",
       "654323.0                    0.649749   \n",
       "654324.0                    0.712421   \n",
       "654326.0                    0.743025   \n",
       "659002.0                    0.685885   \n",
       "\n",
       "             儒家中的孝道（Filial Piety in Confucianism）_Generic_相似度  \\\n",
       "CNTYGB_2010                                                     \n",
       "110101.0                                             0.631417   \n",
       "110102.0                                             0.644656   \n",
       "110103.0                                             0.651957   \n",
       "110104.0                                             0.650681   \n",
       "110105.0                                             0.677642   \n",
       "...                                                       ...   \n",
       "654322.0                                             0.669422   \n",
       "654323.0                                             0.622921   \n",
       "654324.0                                             0.684642   \n",
       "654326.0                                             0.710068   \n",
       "659002.0                                             0.643576   \n",
       "\n",
       "             慈善（Charity）_Specific_反面_相似度  鬼神（Spirits and Deities）_Generic_相似度  \\\n",
       "CNTYGB_2010                                                                     \n",
       "110101.0                        0.648439                             0.691263   \n",
       "110102.0                        0.667948                             0.689054   \n",
       "110103.0                        0.666936                             0.669020   \n",
       "110104.0                        0.673213                             0.674190   \n",
       "110105.0                        0.689805                             0.724732   \n",
       "...                                  ...                                  ...   \n",
       "654322.0                        0.676831                             0.712349   \n",
       "654323.0                        0.652240                             0.689293   \n",
       "654324.0                        0.691103                             0.709314   \n",
       "654326.0                        0.698561                             0.677012   \n",
       "659002.0                        0.636713                             0.719067   \n",
       "\n",
       "             佛教（Buddhism）_Specific_相似度  规则遵循（Rule-Following）_Specific_中立_相似度  \\\n",
       "CNTYGB_2010                                                                    \n",
       "110101.0                      0.666983                              0.703684   \n",
       "110102.0                      0.686837                              0.710074   \n",
       "110103.0                      0.676592                              0.697597   \n",
       "110104.0                      0.674201                              0.708620   \n",
       "110105.0                      0.704376                              0.736459   \n",
       "...                                ...                                   ...   \n",
       "654322.0                      0.714185                              0.698105   \n",
       "654323.0                      0.664385                              0.666994   \n",
       "654324.0                      0.706534                              0.708426   \n",
       "654326.0                      0.716972                              0.685008   \n",
       "659002.0                      0.663115                              0.659868   \n",
       "\n",
       "             平等（Equality）_Specific_正面_相似度  \n",
       "CNTYGB_2010                                \n",
       "110101.0                         0.619692  \n",
       "110102.0                         0.623568  \n",
       "110103.0                         0.638531  \n",
       "110104.0                         0.642534  \n",
       "110105.0                         0.651165  \n",
       "...                                   ...  \n",
       "654322.0                         0.645308  \n",
       "654323.0                         0.637612  \n",
       "654324.0                         0.653234  \n",
       "654326.0                         0.650264  \n",
       "659002.0                         0.603580  \n",
       "\n",
       "[1721 rows x 54 columns]"
      ]
     },
     "execution_count": 35,
     "metadata": {},
     "output_type": "execute_result"
    }
   ],
   "source": [
    "import pandas as pd\n",
    "# 筛选列名包含“相似度”的列\n",
    "similarity_columns = [col for col in bert_similarity_scores_df.columns if '相似度' in col]\n",
    "# 按 CNTYGB_2010_y 分组并计算包含“相似度”列的平均值\n",
    "grouped_mean = bert_similarity_scores_df.groupby('CNTYGB_2010')[similarity_columns].mean()\n",
    "grouped_mean"
   ]
  },
  {
   "cell_type": "code",
   "execution_count": 36,
   "id": "ab86b6f6",
   "metadata": {},
   "outputs": [
    {
     "data": {
      "text/html": [
       "<div>\n",
       "<style scoped>\n",
       "    .dataframe tbody tr th:only-of-type {\n",
       "        vertical-align: middle;\n",
       "    }\n",
       "\n",
       "    .dataframe tbody tr th {\n",
       "        vertical-align: top;\n",
       "    }\n",
       "\n",
       "    .dataframe thead th {\n",
       "        text-align: right;\n",
       "    }\n",
       "</style>\n",
       "<table border=\"1\" class=\"dataframe\">\n",
       "  <thead>\n",
       "    <tr style=\"text-align: right;\">\n",
       "      <th></th>\n",
       "      <th>bert_similarity_规则遵循（Rule-Following）_Specific_正面</th>\n",
       "      <th>bert_similarity_信任（Trust）_Generic</th>\n",
       "      <th>bert_similarity_宗族（Clan）_Generic</th>\n",
       "      <th>bert_similarity_平等（Equality）_Specific_中立</th>\n",
       "      <th>bert_similarity_诚实（Honesty）_Specific_反面</th>\n",
       "      <th>bert_similarity_家庭纽带（Family Ties）_Specific</th>\n",
       "      <th>bert_similarity_儒家（Confucianism）_Generic</th>\n",
       "      <th>bert_similarity_慈善（Charity）_Specific_正面</th>\n",
       "      <th>bert_similarity_馈赠（Gift-Giving）_Generic</th>\n",
       "      <th>bert_similarity_长寿（Longevity）_Generic</th>\n",
       "      <th>...</th>\n",
       "      <th>bert_similarity_回顾性视角（Backward-Looking Perspective）_Generic</th>\n",
       "      <th>bert_similarity_宗族（Clan）_Specific</th>\n",
       "      <th>bert_similarity_帝王（Emperors）_Specific</th>\n",
       "      <th>bert_similarity_慈善（Charity）_Generic</th>\n",
       "      <th>bert_similarity_儒家中的孝道（Filial Piety in Confucianism）_Generic</th>\n",
       "      <th>bert_similarity_慈善（Charity）_Specific_反面</th>\n",
       "      <th>bert_similarity_鬼神（Spirits and Deities）_Generic</th>\n",
       "      <th>bert_similarity_佛教（Buddhism）_Specific</th>\n",
       "      <th>bert_similarity_规则遵循（Rule-Following）_Specific_中立</th>\n",
       "      <th>bert_similarity_平等（Equality）_Specific_正面</th>\n",
       "    </tr>\n",
       "    <tr>\n",
       "      <th>CNTYGB_2010</th>\n",
       "      <th></th>\n",
       "      <th></th>\n",
       "      <th></th>\n",
       "      <th></th>\n",
       "      <th></th>\n",
       "      <th></th>\n",
       "      <th></th>\n",
       "      <th></th>\n",
       "      <th></th>\n",
       "      <th></th>\n",
       "      <th></th>\n",
       "      <th></th>\n",
       "      <th></th>\n",
       "      <th></th>\n",
       "      <th></th>\n",
       "      <th></th>\n",
       "      <th></th>\n",
       "      <th></th>\n",
       "      <th></th>\n",
       "      <th></th>\n",
       "      <th></th>\n",
       "    </tr>\n",
       "  </thead>\n",
       "  <tbody>\n",
       "    <tr>\n",
       "      <th>110101.0</th>\n",
       "      <td>0.693669</td>\n",
       "      <td>0.689037</td>\n",
       "      <td>0.677550</td>\n",
       "      <td>0.681648</td>\n",
       "      <td>0.687689</td>\n",
       "      <td>0.679929</td>\n",
       "      <td>0.654873</td>\n",
       "      <td>0.642235</td>\n",
       "      <td>0.718348</td>\n",
       "      <td>0.691354</td>\n",
       "      <td>...</td>\n",
       "      <td>0.676335</td>\n",
       "      <td>0.665025</td>\n",
       "      <td>0.682155</td>\n",
       "      <td>0.681010</td>\n",
       "      <td>0.631417</td>\n",
       "      <td>0.648439</td>\n",
       "      <td>0.691263</td>\n",
       "      <td>0.666983</td>\n",
       "      <td>0.703684</td>\n",
       "      <td>0.619692</td>\n",
       "    </tr>\n",
       "    <tr>\n",
       "      <th>110102.0</th>\n",
       "      <td>0.694088</td>\n",
       "      <td>0.692399</td>\n",
       "      <td>0.688139</td>\n",
       "      <td>0.685772</td>\n",
       "      <td>0.683743</td>\n",
       "      <td>0.693405</td>\n",
       "      <td>0.660171</td>\n",
       "      <td>0.659001</td>\n",
       "      <td>0.723015</td>\n",
       "      <td>0.704670</td>\n",
       "      <td>...</td>\n",
       "      <td>0.675210</td>\n",
       "      <td>0.648872</td>\n",
       "      <td>0.667515</td>\n",
       "      <td>0.691763</td>\n",
       "      <td>0.644656</td>\n",
       "      <td>0.667948</td>\n",
       "      <td>0.689054</td>\n",
       "      <td>0.686837</td>\n",
       "      <td>0.710074</td>\n",
       "      <td>0.623568</td>\n",
       "    </tr>\n",
       "    <tr>\n",
       "      <th>110103.0</th>\n",
       "      <td>0.675598</td>\n",
       "      <td>0.690344</td>\n",
       "      <td>0.676150</td>\n",
       "      <td>0.679599</td>\n",
       "      <td>0.678446</td>\n",
       "      <td>0.685001</td>\n",
       "      <td>0.662480</td>\n",
       "      <td>0.660149</td>\n",
       "      <td>0.721540</td>\n",
       "      <td>0.688712</td>\n",
       "      <td>...</td>\n",
       "      <td>0.644718</td>\n",
       "      <td>0.646097</td>\n",
       "      <td>0.643838</td>\n",
       "      <td>0.693388</td>\n",
       "      <td>0.651957</td>\n",
       "      <td>0.666936</td>\n",
       "      <td>0.669020</td>\n",
       "      <td>0.676592</td>\n",
       "      <td>0.697597</td>\n",
       "      <td>0.638531</td>\n",
       "    </tr>\n",
       "    <tr>\n",
       "      <th>110104.0</th>\n",
       "      <td>0.686723</td>\n",
       "      <td>0.703132</td>\n",
       "      <td>0.680675</td>\n",
       "      <td>0.680892</td>\n",
       "      <td>0.689792</td>\n",
       "      <td>0.691175</td>\n",
       "      <td>0.678063</td>\n",
       "      <td>0.668907</td>\n",
       "      <td>0.719964</td>\n",
       "      <td>0.702806</td>\n",
       "      <td>...</td>\n",
       "      <td>0.652305</td>\n",
       "      <td>0.656039</td>\n",
       "      <td>0.675243</td>\n",
       "      <td>0.695235</td>\n",
       "      <td>0.650681</td>\n",
       "      <td>0.673213</td>\n",
       "      <td>0.674190</td>\n",
       "      <td>0.674201</td>\n",
       "      <td>0.708620</td>\n",
       "      <td>0.642534</td>\n",
       "    </tr>\n",
       "    <tr>\n",
       "      <th>110105.0</th>\n",
       "      <td>0.721604</td>\n",
       "      <td>0.719428</td>\n",
       "      <td>0.698556</td>\n",
       "      <td>0.714636</td>\n",
       "      <td>0.698519</td>\n",
       "      <td>0.715540</td>\n",
       "      <td>0.684137</td>\n",
       "      <td>0.692003</td>\n",
       "      <td>0.737436</td>\n",
       "      <td>0.739319</td>\n",
       "      <td>...</td>\n",
       "      <td>0.694979</td>\n",
       "      <td>0.667701</td>\n",
       "      <td>0.661397</td>\n",
       "      <td>0.718864</td>\n",
       "      <td>0.677642</td>\n",
       "      <td>0.689805</td>\n",
       "      <td>0.724732</td>\n",
       "      <td>0.704376</td>\n",
       "      <td>0.736459</td>\n",
       "      <td>0.651165</td>\n",
       "    </tr>\n",
       "    <tr>\n",
       "      <th>...</th>\n",
       "      <td>...</td>\n",
       "      <td>...</td>\n",
       "      <td>...</td>\n",
       "      <td>...</td>\n",
       "      <td>...</td>\n",
       "      <td>...</td>\n",
       "      <td>...</td>\n",
       "      <td>...</td>\n",
       "      <td>...</td>\n",
       "      <td>...</td>\n",
       "      <td>...</td>\n",
       "      <td>...</td>\n",
       "      <td>...</td>\n",
       "      <td>...</td>\n",
       "      <td>...</td>\n",
       "      <td>...</td>\n",
       "      <td>...</td>\n",
       "      <td>...</td>\n",
       "      <td>...</td>\n",
       "      <td>...</td>\n",
       "      <td>...</td>\n",
       "    </tr>\n",
       "    <tr>\n",
       "      <th>654322.0</th>\n",
       "      <td>0.689676</td>\n",
       "      <td>0.715872</td>\n",
       "      <td>0.682992</td>\n",
       "      <td>0.697813</td>\n",
       "      <td>0.649545</td>\n",
       "      <td>0.722225</td>\n",
       "      <td>0.670779</td>\n",
       "      <td>0.688378</td>\n",
       "      <td>0.691909</td>\n",
       "      <td>0.704036</td>\n",
       "      <td>...</td>\n",
       "      <td>0.671751</td>\n",
       "      <td>0.637731</td>\n",
       "      <td>0.660240</td>\n",
       "      <td>0.693668</td>\n",
       "      <td>0.669422</td>\n",
       "      <td>0.676831</td>\n",
       "      <td>0.712349</td>\n",
       "      <td>0.714185</td>\n",
       "      <td>0.698105</td>\n",
       "      <td>0.645308</td>\n",
       "    </tr>\n",
       "    <tr>\n",
       "      <th>654323.0</th>\n",
       "      <td>0.661726</td>\n",
       "      <td>0.688718</td>\n",
       "      <td>0.706831</td>\n",
       "      <td>0.677450</td>\n",
       "      <td>0.678581</td>\n",
       "      <td>0.689411</td>\n",
       "      <td>0.672605</td>\n",
       "      <td>0.647748</td>\n",
       "      <td>0.656756</td>\n",
       "      <td>0.706992</td>\n",
       "      <td>...</td>\n",
       "      <td>0.636006</td>\n",
       "      <td>0.683590</td>\n",
       "      <td>0.681297</td>\n",
       "      <td>0.649749</td>\n",
       "      <td>0.622921</td>\n",
       "      <td>0.652240</td>\n",
       "      <td>0.689293</td>\n",
       "      <td>0.664385</td>\n",
       "      <td>0.666994</td>\n",
       "      <td>0.637612</td>\n",
       "    </tr>\n",
       "    <tr>\n",
       "      <th>654324.0</th>\n",
       "      <td>0.693598</td>\n",
       "      <td>0.721122</td>\n",
       "      <td>0.698729</td>\n",
       "      <td>0.706240</td>\n",
       "      <td>0.653347</td>\n",
       "      <td>0.736984</td>\n",
       "      <td>0.678674</td>\n",
       "      <td>0.689523</td>\n",
       "      <td>0.726155</td>\n",
       "      <td>0.712042</td>\n",
       "      <td>...</td>\n",
       "      <td>0.661023</td>\n",
       "      <td>0.666074</td>\n",
       "      <td>0.653307</td>\n",
       "      <td>0.712421</td>\n",
       "      <td>0.684642</td>\n",
       "      <td>0.691103</td>\n",
       "      <td>0.709314</td>\n",
       "      <td>0.706534</td>\n",
       "      <td>0.708426</td>\n",
       "      <td>0.653234</td>\n",
       "    </tr>\n",
       "    <tr>\n",
       "      <th>654326.0</th>\n",
       "      <td>0.690318</td>\n",
       "      <td>0.691506</td>\n",
       "      <td>0.700173</td>\n",
       "      <td>0.693829</td>\n",
       "      <td>0.648174</td>\n",
       "      <td>0.719580</td>\n",
       "      <td>0.653165</td>\n",
       "      <td>0.716280</td>\n",
       "      <td>0.759801</td>\n",
       "      <td>0.737977</td>\n",
       "      <td>...</td>\n",
       "      <td>0.666878</td>\n",
       "      <td>0.662321</td>\n",
       "      <td>0.639959</td>\n",
       "      <td>0.743025</td>\n",
       "      <td>0.710068</td>\n",
       "      <td>0.698561</td>\n",
       "      <td>0.677012</td>\n",
       "      <td>0.716972</td>\n",
       "      <td>0.685008</td>\n",
       "      <td>0.650264</td>\n",
       "    </tr>\n",
       "    <tr>\n",
       "      <th>659002.0</th>\n",
       "      <td>0.674943</td>\n",
       "      <td>0.666050</td>\n",
       "      <td>0.642908</td>\n",
       "      <td>0.641485</td>\n",
       "      <td>0.632246</td>\n",
       "      <td>0.693924</td>\n",
       "      <td>0.636750</td>\n",
       "      <td>0.649716</td>\n",
       "      <td>0.687998</td>\n",
       "      <td>0.657447</td>\n",
       "      <td>...</td>\n",
       "      <td>0.671540</td>\n",
       "      <td>0.555946</td>\n",
       "      <td>0.654699</td>\n",
       "      <td>0.685885</td>\n",
       "      <td>0.643576</td>\n",
       "      <td>0.636713</td>\n",
       "      <td>0.719067</td>\n",
       "      <td>0.663115</td>\n",
       "      <td>0.659868</td>\n",
       "      <td>0.603580</td>\n",
       "    </tr>\n",
       "  </tbody>\n",
       "</table>\n",
       "<p>1721 rows × 54 columns</p>\n",
       "</div>"
      ],
      "text/plain": [
       "             bert_similarity_规则遵循（Rule-Following）_Specific_正面  \\\n",
       "CNTYGB_2010                                                     \n",
       "110101.0                                             0.693669   \n",
       "110102.0                                             0.694088   \n",
       "110103.0                                             0.675598   \n",
       "110104.0                                             0.686723   \n",
       "110105.0                                             0.721604   \n",
       "...                                                       ...   \n",
       "654322.0                                             0.689676   \n",
       "654323.0                                             0.661726   \n",
       "654324.0                                             0.693598   \n",
       "654326.0                                             0.690318   \n",
       "659002.0                                             0.674943   \n",
       "\n",
       "             bert_similarity_信任（Trust）_Generic  \\\n",
       "CNTYGB_2010                                      \n",
       "110101.0                              0.689037   \n",
       "110102.0                              0.692399   \n",
       "110103.0                              0.690344   \n",
       "110104.0                              0.703132   \n",
       "110105.0                              0.719428   \n",
       "...                                        ...   \n",
       "654322.0                              0.715872   \n",
       "654323.0                              0.688718   \n",
       "654324.0                              0.721122   \n",
       "654326.0                              0.691506   \n",
       "659002.0                              0.666050   \n",
       "\n",
       "             bert_similarity_宗族（Clan）_Generic  \\\n",
       "CNTYGB_2010                                     \n",
       "110101.0                             0.677550   \n",
       "110102.0                             0.688139   \n",
       "110103.0                             0.676150   \n",
       "110104.0                             0.680675   \n",
       "110105.0                             0.698556   \n",
       "...                                       ...   \n",
       "654322.0                             0.682992   \n",
       "654323.0                             0.706831   \n",
       "654324.0                             0.698729   \n",
       "654326.0                             0.700173   \n",
       "659002.0                             0.642908   \n",
       "\n",
       "             bert_similarity_平等（Equality）_Specific_中立  \\\n",
       "CNTYGB_2010                                             \n",
       "110101.0                                     0.681648   \n",
       "110102.0                                     0.685772   \n",
       "110103.0                                     0.679599   \n",
       "110104.0                                     0.680892   \n",
       "110105.0                                     0.714636   \n",
       "...                                               ...   \n",
       "654322.0                                     0.697813   \n",
       "654323.0                                     0.677450   \n",
       "654324.0                                     0.706240   \n",
       "654326.0                                     0.693829   \n",
       "659002.0                                     0.641485   \n",
       "\n",
       "             bert_similarity_诚实（Honesty）_Specific_反面  \\\n",
       "CNTYGB_2010                                            \n",
       "110101.0                                    0.687689   \n",
       "110102.0                                    0.683743   \n",
       "110103.0                                    0.678446   \n",
       "110104.0                                    0.689792   \n",
       "110105.0                                    0.698519   \n",
       "...                                              ...   \n",
       "654322.0                                    0.649545   \n",
       "654323.0                                    0.678581   \n",
       "654324.0                                    0.653347   \n",
       "654326.0                                    0.648174   \n",
       "659002.0                                    0.632246   \n",
       "\n",
       "             bert_similarity_家庭纽带（Family Ties）_Specific  \\\n",
       "CNTYGB_2010                                               \n",
       "110101.0                                       0.679929   \n",
       "110102.0                                       0.693405   \n",
       "110103.0                                       0.685001   \n",
       "110104.0                                       0.691175   \n",
       "110105.0                                       0.715540   \n",
       "...                                                 ...   \n",
       "654322.0                                       0.722225   \n",
       "654323.0                                       0.689411   \n",
       "654324.0                                       0.736984   \n",
       "654326.0                                       0.719580   \n",
       "659002.0                                       0.693924   \n",
       "\n",
       "             bert_similarity_儒家（Confucianism）_Generic  \\\n",
       "CNTYGB_2010                                             \n",
       "110101.0                                     0.654873   \n",
       "110102.0                                     0.660171   \n",
       "110103.0                                     0.662480   \n",
       "110104.0                                     0.678063   \n",
       "110105.0                                     0.684137   \n",
       "...                                               ...   \n",
       "654322.0                                     0.670779   \n",
       "654323.0                                     0.672605   \n",
       "654324.0                                     0.678674   \n",
       "654326.0                                     0.653165   \n",
       "659002.0                                     0.636750   \n",
       "\n",
       "             bert_similarity_慈善（Charity）_Specific_正面  \\\n",
       "CNTYGB_2010                                            \n",
       "110101.0                                    0.642235   \n",
       "110102.0                                    0.659001   \n",
       "110103.0                                    0.660149   \n",
       "110104.0                                    0.668907   \n",
       "110105.0                                    0.692003   \n",
       "...                                              ...   \n",
       "654322.0                                    0.688378   \n",
       "654323.0                                    0.647748   \n",
       "654324.0                                    0.689523   \n",
       "654326.0                                    0.716280   \n",
       "659002.0                                    0.649716   \n",
       "\n",
       "             bert_similarity_馈赠（Gift-Giving）_Generic  \\\n",
       "CNTYGB_2010                                            \n",
       "110101.0                                    0.718348   \n",
       "110102.0                                    0.723015   \n",
       "110103.0                                    0.721540   \n",
       "110104.0                                    0.719964   \n",
       "110105.0                                    0.737436   \n",
       "...                                              ...   \n",
       "654322.0                                    0.691909   \n",
       "654323.0                                    0.656756   \n",
       "654324.0                                    0.726155   \n",
       "654326.0                                    0.759801   \n",
       "659002.0                                    0.687998   \n",
       "\n",
       "             bert_similarity_长寿（Longevity）_Generic  ...  \\\n",
       "CNTYGB_2010                                         ...   \n",
       "110101.0                                  0.691354  ...   \n",
       "110102.0                                  0.704670  ...   \n",
       "110103.0                                  0.688712  ...   \n",
       "110104.0                                  0.702806  ...   \n",
       "110105.0                                  0.739319  ...   \n",
       "...                                            ...  ...   \n",
       "654322.0                                  0.704036  ...   \n",
       "654323.0                                  0.706992  ...   \n",
       "654324.0                                  0.712042  ...   \n",
       "654326.0                                  0.737977  ...   \n",
       "659002.0                                  0.657447  ...   \n",
       "\n",
       "             bert_similarity_回顾性视角（Backward-Looking Perspective）_Generic  \\\n",
       "CNTYGB_2010                                                                \n",
       "110101.0                                              0.676335             \n",
       "110102.0                                              0.675210             \n",
       "110103.0                                              0.644718             \n",
       "110104.0                                              0.652305             \n",
       "110105.0                                              0.694979             \n",
       "...                                                        ...             \n",
       "654322.0                                              0.671751             \n",
       "654323.0                                              0.636006             \n",
       "654324.0                                              0.661023             \n",
       "654326.0                                              0.666878             \n",
       "659002.0                                              0.671540             \n",
       "\n",
       "             bert_similarity_宗族（Clan）_Specific  \\\n",
       "CNTYGB_2010                                      \n",
       "110101.0                              0.665025   \n",
       "110102.0                              0.648872   \n",
       "110103.0                              0.646097   \n",
       "110104.0                              0.656039   \n",
       "110105.0                              0.667701   \n",
       "...                                        ...   \n",
       "654322.0                              0.637731   \n",
       "654323.0                              0.683590   \n",
       "654324.0                              0.666074   \n",
       "654326.0                              0.662321   \n",
       "659002.0                              0.555946   \n",
       "\n",
       "             bert_similarity_帝王（Emperors）_Specific  \\\n",
       "CNTYGB_2010                                          \n",
       "110101.0                                  0.682155   \n",
       "110102.0                                  0.667515   \n",
       "110103.0                                  0.643838   \n",
       "110104.0                                  0.675243   \n",
       "110105.0                                  0.661397   \n",
       "...                                            ...   \n",
       "654322.0                                  0.660240   \n",
       "654323.0                                  0.681297   \n",
       "654324.0                                  0.653307   \n",
       "654326.0                                  0.639959   \n",
       "659002.0                                  0.654699   \n",
       "\n",
       "             bert_similarity_慈善（Charity）_Generic  \\\n",
       "CNTYGB_2010                                        \n",
       "110101.0                                0.681010   \n",
       "110102.0                                0.691763   \n",
       "110103.0                                0.693388   \n",
       "110104.0                                0.695235   \n",
       "110105.0                                0.718864   \n",
       "...                                          ...   \n",
       "654322.0                                0.693668   \n",
       "654323.0                                0.649749   \n",
       "654324.0                                0.712421   \n",
       "654326.0                                0.743025   \n",
       "659002.0                                0.685885   \n",
       "\n",
       "             bert_similarity_儒家中的孝道（Filial Piety in Confucianism）_Generic  \\\n",
       "CNTYGB_2010                                                                 \n",
       "110101.0                                              0.631417              \n",
       "110102.0                                              0.644656              \n",
       "110103.0                                              0.651957              \n",
       "110104.0                                              0.650681              \n",
       "110105.0                                              0.677642              \n",
       "...                                                        ...              \n",
       "654322.0                                              0.669422              \n",
       "654323.0                                              0.622921              \n",
       "654324.0                                              0.684642              \n",
       "654326.0                                              0.710068              \n",
       "659002.0                                              0.643576              \n",
       "\n",
       "             bert_similarity_慈善（Charity）_Specific_反面  \\\n",
       "CNTYGB_2010                                            \n",
       "110101.0                                    0.648439   \n",
       "110102.0                                    0.667948   \n",
       "110103.0                                    0.666936   \n",
       "110104.0                                    0.673213   \n",
       "110105.0                                    0.689805   \n",
       "...                                              ...   \n",
       "654322.0                                    0.676831   \n",
       "654323.0                                    0.652240   \n",
       "654324.0                                    0.691103   \n",
       "654326.0                                    0.698561   \n",
       "659002.0                                    0.636713   \n",
       "\n",
       "             bert_similarity_鬼神（Spirits and Deities）_Generic  \\\n",
       "CNTYGB_2010                                                    \n",
       "110101.0                                            0.691263   \n",
       "110102.0                                            0.689054   \n",
       "110103.0                                            0.669020   \n",
       "110104.0                                            0.674190   \n",
       "110105.0                                            0.724732   \n",
       "...                                                      ...   \n",
       "654322.0                                            0.712349   \n",
       "654323.0                                            0.689293   \n",
       "654324.0                                            0.709314   \n",
       "654326.0                                            0.677012   \n",
       "659002.0                                            0.719067   \n",
       "\n",
       "             bert_similarity_佛教（Buddhism）_Specific  \\\n",
       "CNTYGB_2010                                          \n",
       "110101.0                                  0.666983   \n",
       "110102.0                                  0.686837   \n",
       "110103.0                                  0.676592   \n",
       "110104.0                                  0.674201   \n",
       "110105.0                                  0.704376   \n",
       "...                                            ...   \n",
       "654322.0                                  0.714185   \n",
       "654323.0                                  0.664385   \n",
       "654324.0                                  0.706534   \n",
       "654326.0                                  0.716972   \n",
       "659002.0                                  0.663115   \n",
       "\n",
       "             bert_similarity_规则遵循（Rule-Following）_Specific_中立  \\\n",
       "CNTYGB_2010                                                     \n",
       "110101.0                                             0.703684   \n",
       "110102.0                                             0.710074   \n",
       "110103.0                                             0.697597   \n",
       "110104.0                                             0.708620   \n",
       "110105.0                                             0.736459   \n",
       "...                                                       ...   \n",
       "654322.0                                             0.698105   \n",
       "654323.0                                             0.666994   \n",
       "654324.0                                             0.708426   \n",
       "654326.0                                             0.685008   \n",
       "659002.0                                             0.659868   \n",
       "\n",
       "             bert_similarity_平等（Equality）_Specific_正面  \n",
       "CNTYGB_2010                                            \n",
       "110101.0                                     0.619692  \n",
       "110102.0                                     0.623568  \n",
       "110103.0                                     0.638531  \n",
       "110104.0                                     0.642534  \n",
       "110105.0                                     0.651165  \n",
       "...                                               ...  \n",
       "654322.0                                     0.645308  \n",
       "654323.0                                     0.637612  \n",
       "654324.0                                     0.653234  \n",
       "654326.0                                     0.650264  \n",
       "659002.0                                     0.603580  \n",
       "\n",
       "[1721 rows x 54 columns]"
      ]
     },
     "execution_count": 36,
     "metadata": {},
     "output_type": "execute_result"
    }
   ],
   "source": [
    "# 替换列名为统一格式，去掉结尾的“_相似度”\n",
    "grouped_mean.rename(\n",
    "    columns=lambda x: f\"bert_similarity_{x.rsplit('_相似度', 1)[0]}\" if x.endswith('_相似度') else x,\n",
    "    inplace=True\n",
    ")\n",
    "\n",
    "grouped_mean"
   ]
  },
  {
   "cell_type": "code",
   "execution_count": 37,
   "id": "9ae05e1d",
   "metadata": {},
   "outputs": [
    {
     "data": {
      "text/html": [
       "<div>\n",
       "<style scoped>\n",
       "    .dataframe tbody tr th:only-of-type {\n",
       "        vertical-align: middle;\n",
       "    }\n",
       "\n",
       "    .dataframe tbody tr th {\n",
       "        vertical-align: top;\n",
       "    }\n",
       "\n",
       "    .dataframe thead th {\n",
       "        text-align: right;\n",
       "    }\n",
       "</style>\n",
       "<table border=\"1\" class=\"dataframe\">\n",
       "  <thead>\n",
       "    <tr style=\"text-align: right;\">\n",
       "      <th></th>\n",
       "      <th>CNTYGB_2010</th>\n",
       "      <th>bert_similarity_规则遵循（Rule-Following）_Specific_正面</th>\n",
       "      <th>bert_similarity_信任（Trust）_Generic</th>\n",
       "      <th>bert_similarity_宗族（Clan）_Generic</th>\n",
       "      <th>bert_similarity_平等（Equality）_Specific_中立</th>\n",
       "      <th>bert_similarity_诚实（Honesty）_Specific_反面</th>\n",
       "      <th>bert_similarity_家庭纽带（Family Ties）_Specific</th>\n",
       "      <th>bert_similarity_儒家（Confucianism）_Generic</th>\n",
       "      <th>bert_similarity_慈善（Charity）_Specific_正面</th>\n",
       "      <th>bert_similarity_馈赠（Gift-Giving）_Generic</th>\n",
       "      <th>...</th>\n",
       "      <th>bert_similarity_回顾性视角（Backward-Looking Perspective）_Generic</th>\n",
       "      <th>bert_similarity_宗族（Clan）_Specific</th>\n",
       "      <th>bert_similarity_帝王（Emperors）_Specific</th>\n",
       "      <th>bert_similarity_慈善（Charity）_Generic</th>\n",
       "      <th>bert_similarity_儒家中的孝道（Filial Piety in Confucianism）_Generic</th>\n",
       "      <th>bert_similarity_慈善（Charity）_Specific_反面</th>\n",
       "      <th>bert_similarity_鬼神（Spirits and Deities）_Generic</th>\n",
       "      <th>bert_similarity_佛教（Buddhism）_Specific</th>\n",
       "      <th>bert_similarity_规则遵循（Rule-Following）_Specific_中立</th>\n",
       "      <th>bert_similarity_平等（Equality）_Specific_正面</th>\n",
       "    </tr>\n",
       "  </thead>\n",
       "  <tbody>\n",
       "    <tr>\n",
       "      <th>0</th>\n",
       "      <td>110101</td>\n",
       "      <td>0.693669</td>\n",
       "      <td>0.689037</td>\n",
       "      <td>0.677550</td>\n",
       "      <td>0.681648</td>\n",
       "      <td>0.687689</td>\n",
       "      <td>0.679929</td>\n",
       "      <td>0.654873</td>\n",
       "      <td>0.642235</td>\n",
       "      <td>0.718348</td>\n",
       "      <td>...</td>\n",
       "      <td>0.676335</td>\n",
       "      <td>0.665025</td>\n",
       "      <td>0.682155</td>\n",
       "      <td>0.681010</td>\n",
       "      <td>0.631417</td>\n",
       "      <td>0.648439</td>\n",
       "      <td>0.691263</td>\n",
       "      <td>0.666983</td>\n",
       "      <td>0.703684</td>\n",
       "      <td>0.619692</td>\n",
       "    </tr>\n",
       "    <tr>\n",
       "      <th>1</th>\n",
       "      <td>110102</td>\n",
       "      <td>0.694088</td>\n",
       "      <td>0.692399</td>\n",
       "      <td>0.688139</td>\n",
       "      <td>0.685772</td>\n",
       "      <td>0.683743</td>\n",
       "      <td>0.693405</td>\n",
       "      <td>0.660171</td>\n",
       "      <td>0.659001</td>\n",
       "      <td>0.723015</td>\n",
       "      <td>...</td>\n",
       "      <td>0.675210</td>\n",
       "      <td>0.648872</td>\n",
       "      <td>0.667515</td>\n",
       "      <td>0.691763</td>\n",
       "      <td>0.644656</td>\n",
       "      <td>0.667948</td>\n",
       "      <td>0.689054</td>\n",
       "      <td>0.686837</td>\n",
       "      <td>0.710074</td>\n",
       "      <td>0.623568</td>\n",
       "    </tr>\n",
       "    <tr>\n",
       "      <th>2</th>\n",
       "      <td>110103</td>\n",
       "      <td>0.675598</td>\n",
       "      <td>0.690344</td>\n",
       "      <td>0.676150</td>\n",
       "      <td>0.679599</td>\n",
       "      <td>0.678446</td>\n",
       "      <td>0.685001</td>\n",
       "      <td>0.662480</td>\n",
       "      <td>0.660149</td>\n",
       "      <td>0.721540</td>\n",
       "      <td>...</td>\n",
       "      <td>0.644718</td>\n",
       "      <td>0.646097</td>\n",
       "      <td>0.643838</td>\n",
       "      <td>0.693388</td>\n",
       "      <td>0.651957</td>\n",
       "      <td>0.666936</td>\n",
       "      <td>0.669020</td>\n",
       "      <td>0.676592</td>\n",
       "      <td>0.697597</td>\n",
       "      <td>0.638531</td>\n",
       "    </tr>\n",
       "    <tr>\n",
       "      <th>3</th>\n",
       "      <td>110104</td>\n",
       "      <td>0.686723</td>\n",
       "      <td>0.703132</td>\n",
       "      <td>0.680675</td>\n",
       "      <td>0.680892</td>\n",
       "      <td>0.689792</td>\n",
       "      <td>0.691175</td>\n",
       "      <td>0.678063</td>\n",
       "      <td>0.668907</td>\n",
       "      <td>0.719964</td>\n",
       "      <td>...</td>\n",
       "      <td>0.652305</td>\n",
       "      <td>0.656039</td>\n",
       "      <td>0.675243</td>\n",
       "      <td>0.695235</td>\n",
       "      <td>0.650681</td>\n",
       "      <td>0.673213</td>\n",
       "      <td>0.674190</td>\n",
       "      <td>0.674201</td>\n",
       "      <td>0.708620</td>\n",
       "      <td>0.642534</td>\n",
       "    </tr>\n",
       "    <tr>\n",
       "      <th>4</th>\n",
       "      <td>110105</td>\n",
       "      <td>0.721604</td>\n",
       "      <td>0.719428</td>\n",
       "      <td>0.698556</td>\n",
       "      <td>0.714636</td>\n",
       "      <td>0.698519</td>\n",
       "      <td>0.715540</td>\n",
       "      <td>0.684137</td>\n",
       "      <td>0.692003</td>\n",
       "      <td>0.737436</td>\n",
       "      <td>...</td>\n",
       "      <td>0.694979</td>\n",
       "      <td>0.667701</td>\n",
       "      <td>0.661397</td>\n",
       "      <td>0.718864</td>\n",
       "      <td>0.677642</td>\n",
       "      <td>0.689805</td>\n",
       "      <td>0.724732</td>\n",
       "      <td>0.704376</td>\n",
       "      <td>0.736459</td>\n",
       "      <td>0.651165</td>\n",
       "    </tr>\n",
       "    <tr>\n",
       "      <th>...</th>\n",
       "      <td>...</td>\n",
       "      <td>...</td>\n",
       "      <td>...</td>\n",
       "      <td>...</td>\n",
       "      <td>...</td>\n",
       "      <td>...</td>\n",
       "      <td>...</td>\n",
       "      <td>...</td>\n",
       "      <td>...</td>\n",
       "      <td>...</td>\n",
       "      <td>...</td>\n",
       "      <td>...</td>\n",
       "      <td>...</td>\n",
       "      <td>...</td>\n",
       "      <td>...</td>\n",
       "      <td>...</td>\n",
       "      <td>...</td>\n",
       "      <td>...</td>\n",
       "      <td>...</td>\n",
       "      <td>...</td>\n",
       "      <td>...</td>\n",
       "    </tr>\n",
       "    <tr>\n",
       "      <th>1716</th>\n",
       "      <td>654322</td>\n",
       "      <td>0.689676</td>\n",
       "      <td>0.715872</td>\n",
       "      <td>0.682992</td>\n",
       "      <td>0.697813</td>\n",
       "      <td>0.649545</td>\n",
       "      <td>0.722225</td>\n",
       "      <td>0.670779</td>\n",
       "      <td>0.688378</td>\n",
       "      <td>0.691909</td>\n",
       "      <td>...</td>\n",
       "      <td>0.671751</td>\n",
       "      <td>0.637731</td>\n",
       "      <td>0.660240</td>\n",
       "      <td>0.693668</td>\n",
       "      <td>0.669422</td>\n",
       "      <td>0.676831</td>\n",
       "      <td>0.712349</td>\n",
       "      <td>0.714185</td>\n",
       "      <td>0.698105</td>\n",
       "      <td>0.645308</td>\n",
       "    </tr>\n",
       "    <tr>\n",
       "      <th>1717</th>\n",
       "      <td>654323</td>\n",
       "      <td>0.661726</td>\n",
       "      <td>0.688718</td>\n",
       "      <td>0.706831</td>\n",
       "      <td>0.677450</td>\n",
       "      <td>0.678581</td>\n",
       "      <td>0.689411</td>\n",
       "      <td>0.672605</td>\n",
       "      <td>0.647748</td>\n",
       "      <td>0.656756</td>\n",
       "      <td>...</td>\n",
       "      <td>0.636006</td>\n",
       "      <td>0.683590</td>\n",
       "      <td>0.681297</td>\n",
       "      <td>0.649749</td>\n",
       "      <td>0.622921</td>\n",
       "      <td>0.652240</td>\n",
       "      <td>0.689293</td>\n",
       "      <td>0.664385</td>\n",
       "      <td>0.666994</td>\n",
       "      <td>0.637612</td>\n",
       "    </tr>\n",
       "    <tr>\n",
       "      <th>1718</th>\n",
       "      <td>654324</td>\n",
       "      <td>0.693598</td>\n",
       "      <td>0.721122</td>\n",
       "      <td>0.698729</td>\n",
       "      <td>0.706240</td>\n",
       "      <td>0.653347</td>\n",
       "      <td>0.736984</td>\n",
       "      <td>0.678674</td>\n",
       "      <td>0.689523</td>\n",
       "      <td>0.726155</td>\n",
       "      <td>...</td>\n",
       "      <td>0.661023</td>\n",
       "      <td>0.666074</td>\n",
       "      <td>0.653307</td>\n",
       "      <td>0.712421</td>\n",
       "      <td>0.684642</td>\n",
       "      <td>0.691103</td>\n",
       "      <td>0.709314</td>\n",
       "      <td>0.706534</td>\n",
       "      <td>0.708426</td>\n",
       "      <td>0.653234</td>\n",
       "    </tr>\n",
       "    <tr>\n",
       "      <th>1719</th>\n",
       "      <td>654326</td>\n",
       "      <td>0.690318</td>\n",
       "      <td>0.691506</td>\n",
       "      <td>0.700173</td>\n",
       "      <td>0.693829</td>\n",
       "      <td>0.648174</td>\n",
       "      <td>0.719580</td>\n",
       "      <td>0.653165</td>\n",
       "      <td>0.716280</td>\n",
       "      <td>0.759801</td>\n",
       "      <td>...</td>\n",
       "      <td>0.666878</td>\n",
       "      <td>0.662321</td>\n",
       "      <td>0.639959</td>\n",
       "      <td>0.743025</td>\n",
       "      <td>0.710068</td>\n",
       "      <td>0.698561</td>\n",
       "      <td>0.677012</td>\n",
       "      <td>0.716972</td>\n",
       "      <td>0.685008</td>\n",
       "      <td>0.650264</td>\n",
       "    </tr>\n",
       "    <tr>\n",
       "      <th>1720</th>\n",
       "      <td>659002</td>\n",
       "      <td>0.674943</td>\n",
       "      <td>0.666050</td>\n",
       "      <td>0.642908</td>\n",
       "      <td>0.641485</td>\n",
       "      <td>0.632246</td>\n",
       "      <td>0.693924</td>\n",
       "      <td>0.636750</td>\n",
       "      <td>0.649716</td>\n",
       "      <td>0.687998</td>\n",
       "      <td>...</td>\n",
       "      <td>0.671540</td>\n",
       "      <td>0.555946</td>\n",
       "      <td>0.654699</td>\n",
       "      <td>0.685885</td>\n",
       "      <td>0.643576</td>\n",
       "      <td>0.636713</td>\n",
       "      <td>0.719067</td>\n",
       "      <td>0.663115</td>\n",
       "      <td>0.659868</td>\n",
       "      <td>0.603580</td>\n",
       "    </tr>\n",
       "  </tbody>\n",
       "</table>\n",
       "<p>1721 rows × 55 columns</p>\n",
       "</div>"
      ],
      "text/plain": [
       "      CNTYGB_2010  bert_similarity_规则遵循（Rule-Following）_Specific_正面  \\\n",
       "0          110101                                          0.693669   \n",
       "1          110102                                          0.694088   \n",
       "2          110103                                          0.675598   \n",
       "3          110104                                          0.686723   \n",
       "4          110105                                          0.721604   \n",
       "...           ...                                               ...   \n",
       "1716       654322                                          0.689676   \n",
       "1717       654323                                          0.661726   \n",
       "1718       654324                                          0.693598   \n",
       "1719       654326                                          0.690318   \n",
       "1720       659002                                          0.674943   \n",
       "\n",
       "      bert_similarity_信任（Trust）_Generic  bert_similarity_宗族（Clan）_Generic  \\\n",
       "0                              0.689037                          0.677550   \n",
       "1                              0.692399                          0.688139   \n",
       "2                              0.690344                          0.676150   \n",
       "3                              0.703132                          0.680675   \n",
       "4                              0.719428                          0.698556   \n",
       "...                                 ...                               ...   \n",
       "1716                           0.715872                          0.682992   \n",
       "1717                           0.688718                          0.706831   \n",
       "1718                           0.721122                          0.698729   \n",
       "1719                           0.691506                          0.700173   \n",
       "1720                           0.666050                          0.642908   \n",
       "\n",
       "      bert_similarity_平等（Equality）_Specific_中立  \\\n",
       "0                                     0.681648   \n",
       "1                                     0.685772   \n",
       "2                                     0.679599   \n",
       "3                                     0.680892   \n",
       "4                                     0.714636   \n",
       "...                                        ...   \n",
       "1716                                  0.697813   \n",
       "1717                                  0.677450   \n",
       "1718                                  0.706240   \n",
       "1719                                  0.693829   \n",
       "1720                                  0.641485   \n",
       "\n",
       "      bert_similarity_诚实（Honesty）_Specific_反面  \\\n",
       "0                                    0.687689   \n",
       "1                                    0.683743   \n",
       "2                                    0.678446   \n",
       "3                                    0.689792   \n",
       "4                                    0.698519   \n",
       "...                                       ...   \n",
       "1716                                 0.649545   \n",
       "1717                                 0.678581   \n",
       "1718                                 0.653347   \n",
       "1719                                 0.648174   \n",
       "1720                                 0.632246   \n",
       "\n",
       "      bert_similarity_家庭纽带（Family Ties）_Specific  \\\n",
       "0                                       0.679929   \n",
       "1                                       0.693405   \n",
       "2                                       0.685001   \n",
       "3                                       0.691175   \n",
       "4                                       0.715540   \n",
       "...                                          ...   \n",
       "1716                                    0.722225   \n",
       "1717                                    0.689411   \n",
       "1718                                    0.736984   \n",
       "1719                                    0.719580   \n",
       "1720                                    0.693924   \n",
       "\n",
       "      bert_similarity_儒家（Confucianism）_Generic  \\\n",
       "0                                     0.654873   \n",
       "1                                     0.660171   \n",
       "2                                     0.662480   \n",
       "3                                     0.678063   \n",
       "4                                     0.684137   \n",
       "...                                        ...   \n",
       "1716                                  0.670779   \n",
       "1717                                  0.672605   \n",
       "1718                                  0.678674   \n",
       "1719                                  0.653165   \n",
       "1720                                  0.636750   \n",
       "\n",
       "      bert_similarity_慈善（Charity）_Specific_正面  \\\n",
       "0                                    0.642235   \n",
       "1                                    0.659001   \n",
       "2                                    0.660149   \n",
       "3                                    0.668907   \n",
       "4                                    0.692003   \n",
       "...                                       ...   \n",
       "1716                                 0.688378   \n",
       "1717                                 0.647748   \n",
       "1718                                 0.689523   \n",
       "1719                                 0.716280   \n",
       "1720                                 0.649716   \n",
       "\n",
       "      bert_similarity_馈赠（Gift-Giving）_Generic  ...  \\\n",
       "0                                    0.718348  ...   \n",
       "1                                    0.723015  ...   \n",
       "2                                    0.721540  ...   \n",
       "3                                    0.719964  ...   \n",
       "4                                    0.737436  ...   \n",
       "...                                       ...  ...   \n",
       "1716                                 0.691909  ...   \n",
       "1717                                 0.656756  ...   \n",
       "1718                                 0.726155  ...   \n",
       "1719                                 0.759801  ...   \n",
       "1720                                 0.687998  ...   \n",
       "\n",
       "      bert_similarity_回顾性视角（Backward-Looking Perspective）_Generic  \\\n",
       "0                                              0.676335             \n",
       "1                                              0.675210             \n",
       "2                                              0.644718             \n",
       "3                                              0.652305             \n",
       "4                                              0.694979             \n",
       "...                                                 ...             \n",
       "1716                                           0.671751             \n",
       "1717                                           0.636006             \n",
       "1718                                           0.661023             \n",
       "1719                                           0.666878             \n",
       "1720                                           0.671540             \n",
       "\n",
       "      bert_similarity_宗族（Clan）_Specific  \\\n",
       "0                              0.665025   \n",
       "1                              0.648872   \n",
       "2                              0.646097   \n",
       "3                              0.656039   \n",
       "4                              0.667701   \n",
       "...                                 ...   \n",
       "1716                           0.637731   \n",
       "1717                           0.683590   \n",
       "1718                           0.666074   \n",
       "1719                           0.662321   \n",
       "1720                           0.555946   \n",
       "\n",
       "      bert_similarity_帝王（Emperors）_Specific  \\\n",
       "0                                  0.682155   \n",
       "1                                  0.667515   \n",
       "2                                  0.643838   \n",
       "3                                  0.675243   \n",
       "4                                  0.661397   \n",
       "...                                     ...   \n",
       "1716                               0.660240   \n",
       "1717                               0.681297   \n",
       "1718                               0.653307   \n",
       "1719                               0.639959   \n",
       "1720                               0.654699   \n",
       "\n",
       "      bert_similarity_慈善（Charity）_Generic  \\\n",
       "0                                0.681010   \n",
       "1                                0.691763   \n",
       "2                                0.693388   \n",
       "3                                0.695235   \n",
       "4                                0.718864   \n",
       "...                                   ...   \n",
       "1716                             0.693668   \n",
       "1717                             0.649749   \n",
       "1718                             0.712421   \n",
       "1719                             0.743025   \n",
       "1720                             0.685885   \n",
       "\n",
       "      bert_similarity_儒家中的孝道（Filial Piety in Confucianism）_Generic  \\\n",
       "0                                              0.631417              \n",
       "1                                              0.644656              \n",
       "2                                              0.651957              \n",
       "3                                              0.650681              \n",
       "4                                              0.677642              \n",
       "...                                                 ...              \n",
       "1716                                           0.669422              \n",
       "1717                                           0.622921              \n",
       "1718                                           0.684642              \n",
       "1719                                           0.710068              \n",
       "1720                                           0.643576              \n",
       "\n",
       "      bert_similarity_慈善（Charity）_Specific_反面  \\\n",
       "0                                    0.648439   \n",
       "1                                    0.667948   \n",
       "2                                    0.666936   \n",
       "3                                    0.673213   \n",
       "4                                    0.689805   \n",
       "...                                       ...   \n",
       "1716                                 0.676831   \n",
       "1717                                 0.652240   \n",
       "1718                                 0.691103   \n",
       "1719                                 0.698561   \n",
       "1720                                 0.636713   \n",
       "\n",
       "      bert_similarity_鬼神（Spirits and Deities）_Generic  \\\n",
       "0                                            0.691263   \n",
       "1                                            0.689054   \n",
       "2                                            0.669020   \n",
       "3                                            0.674190   \n",
       "4                                            0.724732   \n",
       "...                                               ...   \n",
       "1716                                         0.712349   \n",
       "1717                                         0.689293   \n",
       "1718                                         0.709314   \n",
       "1719                                         0.677012   \n",
       "1720                                         0.719067   \n",
       "\n",
       "      bert_similarity_佛教（Buddhism）_Specific  \\\n",
       "0                                  0.666983   \n",
       "1                                  0.686837   \n",
       "2                                  0.676592   \n",
       "3                                  0.674201   \n",
       "4                                  0.704376   \n",
       "...                                     ...   \n",
       "1716                               0.714185   \n",
       "1717                               0.664385   \n",
       "1718                               0.706534   \n",
       "1719                               0.716972   \n",
       "1720                               0.663115   \n",
       "\n",
       "      bert_similarity_规则遵循（Rule-Following）_Specific_中立  \\\n",
       "0                                             0.703684   \n",
       "1                                             0.710074   \n",
       "2                                             0.697597   \n",
       "3                                             0.708620   \n",
       "4                                             0.736459   \n",
       "...                                                ...   \n",
       "1716                                          0.698105   \n",
       "1717                                          0.666994   \n",
       "1718                                          0.708426   \n",
       "1719                                          0.685008   \n",
       "1720                                          0.659868   \n",
       "\n",
       "      bert_similarity_平等（Equality）_Specific_正面  \n",
       "0                                     0.619692  \n",
       "1                                     0.623568  \n",
       "2                                     0.638531  \n",
       "3                                     0.642534  \n",
       "4                                     0.651165  \n",
       "...                                        ...  \n",
       "1716                                  0.645308  \n",
       "1717                                  0.637612  \n",
       "1718                                  0.653234  \n",
       "1719                                  0.650264  \n",
       "1720                                  0.603580  \n",
       "\n",
       "[1721 rows x 55 columns]"
      ]
     },
     "execution_count": 37,
     "metadata": {},
     "output_type": "execute_result"
    }
   ],
   "source": [
    "grouped_mean.reset_index(inplace=True)\n",
    "if 'CNTYGB_2010' in grouped_mean.columns:\n",
    "    # 将CNTYGB_2010_y列转换为整数类型，处理NaN值为默认值（如0）\n",
    "    grouped_mean['CNTYGB_2010'] = grouped_mean['CNTYGB_2010'].fillna(0).astype(int)\n",
    "else:\n",
    "    print(\"列名 'CNTYGB_2010' 不存在，请检查数据框\")\n",
    "grouped_mean"
   ]
  },
  {
   "cell_type": "code",
   "execution_count": 38,
   "id": "cdf01aeb",
   "metadata": {},
   "outputs": [
    {
     "data": {
      "text/html": [
       "<div>\n",
       "<style scoped>\n",
       "    .dataframe tbody tr th:only-of-type {\n",
       "        vertical-align: middle;\n",
       "    }\n",
       "\n",
       "    .dataframe tbody tr th {\n",
       "        vertical-align: top;\n",
       "    }\n",
       "\n",
       "    .dataframe thead th {\n",
       "        text-align: right;\n",
       "    }\n",
       "</style>\n",
       "<table border=\"1\" class=\"dataframe\">\n",
       "  <thead>\n",
       "    <tr style=\"text-align: right;\">\n",
       "      <th></th>\n",
       "      <th>id_old</th>\n",
       "      <th>id_str</th>\n",
       "      <th>surveyyear</th>\n",
       "      <th>id_surveyyear</th>\n",
       "      <th>s41</th>\n",
       "      <th>s42</th>\n",
       "      <th>s43</th>\n",
       "      <th>cntyname</th>\n",
       "      <th>china10_cntygb</th>\n",
       "      <th>s44</th>\n",
       "      <th>...</th>\n",
       "      <th>e112a</th>\n",
       "      <th>e112b</th>\n",
       "      <th>e113</th>\n",
       "      <th>e114</th>\n",
       "      <th>e115</th>\n",
       "      <th>z8</th>\n",
       "      <th>a59disco88</th>\n",
       "      <th>a60disco88</th>\n",
       "      <th>china10_wcd</th>\n",
       "      <th>china10_prefgb_special</th>\n",
       "    </tr>\n",
       "  </thead>\n",
       "  <tbody>\n",
       "    <tr>\n",
       "      <th>0</th>\n",
       "      <td>6132.0</td>\n",
       "      <td>6132</td>\n",
       "      <td>2015</td>\n",
       "      <td>6132_2015</td>\n",
       "      <td>1.0</td>\n",
       "      <td>1.0</td>\n",
       "      <td>1.0</td>\n",
       "      <td>上海市徐汇区</td>\n",
       "      <td>310104</td>\n",
       "      <td>1.0</td>\n",
       "      <td>...</td>\n",
       "      <td>NaN</td>\n",
       "      <td>NaN</td>\n",
       "      <td>NaN</td>\n",
       "      <td>NaN</td>\n",
       "      <td>NaN</td>\n",
       "      <td>2015-10-27 16:15:00</td>\n",
       "      <td>2300.0</td>\n",
       "      <td>NaN</td>\n",
       "      <td>3101200.0</td>\n",
       "      <td>68.0</td>\n",
       "    </tr>\n",
       "    <tr>\n",
       "      <th>1</th>\n",
       "      <td>10915.0</td>\n",
       "      <td>10915</td>\n",
       "      <td>2012</td>\n",
       "      <td>10915_2012</td>\n",
       "      <td>1.0</td>\n",
       "      <td>1.0</td>\n",
       "      <td>1.0</td>\n",
       "      <td>上海市徐汇区</td>\n",
       "      <td>310104</td>\n",
       "      <td>1.0</td>\n",
       "      <td>...</td>\n",
       "      <td>NaN</td>\n",
       "      <td>NaN</td>\n",
       "      <td>NaN</td>\n",
       "      <td>NaN</td>\n",
       "      <td>NaN</td>\n",
       "      <td></td>\n",
       "      <td>NaN</td>\n",
       "      <td>NaN</td>\n",
       "      <td>3101200.0</td>\n",
       "      <td>68.0</td>\n",
       "    </tr>\n",
       "    <tr>\n",
       "      <th>2</th>\n",
       "      <td>10328.0</td>\n",
       "      <td>10328</td>\n",
       "      <td>2013</td>\n",
       "      <td>10328_2013</td>\n",
       "      <td>1.0</td>\n",
       "      <td>1.0</td>\n",
       "      <td>1.0</td>\n",
       "      <td>上海市徐汇区</td>\n",
       "      <td>310104</td>\n",
       "      <td>1.0</td>\n",
       "      <td>...</td>\n",
       "      <td>NaN</td>\n",
       "      <td>NaN</td>\n",
       "      <td>NaN</td>\n",
       "      <td>NaN</td>\n",
       "      <td>NaN</td>\n",
       "      <td></td>\n",
       "      <td>NaN</td>\n",
       "      <td>NaN</td>\n",
       "      <td>3101200.0</td>\n",
       "      <td>68.0</td>\n",
       "    </tr>\n",
       "    <tr>\n",
       "      <th>3</th>\n",
       "      <td>11566.0</td>\n",
       "      <td>11566</td>\n",
       "      <td>2010</td>\n",
       "      <td>11566_2010</td>\n",
       "      <td>1.0</td>\n",
       "      <td>1.0</td>\n",
       "      <td>1.0</td>\n",
       "      <td>上海市徐汇区</td>\n",
       "      <td>310104</td>\n",
       "      <td>1.0</td>\n",
       "      <td>...</td>\n",
       "      <td>NaN</td>\n",
       "      <td>NaN</td>\n",
       "      <td>NaN</td>\n",
       "      <td>NaN</td>\n",
       "      <td>NaN</td>\n",
       "      <td></td>\n",
       "      <td>NaN</td>\n",
       "      <td>NaN</td>\n",
       "      <td>3101200.0</td>\n",
       "      <td>68.0</td>\n",
       "    </tr>\n",
       "    <tr>\n",
       "      <th>4</th>\n",
       "      <td>346.0</td>\n",
       "      <td>346</td>\n",
       "      <td>2013</td>\n",
       "      <td>346_2013</td>\n",
       "      <td>1.0</td>\n",
       "      <td>1.0</td>\n",
       "      <td>1.0</td>\n",
       "      <td>上海市徐汇区</td>\n",
       "      <td>310104</td>\n",
       "      <td>1.0</td>\n",
       "      <td>...</td>\n",
       "      <td>NaN</td>\n",
       "      <td>NaN</td>\n",
       "      <td>NaN</td>\n",
       "      <td>NaN</td>\n",
       "      <td>NaN</td>\n",
       "      <td></td>\n",
       "      <td>NaN</td>\n",
       "      <td>NaN</td>\n",
       "      <td>3101200.0</td>\n",
       "      <td>68.0</td>\n",
       "    </tr>\n",
       "  </tbody>\n",
       "</table>\n",
       "<p>5 rows × 2752 columns</p>\n",
       "</div>"
      ],
      "text/plain": [
       "    id_old id_str surveyyear id_surveyyear  s41  s42  s43 cntyname  \\\n",
       "0   6132.0   6132       2015     6132_2015  1.0  1.0  1.0   上海市徐汇区   \n",
       "1  10915.0  10915       2012    10915_2012  1.0  1.0  1.0   上海市徐汇区   \n",
       "2  10328.0  10328       2013    10328_2013  1.0  1.0  1.0   上海市徐汇区   \n",
       "3  11566.0  11566       2010    11566_2010  1.0  1.0  1.0   上海市徐汇区   \n",
       "4    346.0    346       2013      346_2013  1.0  1.0  1.0   上海市徐汇区   \n",
       "\n",
       "   china10_cntygb  s44  ...  e112a  e112b  e113  e114  e115  \\\n",
       "0          310104  1.0  ...    NaN    NaN   NaN   NaN   NaN   \n",
       "1          310104  1.0  ...    NaN    NaN   NaN   NaN   NaN   \n",
       "2          310104  1.0  ...    NaN    NaN   NaN   NaN   NaN   \n",
       "3          310104  1.0  ...    NaN    NaN   NaN   NaN   NaN   \n",
       "4          310104  1.0  ...    NaN    NaN   NaN   NaN   NaN   \n",
       "\n",
       "                    z8  a59disco88  a60disco88  china10_wcd  \\\n",
       "0  2015-10-27 16:15:00      2300.0         NaN    3101200.0   \n",
       "1                              NaN         NaN    3101200.0   \n",
       "2                              NaN         NaN    3101200.0   \n",
       "3                              NaN         NaN    3101200.0   \n",
       "4                              NaN         NaN    3101200.0   \n",
       "\n",
       "   china10_prefgb_special  \n",
       "0                    68.0  \n",
       "1                    68.0  \n",
       "2                    68.0  \n",
       "3                    68.0  \n",
       "4                    68.0  \n",
       "\n",
       "[5 rows x 2752 columns]"
      ]
     },
     "execution_count": 38,
     "metadata": {},
     "output_type": "execute_result"
    }
   ],
   "source": [
    "# 确保列名存在\n",
    "if 'china10_cntygb' in cgss_data_df.columns:\n",
    "    # 将 china10_cntygb 列转换为整数类型，空值填充为 0\n",
    "    cgss_data_df['china10_cntygb'] = cgss_data_df['china10_cntygb'].fillna(0).astype(int)\n",
    "else:\n",
    "    print(\"列名 'china10_cntygb' 不存在，请检查数据框\")\n",
    "cgss_data_df.head()"
   ]
  },
  {
   "cell_type": "code",
   "execution_count": 39,
   "id": "d9724c20",
   "metadata": {},
   "outputs": [
    {
     "data": {
      "text/html": [
       "<div>\n",
       "<style scoped>\n",
       "    .dataframe tbody tr th:only-of-type {\n",
       "        vertical-align: middle;\n",
       "    }\n",
       "\n",
       "    .dataframe tbody tr th {\n",
       "        vertical-align: top;\n",
       "    }\n",
       "\n",
       "    .dataframe thead th {\n",
       "        text-align: right;\n",
       "    }\n",
       "</style>\n",
       "<table border=\"1\" class=\"dataframe\">\n",
       "  <thead>\n",
       "    <tr style=\"text-align: right;\">\n",
       "      <th></th>\n",
       "      <th>id_old</th>\n",
       "      <th>id_str</th>\n",
       "      <th>surveyyear</th>\n",
       "      <th>id_surveyyear</th>\n",
       "      <th>s41</th>\n",
       "      <th>s42</th>\n",
       "      <th>s43</th>\n",
       "      <th>cntyname</th>\n",
       "      <th>china10_cntygb</th>\n",
       "      <th>s44</th>\n",
       "      <th>...</th>\n",
       "      <th>bert_similarity_回顾性视角（Backward-Looking Perspective）_Generic</th>\n",
       "      <th>bert_similarity_宗族（Clan）_Specific</th>\n",
       "      <th>bert_similarity_帝王（Emperors）_Specific</th>\n",
       "      <th>bert_similarity_慈善（Charity）_Generic</th>\n",
       "      <th>bert_similarity_儒家中的孝道（Filial Piety in Confucianism）_Generic</th>\n",
       "      <th>bert_similarity_慈善（Charity）_Specific_反面</th>\n",
       "      <th>bert_similarity_鬼神（Spirits and Deities）_Generic</th>\n",
       "      <th>bert_similarity_佛教（Buddhism）_Specific</th>\n",
       "      <th>bert_similarity_规则遵循（Rule-Following）_Specific_中立</th>\n",
       "      <th>bert_similarity_平等（Equality）_Specific_正面</th>\n",
       "    </tr>\n",
       "  </thead>\n",
       "  <tbody>\n",
       "    <tr>\n",
       "      <th>0</th>\n",
       "      <td>6132.0</td>\n",
       "      <td>6132</td>\n",
       "      <td>2015</td>\n",
       "      <td>6132_2015</td>\n",
       "      <td>1.0</td>\n",
       "      <td>1.0</td>\n",
       "      <td>1.0</td>\n",
       "      <td>上海市徐汇区</td>\n",
       "      <td>310104</td>\n",
       "      <td>1.0</td>\n",
       "      <td>...</td>\n",
       "      <td>0.65834</td>\n",
       "      <td>0.667419</td>\n",
       "      <td>0.65091</td>\n",
       "      <td>0.709557</td>\n",
       "      <td>0.682354</td>\n",
       "      <td>0.697604</td>\n",
       "      <td>0.694679</td>\n",
       "      <td>0.702501</td>\n",
       "      <td>0.723178</td>\n",
       "      <td>0.652779</td>\n",
       "    </tr>\n",
       "    <tr>\n",
       "      <th>1</th>\n",
       "      <td>10915.0</td>\n",
       "      <td>10915</td>\n",
       "      <td>2012</td>\n",
       "      <td>10915_2012</td>\n",
       "      <td>1.0</td>\n",
       "      <td>1.0</td>\n",
       "      <td>1.0</td>\n",
       "      <td>上海市徐汇区</td>\n",
       "      <td>310104</td>\n",
       "      <td>1.0</td>\n",
       "      <td>...</td>\n",
       "      <td>0.65834</td>\n",
       "      <td>0.667419</td>\n",
       "      <td>0.65091</td>\n",
       "      <td>0.709557</td>\n",
       "      <td>0.682354</td>\n",
       "      <td>0.697604</td>\n",
       "      <td>0.694679</td>\n",
       "      <td>0.702501</td>\n",
       "      <td>0.723178</td>\n",
       "      <td>0.652779</td>\n",
       "    </tr>\n",
       "    <tr>\n",
       "      <th>2</th>\n",
       "      <td>10328.0</td>\n",
       "      <td>10328</td>\n",
       "      <td>2013</td>\n",
       "      <td>10328_2013</td>\n",
       "      <td>1.0</td>\n",
       "      <td>1.0</td>\n",
       "      <td>1.0</td>\n",
       "      <td>上海市徐汇区</td>\n",
       "      <td>310104</td>\n",
       "      <td>1.0</td>\n",
       "      <td>...</td>\n",
       "      <td>0.65834</td>\n",
       "      <td>0.667419</td>\n",
       "      <td>0.65091</td>\n",
       "      <td>0.709557</td>\n",
       "      <td>0.682354</td>\n",
       "      <td>0.697604</td>\n",
       "      <td>0.694679</td>\n",
       "      <td>0.702501</td>\n",
       "      <td>0.723178</td>\n",
       "      <td>0.652779</td>\n",
       "    </tr>\n",
       "    <tr>\n",
       "      <th>3</th>\n",
       "      <td>11566.0</td>\n",
       "      <td>11566</td>\n",
       "      <td>2010</td>\n",
       "      <td>11566_2010</td>\n",
       "      <td>1.0</td>\n",
       "      <td>1.0</td>\n",
       "      <td>1.0</td>\n",
       "      <td>上海市徐汇区</td>\n",
       "      <td>310104</td>\n",
       "      <td>1.0</td>\n",
       "      <td>...</td>\n",
       "      <td>0.65834</td>\n",
       "      <td>0.667419</td>\n",
       "      <td>0.65091</td>\n",
       "      <td>0.709557</td>\n",
       "      <td>0.682354</td>\n",
       "      <td>0.697604</td>\n",
       "      <td>0.694679</td>\n",
       "      <td>0.702501</td>\n",
       "      <td>0.723178</td>\n",
       "      <td>0.652779</td>\n",
       "    </tr>\n",
       "    <tr>\n",
       "      <th>4</th>\n",
       "      <td>346.0</td>\n",
       "      <td>346</td>\n",
       "      <td>2013</td>\n",
       "      <td>346_2013</td>\n",
       "      <td>1.0</td>\n",
       "      <td>1.0</td>\n",
       "      <td>1.0</td>\n",
       "      <td>上海市徐汇区</td>\n",
       "      <td>310104</td>\n",
       "      <td>1.0</td>\n",
       "      <td>...</td>\n",
       "      <td>0.65834</td>\n",
       "      <td>0.667419</td>\n",
       "      <td>0.65091</td>\n",
       "      <td>0.709557</td>\n",
       "      <td>0.682354</td>\n",
       "      <td>0.697604</td>\n",
       "      <td>0.694679</td>\n",
       "      <td>0.702501</td>\n",
       "      <td>0.723178</td>\n",
       "      <td>0.652779</td>\n",
       "    </tr>\n",
       "  </tbody>\n",
       "</table>\n",
       "<p>5 rows × 2806 columns</p>\n",
       "</div>"
      ],
      "text/plain": [
       "    id_old id_str surveyyear id_surveyyear  s41  s42  s43 cntyname  \\\n",
       "0   6132.0   6132       2015     6132_2015  1.0  1.0  1.0   上海市徐汇区   \n",
       "1  10915.0  10915       2012    10915_2012  1.0  1.0  1.0   上海市徐汇区   \n",
       "2  10328.0  10328       2013    10328_2013  1.0  1.0  1.0   上海市徐汇区   \n",
       "3  11566.0  11566       2010    11566_2010  1.0  1.0  1.0   上海市徐汇区   \n",
       "4    346.0    346       2013      346_2013  1.0  1.0  1.0   上海市徐汇区   \n",
       "\n",
       "   china10_cntygb  s44  ...  \\\n",
       "0          310104  1.0  ...   \n",
       "1          310104  1.0  ...   \n",
       "2          310104  1.0  ...   \n",
       "3          310104  1.0  ...   \n",
       "4          310104  1.0  ...   \n",
       "\n",
       "   bert_similarity_回顾性视角（Backward-Looking Perspective）_Generic  \\\n",
       "0                                            0.65834             \n",
       "1                                            0.65834             \n",
       "2                                            0.65834             \n",
       "3                                            0.65834             \n",
       "4                                            0.65834             \n",
       "\n",
       "   bert_similarity_宗族（Clan）_Specific  bert_similarity_帝王（Emperors）_Specific  \\\n",
       "0                           0.667419                                0.65091   \n",
       "1                           0.667419                                0.65091   \n",
       "2                           0.667419                                0.65091   \n",
       "3                           0.667419                                0.65091   \n",
       "4                           0.667419                                0.65091   \n",
       "\n",
       "   bert_similarity_慈善（Charity）_Generic  \\\n",
       "0                             0.709557   \n",
       "1                             0.709557   \n",
       "2                             0.709557   \n",
       "3                             0.709557   \n",
       "4                             0.709557   \n",
       "\n",
       "   bert_similarity_儒家中的孝道（Filial Piety in Confucianism）_Generic  \\\n",
       "0                                           0.682354              \n",
       "1                                           0.682354              \n",
       "2                                           0.682354              \n",
       "3                                           0.682354              \n",
       "4                                           0.682354              \n",
       "\n",
       "   bert_similarity_慈善（Charity）_Specific_反面  \\\n",
       "0                                 0.697604   \n",
       "1                                 0.697604   \n",
       "2                                 0.697604   \n",
       "3                                 0.697604   \n",
       "4                                 0.697604   \n",
       "\n",
       "   bert_similarity_鬼神（Spirits and Deities）_Generic  \\\n",
       "0                                         0.694679   \n",
       "1                                         0.694679   \n",
       "2                                         0.694679   \n",
       "3                                         0.694679   \n",
       "4                                         0.694679   \n",
       "\n",
       "   bert_similarity_佛教（Buddhism）_Specific  \\\n",
       "0                               0.702501   \n",
       "1                               0.702501   \n",
       "2                               0.702501   \n",
       "3                               0.702501   \n",
       "4                               0.702501   \n",
       "\n",
       "   bert_similarity_规则遵循（Rule-Following）_Specific_中立  \\\n",
       "0                                          0.723178   \n",
       "1                                          0.723178   \n",
       "2                                          0.723178   \n",
       "3                                          0.723178   \n",
       "4                                          0.723178   \n",
       "\n",
       "   bert_similarity_平等（Equality）_Specific_正面  \n",
       "0                                  0.652779  \n",
       "1                                  0.652779  \n",
       "2                                  0.652779  \n",
       "3                                  0.652779  \n",
       "4                                  0.652779  \n",
       "\n",
       "[5 rows x 2806 columns]"
      ]
     },
     "execution_count": 39,
     "metadata": {},
     "output_type": "execute_result"
    }
   ],
   "source": [
    "# 确保需要合并的列存在\n",
    "if 'CNTYGB_2010' in grouped_mean.columns and 'china10_cntygb' in cgss_data_df.columns:\n",
    "    # 按照 CNTYGB_2010_y 和 china10_cntygb 列的值进行合并\n",
    "    merged_df = cgss_data_df.merge(grouped_mean, left_on='china10_cntygb', right_on='CNTYGB_2010', how='left')\n",
    "    # 删除 CNTYGB_2010_y 列\n",
    "    merged_df.drop(columns=['CNTYGB_2010'], inplace=True)\n",
    "merged_df.head()"
   ]
  },
  {
   "cell_type": "code",
   "execution_count": 40,
   "id": "a71ad658",
   "metadata": {},
   "outputs": [
    {
     "name": "stdout",
     "output_type": "stream",
     "text": [
      "合并后的数据已保存到: /Users/zhaorunping/Desktop/Research_Onging/2410_LSE_Xue/result/250108cgss_bert_county_level_mean.csv\n"
     ]
    }
   ],
   "source": [
    "# 定义保存路径\n",
    "output_csv_path = '/Users/zhaorunping/Desktop/Research_Onging/2410_LSE_Xue/result/250108cgss_bert_county_level_mean.csv'\n",
    "# 保存为 CSV 文件\n",
    "merged_df.to_csv(output_csv_path, index=False, encoding='utf-8-sig')\n",
    "print(f\"合并后的数据已保存到: {output_csv_path}\")"
   ]
  }
 ],
 "metadata": {
  "kernelspec": {
   "display_name": "base",
   "language": "python",
   "name": "python3"
  },
  "language_info": {
   "codemirror_mode": {
    "name": "ipython",
    "version": 3
   },
   "file_extension": ".py",
   "mimetype": "text/x-python",
   "name": "python",
   "nbconvert_exporter": "python",
   "pygments_lexer": "ipython3",
   "version": "3.12.7"
  }
 },
 "nbformat": 4,
 "nbformat_minor": 5
}
