{
 "cells": [
  {
   "cell_type": "code",
   "execution_count": null,
   "metadata": {
    "executionInfo": {
     "elapsed": 3,
     "status": "ok",
     "timestamp": 1729943332307,
     "user": {
      "displayName": "Runping Zhao",
      "userId": "04715537252004969033"
     },
     "user_tz": -480
    },
    "id": "XBq7ifXXonPn"
   },
   "outputs": [],
   "source": [
    "from openai import OpenAI\n",
    "# 设置 API 密钥和组织\n",
    "api_key = \"\"\n",
    "client = OpenAI(api_key=api_key)\n",
    "\n",
    "# 设置组织信息\n",
    "client.organization = \"\""
   ]
  },
  {
   "cell_type": "code",
   "execution_count": 76,
   "metadata": {},
   "outputs": [
    {
     "name": "stderr",
     "output_type": "stream",
     "text": [
      "比较文件: 100%|██████████| 4950/4950 [15:41<00:00,  5.26it/s]  "
     ]
    },
    {
     "name": "stdout",
     "output_type": "stream",
     "text": [
      "抽样文件的评分结果已保存到 sample_scores.csv\n"
     ]
    },
    {
     "name": "stderr",
     "output_type": "stream",
     "text": [
      "\n"
     ]
    }
   ],
   "source": [
    "import os\n",
    "import numpy as np\n",
    "import pandas as pd\n",
    "from tqdm import tqdm\n",
    "from collections import defaultdict\n",
    "from concurrent.futures import ThreadPoolExecutor\n",
    "\n",
    "# 定义文件路径\n",
    "root_folder = '/Users/zhaorunping/Desktop/Research_Onging/2410_LSE_Xue/data/raw_data_tales'\n",
    "all_files = []\n",
    "\n",
    "# 遍历目录，收集所有文件路径\n",
    "for dirpath, _, filenames in os.walk(root_folder):\n",
    "    for filename in filenames:\n",
    "        relative_path = os.path.join(*dirpath.split(os.sep)[-2:], filename)\n",
    "        all_files.append((os.path.join(dirpath, filename), relative_path))\n",
    "\n",
    "# 随机选取100个文件\n",
    "sample_size = min(len(all_files), 100)\n",
    "selected_files = [all_files[i] for i in np.random.choice(len(all_files), sample_size, replace=False)]\n",
    "\n",
    "# 读取文件内容并存储\n",
    "def read_file(file_path):\n",
    "    with open(file_path, 'r', encoding='utf-8') as f:\n",
    "        return f.read()\n",
    "file_contents = {relative_path: read_file(file_path) for file_path, relative_path in selected_files}\n",
    "\n",
    "# 初始化文件评分字典\n",
    "scores = defaultdict(int)\n",
    "file_pairs = [(selected_files[i][1], selected_files[j][1]) for i in range(len(selected_files)) for j in range(i + 1, len(selected_files))]\n",
    "\n",
    "# 文件内容比较函数\n",
    "def compare_files(file_pair):\n",
    "    file1, file2 = file_pair\n",
    "    file1_content = file_contents[file1]\n",
    "    file2_content = file_contents[file2]\n",
    "    prompt = f\"你是一位精通中国民间故事研究的研究员。我们需要研究和诚实相关主题的故事--具体而言，“诚实”指言行跟内心思想一致(指好的思想行为)；不虚假。以下有两段文本，请判断哪一段与“诚实”主题的相关性更强。\\n\\n文本1：\\n{file1_content}\\n\\n文本2：\\n{file2_content}\\n\\n请直接回答“文本1”或“文本2”，不要输出其他文字。\"\n",
    "    \n",
    "    try:\n",
    "        response = client.chat.completions.create(\n",
    "            model=\"gpt-4o-mini\",\n",
    "            messages=[{\"role\": \"user\", \"content\": prompt}],\n",
    "            max_tokens=3,\n",
    "            temperature=0.1,\n",
    "            top_p=0.9\n",
    "        )\n",
    "        answer = response.choices[0].message.content.strip()\n",
    "        return file_pair, answer\n",
    "    except Exception as e:\n",
    "        print(f\"Error processing {file_pair}: {e}\")\n",
    "        return file_pair, \"Error\"\n",
    "\n",
    "# 多线程处理文件对\n",
    "with ThreadPoolExecutor(max_workers=8) as executor:\n",
    "    results = list(tqdm(executor.map(compare_files, file_pairs), total=len(file_pairs), desc=\"比较文件\"))\n",
    "\n",
    "# 更新评分\n",
    "for (file1, file2), result in results:\n",
    "    if result == \"文本1\":\n",
    "        scores[file1] += 1\n",
    "    elif result == \"文本2\":\n",
    "        scores[file2] += 1\n",
    "\n",
    "# 保存结果到 CSV\n",
    "sample_results = [{\"文件路径\": file, \"内容\": file_contents[file], \"评分\": scores[file]} for file in file_contents]\n",
    "sample_df = pd.DataFrame(sample_results)\n",
    "sample_df.to_csv('/Users/zhaorunping/Desktop/Research_Onging/2410_LSE_Xue/result/241027gpt_sample_scores_chengxin.csv', index=False, encoding='utf-8-sig')\n",
    "print(\"抽样文件的评分结果已保存到 sample_scores.csv\")"
   ]
  },
  {
   "cell_type": "code",
   "execution_count": 11,
   "metadata": {},
   "outputs": [],
   "source": [
    "all_files_store = all_files"
   ]
  },
  {
   "cell_type": "code",
   "execution_count": null,
   "metadata": {},
   "outputs": [],
   "source": []
  },
  {
   "cell_type": "code",
   "execution_count": 18,
   "metadata": {},
   "outputs": [
    {
     "data": {
      "application/vnd.jupyter.widget-view+json": {
       "model_id": "8cde019872d942e189991ae4d4879b72",
       "version_major": 2,
       "version_minor": 0
      },
      "text/plain": [
       "modules.json:   0%|          | 0.00/229 [00:00<?, ?B/s]"
      ]
     },
     "metadata": {},
     "output_type": "display_data"
    },
    {
     "data": {
      "application/vnd.jupyter.widget-view+json": {
       "model_id": "b9c67a12f65843a9821da9ce1d15cddb",
       "version_major": 2,
       "version_minor": 0
      },
      "text/plain": [
       "config_sentence_transformers.json:   0%|          | 0.00/118 [00:00<?, ?B/s]"
      ]
     },
     "metadata": {},
     "output_type": "display_data"
    },
    {
     "data": {
      "application/vnd.jupyter.widget-view+json": {
       "model_id": "94b0a450b74942a99972b5edaaa6cbfb",
       "version_major": 2,
       "version_minor": 0
      },
      "text/plain": [
       "README.md:   0%|          | 0.00/3.66k [00:00<?, ?B/s]"
      ]
     },
     "metadata": {},
     "output_type": "display_data"
    },
    {
     "data": {
      "application/vnd.jupyter.widget-view+json": {
       "model_id": "724e0daf388341c6b84ba2ddfc71561d",
       "version_major": 2,
       "version_minor": 0
      },
      "text/plain": [
       "sentence_bert_config.json:   0%|          | 0.00/53.0 [00:00<?, ?B/s]"
      ]
     },
     "metadata": {},
     "output_type": "display_data"
    },
    {
     "data": {
      "application/vnd.jupyter.widget-view+json": {
       "model_id": "1b850f24817a451b8c2d51548d8470a7",
       "version_major": 2,
       "version_minor": 0
      },
      "text/plain": [
       "config.json:   0%|          | 0.00/831 [00:00<?, ?B/s]"
      ]
     },
     "metadata": {},
     "output_type": "display_data"
    },
    {
     "data": {
      "application/vnd.jupyter.widget-view+json": {
       "model_id": "75dc2c54d32645e0ba46e1e9f424a362",
       "version_major": 2,
       "version_minor": 0
      },
      "text/plain": [
       "pytorch_model.bin:   0%|          | 0.00/409M [00:00<?, ?B/s]"
      ]
     },
     "metadata": {},
     "output_type": "display_data"
    },
    {
     "data": {
      "application/vnd.jupyter.widget-view+json": {
       "model_id": "c642709c1f594284a5a032a889f10bf5",
       "version_major": 2,
       "version_minor": 0
      },
      "text/plain": [
       "tokenizer_config.json:   0%|          | 0.00/339 [00:00<?, ?B/s]"
      ]
     },
     "metadata": {},
     "output_type": "display_data"
    },
    {
     "data": {
      "application/vnd.jupyter.widget-view+json": {
       "model_id": "f66c3c26e2994bae8327669c4211e85d",
       "version_major": 2,
       "version_minor": 0
      },
      "text/plain": [
       "vocab.txt:   0%|          | 0.00/110k [00:00<?, ?B/s]"
      ]
     },
     "metadata": {},
     "output_type": "display_data"
    },
    {
     "data": {
      "application/vnd.jupyter.widget-view+json": {
       "model_id": "001abbecf4c34106aa40f953cbf8efd4",
       "version_major": 2,
       "version_minor": 0
      },
      "text/plain": [
       "tokenizer.json:   0%|          | 0.00/439k [00:00<?, ?B/s]"
      ]
     },
     "metadata": {},
     "output_type": "display_data"
    },
    {
     "data": {
      "application/vnd.jupyter.widget-view+json": {
       "model_id": "5324226fe0a54d07895269a95b4dad1c",
       "version_major": 2,
       "version_minor": 0
      },
      "text/plain": [
       "special_tokens_map.json:   0%|          | 0.00/112 [00:00<?, ?B/s]"
      ]
     },
     "metadata": {},
     "output_type": "display_data"
    },
    {
     "data": {
      "application/vnd.jupyter.widget-view+json": {
       "model_id": "96268e18fa084707a127400ed203471a",
       "version_major": 2,
       "version_minor": 0
      },
      "text/plain": [
       "1_Pooling/config.json:   0%|          | 0.00/190 [00:00<?, ?B/s]"
      ]
     },
     "metadata": {},
     "output_type": "display_data"
    },
    {
     "data": {
      "application/vnd.jupyter.widget-view+json": {
       "model_id": "b8adbc4419794ccca1413ae40ad1a2f2",
       "version_major": 2,
       "version_minor": 0
      },
      "text/plain": [
       "model.safetensors:   0%|          | 0.00/409M [00:00<?, ?B/s]"
      ]
     },
     "metadata": {},
     "output_type": "display_data"
    }
   ],
   "source": [
    "# 加载 BERT 模型\n",
    "from sentence_transformers import SentenceTransformer\n",
    "model = SentenceTransformer('DMetaSoul/sbert-chinese-general-v2')"
   ]
  },
  {
   "cell_type": "code",
   "execution_count": null,
   "metadata": {},
   "outputs": [],
   "source": [
    "scores"
   ]
  },
  {
   "cell_type": "code",
   "execution_count": 27,
   "metadata": {},
   "outputs": [
    {
     "name": "stderr",
     "output_type": "stream",
     "text": [
      "计算相似度: 100%|██████████| 100/100 [00:03<00:00, 27.49it/s]"
     ]
    },
    {
     "name": "stdout",
     "output_type": "stream",
     "text": [
      "相似度结果已保存到 selected_files_similarity_scores.csv\n"
     ]
    },
    {
     "name": "stderr",
     "output_type": "stream",
     "text": [
      "\n"
     ]
    }
   ],
   "source": [
    "file_contents = {relative_path: read_file(file_path) for file_path, relative_path in selected_files}\n",
    "\n",
    "# 加载模型\n",
    "model = SentenceTransformer('DMetaSoul/sbert-chinese-general-v2')\n",
    "\n",
    "# 获取得分最高的文件内容和路径\n",
    "sample_df = pd.read_csv('/Users/zhaorunping/Desktop/Research_Onging/2410_LSE_Xue/result/241027gpt_sample_scores_chengxin.csv')\n",
    "highest_score_row = sample_df.loc[sample_df['评分'].idxmax()]\n",
    "highest_score_content = highest_score_row['内容']\n",
    "\n",
    "\n",
    "# 文件相似度比较函数，使用相对路径访问内容\n",
    "def compute_similarity(file_info):\n",
    "    _, relative_path = file_info\n",
    "    file_content = file_contents[relative_path]\n",
    "    embeddings = model.encode([file_content, highest_score_content])\n",
    "    A, B = embeddings[0], embeddings[1]\n",
    "    similarity = np.dot(A, B) / (np.linalg.norm(A) * np.linalg.norm(B))\n",
    "    return relative_path, similarity\n",
    "\n",
    "# 多线程处理文件对并显示进度\n",
    "with ThreadPoolExecutor(max_workers=8) as executor:\n",
    "    results = list(tqdm(executor.map(compute_similarity, selected_files), \n",
    "                        total=len(selected_files), desc=\"计算相似度\"))\n",
    "\n",
    "# 记录相似度结果\n",
    "similarity_results = []\n",
    "for relative_path, similarity in results:\n",
    "    trimmed_relative_path = os.path.join(*relative_path.split(os.sep)[-2:])\n",
    "    similarity_results.append({\n",
    "        \"文件路径\": trimmed_relative_path,\n",
    "        \"内容\": file_contents[relative_path],\n",
    "        \"得分\": scores[relative_path],\n",
    "        \"相似度\": similarity\n",
    "    })\n",
    "\n",
    "# 保存相似度结果到 CSV 文件\n",
    "output_df = pd.DataFrame(similarity_results)\n",
    "output_df.to_csv('/Users/zhaorunping/Desktop/Research_Onging/2410_LSE_Xue/result/241027selected_files_similarity_scores.csv', \n",
    "                 index=False, encoding='utf-8-sig')\n",
    "print(\"相似度结果已保存到 selected_files_similarity_scores.csv\")\n"
   ]
  },
  {
   "cell_type": "code",
   "execution_count": 73,
   "metadata": {},
   "outputs": [],
   "source": [
    "model = SentenceTransformer('DMetaSoul/sbert-chinese-general-v2')"
   ]
  },
  {
   "cell_type": "code",
   "execution_count": 79,
   "metadata": {},
   "outputs": [
    {
     "name": "stderr",
     "output_type": "stream",
     "text": [
      "计算相似度: 100%|██████████| 100/100 [00:07<00:00, 14.26it/s]"
     ]
    },
    {
     "name": "stdout",
     "output_type": "stream",
     "text": [
      "相似度结果已保存到 selected_files_similarity_scores.csv\n"
     ]
    },
    {
     "name": "stderr",
     "output_type": "stream",
     "text": [
      "\n"
     ]
    }
   ],
   "source": [
    "\n",
    "from sentence_transformers import SentenceTransformer\n",
    "import numpy as np\n",
    "import pandas as pd\n",
    "from tqdm import tqdm\n",
    "from concurrent.futures import ThreadPoolExecutor\n",
    "import os\n",
    "\n",
    "# 获取得分最高的文件内容和路径\n",
    "sample_df = pd.read_csv('/Users/zhaorunping/Desktop/Research_Onging/2410_LSE_Xue/result/241027gpt_sample_scores_chengxin.csv')\n",
    "highest_score_row = sample_df.loc[sample_df['评分'].idxmax()]\n",
    "highest_score_content = highest_score_row['内容']\n",
    "# new_highest_score_content = \"从前，村里有个年轻人叫阿福，他天生好运，村民们都认为他“有福气”。一天，阿福在一座荒废的寺庙前找到一枚旧铜钱，传闻这座寺庙供奉的是一位保佑人们富贵的神灵。村民们纷纷传言，这铜钱有神奇的力量，谁得到它，便能转运发财。阿福听信了迷信，开始无所事事，专等好运降临。渐渐地，他的生活失去了生机，农田荒废，家产也逐渐消失。几年后，阿福认识到财富来自努力工作，而非依靠虚无的“神物”。他重新振作，辛勤耕种，逐渐恢复了以前的生活。这个故事流传开来，成为劝诫人们靠实际努力改变命运，而非沉迷于虚无缥缈的迷信的经典故事。\"\n",
    "# new_highest_score_content = \"在一个宁静的小村庄，年轻的画家小林用色彩鲜艳的油画表达自然的美，作品在村庄里颇受欢迎。他决定举办画展，展示自己一年的创作。展览吸引了许多村民和游客，其中一位艺术评论家更是对他的作品大加赞赏，提出要将他的画推广到城市。小林兴奋不已，没想到自己的作品能走出村庄。他的画在城市流行开来，接到各种展览邀请，生活也因此改变。他搬到城市，结识了许多艺术家，开了自己的画室。然而，忙碌的生活让他感到疲惫，渐渐失去了创作的热情，作品也不再真实。意识到这一点后，小林决定回到村庄寻找灵感。在熟悉的土地上，他重新与自然和内心连接，开始创作新的作品，充满了对生活的感悟。最终，他在村庄举办了新的画展，吸引了无数观众。这次展览不仅是他艺术生涯的飞跃，更是心灵的回归。他明白，真正的艺术源于内心的真实感受，而非外界的评价与名利追逐。小林的故事激励了许多人，提醒大家在追寻梦想的同时，永远保持对生活的热爱与真诚。\"\n",
    "# 诚信伪故事（没有仿照样式）\n",
    "# new_highest_score_content = \"\"\"在一个小村庄里，年轻的木匠李明以精湛的技艺和诚实守信而闻名。一天，外地商人来到村里，想要定制一套高质量的桌椅，承诺在一周内支付双倍费用。李明面临诱惑，但清楚自己无法在这么短时间内完成。他决定坦诚地对商人说：“我需要两周才能做好这套家具，以保证质量。”商人虽然失望，但被李明的诚恳打动，最终同意了。李明全力以赴，在接下来的两周里，精心制作这套家具，工艺精细，深受村民的赞赏。当商人来取货时，看到这套家具，他非常满意，并立即支付了双倍费用，称赞李明的诚实和技艺。李明的名声因此传开，更多村民前来找他定制家具。他用诚实赢得了信任，事业蒸蒸日上，也让自己的生活逐渐富裕。这个故事告诉我们，诚实是建立信任的基础，尽管面临挑战，但诚实终将带来意想不到的回报。\"\"\"\n",
    "# 诚信伪故事（仿照样式）\n",
    "# 诚信的桥小故事\n",
    "new_highest_score_content = \"\"\"很久以前，在一个山村里，有对父子，父亲阿强以打铁为生，儿子小刚从小就在父亲的铺子里帮忙。阿强的打铁手艺精湛，村民们都喜欢他的铁器，尤其信任他，因为他一诺千金。一天，有位村民找到阿强，希望他在约定时间内打造一把坚固的铁锄。阿强答应下来，但那段时间，铁铺的活计很多，阿强要赶很多订单。眼看交货日期快到了，他却发现自己还没来得及完成那把锄头。小刚提议父亲找借口拖延，但阿强却说：“做人要讲诚信，承诺了就一定要兑现。”于是，阿强连夜打铁，忙到天亮，终于在约定的时间把锄头交到村民手中。从那天起，村里人更加信赖阿强，称他是“诚信桥”，寓意他的诚信像桥梁一样坚固、稳定。\"\"\"\n",
    "# 随便找的新闻\n",
    "# new_highest_score_content = \"本次公开遴选和公开选调工作坚持以习近平新时代中国特色社会主义思想为指导，贯彻落实党的二十大和二十届二中、三中全会精神，鲜明树立选人用人正确导向，坚持新时代好干部标准，着力从下级机关选拔政治过硬、敢于担当、锐意改革、实绩突出、清正廉洁的公务员。突出政治标准，在报名推荐时压实组织把关责任，在考试中重点测查用党的创新理论指导分析和解决问题的能力，在考察中严把人选政治关、品行关、能力关、作风关、廉洁关。突出人事相宜，职位计划可设置在机关层级经历和业务工作经历等方面的条件，在面试时可进行职位业务水平测试，在考察时实行差额、不唯分取人。突出全程把关，资格条件审核贯穿工作全过程，用人机关可对遴选人员设置试用期，试用合格的再任职。\"\n",
    "# 使用相对路径读取文件内容\n",
    "file_contents = {relative_path: read_file(file_path) for file_path, relative_path in selected_files}\n",
    "\n",
    "# 文件相似度比较函数，对每个文件分别与最高得分文件和 new_highest_score_content 比较\n",
    "def compute_similarity(file_info):\n",
    "    _, relative_path = file_info\n",
    "    file_content = file_contents[relative_path]\n",
    "    \n",
    "    # 计算与 highest_score_content 的相似度\n",
    "    embeddings_highest = model.encode([file_content, highest_score_content])\n",
    "    similarity_highest = np.dot(embeddings_highest[0], embeddings_highest[1]) / (\n",
    "        np.linalg.norm(embeddings_highest[0]) * np.linalg.norm(embeddings_highest[1])\n",
    "    )\n",
    "    \n",
    "    # 计算与 new_highest_score_content 的相似度\n",
    "    embeddings_new_highest = model.encode([file_content, new_highest_score_content])\n",
    "    similarity_new_highest = np.dot(embeddings_new_highest[0], embeddings_new_highest[1]) / (\n",
    "        np.linalg.norm(embeddings_new_highest[0]) * np.linalg.norm(embeddings_new_highest[1])\n",
    "    )\n",
    "    \n",
    "    return relative_path, similarity_highest, similarity_new_highest\n",
    "\n",
    "# 多线程处理文件相似度计算\n",
    "with ThreadPoolExecutor(max_workers=8) as executor:\n",
    "    results = list(tqdm(executor.map(compute_similarity, selected_files), \n",
    "                        total=len(selected_files), desc=\"计算相似度\"))\n",
    "\n",
    "# 记录相似度结果\n",
    "similarity_results = []\n",
    "for relative_path, similarity_highest, similarity_new_highest in results:\n",
    "    trimmed_relative_path = os.path.join(*relative_path.split(os.sep)[-2:])\n",
    "    similarity_results.append({\n",
    "        \"文件路径\": trimmed_relative_path,\n",
    "        \"内容\": file_contents[relative_path],\n",
    "        \"GPT得分\": scores[relative_path],\n",
    "        \"与最高得分故事相似度\": similarity_highest,\n",
    "        \"与伪故事相似度\": similarity_new_highest\n",
    "    })\n",
    "\n",
    "# 保存相似度结果到 CSV 文件\n",
    "output_df = pd.DataFrame(similarity_results)\n",
    "output_df.to_csv('/Users/zhaorunping/Desktop/Research_Onging/2410_LSE_Xue/result/241027selected_files_similarity_scores_notrelate_chengxin.csv', \n",
    "                 index=False, encoding='utf-8-sig')\n",
    "print(\"相似度结果已保存到 selected_files_similarity_scores.csv\")\n"
   ]
  },
  {
   "cell_type": "code",
   "execution_count": 70,
   "metadata": {},
   "outputs": [
    {
     "data": {
      "text/plain": [
       "0.7148119"
      ]
     },
     "execution_count": 70,
     "metadata": {},
     "output_type": "execute_result"
    }
   ],
   "source": [
    "embeddings_highest = model.encode([new_highest_score_content, highest_score_content])\n",
    "similarity_highest = np.dot(embeddings_highest[0], embeddings_highest[1]) / (\n",
    "        np.linalg.norm(embeddings_highest[0]) * np.linalg.norm(embeddings_highest[1])\n",
    "    )\n",
    "similarity_highest"
   ]
  },
  {
   "cell_type": "code",
   "execution_count": 49,
   "metadata": {},
   "outputs": [
    {
     "data": {
      "text/html": [
       "<div>\n",
       "<style scoped>\n",
       "    .dataframe tbody tr th:only-of-type {\n",
       "        vertical-align: middle;\n",
       "    }\n",
       "\n",
       "    .dataframe tbody tr th {\n",
       "        vertical-align: top;\n",
       "    }\n",
       "\n",
       "    .dataframe thead th {\n",
       "        text-align: right;\n",
       "    }\n",
       "</style>\n",
       "<table border=\"1\" class=\"dataframe\">\n",
       "  <thead>\n",
       "    <tr style=\"text-align: right;\">\n",
       "      <th></th>\n",
       "      <th>文件路径</th>\n",
       "      <th>内容</th>\n",
       "      <th>GPT得分</th>\n",
       "      <th>与最高得分故事相似度</th>\n",
       "      <th>与伪故事相似度</th>\n",
       "    </tr>\n",
       "  </thead>\n",
       "  <tbody>\n",
       "    <tr>\n",
       "      <th>0</th>\n",
       "      <td>江西491/09983__279花轿顶上为什么要贴个“肃‘字.txt</td>\n",
       "      <td>279.花轿顶上为什么要贴个“肃'‘字\\n\\n（宜春市）\\n\\n相传很早以前，有年中秋节，宜...</td>\n",
       "      <td>99</td>\n",
       "      <td>1.000000</td>\n",
       "      <td>0.697836</td>\n",
       "    </tr>\n",
       "    <tr>\n",
       "      <th>1</th>\n",
       "      <td>江西491/09987__283军峰殿里没有鼓.txt</td>\n",
       "      <td>283.军峰殿里没有鼓\\n\\n（南丰县）\\n\\n在所有的道观寺庙中.都会有钟有鼓，唯独南丰军...</td>\n",
       "      <td>96</td>\n",
       "      <td>0.826092</td>\n",
       "      <td>0.648368</td>\n",
       "    </tr>\n",
       "    <tr>\n",
       "      <th>2</th>\n",
       "      <td>宁夏478/04595__451铁公鸡一毛不拔.txt</td>\n",
       "      <td>451.铁公鸡一毛不拔\\n\\n（回族?同心县）\\n\\n过去，有两个结拜弟兄，哥哥叫“铁公鸡”...</td>\n",
       "      <td>27</td>\n",
       "      <td>0.768936</td>\n",
       "      <td>0.617266</td>\n",
       "    </tr>\n",
       "    <tr>\n",
       "      <th>3</th>\n",
       "      <td>宁夏667/05028__404金手镯儿与铁手铐.txt</td>\n",
       "      <td>404.金手镯儿与铁手铐\\n\\n〈浬源县）\\n\\n从前.有个庄户人家，家里是小两口儿和一个婆...</td>\n",
       "      <td>98</td>\n",
       "      <td>0.757677</td>\n",
       "      <td>0.613200</td>\n",
       "    </tr>\n",
       "    <tr>\n",
       "      <th>4</th>\n",
       "      <td>浙江720/11462__167斯元儒造千柱屋.txt</td>\n",
       "      <td>167.斯元儒造千柱屋\\n\\n（诸暨县）\\n\\n斯元儒①欢喜斗富。他斗赢亲家赵万贤之后，心里...</td>\n",
       "      <td>48</td>\n",
       "      <td>0.796678</td>\n",
       "      <td>0.745525</td>\n",
       "    </tr>\n",
       "    <tr>\n",
       "      <th>...</th>\n",
       "      <td>...</td>\n",
       "      <td>...</td>\n",
       "      <td>...</td>\n",
       "      <td>...</td>\n",
       "      <td>...</td>\n",
       "    </tr>\n",
       "    <tr>\n",
       "      <th>95</th>\n",
       "      <td>新疆下1025/09078__0985猎人和狼.txt</td>\n",
       "      <td>0985.猎人和狼\\n\\n（蒙古族）\\n\\n从前,有两个亲密无间的朋友。一个名叫欧布勒代，另...</td>\n",
       "      <td>26</td>\n",
       "      <td>0.644218</td>\n",
       "      <td>0.608668</td>\n",
       "    </tr>\n",
       "    <tr>\n",
       "      <th>96</th>\n",
       "      <td>江西491/09798__094许真君大战孽龙.txt</td>\n",
       "      <td>094.许真君大战孽龙\\n\\n（宜春市）\\n\\n相传.很久很久以前，在薄乡和宜春交界的杨歧山...</td>\n",
       "      <td>70</td>\n",
       "      <td>0.774749</td>\n",
       "      <td>0.660037</td>\n",
       "    </tr>\n",
       "    <tr>\n",
       "      <th>97</th>\n",
       "      <td>江苏591/09387__272-黑丫头鱼.txt</td>\n",
       "      <td>272-黑丫头鱼\\n\\n（大丰县）\\n\\n东洋大海上，有-?种全身乌黑，头顶上有个大洞的鱼....</td>\n",
       "      <td>36</td>\n",
       "      <td>0.723046</td>\n",
       "      <td>0.614437</td>\n",
       "    </tr>\n",
       "    <tr>\n",
       "      <th>98</th>\n",
       "      <td>山西598/06429__317豆人瓶.txt</td>\n",
       "      <td>317.豆人瓶\\n\\n（应县）\\n\\n从前有弟兄仁，父母死后留下不少东西，老大作主均分了，老...</td>\n",
       "      <td>26</td>\n",
       "      <td>0.714334</td>\n",
       "      <td>0.606692</td>\n",
       "    </tr>\n",
       "    <tr>\n",
       "      <th>99</th>\n",
       "      <td>陕西640/16450__260滚鼓坡.txt</td>\n",
       "      <td>260.滚鼓坡\\n\\n（石泉县）\\n\\n三国时，刘备在四川称帝。刘备的义子刘封,镇守饶丰关①...</td>\n",
       "      <td>26</td>\n",
       "      <td>0.689562</td>\n",
       "      <td>0.636252</td>\n",
       "    </tr>\n",
       "  </tbody>\n",
       "</table>\n",
       "<p>100 rows × 5 columns</p>\n",
       "</div>"
      ],
      "text/plain": [
       "                                  文件路径  \\\n",
       "0   江西491/09983__279花轿顶上为什么要贴个“肃‘字.txt   \n",
       "1          江西491/09987__283军峰殿里没有鼓.txt   \n",
       "2          宁夏478/04595__451铁公鸡一毛不拔.txt   \n",
       "3         宁夏667/05028__404金手镯儿与铁手铐.txt   \n",
       "4          浙江720/11462__167斯元儒造千柱屋.txt   \n",
       "..                                 ...   \n",
       "95         新疆下1025/09078__0985猎人和狼.txt   \n",
       "96         江西491/09798__094许真君大战孽龙.txt   \n",
       "97           江苏591/09387__272-黑丫头鱼.txt   \n",
       "98             山西598/06429__317豆人瓶.txt   \n",
       "99             陕西640/16450__260滚鼓坡.txt   \n",
       "\n",
       "                                                   内容  GPT得分  与最高得分故事相似度  \\\n",
       "0   279.花轿顶上为什么要贴个“肃'‘字\\n\\n（宜春市）\\n\\n相传很早以前，有年中秋节，宜...     99    1.000000   \n",
       "1   283.军峰殿里没有鼓\\n\\n（南丰县）\\n\\n在所有的道观寺庙中.都会有钟有鼓，唯独南丰军...     96    0.826092   \n",
       "2   451.铁公鸡一毛不拔\\n\\n（回族?同心县）\\n\\n过去，有两个结拜弟兄，哥哥叫“铁公鸡”...     27    0.768936   \n",
       "3   404.金手镯儿与铁手铐\\n\\n〈浬源县）\\n\\n从前.有个庄户人家，家里是小两口儿和一个婆...     98    0.757677   \n",
       "4   167.斯元儒造千柱屋\\n\\n（诸暨县）\\n\\n斯元儒①欢喜斗富。他斗赢亲家赵万贤之后，心里...     48    0.796678   \n",
       "..                                                ...    ...         ...   \n",
       "95  0985.猎人和狼\\n\\n（蒙古族）\\n\\n从前,有两个亲密无间的朋友。一个名叫欧布勒代，另...     26    0.644218   \n",
       "96  094.许真君大战孽龙\\n\\n（宜春市）\\n\\n相传.很久很久以前，在薄乡和宜春交界的杨歧山...     70    0.774749   \n",
       "97  272-黑丫头鱼\\n\\n（大丰县）\\n\\n东洋大海上，有-?种全身乌黑，头顶上有个大洞的鱼....     36    0.723046   \n",
       "98  317.豆人瓶\\n\\n（应县）\\n\\n从前有弟兄仁，父母死后留下不少东西，老大作主均分了，老...     26    0.714334   \n",
       "99  260.滚鼓坡\\n\\n（石泉县）\\n\\n三国时，刘备在四川称帝。刘备的义子刘封,镇守饶丰关①...     26    0.689562   \n",
       "\n",
       "     与伪故事相似度  \n",
       "0   0.697836  \n",
       "1   0.648368  \n",
       "2   0.617266  \n",
       "3   0.613200  \n",
       "4   0.745525  \n",
       "..       ...  \n",
       "95  0.608668  \n",
       "96  0.660037  \n",
       "97  0.614437  \n",
       "98  0.606692  \n",
       "99  0.636252  \n",
       "\n",
       "[100 rows x 5 columns]"
      ]
     },
     "execution_count": 49,
     "metadata": {},
     "output_type": "execute_result"
    }
   ],
   "source": [
    "output_df"
   ]
  },
  {
   "cell_type": "code",
   "execution_count": 59,
   "metadata": {},
   "outputs": [],
   "source": [
    "import pandas as pd\n",
    "\n",
    "output_df['与最高得分故事相似度'] = (output_df['与最高得分故事相似度'] - output_df['与最高得分故事相似度'].min()) / (output_df['与最高得分故事相似度'].max() - output_df['与最高得分故事相似度'].min())\n",
    "output_df['与伪故事相似度'] = (output_df['与伪故事相似度'] - output_df['与伪故事相似度'].min()) / (output_df['与伪故事相似度'].max() - output_df['与伪故事相似度'].min())\n"
   ]
  },
  {
   "cell_type": "code",
   "execution_count": 63,
   "metadata": {},
   "outputs": [
    {
     "data": {
      "text/html": [
       "<div>\n",
       "<style scoped>\n",
       "    .dataframe tbody tr th:only-of-type {\n",
       "        vertical-align: middle;\n",
       "    }\n",
       "\n",
       "    .dataframe tbody tr th {\n",
       "        vertical-align: top;\n",
       "    }\n",
       "\n",
       "    .dataframe thead th {\n",
       "        text-align: right;\n",
       "    }\n",
       "</style>\n",
       "<table border=\"1\" class=\"dataframe\">\n",
       "  <thead>\n",
       "    <tr style=\"text-align: right;\">\n",
       "      <th></th>\n",
       "      <th>文件路径</th>\n",
       "      <th>内容</th>\n",
       "      <th>GPT得分</th>\n",
       "      <th>与最高得分故事相似度</th>\n",
       "      <th>与伪故事相似度</th>\n",
       "    </tr>\n",
       "  </thead>\n",
       "  <tbody>\n",
       "    <tr>\n",
       "      <th>0</th>\n",
       "      <td>江西491/09983__279花轿顶上为什么要贴个“肃‘字.txt</td>\n",
       "      <td>279.花轿顶上为什么要贴个“肃'‘字\\n\\n（宜春市）\\n\\n相传很早以前，有年中秋节，宜...</td>\n",
       "      <td>99</td>\n",
       "      <td>1.000000</td>\n",
       "      <td>0.680178</td>\n",
       "    </tr>\n",
       "    <tr>\n",
       "      <th>1</th>\n",
       "      <td>江西491/09987__283军峰殿里没有鼓.txt</td>\n",
       "      <td>283.军峰殿里没有鼓\\n\\n（南丰县）\\n\\n在所有的道观寺庙中.都会有钟有鼓，唯独南丰军...</td>\n",
       "      <td>96</td>\n",
       "      <td>0.518538</td>\n",
       "      <td>0.592697</td>\n",
       "    </tr>\n",
       "    <tr>\n",
       "      <th>2</th>\n",
       "      <td>宁夏478/04595__451铁公鸡一毛不拔.txt</td>\n",
       "      <td>451.铁公鸡一毛不拔\\n\\n（回族?同心县）\\n\\n过去，有两个结拜弟兄，哥哥叫“铁公鸡”...</td>\n",
       "      <td>27</td>\n",
       "      <td>0.360305</td>\n",
       "      <td>0.796203</td>\n",
       "    </tr>\n",
       "    <tr>\n",
       "      <th>3</th>\n",
       "      <td>宁夏667/05028__404金手镯儿与铁手铐.txt</td>\n",
       "      <td>404.金手镯儿与铁手铐\\n\\n〈浬源县）\\n\\n从前.有个庄户人家，家里是小两口儿和一个婆...</td>\n",
       "      <td>98</td>\n",
       "      <td>0.329132</td>\n",
       "      <td>0.531008</td>\n",
       "    </tr>\n",
       "    <tr>\n",
       "      <th>4</th>\n",
       "      <td>浙江720/11462__167斯元儒造千柱屋.txt</td>\n",
       "      <td>167.斯元儒造千柱屋\\n\\n（诸暨县）\\n\\n斯元儒①欢喜斗富。他斗赢亲家赵万贤之后，心里...</td>\n",
       "      <td>48</td>\n",
       "      <td>0.437107</td>\n",
       "      <td>0.907320</td>\n",
       "    </tr>\n",
       "    <tr>\n",
       "      <th>...</th>\n",
       "      <td>...</td>\n",
       "      <td>...</td>\n",
       "      <td>...</td>\n",
       "      <td>...</td>\n",
       "      <td>...</td>\n",
       "    </tr>\n",
       "    <tr>\n",
       "      <th>95</th>\n",
       "      <td>新疆下1025/09078__0985猎人和狼.txt</td>\n",
       "      <td>0985.猎人和狼\\n\\n（蒙古族）\\n\\n从前,有两个亲密无间的朋友。一个名叫欧布勒代，另...</td>\n",
       "      <td>26</td>\n",
       "      <td>0.015023</td>\n",
       "      <td>0.380499</td>\n",
       "    </tr>\n",
       "    <tr>\n",
       "      <th>96</th>\n",
       "      <td>江西491/09798__094许真君大战孽龙.txt</td>\n",
       "      <td>094.许真君大战孽龙\\n\\n（宜春市）\\n\\n相传.很久很久以前，在薄乡和宜春交界的杨歧山...</td>\n",
       "      <td>70</td>\n",
       "      <td>0.376397</td>\n",
       "      <td>0.485563</td>\n",
       "    </tr>\n",
       "    <tr>\n",
       "      <th>97</th>\n",
       "      <td>江苏591/09387__272-黑丫头鱼.txt</td>\n",
       "      <td>272-黑丫头鱼\\n\\n（大丰县）\\n\\n东洋大海上，有-?种全身乌黑，头顶上有个大洞的鱼....</td>\n",
       "      <td>36</td>\n",
       "      <td>0.233258</td>\n",
       "      <td>0.318289</td>\n",
       "    </tr>\n",
       "    <tr>\n",
       "      <th>98</th>\n",
       "      <td>山西598/06429__317豆人瓶.txt</td>\n",
       "      <td>317.豆人瓶\\n\\n（应县）\\n\\n从前有弟兄仁，父母死后留下不少东西，老大作主均分了，老...</td>\n",
       "      <td>26</td>\n",
       "      <td>0.209139</td>\n",
       "      <td>0.386883</td>\n",
       "    </tr>\n",
       "    <tr>\n",
       "      <th>99</th>\n",
       "      <td>陕西640/16450__260滚鼓坡.txt</td>\n",
       "      <td>260.滚鼓坡\\n\\n（石泉县）\\n\\n三国时，刘备在四川称帝。刘备的义子刘封,镇守饶丰关①...</td>\n",
       "      <td>26</td>\n",
       "      <td>0.140557</td>\n",
       "      <td>0.420797</td>\n",
       "    </tr>\n",
       "  </tbody>\n",
       "</table>\n",
       "<p>100 rows × 5 columns</p>\n",
       "</div>"
      ],
      "text/plain": [
       "                                  文件路径  \\\n",
       "0   江西491/09983__279花轿顶上为什么要贴个“肃‘字.txt   \n",
       "1          江西491/09987__283军峰殿里没有鼓.txt   \n",
       "2          宁夏478/04595__451铁公鸡一毛不拔.txt   \n",
       "3         宁夏667/05028__404金手镯儿与铁手铐.txt   \n",
       "4          浙江720/11462__167斯元儒造千柱屋.txt   \n",
       "..                                 ...   \n",
       "95         新疆下1025/09078__0985猎人和狼.txt   \n",
       "96         江西491/09798__094许真君大战孽龙.txt   \n",
       "97           江苏591/09387__272-黑丫头鱼.txt   \n",
       "98             山西598/06429__317豆人瓶.txt   \n",
       "99             陕西640/16450__260滚鼓坡.txt   \n",
       "\n",
       "                                                   内容  GPT得分  与最高得分故事相似度  \\\n",
       "0   279.花轿顶上为什么要贴个“肃'‘字\\n\\n（宜春市）\\n\\n相传很早以前，有年中秋节，宜...     99    1.000000   \n",
       "1   283.军峰殿里没有鼓\\n\\n（南丰县）\\n\\n在所有的道观寺庙中.都会有钟有鼓，唯独南丰军...     96    0.518538   \n",
       "2   451.铁公鸡一毛不拔\\n\\n（回族?同心县）\\n\\n过去，有两个结拜弟兄，哥哥叫“铁公鸡”...     27    0.360305   \n",
       "3   404.金手镯儿与铁手铐\\n\\n〈浬源县）\\n\\n从前.有个庄户人家，家里是小两口儿和一个婆...     98    0.329132   \n",
       "4   167.斯元儒造千柱屋\\n\\n（诸暨县）\\n\\n斯元儒①欢喜斗富。他斗赢亲家赵万贤之后，心里...     48    0.437107   \n",
       "..                                                ...    ...         ...   \n",
       "95  0985.猎人和狼\\n\\n（蒙古族）\\n\\n从前,有两个亲密无间的朋友。一个名叫欧布勒代，另...     26    0.015023   \n",
       "96  094.许真君大战孽龙\\n\\n（宜春市）\\n\\n相传.很久很久以前，在薄乡和宜春交界的杨歧山...     70    0.376397   \n",
       "97  272-黑丫头鱼\\n\\n（大丰县）\\n\\n东洋大海上，有-?种全身乌黑，头顶上有个大洞的鱼....     36    0.233258   \n",
       "98  317.豆人瓶\\n\\n（应县）\\n\\n从前有弟兄仁，父母死后留下不少东西，老大作主均分了，老...     26    0.209139   \n",
       "99  260.滚鼓坡\\n\\n（石泉县）\\n\\n三国时，刘备在四川称帝。刘备的义子刘封,镇守饶丰关①...     26    0.140557   \n",
       "\n",
       "     与伪故事相似度  \n",
       "0   0.680178  \n",
       "1   0.592697  \n",
       "2   0.796203  \n",
       "3   0.531008  \n",
       "4   0.907320  \n",
       "..       ...  \n",
       "95  0.380499  \n",
       "96  0.485563  \n",
       "97  0.318289  \n",
       "98  0.386883  \n",
       "99  0.420797  \n",
       "\n",
       "[100 rows x 5 columns]"
      ]
     },
     "execution_count": 63,
     "metadata": {},
     "output_type": "execute_result"
    }
   ],
   "source": [
    "output_df"
   ]
  },
  {
   "cell_type": "code",
   "execution_count": 42,
   "metadata": {},
   "outputs": [
    {
     "data": {
      "image/png": "[encoded data removed]",
      "text/plain": [
       "<Figure size 1000x600 with 1 Axes>"
      ]
     },
     "metadata": {},
     "output_type": "display_data"
    }
   ],
   "source": [
    "import pandas as pd\n",
    "import matplotlib.pyplot as plt\n",
    "from matplotlib.font_manager import FontProperties\n",
    "\n",
    "# 加载中文字体\n",
    "font = FontProperties(fname=\"/System/Library/Fonts/STHeiti Light.ttc\")  # 替换为系统中合适的中文字体路径\n",
    "\n",
    "# 假设 output_df 已经被定义且包含“文件路径”列\n",
    "# 提取“文件路径”中第一个“/”之前的部分\n",
    "output_df['路径前缀'] = output_df['文件路径'].apply(lambda x: x.split('/')[0])\n",
    "\n",
    "# 统计路径前缀的分布\n",
    "prefix_counts = output_df['路径前缀'].value_counts()\n",
    "\n",
    "# 绘制柱状图\n",
    "plt.figure(figsize=(10, 6))\n",
    "prefix_counts.plot(kind='bar', color='skyblue')\n",
    "plt.title('文件路径前缀分布', fontproperties=font)\n",
    "plt.xlabel('路径前缀', fontproperties=font)\n",
    "plt.ylabel('数量', fontproperties=font)\n",
    "plt.xticks(rotation=45, ha='right', fontproperties=font)\n",
    "plt.tight_layout()\n",
    "plt.show()"
   ]
  },
  {
   "cell_type": "code",
   "execution_count": 46,
   "metadata": {},
   "outputs": [
    {
     "name": "stdout",
     "output_type": "stream",
     "text": [
      "不同路径前缀的数量: 29\n"
     ]
    }
   ],
   "source": [
    "# 统计唯一的路径前缀数量\n",
    "unique_prefix_count = output_df['文件路径'].apply(lambda x: x.split('/')[0]).nunique()\n",
    "\n",
    "print(\"不同路径前缀的数量:\", unique_prefix_count)"
   ]
  },
  {
   "cell_type": "code",
   "execution_count": 80,
   "metadata": {},
   "outputs": [
    {
     "name": "stdout",
     "output_type": "stream",
     "text": [
      "相关系数 (GPT得分 与 与最高得分故事相似度): 0.3610***\n",
      "p值 (GPT得分 与 与最高得分故事相似度): 2.2470e-04\n",
      "相关系数 (GPT得分 与 与伪故事相似度): 0.3956***\n",
      "p值 (GPT得分 与 与伪故事相似度): 4.6183e-05\n",
      "相关系数 (与最高得分故事相似度 与 与伪故事相似度): 0.6318***\n",
      "p值 (与最高得分故事相似度 与 与伪故事相似度): 1.8165e-12\n"
     ]
    }
   ],
   "source": [
    "import pandas as pd\n",
    "from scipy.stats import pearsonr\n",
    "\n",
    "# 定义要计算相关系数的列组合\n",
    "column_pairs = [\n",
    "    ('GPT得分', '与最高得分故事相似度'),\n",
    "    ('GPT得分', '与伪故事相似度'),\n",
    "    ('与最高得分故事相似度', '与伪故事相似度')\n",
    "]\n",
    "\n",
    "# 遍历列组合并计算相关系数和 p 值\n",
    "for col1, col2 in column_pairs:\n",
    "    correlation, p_value = pearsonr(output_df[col1], output_df[col2])\n",
    "\n",
    "    # 根据 p 值确定显著性标记\n",
    "    if p_value < 0.001:\n",
    "        significance = '***'\n",
    "    elif p_value < 0.01:\n",
    "        significance = '**'\n",
    "    elif p_value < 0.05:\n",
    "        significance = '*'\n",
    "    else:\n",
    "        significance = ''\n",
    "\n",
    "    print(f\"相关系数 ({col1} 与 {col2}): {correlation:.4f}{significance}\")\n",
    "    print(f\"p值 ({col1} 与 {col2}): {p_value:.4e}\")"
   ]
  },
  {
   "cell_type": "code",
   "execution_count": null,
   "metadata": {},
   "outputs": [],
   "source": []
  },
  {
   "cell_type": "code",
   "execution_count": 29,
   "metadata": {},
   "outputs": [
    {
     "name": "stderr",
     "output_type": "stream",
     "text": [
      "计算相似度（新内容）: 100%|██████████| 100/100 [00:03<00:00, 25.89it/s]\n"
     ]
    }
   ],
   "source": [
    "from sentence_transformers import SentenceTransformer\n",
    "import pandas as pd\n",
    "import numpy as np\n",
    "from concurrent.futures import ThreadPoolExecutor\n",
    "from tqdm import tqdm\n",
    "\n",
    "# 初始化新内容\n",
    "\n",
    "# 加载模型\n",
    "model = SentenceTransformer('DMetaSoul/sbert-chinese-general-v2')\n",
    "\n",
    "# 重新计算相似度\n",
    "def compute_similarity_with_new_content(file_info):\n",
    "    _, relative_path = file_info\n",
    "    file_content = file_contents[relative_path]\n",
    "    embeddings = model.encode([file_content, new_highest_score_content])\n",
    "    A, B = embeddings[0], embeddings[1]\n",
    "    similarity = np.dot(A, B) / (np.linalg.norm(A) * np.linalg.norm(B))\n",
    "    return relative_path, similarity\n",
    "\n",
    "with ThreadPoolExecutor(max_workers=8) as executor:\n",
    "    results_with_new_content = list(tqdm(executor.map(compute_similarity_with_new_content, selected_files), \n",
    "                                         total=len(selected_files), desc=\"计算相似度（新内容）\"))\n",
    "\n",
    "# 读取已有结果并添加新相似度列\n",
    "output_df = pd.read_csv('/Users/zhaorunping/Desktop/Research_Onging/2410_LSE_Xue/result/241027selected_files_similarity_scores.csv')\n",
    "new_similarity_results = {relative_path: similarity for relative_path, similarity in results_with_new_content}\n",
    "output_df['相似度_gpt'] = output_df['文件路径'].map(new_similarity_results)\n",
    "\n",
    "# 保存结果\n",
    "output_df.to_csv('/Users/zhaorunping/Desktop/Research_Onging/2410_LSE_Xue/result/241027selected_files_similarity_scores.csv', \n",
    "                 index=False, encoding='utf-8-sig')\n"
   ]
  },
  {
   "cell_type": "code",
   "execution_count": 30,
   "metadata": {},
   "outputs": [
    {
     "data": {
      "text/html": [
       "<div>\n",
       "<style scoped>\n",
       "    .dataframe tbody tr th:only-of-type {\n",
       "        vertical-align: middle;\n",
       "    }\n",
       "\n",
       "    .dataframe tbody tr th {\n",
       "        vertical-align: top;\n",
       "    }\n",
       "\n",
       "    .dataframe thead th {\n",
       "        text-align: right;\n",
       "    }\n",
       "</style>\n",
       "<table border=\"1\" class=\"dataframe\">\n",
       "  <thead>\n",
       "    <tr style=\"text-align: right;\">\n",
       "      <th></th>\n",
       "      <th>文件路径</th>\n",
       "      <th>内容</th>\n",
       "      <th>得分</th>\n",
       "      <th>相似度</th>\n",
       "      <th>相似度_gpt</th>\n",
       "    </tr>\n",
       "  </thead>\n",
       "  <tbody>\n",
       "    <tr>\n",
       "      <th>0</th>\n",
       "      <td>江西491/09983__279花轿顶上为什么要贴个“肃‘字.txt</td>\n",
       "      <td>279.花轿顶上为什么要贴个“肃'‘字\\n\\n（宜春市）\\n\\n相传很早以前，有年中秋节，宜...</td>\n",
       "      <td>99</td>\n",
       "      <td>1.000000</td>\n",
       "      <td>NaN</td>\n",
       "    </tr>\n",
       "    <tr>\n",
       "      <th>1</th>\n",
       "      <td>江西491/09987__283军峰殿里没有鼓.txt</td>\n",
       "      <td>283.军峰殿里没有鼓\\n\\n（南丰县）\\n\\n在所有的道观寺庙中.都会有钟有鼓，唯独南丰军...</td>\n",
       "      <td>96</td>\n",
       "      <td>0.826092</td>\n",
       "      <td>NaN</td>\n",
       "    </tr>\n",
       "    <tr>\n",
       "      <th>2</th>\n",
       "      <td>宁夏478/04595__451铁公鸡一毛不拔.txt</td>\n",
       "      <td>451.铁公鸡一毛不拔\\n\\n（回族?同心县）\\n\\n过去，有两个结拜弟兄，哥哥叫“铁公鸡”...</td>\n",
       "      <td>27</td>\n",
       "      <td>0.768936</td>\n",
       "      <td>NaN</td>\n",
       "    </tr>\n",
       "    <tr>\n",
       "      <th>3</th>\n",
       "      <td>宁夏667/05028__404金手镯儿与铁手铐.txt</td>\n",
       "      <td>404.金手镯儿与铁手铐\\n\\n〈浬源县）\\n\\n从前.有个庄户人家，家里是小两口儿和一个婆...</td>\n",
       "      <td>98</td>\n",
       "      <td>0.757677</td>\n",
       "      <td>NaN</td>\n",
       "    </tr>\n",
       "    <tr>\n",
       "      <th>4</th>\n",
       "      <td>浙江720/11462__167斯元儒造千柱屋.txt</td>\n",
       "      <td>167.斯元儒造千柱屋\\n\\n（诸暨县）\\n\\n斯元儒①欢喜斗富。他斗赢亲家赵万贤之后，心里...</td>\n",
       "      <td>48</td>\n",
       "      <td>0.796678</td>\n",
       "      <td>NaN</td>\n",
       "    </tr>\n",
       "    <tr>\n",
       "      <th>...</th>\n",
       "      <td>...</td>\n",
       "      <td>...</td>\n",
       "      <td>...</td>\n",
       "      <td>...</td>\n",
       "      <td>...</td>\n",
       "    </tr>\n",
       "    <tr>\n",
       "      <th>95</th>\n",
       "      <td>新疆下1025/09078__0985猎人和狼.txt</td>\n",
       "      <td>0985.猎人和狼\\n\\n（蒙古族）\\n\\n从前,有两个亲密无间的朋友。一个名叫欧布勒代，另...</td>\n",
       "      <td>26</td>\n",
       "      <td>0.644218</td>\n",
       "      <td>NaN</td>\n",
       "    </tr>\n",
       "    <tr>\n",
       "      <th>96</th>\n",
       "      <td>江西491/09798__094许真君大战孽龙.txt</td>\n",
       "      <td>094.许真君大战孽龙\\n\\n（宜春市）\\n\\n相传.很久很久以前，在薄乡和宜春交界的杨歧山...</td>\n",
       "      <td>70</td>\n",
       "      <td>0.774749</td>\n",
       "      <td>NaN</td>\n",
       "    </tr>\n",
       "    <tr>\n",
       "      <th>97</th>\n",
       "      <td>江苏591/09387__272-黑丫头鱼.txt</td>\n",
       "      <td>272-黑丫头鱼\\n\\n（大丰县）\\n\\n东洋大海上，有-?种全身乌黑，头顶上有个大洞的鱼....</td>\n",
       "      <td>36</td>\n",
       "      <td>0.723046</td>\n",
       "      <td>NaN</td>\n",
       "    </tr>\n",
       "    <tr>\n",
       "      <th>98</th>\n",
       "      <td>山西598/06429__317豆人瓶.txt</td>\n",
       "      <td>317.豆人瓶\\n\\n（应县）\\n\\n从前有弟兄仁，父母死后留下不少东西，老大作主均分了，老...</td>\n",
       "      <td>26</td>\n",
       "      <td>0.714334</td>\n",
       "      <td>NaN</td>\n",
       "    </tr>\n",
       "    <tr>\n",
       "      <th>99</th>\n",
       "      <td>陕西640/16450__260滚鼓坡.txt</td>\n",
       "      <td>260.滚鼓坡\\n\\n（石泉县）\\n\\n三国时，刘备在四川称帝。刘备的义子刘封,镇守饶丰关①...</td>\n",
       "      <td>26</td>\n",
       "      <td>0.689562</td>\n",
       "      <td>NaN</td>\n",
       "    </tr>\n",
       "  </tbody>\n",
       "</table>\n",
       "<p>100 rows × 5 columns</p>\n",
       "</div>"
      ],
      "text/plain": [
       "                                  文件路径  \\\n",
       "0   江西491/09983__279花轿顶上为什么要贴个“肃‘字.txt   \n",
       "1          江西491/09987__283军峰殿里没有鼓.txt   \n",
       "2          宁夏478/04595__451铁公鸡一毛不拔.txt   \n",
       "3         宁夏667/05028__404金手镯儿与铁手铐.txt   \n",
       "4          浙江720/11462__167斯元儒造千柱屋.txt   \n",
       "..                                 ...   \n",
       "95         新疆下1025/09078__0985猎人和狼.txt   \n",
       "96         江西491/09798__094许真君大战孽龙.txt   \n",
       "97           江苏591/09387__272-黑丫头鱼.txt   \n",
       "98             山西598/06429__317豆人瓶.txt   \n",
       "99             陕西640/16450__260滚鼓坡.txt   \n",
       "\n",
       "                                                   内容  得分       相似度  相似度_gpt  \n",
       "0   279.花轿顶上为什么要贴个“肃'‘字\\n\\n（宜春市）\\n\\n相传很早以前，有年中秋节，宜...  99  1.000000      NaN  \n",
       "1   283.军峰殿里没有鼓\\n\\n（南丰县）\\n\\n在所有的道观寺庙中.都会有钟有鼓，唯独南丰军...  96  0.826092      NaN  \n",
       "2   451.铁公鸡一毛不拔\\n\\n（回族?同心县）\\n\\n过去，有两个结拜弟兄，哥哥叫“铁公鸡”...  27  0.768936      NaN  \n",
       "3   404.金手镯儿与铁手铐\\n\\n〈浬源县）\\n\\n从前.有个庄户人家，家里是小两口儿和一个婆...  98  0.757677      NaN  \n",
       "4   167.斯元儒造千柱屋\\n\\n（诸暨县）\\n\\n斯元儒①欢喜斗富。他斗赢亲家赵万贤之后，心里...  48  0.796678      NaN  \n",
       "..                                                ...  ..       ...      ...  \n",
       "95  0985.猎人和狼\\n\\n（蒙古族）\\n\\n从前,有两个亲密无间的朋友。一个名叫欧布勒代，另...  26  0.644218      NaN  \n",
       "96  094.许真君大战孽龙\\n\\n（宜春市）\\n\\n相传.很久很久以前，在薄乡和宜春交界的杨歧山...  70  0.774749      NaN  \n",
       "97  272-黑丫头鱼\\n\\n（大丰县）\\n\\n东洋大海上，有-?种全身乌黑，头顶上有个大洞的鱼....  36  0.723046      NaN  \n",
       "98  317.豆人瓶\\n\\n（应县）\\n\\n从前有弟兄仁，父母死后留下不少东西，老大作主均分了，老...  26  0.714334      NaN  \n",
       "99  260.滚鼓坡\\n\\n（石泉县）\\n\\n三国时，刘备在四川称帝。刘备的义子刘封,镇守饶丰关①...  26  0.689562      NaN  \n",
       "\n",
       "[100 rows x 5 columns]"
      ]
     },
     "execution_count": 30,
     "metadata": {},
     "output_type": "execute_result"
    }
   ],
   "source": [
    "output_df"
   ]
  },
  {
   "cell_type": "code",
   "execution_count": null,
   "metadata": {},
   "outputs": [],
   "source": []
  },
  {
   "cell_type": "code",
   "execution_count": null,
   "metadata": {},
   "outputs": [],
   "source": []
  },
  {
   "cell_type": "code",
   "execution_count": null,
   "metadata": {},
   "outputs": [],
   "source": []
  },
  {
   "cell_type": "code",
   "execution_count": null,
   "metadata": {},
   "outputs": [],
   "source": []
  },
  {
   "cell_type": "code",
   "execution_count": null,
   "metadata": {},
   "outputs": [],
   "source": [
    "from sentence_transformers import SentenceTransformer\n",
    "import numpy as np\n",
    "import pandas as pd\n",
    "from tqdm import tqdm\n",
    "from concurrent.futures import ProcessPoolExecutor\n",
    "import os\n",
    "\n",
    "# 读取评分结果\n",
    "sample_df = pd.read_csv('/content/drive/MyDrive/LSE/02tales_bert_similarity/result/241027sample_scores.csv')\n",
    "folder = '/content/drive/MyDrive/LSE/02tales_bert_similarity/data'\n",
    "\n",
    "# 找到得分最高的文件路径和内容\n",
    "most_superstitious_file_path = sample_df.loc[sample_df['评分'].idxmax(), '文件路径']\n",
    "with open(os.path.join(folder, most_superstitious_file_path), 'r', encoding='utf-8') as f:\n",
    "    most_superstitious_file_content = f.read()\n",
    "\n",
    "# 使用预训练的模型计算相似度\n",
    "model = SentenceTransformer('DMetaSoul/sbert-chinese-general-v2')\n",
    "\n",
    "# 读取文件内容的函数\n",
    "def read_file(file_path):\n",
    "    with open(file_path, 'r', encoding='utf-8') as f:\n",
    "        return f.read()\n",
    "\n",
    "# 计算相似度的函数\n",
    "def compute_similarity(file_content):\n",
    "    embeddings = model.encode([file_content, most_superstitious_file_content])\n",
    "    A, B = embeddings[0], embeddings[1]\n",
    "    return np.dot(A, B) / (np.linalg.norm(A) * np.linalg.norm(B))\n",
    "\n",
    "# 保存结果的列表\n",
    "results_to_save = []\n",
    "batch_size = 1000  # 每1000条保存一次\n",
    "file_batch = 1     # 批次编号\n",
    "\n",
    "# 假设 all_files 是一个包含文件路径的列表，格式为 [(file_path, relative_path), ...]\n",
    "all_files =   # 请在此处定义你的文件路径列表\n",
    "\n",
    "# 分批读取和计算相似度\n",
    "for i in tqdm(range(0, len(all_files), batch_size), desc=\"Processing batches\"):\n",
    "    file_batch_contents = all_files[i:i + batch_size]  # 获取当前批次的文件\n",
    "    relative_paths = [relative_path for _, relative_path in file_batch_contents]\n",
    "\n",
    "    # 使用并行读取文件\n",
    "    with ProcessPoolExecutor() as executor:\n",
    "        file_contents = list(tqdm(executor.map(read_file, [file_path for file_path, _ in file_batch_contents]),\n",
    "                                   desc=\"Reading files\", total=len(file_batch_contents)))\n",
    "\n",
    "    # 使用并行计算相似度\n",
    "    with ProcessPoolExecutor() as executor:\n",
    "        similarities = list(tqdm(executor.map(compute_similarity, file_contents),\n",
    "                                   desc=\"计算相似度\", total=len(file_contents)))\n",
    "\n",
    "    # 合并当前批次的结果\n",
    "    batch_results = [{\"文件路径\": path, \"相似度\": sim} for path, sim in zip(relative_paths, similarities)]\n",
    "    results_to_save.extend(batch_results)\n",
    "\n",
    "    # 保存结果到CSV文件\n",
    "    similarity_df = pd.DataFrame(results_to_save)\n",
    "    save_path = f'/content/drive/MyDrive/LSE/02tales_bert_similarity/result/241027gpt+bert_all_files_similarity_{file_batch}.csv'\n",
    "    similarity_df.to_csv(save_path, index=False, encoding='utf-8-sig')\n",
    "    print(f\"保存文件至 {save_path}\")\n",
    "    results_to_save.clear()  # 清空列表以便存储下一个批次\n",
    "    file_batch += 1  # 更新批次编号\n",
    "\n",
    "# 保存剩余未满1000条的结果\n",
    "if results_to_save:\n",
    "    similarity_df = pd.DataFrame(results_to_save)\n",
    "    save_path = f'/content/drive/MyDrive/LSE/02tales_bert_similarity/result/241027gpt+bert_all_files_similarity_{file_batch}.csv'\n",
    "    similarity_df.to_csv(save_path, index=False, encoding='utf-8-sig')\n",
    "    print(f\"保存剩余文件至 {save_path}\")"
   ]
  }
 ],
 "metadata": {
  "colab": {
   "authorship_tag": "ABX9TyOs7wxZpOkzCw8T2R5WcYzM",
   "name": "",
   "version": ""
  },
  "kernelspec": {
   "display_name": "base",
   "language": "python",
   "name": "python3"
  },
  "language_info": {
   "codemirror_mode": {
    "name": "ipython",
    "version": 3
   },
   "file_extension": ".py",
   "mimetype": "text/x-python",
   "name": "python",
   "nbconvert_exporter": "python",
   "pygments_lexer": "ipython3",
   "version": "3.12.7"
  }
 },
 "nbformat": 4,
 "nbformat_minor": 0
}
